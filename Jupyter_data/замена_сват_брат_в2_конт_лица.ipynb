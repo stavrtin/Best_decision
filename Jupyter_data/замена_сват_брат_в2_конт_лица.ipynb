{
 "cells": [
  {
   "cell_type": "markdown",
   "id": "ebc96443-e1d3-46c0-aa1f-c06defe594a1",
   "metadata": {},
   "source": [
    "<div class=\"alert alert-block alert-success\">\n",
    "\n",
    "<!-- -info-warning-success-danger>   --> <font size=5>\n",
    "<b>\n",
    "   Проверка пола по имени - 16-12-23\n",
    "        </b>    </div>\n",
    "<hr>"
   ]
  },
  {
   "cell_type": "code",
   "execution_count": 174,
   "id": "d6569845-548b-4ad6-b543-1b8c7e551d6a",
   "metadata": {},
   "outputs": [],
   "source": [
    "# pd.set_option('display.expand_frame_repr', True)\n",
    "# pd.set_option('display.max_rows', 50)\n",
    "# pd.set_option('display.max_columns', 500)\n",
    "# pd.set_option('display.width', 1000)\n",
    "# pd.set_option('display.max_colwidth', None)"
   ]
  },
  {
   "cell_type": "code",
   "execution_count": 175,
   "id": "f687e212-e207-4d2a-a4e7-78a470fdeba6",
   "metadata": {},
   "outputs": [],
   "source": [
    "# Даты как в ЭКСЕЛЬ\n",
    "# df_cloud_dead_data_pusto['Дата рождения_облако'] = pd.to_datetime(df_cloud_dead_data_pusto['Дата рождения_облако']).dt.strftime('%d.%m.%Y')"
   ]
  },
  {
   "cell_type": "code",
   "execution_count": 176,
   "id": "76f19e7f-c78b-4c60-a638-8f458a5d84fc",
   "metadata": {},
   "outputs": [],
   "source": [
    "import pandas as pd\n",
    "import numpy as np\n",
    "import warnings\n",
    "from IPython.display import display_markdown\n",
    "warnings.filterwarnings('ignore')\n",
    "from rusgenderdetection import get_gender"
   ]
  },
  {
   "cell_type": "markdown",
   "id": "bff1f524-2561-427b-b3e1-dd817b8e3476",
   "metadata": {
    "tags": []
   },
   "source": [
    "####\n",
    "<div class=\"alert alert-block alert-success\"> <font size=5>\n",
    "<b>подключаем облако и 605й (1c)\n",
    "    </b>    </div>\n",
    "<hr>"
   ]
  },
  {
   "cell_type": "code",
   "execution_count": 177,
   "id": "aa63d898-e8bf-45be-bef0-81d2660efa45",
   "metadata": {},
   "outputs": [
    {
     "name": "stdout",
     "output_type": "stream",
     "text": [
      "(16181, 81)\n"
     ]
    }
   ],
   "source": [
    "file_cloud = 'Облако_и_1С.csv'\n",
    "df_cloud = pd.read_csv(file_cloud, delimiter=';', encoding='cp1251')\n",
    "\n",
    "print(df_cloud.shape)\n"
   ]
  },
  {
   "cell_type": "code",
   "execution_count": 178,
   "id": "0786db55-b7e5-4f95-8e0e-8bccba43e866",
   "metadata": {},
   "outputs": [],
   "source": [
    "# df_cloud.columns.tolist()"
   ]
  },
  {
   "cell_type": "code",
   "execution_count": 179,
   "id": "a7433a34-ecd0-4aac-8add-5cc58d77fed6",
   "metadata": {},
   "outputs": [
    {
     "name": "stdout",
     "output_type": "stream",
     "text": [
      "(15181, 7)\n"
     ]
    }
   ],
   "source": [
    "df_cloud = df_cloud.loc[~df_cloud['ФИО пациента_облако'].isna()][['ID пациента_облако',\n",
    " 'Дата создания заявки_облако',\n",
    " 'Дата включения пациента в Реестр_облако',\n",
    " 'ФИО пациента_облако',\n",
    " 'Пол_облако',\n",
    " 'Дата рождения_облако',\n",
    " 'Гражданский статус_облако',]]\n",
    "print(df_cloud.shape)"
   ]
  },
  {
   "cell_type": "markdown",
   "id": "b70038e1-9723-477d-8735-dac4269638d3",
   "metadata": {
    "tags": []
   },
   "source": [
    "####\n",
    "<div class=\"alert alert-block alert-success\"> <font size=3>\n",
    "пробъем по имени\n",
    "    </b>    </div>\n",
    "<hr>"
   ]
  },
  {
   "cell_type": "code",
   "execution_count": 180,
   "id": "f52e4cb0-282c-4218-a7d7-8014f921686d",
   "metadata": {},
   "outputs": [
    {
     "data": {
      "text/html": [
       "<div>\n",
       "<style scoped>\n",
       "    .dataframe tbody tr th:only-of-type {\n",
       "        vertical-align: middle;\n",
       "    }\n",
       "\n",
       "    .dataframe tbody tr th {\n",
       "        vertical-align: top;\n",
       "    }\n",
       "\n",
       "    .dataframe thead th {\n",
       "        text-align: right;\n",
       "    }\n",
       "</style>\n",
       "<table border=\"1\" class=\"dataframe\">\n",
       "  <thead>\n",
       "    <tr style=\"text-align: right;\">\n",
       "      <th></th>\n",
       "      <th>ID пациента_облако</th>\n",
       "      <th>Дата создания заявки_облако</th>\n",
       "      <th>Дата включения пациента в Реестр_облако</th>\n",
       "      <th>ФИО пациента_облако</th>\n",
       "      <th>Пол_облако</th>\n",
       "      <th>Дата рождения_облако</th>\n",
       "      <th>Гражданский статус_облако</th>\n",
       "      <th>name</th>\n",
       "      <th>last</th>\n",
       "      <th>correct_gender</th>\n",
       "    </tr>\n",
       "  </thead>\n",
       "  <tbody>\n",
       "    <tr>\n",
       "      <th>0</th>\n",
       "      <td>30000007827048</td>\n",
       "      <td>NaN</td>\n",
       "      <td>23.11.2020</td>\n",
       "      <td>Скрыпник Виктор Александрович</td>\n",
       "      <td>мужской</td>\n",
       "      <td>1959-11-28</td>\n",
       "      <td>лицо без определенного места жительства</td>\n",
       "      <td>Виктор</td>\n",
       "      <td>вич</td>\n",
       "      <td>1</td>\n",
       "    </tr>\n",
       "    <tr>\n",
       "      <th>1</th>\n",
       "      <td>20862846</td>\n",
       "      <td>NaN</td>\n",
       "      <td>07.10.2021</td>\n",
       "      <td>Попова Любовь Терентьевна</td>\n",
       "      <td>женский</td>\n",
       "      <td>1932-08-26</td>\n",
       "      <td>Москвич</td>\n",
       "      <td>Любовь</td>\n",
       "      <td>вна</td>\n",
       "      <td>0</td>\n",
       "    </tr>\n",
       "  </tbody>\n",
       "</table>\n",
       "</div>"
      ],
      "text/plain": [
       "  ID пациента_облако Дата создания заявки_облако  \\\n",
       "0     30000007827048                         NaN   \n",
       "1           20862846                         NaN   \n",
       "\n",
       "  Дата включения пациента в Реестр_облако            ФИО пациента_облако  \\\n",
       "0                              23.11.2020  Скрыпник Виктор Александрович   \n",
       "1                              07.10.2021      Попова Любовь Терентьевна   \n",
       "\n",
       "  Пол_облако Дата рождения_облако                Гражданский статус_облако  \\\n",
       "0    мужской           1959-11-28  лицо без определенного места жительства   \n",
       "1    женский           1932-08-26                                  Москвич   \n",
       "\n",
       "     name last  correct_gender  \n",
       "0  Виктор  вич               1  \n",
       "1  Любовь  вна               0  "
      ]
     },
     "execution_count": 180,
     "metadata": {},
     "output_type": "execute_result"
    }
   ],
   "source": [
    "df_cloud['name'] = df_cloud['ФИО пациента_облако'].map(lambda x: x.split(' ')[1])\n",
    "df_cloud['last'] = df_cloud['ФИО пациента_облако'].map(lambda x: x[-3:])\n",
    "df_cloud['Пол_облако'] = df_cloud['Пол_облако'].str.lower()\n",
    "df_cloud['correct_gender'] = df_cloud['name'].map(lambda x: get_gender(x))\n",
    "df_cloud.head(2)"
   ]
  },
  {
   "cell_type": "code",
   "execution_count": 183,
   "id": "de0bd2e6-4f3e-4aaa-a93b-90bdd28a7558",
   "metadata": {},
   "outputs": [
    {
     "data": {
      "text/html": [
       "<div>\n",
       "<style scoped>\n",
       "    .dataframe tbody tr th:only-of-type {\n",
       "        vertical-align: middle;\n",
       "    }\n",
       "\n",
       "    .dataframe tbody tr th {\n",
       "        vertical-align: top;\n",
       "    }\n",
       "\n",
       "    .dataframe thead th {\n",
       "        text-align: right;\n",
       "    }\n",
       "</style>\n",
       "<table border=\"1\" class=\"dataframe\">\n",
       "  <thead>\n",
       "    <tr style=\"text-align: right;\">\n",
       "      <th></th>\n",
       "      <th>ID пациента_облако</th>\n",
       "      <th>Дата создания заявки_облако</th>\n",
       "      <th>Дата включения пациента в Реестр_облако</th>\n",
       "      <th>ФИО пациента_облако</th>\n",
       "      <th>Пол_облако</th>\n",
       "      <th>Дата рождения_облако</th>\n",
       "      <th>Гражданский статус_облако</th>\n",
       "      <th>name</th>\n",
       "      <th>last</th>\n",
       "      <th>correct_gender</th>\n",
       "    </tr>\n",
       "  </thead>\n",
       "  <tbody>\n",
       "    <tr>\n",
       "      <th>0</th>\n",
       "      <td>30000007827048</td>\n",
       "      <td>NaN</td>\n",
       "      <td>23.11.2020</td>\n",
       "      <td>Скрыпник Виктор Александрович</td>\n",
       "      <td>мужской</td>\n",
       "      <td>1959-11-28</td>\n",
       "      <td>лицо без определенного места жительства</td>\n",
       "      <td>Виктор</td>\n",
       "      <td>вич</td>\n",
       "      <td>мужской</td>\n",
       "    </tr>\n",
       "    <tr>\n",
       "      <th>1</th>\n",
       "      <td>20862846</td>\n",
       "      <td>NaN</td>\n",
       "      <td>07.10.2021</td>\n",
       "      <td>Попова Любовь Терентьевна</td>\n",
       "      <td>женский</td>\n",
       "      <td>1932-08-26</td>\n",
       "      <td>Москвич</td>\n",
       "      <td>Любовь</td>\n",
       "      <td>вна</td>\n",
       "      <td>женский</td>\n",
       "    </tr>\n",
       "  </tbody>\n",
       "</table>\n",
       "</div>"
      ],
      "text/plain": [
       "  ID пациента_облако Дата создания заявки_облако  \\\n",
       "0     30000007827048                         NaN   \n",
       "1           20862846                         NaN   \n",
       "\n",
       "  Дата включения пациента в Реестр_облако            ФИО пациента_облако  \\\n",
       "0                              23.11.2020  Скрыпник Виктор Александрович   \n",
       "1                              07.10.2021      Попова Любовь Терентьевна   \n",
       "\n",
       "  Пол_облако Дата рождения_облако                Гражданский статус_облако  \\\n",
       "0    мужской           1959-11-28  лицо без определенного места жительства   \n",
       "1    женский           1932-08-26                                  Москвич   \n",
       "\n",
       "     name last correct_gender  \n",
       "0  Виктор  вич        мужской  \n",
       "1  Любовь  вна        женский  "
      ]
     },
     "execution_count": 183,
     "metadata": {},
     "output_type": "execute_result"
    }
   ],
   "source": [
    "df_cloud['correct_gender'] = np.where(df_cloud['correct_gender'] == 1, 'мужской', (np.where(df_cloud['correct_gender'] == 0, 'женский', 'н/у')))\n",
    "df_cloud.head(2)"
   ]
  },
  {
   "cell_type": "code",
   "execution_count": 184,
   "id": "864dd536-055e-42c1-b907-9a04fceee77c",
   "metadata": {},
   "outputs": [
    {
     "data": {
      "text/plain": [
       "(14060, 10)"
      ]
     },
     "execution_count": 184,
     "metadata": {},
     "output_type": "execute_result"
    }
   ],
   "source": [
    "df_identif_name = df_cloud.loc[df_cloud['correct_gender'] != 'н/у']\n",
    "df_identif_name.shape"
   ]
  },
  {
   "cell_type": "markdown",
   "id": "ffbb8d7e-a4be-4a7b-ba1a-d822c334204e",
   "metadata": {
    "tags": []
   },
   "source": [
    "####\n",
    "<div class=\"alert alert-block alert-success\"> <font size=3>\n",
    "ищем НЕСОВПАДЕНИЕ по имени\n",
    "    </b>    </div>\n",
    "<hr>"
   ]
  },
  {
   "cell_type": "code",
   "execution_count": 185,
   "id": "e954a158-cd0e-4d7b-873e-fe47f0015f27",
   "metadata": {},
   "outputs": [
    {
     "data": {
      "text/plain": [
       "(47, 10)"
      ]
     },
     "execution_count": 185,
     "metadata": {},
     "output_type": "execute_result"
    }
   ],
   "source": [
    "df_error_gender_by_name = df_identif_name.loc[df_identif_name['correct_gender'] != df_identif_name['Пол_облако']]\n",
    "df_error_gender_by_name.shape"
   ]
  },
  {
   "cell_type": "markdown",
   "id": "8d1635bb-e460-4f8a-9d22-e7f9dda17b56",
   "metadata": {
    "tags": []
   },
   "source": [
    "####\n",
    "<div class=\"alert alert-block alert-success\"> <font size=3>\n",
    "ищем НЕСОВПАДЕНИЕ по ОКОНЧАНИЮ отчества\n",
    "    </b>    </div>\n",
    "<hr>"
   ]
  },
  {
   "cell_type": "code",
   "execution_count": 186,
   "id": "06c4218e-e0c4-47a7-a121-c56911b46ca8",
   "metadata": {},
   "outputs": [
    {
     "data": {
      "text/plain": [
       "(1121, 10)"
      ]
     },
     "execution_count": 186,
     "metadata": {},
     "output_type": "execute_result"
    }
   ],
   "source": [
    "df_dont_identif_name = df_cloud.loc[df_cloud['correct_gender'] == 'н/у']\n",
    "df_dont_identif_name.shape"
   ]
  },
  {
   "cell_type": "code",
   "execution_count": 187,
   "id": "1c4fad11-eb22-4c56-8a17-9e3b9d39387d",
   "metadata": {},
   "outputs": [],
   "source": [
    "# -----------несовпаденеие вна и женского пола"
   ]
  },
  {
   "cell_type": "code",
   "execution_count": 188,
   "id": "16dd4a07-e254-4e34-9a6e-cb74af0dfc21",
   "metadata": {},
   "outputs": [
    {
     "data": {
      "text/plain": [
       "(27, 10)"
      ]
     },
     "execution_count": 188,
     "metadata": {},
     "output_type": "execute_result"
    }
   ],
   "source": [
    "df_error_gender_by_vna = df_dont_identif_name.loc[\n",
    "                                              (df_dont_identif_name['last'] == 'вна')\n",
    "                                            & (df_dont_identif_name['Пол_облако'] == 'мужской')   \n",
    "        ]\n",
    "df_error_gender_by_vna.shape"
   ]
  },
  {
   "cell_type": "code",
   "execution_count": 189,
   "id": "f47a4dbe-915a-429c-86ce-e4b0f3af4dae",
   "metadata": {},
   "outputs": [],
   "source": [
    "# -----------несовпаденеие вич и мужского пола"
   ]
  },
  {
   "cell_type": "code",
   "execution_count": 190,
   "id": "13f26a0e-57de-4658-b127-b7fb38e944fa",
   "metadata": {},
   "outputs": [
    {
     "data": {
      "text/plain": [
       "(0, 10)"
      ]
     },
     "execution_count": 190,
     "metadata": {},
     "output_type": "execute_result"
    }
   ],
   "source": [
    "df_error_gender_by_vich = df_dont_identif_name.loc[\n",
    "                                          (df_dont_identif_name['last'] == 'вич')\n",
    "                                        & (df_dont_identif_name['Пол_облако'] == 'женский')   \n",
    "        ]\n",
    "df_error_gender_by_vich.shape"
   ]
  },
  {
   "cell_type": "markdown",
   "id": "f82c50df-8791-4638-b896-7b8a79a9488c",
   "metadata": {
    "tags": []
   },
   "source": [
    "####\n",
    "<div class=\"alert alert-block alert-success\"> <font size=3>\n",
    "соберем все ДФ с ошибками в единый дф\n",
    "    </b>    </div>\n",
    "<hr>"
   ]
  },
  {
   "cell_type": "code",
   "execution_count": 191,
   "id": "2f2decb3-b934-4fcf-b324-b0c148a024b0",
   "metadata": {},
   "outputs": [],
   "source": [
    "frames = [df_error_gender_by_name, df_error_gender_by_vna, df_error_gender_by_vich]"
   ]
  },
  {
   "cell_type": "code",
   "execution_count": 192,
   "id": "a2385697-e40c-4420-9d00-edfb8f46f7dd",
   "metadata": {},
   "outputs": [
    {
     "data": {
      "text/plain": [
       "(74, 10)"
      ]
     },
     "execution_count": 192,
     "metadata": {},
     "output_type": "execute_result"
    }
   ],
   "source": [
    "df_error_gender = pd.concat(frames)\n",
    "df_error_gender.shape"
   ]
  },
  {
   "cell_type": "code",
   "execution_count": 193,
   "id": "70ef4092-e65f-4f7d-ad84-8602912b6f54",
   "metadata": {},
   "outputs": [
    {
     "data": {
      "text/html": [
       "<div>\n",
       "<style scoped>\n",
       "    .dataframe tbody tr th:only-of-type {\n",
       "        vertical-align: middle;\n",
       "    }\n",
       "\n",
       "    .dataframe tbody tr th {\n",
       "        vertical-align: top;\n",
       "    }\n",
       "\n",
       "    .dataframe thead th {\n",
       "        text-align: right;\n",
       "    }\n",
       "</style>\n",
       "<table border=\"1\" class=\"dataframe\">\n",
       "  <thead>\n",
       "    <tr style=\"text-align: right;\">\n",
       "      <th></th>\n",
       "      <th>ID пациента_облако</th>\n",
       "      <th>Дата создания заявки_облако</th>\n",
       "      <th>Дата включения пациента в Реестр_облако</th>\n",
       "      <th>ФИО пациента_облако</th>\n",
       "      <th>Пол_облако</th>\n",
       "      <th>Дата рождения_облако</th>\n",
       "      <th>Гражданский статус_облако</th>\n",
       "      <th>name</th>\n",
       "      <th>last</th>\n",
       "      <th>correct_gender</th>\n",
       "    </tr>\n",
       "  </thead>\n",
       "  <tbody>\n",
       "    <tr>\n",
       "      <th>679</th>\n",
       "      <td>2243395102</td>\n",
       "      <td>NaN</td>\n",
       "      <td>21.04.2023</td>\n",
       "      <td>Симонова Зинаида Николаевна</td>\n",
       "      <td>мужской</td>\n",
       "      <td>01.12.1941</td>\n",
       "      <td>Москвич</td>\n",
       "      <td>Зинаида</td>\n",
       "      <td>вна</td>\n",
       "      <td>женский</td>\n",
       "    </tr>\n",
       "    <tr>\n",
       "      <th>915</th>\n",
       "      <td>10273975</td>\n",
       "      <td>NaN</td>\n",
       "      <td>29.12.2020</td>\n",
       "      <td>Подушкина Нина Никитична</td>\n",
       "      <td>мужской</td>\n",
       "      <td>11.01.1940</td>\n",
       "      <td>Москвич</td>\n",
       "      <td>Нина</td>\n",
       "      <td>чна</td>\n",
       "      <td>женский</td>\n",
       "    </tr>\n",
       "    <tr>\n",
       "      <th>962</th>\n",
       "      <td>2244632315</td>\n",
       "      <td>NaN</td>\n",
       "      <td>27.02.2022</td>\n",
       "      <td>Борисов Борис Денисович</td>\n",
       "      <td>женский</td>\n",
       "      <td>30.07.1936</td>\n",
       "      <td>Москвич</td>\n",
       "      <td>Борис</td>\n",
       "      <td>вич</td>\n",
       "      <td>мужской</td>\n",
       "    </tr>\n",
       "    <tr>\n",
       "      <th>1375</th>\n",
       "      <td>16388594</td>\n",
       "      <td>NaN</td>\n",
       "      <td>06.08.2023</td>\n",
       "      <td>Толчинский Михаил Олегович</td>\n",
       "      <td>женский</td>\n",
       "      <td>05.08.1953</td>\n",
       "      <td>Москвич</td>\n",
       "      <td>Михаил</td>\n",
       "      <td>вич</td>\n",
       "      <td>мужской</td>\n",
       "    </tr>\n",
       "    <tr>\n",
       "      <th>1398</th>\n",
       "      <td>24661174</td>\n",
       "      <td>NaN</td>\n",
       "      <td>31.10.2023</td>\n",
       "      <td>Абаничев Евгений Викторович</td>\n",
       "      <td>женский</td>\n",
       "      <td>05.10.1960</td>\n",
       "      <td>Москвич</td>\n",
       "      <td>Евгений</td>\n",
       "      <td>вич</td>\n",
       "      <td>мужской</td>\n",
       "    </tr>\n",
       "  </tbody>\n",
       "</table>\n",
       "</div>"
      ],
      "text/plain": [
       "     ID пациента_облако Дата создания заявки_облако  \\\n",
       "679          2243395102                         NaN   \n",
       "915            10273975                         NaN   \n",
       "962          2244632315                         NaN   \n",
       "1375           16388594                         NaN   \n",
       "1398           24661174                         NaN   \n",
       "\n",
       "     Дата включения пациента в Реестр_облако          ФИО пациента_облако  \\\n",
       "679                               21.04.2023  Симонова Зинаида Николаевна   \n",
       "915                               29.12.2020     Подушкина Нина Никитична   \n",
       "962                               27.02.2022      Борисов Борис Денисович   \n",
       "1375                              06.08.2023   Толчинский Михаил Олегович   \n",
       "1398                              31.10.2023  Абаничев Евгений Викторович   \n",
       "\n",
       "     Пол_облако Дата рождения_облако Гражданский статус_облако     name last  \\\n",
       "679     мужской           01.12.1941                   Москвич  Зинаида  вна   \n",
       "915     мужской           11.01.1940                   Москвич     Нина  чна   \n",
       "962     женский           30.07.1936                   Москвич    Борис  вич   \n",
       "1375    женский           05.08.1953                   Москвич   Михаил  вич   \n",
       "1398    женский           05.10.1960                   Москвич  Евгений  вич   \n",
       "\n",
       "     correct_gender  \n",
       "679         женский  \n",
       "915         женский  \n",
       "962         мужской  \n",
       "1375        мужской  \n",
       "1398        мужской  "
      ]
     },
     "execution_count": 193,
     "metadata": {},
     "output_type": "execute_result"
    }
   ],
   "source": [
    "df_error_gender['Дата рождения_облако'] = pd.to_datetime(df_error_gender['Дата рождения_облако']).dt.strftime('%d.%m.%Y')\n",
    "df_error_gender.head()"
   ]
  },
  {
   "cell_type": "code",
   "execution_count": 173,
   "id": "7811f57c-4339-442f-86f2-918c03ccf6e1",
   "metadata": {},
   "outputs": [],
   "source": [
    "df_error_gender.to_excel('df_error_gender.xlsx')"
   ]
  },
  {
   "cell_type": "code",
   "execution_count": null,
   "id": "95212edc-37fd-499c-9f14-5fa1685f64ee",
   "metadata": {},
   "outputs": [],
   "source": []
  },
  {
   "cell_type": "code",
   "execution_count": null,
   "id": "a81ec605-fcae-45ee-b5d4-c6af071ba1cb",
   "metadata": {},
   "outputs": [],
   "source": []
  },
  {
   "cell_type": "code",
   "execution_count": null,
   "id": "130dafb6-ae22-4b9f-a64b-db45f889ea2e",
   "metadata": {},
   "outputs": [],
   "source": []
  },
  {
   "cell_type": "code",
   "execution_count": null,
   "id": "0fe1135e-df69-48a0-9c79-c60f5eece9ba",
   "metadata": {},
   "outputs": [],
   "source": []
  }
 ],
 "metadata": {
  "kernelspec": {
   "display_name": "Python 3 (ipykernel)",
   "language": "python",
   "name": "python3"
  },
  "language_info": {
   "codemirror_mode": {
    "name": "ipython",
    "version": 3
   },
   "file_extension": ".py",
   "mimetype": "text/x-python",
   "name": "python",
   "nbconvert_exporter": "python",
   "pygments_lexer": "ipython3",
   "version": "3.9.13"
  }
 },
 "nbformat": 4,
 "nbformat_minor": 5
}
