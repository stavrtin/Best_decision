{
 "cells": [
  {
   "cell_type": "code",
   "execution_count": 1,
   "id": "5ebf6cd0-3439-4585-9005-f8da6645eb80",
   "metadata": {
    "tags": []
   },
   "outputs": [],
   "source": [
    "import pandas as pd\n",
    "import numpy as np\n",
    "from IPython.display import display_markdown\n",
    "import warnings\n",
    "warnings.filterwarnings('ignore')"
   ]
  },
  {
   "cell_type": "code",
   "execution_count": 2,
   "id": "4ce8a8a5-71ef-4ca3-9a23-fb39d1cb9f1a",
   "metadata": {
    "tags": []
   },
   "outputs": [],
   "source": [
    "pd.set_option('display.max_columns', None) "
   ]
  },
  {
   "cell_type": "markdown",
   "id": "3985295c-65f6-4d94-9953-77e227755fc8",
   "metadata": {
    "jp-MarkdownHeadingCollapsed": true,
    "tags": []
   },
   "source": [
    "<div class=\"alert alert-block alert-success\">     <font size=3>\n",
    "<b>Ограничения</b>\n",
    "<li> Даты включениЯ: <br>\n",
    "- Дата включения в реестр пациентов, нуждающихся в ПМП<br>\n",
    "- Дата постановки на учет/включения пациента в реестр<br>\n",
    "- Дата признания пациента нуждающимся в ПМП (ВК)<br>\n",
    "    - Дата регистрации\n",
    "<li> Если нет даты включения - не берем такие записи\n",
    "<li>Только УМЕРШИЕ \n",
    "<li>берем УМЕРШИХ в периоде рассмотрения \n",
    "<li> Отрицат откидываем "
   ]
  },
  {
   "cell_type": "markdown",
   "id": "ae9be183-71a8-435e-a3cf-6a0e3fc3c001",
   "metadata": {
    "tags": []
   },
   "source": [
    "<div class=\"alert alert-block alert-warning\">  <font size=3>\n",
    "<b> Функции для расчета  <br>\n",
    "</b>            </div>"
   ]
  },
  {
   "cell_type": "markdown",
   "id": "61178d0e-4cc7-4a48-9f50-e2fa66e9e6cc",
   "metadata": {
    "jp-MarkdownHeadingCollapsed": true,
    "tags": []
   },
   "source": [
    "<div class=\"alert alert-block alert-info\">\n",
    "функция возраста"
   ]
  },
  {
   "cell_type": "code",
   "execution_count": 3,
   "id": "2429864c-269d-4f40-a8b3-1ef0ac6e0e23",
   "metadata": {
    "tags": []
   },
   "outputs": [],
   "source": [
    "# -------------AGE -------------\n",
    "def calculate_age(x,y):\n",
    "    age = y.year - x.year - ((y.month, y.day) < (x.month, x.day)) \n",
    "    if age < 0:\n",
    "        age = 0\n",
    "    return age"
   ]
  },
  {
   "cell_type": "markdown",
   "id": "cc85d21e-20a5-411d-bcdc-f4f292fef127",
   "metadata": {
    "tags": []
   },
   "source": [
    "#### функция 605го"
   ]
  },
  {
   "cell_type": "code",
   "execution_count": 4,
   "id": "408fd7f6-c2f9-4d2a-a45c-9d94cad6563a",
   "metadata": {
    "tags": []
   },
   "outputs": [],
   "source": [
    "# def load_data_605(file_name, bmchu, bk, date_finish): -- изменения в подсчете ВОЗРАСТА -------------- 06.10.23 ----- возраст считаем для момента ВХОДА в ПЕРИОД (за время рассмотрения дети взрослеют и на конец периода мы их можем не поймать) --------\n",
    "def load_data_605(file_name, bmchu, bk, date_start):\n",
    "        \n",
    "     #     ---------- ЗАГРУЗКА и ПРЕДОБРАБОТКА файла 605го ----------------------\n",
    "    \n",
    "    # file_name = file_605\n",
    "    df = pd.read_csv(file_name, delimiter=';', encoding='cp1251')\n",
    "\n",
    "    # уберем лишние колонки\n",
    "    df_605 = df.copy()\n",
    "    df_605 = df_605[[\n",
    "                     'Дата включения в реестр пациентов, нуждающихся в ПМП',\n",
    "                     'Дата постановки на учет/включения пациента в реестр',\n",
    "                     'Дата признания пациента нуждающимся в ПМП (ВК)',\n",
    "                     'Дата регистрации',\n",
    "           'Пациент', \n",
    "           'Дата рождения', 'Пол',\n",
    "           \n",
    "           'Текущий статус пациента',\n",
    "           'Дата прекращения оказания ПМП', \n",
    "             'Курирующее подразделение/филиал',\n",
    "                   'Гражданский статус' ,\n",
    "                    'Адрес', 'Основной диагноз по МКБ-10',\n",
    "                     'Адрес фактический',\n",
    "                     'Дата разрешения ДЗМ',\n",
    "                     'Номер разрешения ДЗМ',\n",
    "                     'БК',\n",
    "                     'Наблюдение в РЦ'\n",
    "                    ]]\n",
    "\n",
    "    #  переименуем покороче столбцы\n",
    "    df_605.rename(columns={'Дата включения в реестр пациентов, нуждающихся в ПМП': 'Дата_вкл_реестр_гор'}, inplace=True)\n",
    "    df_605.rename(columns={'Дата постановки на учет/включения пациента в реестр': 'Дата_вкл_реестр_цпп'}, inplace=True)\n",
    "    df_605.rename(columns={'Дата признания пациента нуждающимся в ПМП (ВК)': 'Дата_признания'}, inplace=True)\n",
    "    df_605.rename(columns={'Дата регистрации': 'Дата_регистр_в_1с'}, inplace=True)\n",
    "    df_605.rename(columns={'Дата рождения': 'ДР'}, inplace=True)\n",
    "    df_605.rename(columns={'Дата прекращения оказания ПМП': 'Дата_прекр'}, inplace=True)\n",
    "    df_605.rename(columns={'Курирующее подразделение/филиал': 'Филиал'}, inplace=True)\n",
    "    df_605.rename(columns={'Основной диагноз по МКБ-10': 'Диагноз'}, inplace=True)\n",
    "    df_605.rename(columns={'Гражданский статус': 'Иногород'}, inplace=True)\n",
    "\n",
    "    df_concat = pd.concat([df_605])\n",
    "\n",
    "\n",
    "    # ----------------форматнем дату к дате\n",
    "    df_concat['ДР'] = pd.to_datetime(df_concat['ДР'], dayfirst=True, errors = 'coerce').dt.normalize()\n",
    "    df_concat['Дата_вкл_реестр_гор'] = pd.to_datetime(df_concat['Дата_вкл_реестр_гор'], dayfirst=True, errors = 'coerce').dt.normalize()\n",
    "    df_concat['Дата_вкл_реестр_цпп'] = pd.to_datetime(df_concat['Дата_вкл_реестр_цпп'], dayfirst=True, errors = 'coerce').dt.normalize()\n",
    "    df_concat['Дата_регистр_в_1с']   = pd.to_datetime(df_concat['Дата_регистр_в_1с'], dayfirst=True, errors = 'coerce').dt.normalize()   \n",
    "    df_concat['Дата_признания']      = pd.to_datetime(df_concat['Дата_признания'], dayfirst=True, errors = 'coerce').dt.normalize()\n",
    "    df_concat['Дата_прекр']          = pd.to_datetime(df_concat['Дата_прекр'], dayfirst=True, errors = 'coerce').dt.normalize()\n",
    "    \n",
    "    \n",
    "    # Уберем записи со СТАТУСОМ  'Умер без п/о', 'Новый пациент', 'Вне реестра', 'Врач КЦ'\n",
    "    list_status_ubiraem = ['новый пациент', 'вне реестра', 'врач КЦ', 'Новый пациент', 'Умер без п/о', 'Вне реестра', 'Врач КЦ', 'умер без п/о'] # -----------------записи со СТАТУСОМ  'Умер без п/о', 'Новый пациент', 'Вне реестра', 'Врач КЦ'----------------\n",
    "    df_concat = df_concat.loc[(~df_concat['Текущий статус пациента'].isin(list_status_ubiraem))]   \n",
    "    df_concat = df_concat.loc[(~df_concat['Текущий статус пациента'].isna())]  # - удаляем строки. в которых текущий статус не заполнен =  nan\n",
    "\n",
    "\n",
    "    # ---------------------------------------------------------Уберем 'БМЧУ \"Детский хоспис\"' из наших данных ----------------------------\n",
    "    if bmchu != 'учитываем':\n",
    "        df_concat = df_concat.loc[df_concat['Филиал'] != 'БМЧУ \"Детский хоспис\"']  # - удаляем строки. в которых текущий статус не заполнен =  nan\n",
    "        \n",
    "        \n",
    "   #     # ---------------------------------------------------------Уберем 'БМЧУ \"Детский хоспис\"' из наших данных ----------------------------\n",
    "    if bk != 'с учетом БК':\n",
    "        df_concat = df_concat.loc[df_concat['БК'] != 'Да']  # - удаляем строки. в которых текущий статус не заполнен =  nan     \n",
    "\n",
    "    # УДАЛИМ полные дубликаиы строк (оставляем только ПЕРВЫЕ строки из повторов (из 605го) )\n",
    "    df_concat = df_concat.drop_duplicates(keep='first')\n",
    "    df_concat.index.duplicated()\n",
    "    df_concat.reset_index(drop= True , inplace= True )\n",
    "\n",
    "\n",
    "    # Заполним поле Дата_первых_сведений данными:  -------------------------  ПО ОГРАНИЧЕНИЯМ!!!!!!!! см.шапку\n",
    "    df_concat['Дата_первых_сведений'] = np.nan\n",
    "    df_concat.loc[ (~df_concat['Дата_вкл_реестр_цпп'].isna()) , 'Дата_первых_сведений'] = df_concat['Дата_вкл_реестр_цпп']\n",
    "    df_concat.loc[ (df_concat['Дата_вкл_реестр_цпп'].isna()) & (~df_concat['Дата_вкл_реестр_гор'].isna()) , 'Дата_первых_сведений'] = df_concat['Дата_вкл_реестр_гор']\n",
    "    df_concat.loc[ (df_concat['Дата_вкл_реестр_цпп'].isna()) & (df_concat['Дата_вкл_реестр_гор'].isna()) & (~df_concat['Дата_признания'].isna())  , 'Дата_первых_сведений'] = df_concat['Дата_признания']\n",
    "    \n",
    "    # df_concat.loc[  (df_concat['Дата_вкл_реестр_цпп'].isna()) \n",
    "    #               & (df_concat['Дата_вкл_реестр_гор'].isna()) \n",
    "    #               & (df_concat['Дата_признания'].isna()) \n",
    "    #               & ((~df_concat['Дата_регистр_в_1с'].isna()) & (df_concat['Дата_регистр_в_1с'] > '2023-01-01'))\n",
    "    #                  , 'Дата_первых_сведений'] = df_concat['Дата_регистр_в_1с']\n",
    "    \n",
    "    df_concat.loc[  (df_concat['Дата_вкл_реестр_цпп'].isnull()) \n",
    "              & (df_concat['Дата_вкл_реестр_гор'].isnull()) \n",
    "              & (df_concat['Дата_признания'].isnull()) \n",
    "              & (~df_concat['Дата_регистр_в_1с'].isnull())\n",
    "              & (df_concat['Дата_регистр_в_1с'] > '2023-01-01')\n",
    "                  , 'Дата_первых_сведений'] = df_concat['Дата_регистр_в_1с']\n",
    "    \n",
    "    \n",
    "    # df_concat.loc[ (~df_concat['Дата_вкл_реестр_цпп'].isnull()) & (~df_concat['Дата_вкл_реестр_цпп'].isnull()) & (~df_concat['Дата_признания'].isnull()) \n",
    "    #                & (df_concat['Дата_вкл_реестр_цпп'] < df_concat['Дата_признания'])  , 'Дата_первых_сведений'] = df_concat['Дата_признания']\n",
    "\n",
    "    # --------------------- выкинуть пустые если даты первых нет !!!! --------------\n",
    "    df_concat = df_concat[~df_concat['Дата_первых_сведений'].isna()]\n",
    "\n",
    "    df_concat['Дата_первых_сведений']          = pd.to_datetime(df_concat['Дата_первых_сведений'], dayfirst=True, errors = 'coerce').dt.normalize()  \n",
    "\n",
    "    # новый признак - Дата_выбытия\n",
    "    df_concat['Дата_выбытия'] = np.nan\n",
    "    # 1 -- условие ---------------------------\n",
    "    df_concat.loc[ (  \n",
    "               ((df_concat['Дата_прекр'].isnull()) & (df_concat['Дата_первых_сведений'] < '2020-12-31'))  \n",
    "            &  (  (df_concat['Текущий статус пациента'] == 'Умер') | (df_concat['Текущий статус пациента'] == 'Прекращено оказание ПМП') )\n",
    "               )\n",
    "               , 'Дата_выбытия'] = '01.01.1900'\n",
    "\n",
    "    # 2 -- условие----------------------------\n",
    "    df_concat.loc[(~df_concat['Дата_прекр'].isnull()), 'Дата_выбытия'] = df_concat['Дата_прекр']\n",
    "\n",
    "    # # 3 -- условие ---------------------------\n",
    "    # df_concat.loc[\n",
    "    #                  (~df_concat['Дата_первых_сведений'].isnull() & df_concat['Дата_выбытия'].isnull() )  \n",
    "    #               &  ((df_concat['Текущий статус пациента'] == 'Умер') | (df_concat['Текущий статус пациента'] == 'Прекращено оказание ПМП')), 'Дата_выбытия'] = df_concat['Дата_первых_сведений'] + pd.Timedelta(days = 2)\n",
    "\n",
    "    \n",
    "    # df_concat = df_concat[~df_concat['Дата_выбытия'].isna()]\n",
    "                     \n",
    "\n",
    "    # ----------------форматнем дату к дате\n",
    "    df_concat['ДР'] = pd.to_datetime(df_concat['ДР'], dayfirst=True, errors = 'coerce').dt.normalize()\n",
    "    # df_concat['Дата_вкл_реестр'] = pd.to_datetime(df_concat['Дата_вкл_реестр'], dayfirst=True, errors = 'coerce').dt.normalize()\n",
    "    df_concat['Дата_признания'] = pd.to_datetime(df_concat['Дата_признания'], dayfirst=True, errors = 'coerce').dt.normalize()\n",
    "    df_concat['Дата_прекр'] = pd.to_datetime(df_concat['Дата_прекр'], dayfirst=True, errors = 'coerce').dt.normalize()\n",
    "    df_concat['Дата_выбытия'] = pd.to_datetime(df_concat['Дата_выбытия'], dayfirst=True, errors = 'coerce').dt.normalize()\n",
    "    df_concat['Дата_первых_сведений'] = pd.to_datetime(df_concat['Дата_первых_сведений'], dayfirst=True, errors = 'coerce').dt.normalize()\n",
    "    \n",
    "#     df_concat['ДР'] = pd.to_datetime(df_concat['ДР'], dayfirst=True, errors = 'coerce').dt.normalize()\n",
    "#     df_concat['Дата_вкл_реестр_гор'] = pd.to_datetime(df_concat['Дата_вкл_реестр_гор'], dayfirst=True, errors = 'coerce').dt.normalize()\n",
    "#     df_concat['Дата_вкл_реестр_цпп'] = pd.to_datetime(df_concat['Дата_вкл_реестр_цпп'], dayfirst=True, errors = 'coerce').dt.normalize()\n",
    "#     df_concat['Дата_регистр_в_1с']   = pd.to_datetime(df_concat['Дата_регистр_в_1с'], dayfirst=True, errors = 'coerce').dt.normalize()   \n",
    "#     df_concat['Дата_признания']      = pd.to_datetime(df_concat['Дата_признания'], dayfirst=True, errors = 'coerce').dt.normalize()\n",
    "#     df_concat['Дата_прекр']          = pd.to_datetime(df_concat['Дата_прекр'], dayfirst=True, errors = 'coerce').dt.normalize()\n",
    "    \n",
    "    \n",
    "    \n",
    "\n",
    "   #  # ------------подсчитаем ВОЗРАСТ --------------\n",
    "   # # now = pd.Timestamp('now')\n",
    "   #  now = pd.Timestamp(date_finish)\n",
    "   #  df_concat.loc[(df_concat['Текущий статус пациента'] == 'Умер') & (~df_concat['Дата_выбытия'].isnull()), 'Возраст'] = (df_concat['Дата_выбытия'] - df_concat['ДР']).dt.days//365\n",
    "   #  df_concat.loc[(df_concat['Текущий статус пациента'] != 'Умер'), 'Возраст'] = (now - df_concat['ДР']).astype('<m8[Y]')\n",
    "\n",
    "   #    ------------------------- ---подсчитаем ВОЗРАСТ -------------- 06.10.23 ----- возраст считаем для момента ВХОДА в ПЕРИОД (за время рассмотрения дети взрослеют и на конец периода мы их можем не поймать) ---------------\n",
    "    \n",
    "   # now = pd.Timestamp('now')\n",
    "    now = pd.Timestamp(date_start)\n",
    "    # df_concat.loc[(df_concat['Текущий статус пациента'] == 'Умер') & (~df_concat['Дата_выбытия'].isnull()), 'Возраст'] = (df_concat['Дата_выбытия'] - df_concat['ДР']).dt.days//365\n",
    "    # df_concat.loc[(df_concat['Текущий статус пациента'] != 'Умер'), 'Возраст'] = (pd.Timestamp(date_start) - df_concat['ДР']).astype('<m8[Y]')\n",
    "    \n",
    "    df_concat['Возраст'] = np.nan\n",
    "    df_concat['Возраст'] = df_concat.apply( lambda x:  calculate_age(x['ДР'], now),axis=1)\n",
    "   \n",
    "\n",
    "\n",
    "    #  ------ посчитаем категорию трудоспособный --------\n",
    "    #  если пол ЖЕНСКИЙ, и возраст Менее 57 -----> Категория - трудоспособный\n",
    "    #  если пол Мужской, и возраст Менее 62 -----> Категория - трудоспособный\n",
    "\n",
    "    df_concat['Категория'] = np.nan\n",
    "    df_concat.loc[(df_concat['Возраст'] >= 18) & (df_concat['Пол'] == 'Мужской') & (df_concat['Возраст'] >= 62), 'Категория'] = 'Старше трудосп'\n",
    "    df_concat.loc[(df_concat['Возраст'] >= 18) & (df_concat['Пол'] == 'Женский') & (df_concat['Возраст'] >= 57), 'Категория'] = 'Старше трудосп'\n",
    "\n",
    "\n",
    "    #  ------ определим детей ---------------\n",
    "    df_concat['Дети'] = np.nan\n",
    "    # df_concat.loc[(df_concat['Возраст'] < 18) & (df_concat['Возраст'] >= 0), 'Дети'] = 'Дети'\n",
    "    df_concat['Дети'] = df_concat['Возраст'].apply(lambda x: 'Дети' if x <= 17 else np.nan)\n",
    "\n",
    "\n",
    "    #  ----- Добавим УНИКАЛЬНЫЙ ключ ФИО+ДР - без пробелов ------------\n",
    "\n",
    "    df_concat['Ключ'] = df_concat['Пациент'].map(str) + (df_concat['ДР'].dt.date).map(str)\n",
    "    df_concat['Ключ'] = df_concat['Ключ'].str.lower()            # ---- все к нижнему регистру\n",
    "    df_concat['Ключ'] = df_concat['Ключ'].str.replace(' ', '')   # ---- пробелы долой \n",
    "\n",
    "\n",
    "    df_clr = df_concat.loc[ (~df_concat['Дата_первых_сведений'].isnull())]\n",
    "\n",
    "    # ------ удаление дубликатов ----------\n",
    "    df_clr = df_clr.drop_duplicates(['Ключ'], keep='first') \n",
    "    \n",
    "    # ------ УДАЛИМ скобку  ----------\n",
    "    df_clr['Диагноз'] = df_clr['Диагноз'].str.replace('(','')\n",
    "    \n",
    "     # ------ Добавление краткого диагноза ----------\n",
    "    df_clr['Кр_диаг'] = df_clr['Диагноз'].str[:3]\n",
    "    \n",
    "  \n",
    "    \n",
    "    return df_clr  "
   ]
  },
  {
   "cell_type": "markdown",
   "id": "4201cdbe-d893-4d5d-97d2-08f01b44fd67",
   "metadata": {
    "jp-MarkdownHeadingCollapsed": true,
    "tags": []
   },
   "source": [
    "<div class=\"alert alert-block alert-success\"><font size=3>\n",
    "<b> Расчет сведений по ДИАГНОЗАМ из 605го <br>"
   ]
  },
  {
   "cell_type": "markdown",
   "id": "9f301ad9-9ede-4f31-b546-1acc329d9965",
   "metadata": {
    "tags": []
   },
   "source": [
    "<div class=\"alert alert-block alert-info\"><font size=3>\n",
    "<b>Распишем ДИАГНОЗЫ (внесем новые колонки-принаки в датафрейм)</b>               "
   ]
  },
  {
   "cell_type": "code",
   "execution_count": 5,
   "id": "55982ae4-283b-4404-9a8b-f08fdc6ec374",
   "metadata": {
    "tags": []
   },
   "outputs": [],
   "source": [
    "# ----------- загрузка диагнозов\n",
    "\n",
    "def load_list_diagnoz(file_diagnoz):\n",
    "    \n",
    "    df = pd.read_csv(file_diagnoz, delimiter=';', encoding='cp1251')\n",
    "\n",
    "    #     ------------- сформировали краткий список ---------------\n",
    "    df['Кр_диаг'] = df['Основной диагноз по МКБ-10'].str[:3]\n",
    "    \n",
    "    #     ------------- Удалим повторные диагноы в СПИСКЕ ДИАГНОЗОВ  ---------------\n",
    "    df = df.drop_duplicates('Кр_диаг')\n",
    "    \n",
    "    return df\n"
   ]
  },
  {
   "cell_type": "markdown",
   "id": "6a43b87a-d431-4e7d-af62-8ac6d8a0b1b8",
   "metadata": {},
   "source": [
    "<hr>\n",
    "\n",
    "<font color= green size=10>__ВЫВОД РЕЗУЛЬТАТОВ ПО ДИАГНОЗАМ__\n",
    "<hr>"
   ]
  },
  {
   "cell_type": "code",
   "execution_count": 6,
   "id": "806030e9-50d0-4dd6-ba24-1bf593ec5041",
   "metadata": {
    "tags": []
   },
   "outputs": [],
   "source": [
    "# df_reestr = load_data_605(file_name, bmchu, bk,start)"
   ]
  },
  {
   "cell_type": "code",
   "execution_count": 7,
   "id": "a8ed540b",
   "metadata": {
    "tags": []
   },
   "outputs": [
    {
     "data": {
      "text/markdown": [
       "\n",
       "# Статистика по ДИАГНОЗАМ в период с 2021-01-01 по 2024-12-31:\n",
       "| Параметр |Всего| Взрослые | В т.ч. трудоспособ | Дети |\n",
       "|---:|:-|:-|:-|:-|\n",
       "| __Всего пациентов__с учетом БК__                                           | 61374      | 60485 |50076  |889|\n",
       "| пациенты с диагнозом __\"Терапия / Педиатрия\"__                      | 17464 | 17387 |15735 |77|\n",
       "| пациенты с диагнозом __\"Онко\"__                                     | 37532 | 37440 |30140 |92|\n",
       "| <span style=\"color: green;\"> новые пациенты с диагнозом __\"Онко\"__  |   |<span style=\"color: green;\">  __33666__ |- |<span style=\"color: green;\"> __85__|\n",
       "| пациенты с диагнозом __\"Психиатрия\"__                               | 88 | 83 |73 |5|\n",
       "| пациенты с диагнозом __\"ВИЧ\"__                                      | 15 | 15 |0 |0|\n",
       "| пациенты с диагнозом __\"Неврология\"__                               | 4448 | 3893 |2903 |555|\n",
       "| пациенты с диагнозом __\"Врожденные\"__                               | 132 | 11 |0 |121|\n",
       "| пациенты с диагнозом __\"Прочие\"__                                   | 1695 | 1656 |1225 |39|\n",
       "| __Статус по БМЧУ__  | __не учитываем__ | --|-- |-- ||\n",
       "\n"
      ]
     },
     "metadata": {},
     "output_type": "display_data"
    }
   ],
   "source": [
    "# ---------------------------- Применение функций ---------------\n",
    "start = '2021-01-01'\n",
    "finish = '2024-12-31'\n",
    "\n",
    "\n",
    "# file_name = 'выгрузка_605_из_1с_0610.csv'\n",
    "file_name = 'выгрузка_из_1с_20240219_0837.csv'\n",
    "# file_diag = 'список диагнозов.12,01.2024.csv'\n",
    "file_diag = 'список диагнозов_12.01.2024_vs_old.csv'\n",
    "bmchu = 'не учитываем'\n",
    "# bmchu = 'учитываем'\n",
    "bk = 'с учетом БК'\n",
    "# bk = 'без учета БК'\n",
    "# ---------------------------- Готовим датафрейм РЕЕСТРА ---------------\n",
    "df_reestr = load_data_605(file_name, bmchu, bk,start)\n",
    "# ---------------------------- Готовим датафрейм c РАСПИСАНЫМИ ДИАГНОЗАМИ ---------------\n",
    "df_diag = load_list_diagnoz(file_diag)\n",
    "# ----- соединим диагнозы в реестре со СПИСКОМ диагнозов\n",
    "df_reestr = pd.merge(df_reestr, df_diag, how='left', on='Кр_диаг')\n",
    "# ----- Если диагноз не указан - аменим на ПРОЧИЕ ------------\n",
    "df_reestr.loc[df_reestr['Тип_диагноза'].isna(), 'Тип_диагноза' ] = 'прочие'\n",
    "all_clients_period = df_reestr[       (df_reestr['Дата_первых_сведений'] < finish)     \n",
    "                           &   ( (df_reestr['Дата_выбытия'].isnull())  | (df_reestr['Дата_выбытия'] >= start)     ) ]\n",
    "\n",
    "all_clients_period_vzros      = all_clients_period[all_clients_period['Дети'].isna()]\n",
    "all_clients_period_vzros_trud = all_clients_period[all_clients_period['Категория']== 'Старше трудосп']\n",
    "all_clients_period_deti       = all_clients_period[~all_clients_period['Дети'].isna()]\n",
    "\n",
    "\n",
    "s_list = ['терапия', 'онкология',   'психиатрия', 'вич-инфекция', 'неврология', 'врожденные аномалии / пороки развития и хромосомные нарушения',   'прочие',   ]\n",
    "\n",
    "# ------------------- все пациенты -------------\n",
    "all_clients_period_ = []\n",
    "for i_diag in s_list:\n",
    "    all_clients_period_.append(all_clients_period[all_clients_period['Тип_диагноза'] == i_diag])\n",
    "\n",
    "# ------------------- взрослые -------------\n",
    "all_clients_period_взрос = []\n",
    "for i_diag in s_list:\n",
    "    all_clients_period_взрос.append(all_clients_period_vzros[all_clients_period_vzros['Тип_диагноза'] == i_diag])\n",
    "    \n",
    "# ------------------- старше труд -------------\n",
    "all_clients_period_труд = []\n",
    "for i_diag in s_list:\n",
    "    all_clients_period_труд.append(all_clients_period_vzros_trud[all_clients_period_vzros_trud['Тип_диагноза'] == i_diag])\n",
    "\n",
    "# ------------------- дети  -------------\n",
    "all_clients_period_дети = []\n",
    "for i_diag in s_list:\n",
    "    all_clients_period_дети.append(all_clients_period_deti[all_clients_period_deti['Тип_диагноза'] == i_diag])\n",
    "  \n",
    "\n",
    "# -------------------новые онко -------------\n",
    "\n",
    "new_onko_vzros = all_clients_period[\n",
    "                        (all_clients_period['Тип_диагноза'] == 'онкология')\n",
    "                       & (all_clients_period['Дата_первых_сведений'] >= start )\n",
    "                        &     ((all_clients_period['Дети']).isna())  \n",
    "                                          ].shape[0]\n",
    "\n",
    "new_onko_deti = all_clients_period.loc[\n",
    "                        (all_clients_period['Тип_диагноза'] == 'онкология')\n",
    "                       & (all_clients_period['Дата_первых_сведений'] >= start )\n",
    "    &     (~(all_clients_period['Дети']).isna())  \n",
    "                                          ].shape[0]\n",
    "\n",
    "a = f'Статистика по ДИАГНОЗАМ в период с {start} по {finish}:'\n",
    "\n",
    "display_markdown(f'''\n",
    "# {a}\n",
    "| Параметр |Всего| Взрослые | В т.ч. трудоспособ | Дети |\n",
    "|---:|:-|:-|:-|:-|\n",
    "| __Всего пациентов__{bk}__                                           | {all_clients_period.shape[0]}      | {all_clients_period_vzros.shape[0]} |{all_clients_period_vzros_trud.shape[0]}  |{all_clients_period_deti.shape[0]}|\n",
    "| пациенты с диагнозом __\"Терапия / Педиатрия\"__                      | {all_clients_period_[0].shape[0]} | {all_clients_period_взрос[0].shape[0]} |{all_clients_period_труд[0].shape[0]} |{all_clients_period_дети[0].shape[0]}|\n",
    "| пациенты с диагнозом __\"Онко\"__                                     | {all_clients_period_[1].shape[0]} | {all_clients_period_взрос[1].shape[0]} |{all_clients_period_труд[1].shape[0]} |{all_clients_period_дети[1].shape[0]}|\n",
    "| <span style=\"color: green;\"> новые пациенты с диагнозом __\"Онко\"__  |   |<span style=\"color: green;\">  __{new_onko_vzros}__ |- |<span style=\"color: green;\"> __{new_onko_deti}__|\n",
    "| пациенты с диагнозом __\"Психиатрия\"__                               | {all_clients_period_[2].shape[0]} | {all_clients_period_взрос[2].shape[0]} |{all_clients_period_труд[2].shape[0]} |{all_clients_period_дети[2].shape[0]}|\n",
    "| пациенты с диагнозом __\"ВИЧ\"__                                      | {all_clients_period_[3].shape[0]} | {all_clients_period_взрос[3].shape[0]} |{all_clients_period_труд[3].shape[0]} |{all_clients_period_дети[3].shape[0]}|\n",
    "| пациенты с диагнозом __\"Неврология\"__                               | {all_clients_period_[4].shape[0]} | {all_clients_period_взрос[4].shape[0]} |{all_clients_period_труд[4].shape[0]} |{all_clients_period_дети[4].shape[0]}|\n",
    "| пациенты с диагнозом __\"Врожденные\"__                               | {all_clients_period_[5].shape[0]} | {all_clients_period_взрос[5].shape[0]} |{all_clients_period_труд[5].shape[0]} |{all_clients_period_дети[5].shape[0]}|\n",
    "| пациенты с диагнозом __\"Прочие\"__                                   | {all_clients_period_[6].shape[0]} | {all_clients_period_взрос[6].shape[0]} |{all_clients_period_труд[6].shape[0]} |{all_clients_period_дети[6].shape[0]}|\n",
    "| __Статус по БМЧУ__  | __{bmchu}__ | --|-- |-- ||\n",
    "\n",
    "''', raw=True)"
   ]
  },
  {
   "cell_type": "markdown",
   "id": "8bb22f8a-fc55-4337-a528-9951197b1204",
   "metadata": {
    "tags": []
   },
   "source": [
    "<div class=\"alert alert-block alert-warning\"> <font size=3>\n",
    "<b>СЧИТАЕМ ДЛЯ ВСЕХ ПАЦИЕНТОВ - КОТОРЫЕ БЫЛИ ЗАСВЕЧЕНЫ В ЭТОМ ГОДУ НАБЛЮДЕНИЯ"
   ]
  },
  {
   "cell_type": "code",
   "execution_count": 8,
   "id": "16392cda-14b5-48a2-8901-081b31e17766",
   "metadata": {},
   "outputs": [
    {
     "data": {
      "text/plain": [
       "(61374, 29)"
      ]
     },
     "execution_count": 8,
     "metadata": {},
     "output_type": "execute_result"
    }
   ],
   "source": [
    "# df_all_21 = all_clients_period\n",
    "df_all_21_24 = all_clients_period.copy()\n",
    "df_all_21_24.shape"
   ]
  },
  {
   "cell_type": "code",
   "execution_count": 9,
   "id": "3bc24fe6-b3ae-47cb-b5cb-54f607da9116",
   "metadata": {
    "tags": []
   },
   "outputs": [
    {
     "data": {
      "text/plain": [
       "array(['Умер', 'прекращено оказание ПМП', 'патронаж',\n",
       "       'временное прекращение патронажей', 'стационар ЦПП',\n",
       "       'стационар ОПМП'], dtype=object)"
      ]
     },
     "execution_count": 9,
     "metadata": {},
     "output_type": "execute_result"
    }
   ],
   "source": [
    "df_all_21_24['Текущий статус пациента'].unique()"
   ]
  },
  {
   "cell_type": "code",
   "execution_count": 10,
   "id": "77ca9c98-c142-4c97-9a17-bb0b616f4939",
   "metadata": {
    "tags": []
   },
   "outputs": [],
   "source": [
    "# *******\n",
    "# df_all_21[(df_all_21['Текущий статус пациента'] == 'Умер')  & (df_all_21['Дата_выбытия'].dt.year == 2021)].shape"
   ]
  },
  {
   "cell_type": "markdown",
   "id": "957f485a-fb66-4d91-864b-8a8fe51e45f8",
   "metadata": {
    "tags": []
   },
   "source": [
    "<div class=\"alert alert-block alert-warning\"> <font size=3>\n",
    "Тип_диагноза онкология/не онко"
   ]
  },
  {
   "cell_type": "code",
   "execution_count": 11,
   "id": "e2eafb76-25af-42ce-a859-a83260c2eb6c",
   "metadata": {
    "tags": []
   },
   "outputs": [],
   "source": [
    "df_all_21_24.loc[df_all_21_24['Тип_диагноза'] != 'онкология', 'Тип_диагноза'] = 'не_онко'"
   ]
  },
  {
   "cell_type": "markdown",
   "id": "a953c3a1-c7f0-45ae-8b64-c711725c6b54",
   "metadata": {
    "tags": []
   },
   "source": [
    "<div class=\"alert alert-block alert-warning\"> <font size=3>\n",
    "Считаем период наблюдения"
   ]
  },
  {
   "cell_type": "code",
   "execution_count": 12,
   "id": "088a8c97-c6ac-4ccc-8333-f58e5a1f731a",
   "metadata": {
    "tags": []
   },
   "outputs": [],
   "source": [
    "df_all_21_24['прод_наблюд'] = np.nan"
   ]
  },
  {
   "cell_type": "code",
   "execution_count": null,
   "id": "b0a00b75-5810-47c4-ace7-e6808e77bb1d",
   "metadata": {},
   "outputs": [],
   "source": []
  },
  {
   "cell_type": "code",
   "execution_count": 13,
   "id": "29aa6304-37bd-4ac6-821c-daa62090836d",
   "metadata": {
    "tags": []
   },
   "outputs": [],
   "source": [
    "today_date = pd.to_datetime(pd.to_datetime('today').normalize(), dayfirst=True, errors = 'coerce').normalize()\n",
    "# today_date"
   ]
  },
  {
   "cell_type": "code",
   "execution_count": null,
   "id": "50589a6a-ebc7-4ea4-b914-7a23a6c3653e",
   "metadata": {},
   "outputs": [],
   "source": []
  },
  {
   "cell_type": "markdown",
   "id": "bf3f9058-4b9b-458a-b125-53dfea108cc1",
   "metadata": {
    "tags": []
   },
   "source": [
    "<div class=\"alert alert-block alert-warning\"> <font size=3>\n",
    "Берем только ЖИВЫЕ статусы и УМЕР в РАССМОТРЕНИЕ "
   ]
  },
  {
   "cell_type": "code",
   "execution_count": 14,
   "id": "c9496e83-ed38-4a17-9f4b-b16d8194ed84",
   "metadata": {
    "tags": []
   },
   "outputs": [],
   "source": [
    "df_all_21_24 = df_all_21_24[df_all_21_24['Текущий статус пациента'].isin(['Умер', 'патронаж',     'стационар ЦПП',   'стационар ОПМП'])]"
   ]
  },
  {
   "cell_type": "code",
   "execution_count": 15,
   "id": "2f56f5c5-10e8-4b03-8818-128d103f4602",
   "metadata": {
    "tags": []
   },
   "outputs": [],
   "source": [
    "# ------------------------- ВЫКИНЕМ, если УМЕР, но даты смерти нет \n",
    "df_all_21_24 = df_all_21_24.loc[~((df_all_21_24['Текущий статус пациента'] =='Умер')\n",
    "              & df_all_21_24['Дата_выбытия'].isna())]"
   ]
  },
  {
   "cell_type": "code",
   "execution_count": 16,
   "id": "e390d432-12b8-4155-b23a-97ccf6113c14",
   "metadata": {
    "tags": []
   },
   "outputs": [],
   "source": [
    "# ----------------------------если дата выбытия пустая - ставим сегодня ---------------\n",
    "df_all_21_24.loc[df_all_21_24['Дата_выбытия'].isna(), 'Дата_выбытия'] = today_date"
   ]
  },
  {
   "cell_type": "code",
   "execution_count": 17,
   "id": "7f507845-cd3e-4336-aad5-bd8b209bb244",
   "metadata": {
    "tags": []
   },
   "outputs": [],
   "source": [
    "df_all_21_24['прод_наблюд']  = df_all_21_24['Дата_выбытия']  - df_all_21_24['Дата_первых_сведений']"
   ]
  },
  {
   "cell_type": "markdown",
   "id": "2e10ef40-f984-4a8c-b874-cdb46531627a",
   "metadata": {
    "tags": []
   },
   "source": [
    "<div class=\"alert alert-block alert-warning\"> <font size=3>\n",
    "удалим КРИВЫЕ даты ожидания"
   ]
  },
  {
   "cell_type": "code",
   "execution_count": 18,
   "id": "99a97eda-4742-4b70-b9f1-773361796836",
   "metadata": {
    "tags": []
   },
   "outputs": [],
   "source": [
    "# df_all_21_24.loc[df_all_21_24['прод_наблюд'] < '0 days']"
   ]
  },
  {
   "cell_type": "code",
   "execution_count": 19,
   "id": "f5587ef4-e912-4e70-b656-90b588ab527b",
   "metadata": {
    "tags": []
   },
   "outputs": [],
   "source": [
    "# -------------------------- уберем отрицательные -------------------\n",
    "df_all_21_24 = df_all_21_24.loc[df_all_21_24['прод_наблюд'] >= '0 days']"
   ]
  },
  {
   "cell_type": "code",
   "execution_count": 20,
   "id": "d77dff24-6e47-485f-b0f6-614555bf173c",
   "metadata": {
    "tags": []
   },
   "outputs": [],
   "source": [
    "# df_all_21_24 =  df_all_21_24.loc[df_all_21_24['Текущий статус пациента'] == 'Умер']"
   ]
  },
  {
   "cell_type": "markdown",
   "id": "55769ebc-566e-4228-85c3-dc08f743e2ba",
   "metadata": {
    "tags": []
   },
   "source": [
    "<div class=\"alert alert-block alert-warning\"> <font size=3>\n",
    "Дети - взрос"
   ]
  },
  {
   "cell_type": "code",
   "execution_count": 21,
   "id": "3087a526-528c-40ab-9a9b-c57c21bda1dd",
   "metadata": {
    "tags": []
   },
   "outputs": [],
   "source": [
    "df_all_21_24.loc[df_all_21_24['Дети'].isna(), 'Дети'] = 'взрослые'"
   ]
  },
  {
   "cell_type": "markdown",
   "id": "4dea0972-1731-4839-8990-0ce1315ef87c",
   "metadata": {
    "tags": []
   },
   "source": [
    "<div class=\"alert alert-block alert-warning\"> <font size=3>\n",
    "Бины по дате ожидания"
   ]
  },
  {
   "cell_type": "code",
   "execution_count": 22,
   "id": "be2e59b1-efed-4cd3-9620-30c315ea76d7",
   "metadata": {
    "tags": []
   },
   "outputs": [],
   "source": [
    "df_all_21_24['период_ожид'] = np.nan"
   ]
  },
  {
   "cell_type": "code",
   "execution_count": 23,
   "id": "71121ee0-a09e-409f-9bea-2304857343d3",
   "metadata": {
    "tags": []
   },
   "outputs": [],
   "source": [
    "# ------------------------------------Биннинг данных-----------\n",
    "df_all_21_24['период_ожид'] = pd.cut(\n",
    "    df_all_21_24['прод_наблюд'],\n",
    "    \n",
    "    bins=pd.to_timedelta(['0 days', '30 days', '90 days', '180 days', '365 days', '100000 days']),\n",
    "    labels=['0-1 мес', '1-3 мес', '3-6 мес','6-12 мес','более 12']\n",
    " )"
   ]
  },
  {
   "cell_type": "code",
   "execution_count": 24,
   "id": "9e63bed0-10e6-46ac-8427-d053e13350e2",
   "metadata": {
    "tags": []
   },
   "outputs": [],
   "source": [
    "# df_all_21_24.head()"
   ]
  },
  {
   "cell_type": "markdown",
   "id": "cb3ea91d-0b77-4e00-bbac-c2f33902e7a8",
   "metadata": {
    "tags": []
   },
   "source": [
    "<div class=\"alert alert-block alert-warning\"> <font size=3>\n",
    "год_ухода"
   ]
  },
  {
   "cell_type": "code",
   "execution_count": 25,
   "id": "8284124b-17fd-4a59-ba29-4b87688e126d",
   "metadata": {
    "tags": []
   },
   "outputs": [],
   "source": [
    "# ---------------------------год_ухода-----------------------\n",
    "df_all_21_24['год_ухода'] = np.nan\n",
    "df_all_21_24['год_ухода'] = df_all_21_24['Дата_выбытия'].dt.year"
   ]
  },
  {
   "cell_type": "code",
   "execution_count": 26,
   "id": "643b9692-df5b-47ae-b825-a63ff8076b42",
   "metadata": {
    "tags": []
   },
   "outputs": [],
   "source": [
    "# df_all_21_24[df_all_21_24['Текущий статус пациента'] == 'патронаж']"
   ]
  },
  {
   "cell_type": "markdown",
   "id": "74042d86-42f0-4699-8c26-46ee55ec7e51",
   "metadata": {
    "tags": []
   },
   "source": [
    "<div class=\"alert alert-block alert-success\"> <font size=3>\n",
    "количество пациентов по Длительности НАБЛЮДЕНИЯ"
   ]
  },
  {
   "cell_type": "code",
   "execution_count": 27,
   "id": "e2a5a7f1-b59e-4f01-8df3-ccb95804d0f6",
   "metadata": {
    "tags": []
   },
   "outputs": [],
   "source": [
    "df_all_21_24['год_прихода'] = df_all_21_24['Дата_первых_сведений'].dt.year"
   ]
  },
  {
   "cell_type": "markdown",
   "id": "01f69a07-7b11-4cea-a4e8-61757e25225d",
   "metadata": {
    "tags": []
   },
   "source": [
    "<div class=\"alert alert-block alert-success\"> <font size=3>\n",
    "<b>РАСЧЕТ ПЕРИОДА НАБЛЮДЕНИЯ!!"
   ]
  },
  {
   "cell_type": "code",
   "execution_count": 28,
   "id": "fa187783-c445-407d-be95-4bee9a4646a9",
   "metadata": {
    "tags": []
   },
   "outputs": [],
   "source": [
    "def god_rassm(god):\n",
    "    df_res = df_all_21_24[(df_all_21_24['год_прихода'] <= int(god)) & (df_all_21_24['год_ухода'] >= int(god))]\n",
    "    return df_res"
   ]
  },
  {
   "cell_type": "code",
   "execution_count": 29,
   "id": "cfba5dd2-baed-4d7a-9b8a-6b71dbec5a11",
   "metadata": {
    "tags": []
   },
   "outputs": [],
   "source": [
    "df_21 = god_rassm('2021')\n",
    "df_22 = god_rassm('2022')\n",
    "df_23 = god_rassm('2023')"
   ]
  },
  {
   "cell_type": "code",
   "execution_count": null,
   "id": "2fba3a13-5214-4eba-a166-78be2083fed0",
   "metadata": {},
   "outputs": [],
   "source": []
  },
  {
   "cell_type": "markdown",
   "id": "2c253f33-8f68-4d6f-b305-f5d43935452e",
   "metadata": {
    "tags": []
   },
   "source": [
    "<div class=\"alert alert-block alert-warning\"> <font size=3>\n",
    "количество пациентов по Длительности НАБЛЮДЕНИЯ"
   ]
  },
  {
   "cell_type": "code",
   "execution_count": 30,
   "id": "8ea245be-d6ea-403c-863d-a3ea6c811a88",
   "metadata": {
    "tags": []
   },
   "outputs": [
    {
     "data": {
      "text/html": [
       "<div>\n",
       "<style scoped>\n",
       "    .dataframe tbody tr th:only-of-type {\n",
       "        vertical-align: middle;\n",
       "    }\n",
       "\n",
       "    .dataframe tbody tr th {\n",
       "        vertical-align: top;\n",
       "    }\n",
       "\n",
       "    .dataframe thead th {\n",
       "        text-align: right;\n",
       "    }\n",
       "</style>\n",
       "<table border=\"1\" class=\"dataframe\">\n",
       "  <thead>\n",
       "    <tr style=\"text-align: right;\">\n",
       "      <th></th>\n",
       "      <th>Пациент</th>\n",
       "    </tr>\n",
       "    <tr>\n",
       "      <th>период_ожид</th>\n",
       "      <th></th>\n",
       "    </tr>\n",
       "  </thead>\n",
       "  <tbody>\n",
       "    <tr>\n",
       "      <th>0-1 мес</th>\n",
       "      <td>4527</td>\n",
       "    </tr>\n",
       "    <tr>\n",
       "      <th>1-3 мес</th>\n",
       "      <td>2453</td>\n",
       "    </tr>\n",
       "    <tr>\n",
       "      <th>3-6 мес</th>\n",
       "      <td>1273</td>\n",
       "    </tr>\n",
       "    <tr>\n",
       "      <th>6-12 мес</th>\n",
       "      <td>1038</td>\n",
       "    </tr>\n",
       "    <tr>\n",
       "      <th>более 12</th>\n",
       "      <td>3329</td>\n",
       "    </tr>\n",
       "  </tbody>\n",
       "</table>\n",
       "</div>"
      ],
      "text/plain": [
       "             Пациент\n",
       "период_ожид         \n",
       "0-1 мес         4527\n",
       "1-3 мес         2453\n",
       "3-6 мес         1273\n",
       "6-12 мес        1038\n",
       "более 12        3329"
      ]
     },
     "execution_count": 30,
     "metadata": {},
     "output_type": "execute_result"
    }
   ],
   "source": [
    "# --------------- всего----------------\n",
    "df_21[(df_21['Тип_диагноза'] == 'онкология')].groupby(['период_ожид' ]).agg({'Пациент':'count'})"
   ]
  },
  {
   "cell_type": "code",
   "execution_count": 31,
   "id": "6268e108-5bf5-43d2-b1ba-066dde8e9a72",
   "metadata": {
    "tags": []
   },
   "outputs": [
    {
     "data": {
      "text/html": [
       "<div>\n",
       "<style scoped>\n",
       "    .dataframe tbody tr th:only-of-type {\n",
       "        vertical-align: middle;\n",
       "    }\n",
       "\n",
       "    .dataframe tbody tr th {\n",
       "        vertical-align: top;\n",
       "    }\n",
       "\n",
       "    .dataframe thead th {\n",
       "        text-align: right;\n",
       "    }\n",
       "</style>\n",
       "<table border=\"1\" class=\"dataframe\">\n",
       "  <thead>\n",
       "    <tr style=\"text-align: right;\">\n",
       "      <th></th>\n",
       "      <th>Пациент</th>\n",
       "    </tr>\n",
       "    <tr>\n",
       "      <th>период_ожид</th>\n",
       "      <th></th>\n",
       "    </tr>\n",
       "  </thead>\n",
       "  <tbody>\n",
       "    <tr>\n",
       "      <th>0-1 мес</th>\n",
       "      <td>4718</td>\n",
       "    </tr>\n",
       "    <tr>\n",
       "      <th>1-3 мес</th>\n",
       "      <td>2647</td>\n",
       "    </tr>\n",
       "    <tr>\n",
       "      <th>3-6 мес</th>\n",
       "      <td>1378</td>\n",
       "    </tr>\n",
       "    <tr>\n",
       "      <th>6-12 мес</th>\n",
       "      <td>1072</td>\n",
       "    </tr>\n",
       "    <tr>\n",
       "      <th>более 12</th>\n",
       "      <td>3846</td>\n",
       "    </tr>\n",
       "  </tbody>\n",
       "</table>\n",
       "</div>"
      ],
      "text/plain": [
       "             Пациент\n",
       "период_ожид         \n",
       "0-1 мес         4718\n",
       "1-3 мес         2647\n",
       "3-6 мес         1378\n",
       "6-12 мес        1072\n",
       "более 12        3846"
      ]
     },
     "execution_count": 31,
     "metadata": {},
     "output_type": "execute_result"
    }
   ],
   "source": [
    "# --------------- всего----------------\n",
    "df_22[(df_22['Тип_диагноза'] == 'онкология')].groupby(['период_ожид' ]).agg({'Пациент':'count'})"
   ]
  },
  {
   "cell_type": "code",
   "execution_count": 32,
   "id": "4c8301a1-ca4a-4af0-bbd1-bdd1c48fc695",
   "metadata": {
    "tags": []
   },
   "outputs": [
    {
     "data": {
      "text/html": [
       "<div>\n",
       "<style scoped>\n",
       "    .dataframe tbody tr th:only-of-type {\n",
       "        vertical-align: middle;\n",
       "    }\n",
       "\n",
       "    .dataframe tbody tr th {\n",
       "        vertical-align: top;\n",
       "    }\n",
       "\n",
       "    .dataframe thead th {\n",
       "        text-align: right;\n",
       "    }\n",
       "</style>\n",
       "<table border=\"1\" class=\"dataframe\">\n",
       "  <thead>\n",
       "    <tr style=\"text-align: right;\">\n",
       "      <th></th>\n",
       "      <th>Пациент</th>\n",
       "    </tr>\n",
       "    <tr>\n",
       "      <th>период_ожид</th>\n",
       "      <th></th>\n",
       "    </tr>\n",
       "  </thead>\n",
       "  <tbody>\n",
       "    <tr>\n",
       "      <th>0-1 мес</th>\n",
       "      <td>5053</td>\n",
       "    </tr>\n",
       "    <tr>\n",
       "      <th>1-3 мес</th>\n",
       "      <td>3615</td>\n",
       "    </tr>\n",
       "    <tr>\n",
       "      <th>3-6 мес</th>\n",
       "      <td>2274</td>\n",
       "    </tr>\n",
       "    <tr>\n",
       "      <th>6-12 мес</th>\n",
       "      <td>2101</td>\n",
       "    </tr>\n",
       "    <tr>\n",
       "      <th>более 12</th>\n",
       "      <td>3239</td>\n",
       "    </tr>\n",
       "  </tbody>\n",
       "</table>\n",
       "</div>"
      ],
      "text/plain": [
       "             Пациент\n",
       "период_ожид         \n",
       "0-1 мес         5053\n",
       "1-3 мес         3615\n",
       "3-6 мес         2274\n",
       "6-12 мес        2101\n",
       "более 12        3239"
      ]
     },
     "execution_count": 32,
     "metadata": {},
     "output_type": "execute_result"
    }
   ],
   "source": [
    "# --------------- всего----------------\n",
    "df_23[(df_23['Тип_диагноза'] == 'онкология')].groupby(['период_ожид' ]).agg({'Пациент':'count'})"
   ]
  },
  {
   "cell_type": "markdown",
   "id": "dcfbf737-b6ea-4a5b-99f4-eca0e6802814",
   "metadata": {
    "tags": []
   },
   "source": [
    "<div class=\"alert alert-block alert-warning\"> <font size=3>\n",
    "количество пациентов по Длительности НАБЛЮДЕНИЯ median"
   ]
  },
  {
   "cell_type": "code",
   "execution_count": 50,
   "id": "bd812bae-2c3b-4c24-9a6b-49960989e447",
   "metadata": {
    "tags": []
   },
   "outputs": [
    {
     "name": "stdout",
     "output_type": "stream",
     "text": [
      "df_21_дети_онко=Timedelta('211 days 00:00:00')\n",
      "1257 days 12:00:00\n",
      "62 days 00:00:00\n",
      "446 days 00:00:00\n"
     ]
    }
   ],
   "source": [
    "\n"
   ]
  },
  {
   "cell_type": "code",
   "execution_count": 33,
   "id": "18c769ca-5b13-4933-b8ec-ff5e922eda84",
   "metadata": {
    "tags": []
   },
   "outputs": [
    {
     "data": {
      "text/plain": [
       "Timedelta('211 days 00:00:00')"
      ]
     },
     "execution_count": 33,
     "metadata": {},
     "output_type": "execute_result"
    }
   ],
   "source": [
    "# ----------------------- дети онко-----------------------\n",
    "df_21_дети_онко = df_21[          (df_21['Тип_диагноза'] == 'онкология')                                  &(df_21['Дети'] == 'Дети')]['прод_наблюд'].median()\n",
    "df_21_дети_онко"
   ]
  },
  {
   "cell_type": "code",
   "execution_count": 34,
   "id": "6484fd1a-1458-4b32-90d0-01bc95a611bc",
   "metadata": {
    "tags": []
   },
   "outputs": [
    {
     "data": {
      "text/plain": [
       "Timedelta('1257 days 12:00:00')"
      ]
     },
     "execution_count": 34,
     "metadata": {},
     "output_type": "execute_result"
    }
   ],
   "source": [
    "# ----------------------- дети неонко-----------------------\n",
    "df_21_дети_неонко = df_21[          (df_21['Тип_диагноза'] == 'не_онко')                                   &(df_21['Дети'] == 'Дети')]['прод_наблюд'].median()\n",
    "df_21_дети_неонко"
   ]
  },
  {
   "cell_type": "code",
   "execution_count": 35,
   "id": "1149a800-7da1-4dae-bea0-17d4b5a067ea",
   "metadata": {
    "tags": []
   },
   "outputs": [
    {
     "data": {
      "text/plain": [
       "Timedelta('62 days 00:00:00')"
      ]
     },
     "execution_count": 35,
     "metadata": {},
     "output_type": "execute_result"
    }
   ],
   "source": [
    "# ----------------------- взрос онко-----------------------\n",
    "df_21_взрослые_онко = df_21[          (df_21['Тип_диагноза'] == 'онкология')                                   &(df_21['Дети'] == 'взрослые')]['прод_наблюд'].median()\n",
    "df_21_взрослые_онко"
   ]
  },
  {
   "cell_type": "code",
   "execution_count": 36,
   "id": "d2312026-c9dd-4ec1-adc7-f2e8d220fad3",
   "metadata": {
    "tags": []
   },
   "outputs": [
    {
     "data": {
      "text/plain": [
       "Timedelta('446 days 00:00:00')"
      ]
     },
     "execution_count": 36,
     "metadata": {},
     "output_type": "execute_result"
    }
   ],
   "source": [
    "# ----------------------- взрос неонко-----------------------\n",
    "df_21_взрослые_неонко = df_21[          (df_21['Тип_диагноза'] == 'не_онко')                                   &(df_21['Дети'] == 'взрослые')]['прод_наблюд'].median()\n",
    "df_21_взрослые_неонко"
   ]
  },
  {
   "cell_type": "code",
   "execution_count": 37,
   "id": "7ff8d9a2-c7f2-45ff-828c-92038a7a4e0c",
   "metadata": {},
   "outputs": [],
   "source": [
    "# ------------------------------------------------------------22------------------"
   ]
  },
  {
   "cell_type": "code",
   "execution_count": 38,
   "id": "2522e2e1-f891-40ca-9404-347bff7073ca",
   "metadata": {
    "tags": []
   },
   "outputs": [
    {
     "data": {
      "text/plain": [
       "Timedelta('217 days 00:00:00')"
      ]
     },
     "execution_count": 38,
     "metadata": {},
     "output_type": "execute_result"
    }
   ],
   "source": [
    "# ----------------------- дети онко-----------------------\n",
    "df_22_дети_онко = df_22[          (df_22['Тип_диагноза'] == 'онкология')                                   &(df_22['Дети'] == 'Дети')]['прод_наблюд'].median()\n",
    "df_22_дети_онко"
   ]
  },
  {
   "cell_type": "code",
   "execution_count": 39,
   "id": "e6d82305-c8d5-4ca9-997a-54d97341c808",
   "metadata": {
    "tags": []
   },
   "outputs": [
    {
     "data": {
      "text/plain": [
       "Timedelta('892 days 00:00:00')"
      ]
     },
     "execution_count": 39,
     "metadata": {},
     "output_type": "execute_result"
    }
   ],
   "source": [
    "# ----------------------- дети неонко-----------------------\n",
    "df_22_дети_неонко = df_22[          (df_22['Тип_диагноза'] == 'не_онко')                                   &(df_22['Дети'] == 'Дети')]['прод_наблюд'].median()\n",
    "df_22_дети_неонко"
   ]
  },
  {
   "cell_type": "code",
   "execution_count": 40,
   "id": "6c2e2924-2171-429a-9b04-0696003a8e2e",
   "metadata": {
    "tags": []
   },
   "outputs": [
    {
     "data": {
      "text/plain": [
       "Timedelta('70 days 00:00:00')"
      ]
     },
     "execution_count": 40,
     "metadata": {},
     "output_type": "execute_result"
    }
   ],
   "source": [
    "# ----------------------- взрос онко-----------------------\n",
    "df_22_взрослые_онко = df_22[          (df_22['Тип_диагноза'] == 'онкология')                                   &(df_22['Дети'] == 'взрослые')]['прод_наблюд'].median()\n",
    "df_22_взрослые_онко"
   ]
  },
  {
   "cell_type": "code",
   "execution_count": 41,
   "id": "aa7ffb64-11a4-46d5-8208-c323569887a2",
   "metadata": {
    "tags": []
   },
   "outputs": [
    {
     "data": {
      "text/plain": [
       "Timedelta('417 days 00:00:00')"
      ]
     },
     "execution_count": 41,
     "metadata": {},
     "output_type": "execute_result"
    }
   ],
   "source": [
    "# ----------------------- взрос неонко-----------------------\n",
    "df_22_взрослые_неонко = df_22[          (df_22['Тип_диагноза'] == 'не_онко')\n",
    "                                   &(df_22['Дети'] == 'взрослые')]['прод_наблюд'].median()\n",
    "df_22_взрослые_неонко"
   ]
  },
  {
   "cell_type": "code",
   "execution_count": 37,
   "id": "43310365-e328-4354-a8cc-e7acc234999a",
   "metadata": {},
   "outputs": [],
   "source": [
    "# ------------------------------------------------------------23------------------"
   ]
  },
  {
   "cell_type": "code",
   "execution_count": 43,
   "id": "4cb1928b-2fbd-4077-8c6a-76127725bef9",
   "metadata": {
    "tags": []
   },
   "outputs": [
    {
     "data": {
      "text/plain": [
       "Timedelta('166 days 00:00:00')"
      ]
     },
     "execution_count": 43,
     "metadata": {},
     "output_type": "execute_result"
    }
   ],
   "source": [
    "# ----------------------- дети онко-----------------------\n",
    "df_23_дети_онко = df_23[          (df_23['Тип_диагноза'] == 'онкология')\n",
    "                                   &(df_23['Дети'] == 'Дети')]['прод_наблюд'].median()\n",
    "df_23_дети_онко"
   ]
  },
  {
   "cell_type": "code",
   "execution_count": 44,
   "id": "b0bc1ddd-f6aa-42f7-840a-54d2c057226e",
   "metadata": {
    "tags": []
   },
   "outputs": [
    {
     "data": {
      "text/plain": [
       "Timedelta('728 days 00:00:00')"
      ]
     },
     "execution_count": 44,
     "metadata": {},
     "output_type": "execute_result"
    }
   ],
   "source": [
    "# ----------------------- дети неонко-----------------------\n",
    "df_23_дети_неонко = df_23[          (df_23['Тип_диагноза'] == 'не_онко')\n",
    "                                   &(df_23['Дети'] == 'Дети')]['прод_наблюд'].median()\n",
    "df_23_дети_неонко"
   ]
  },
  {
   "cell_type": "code",
   "execution_count": 46,
   "id": "932ecf65-7ea7-4572-9e58-9a4871385980",
   "metadata": {
    "tags": []
   },
   "outputs": [
    {
     "data": {
      "text/plain": [
       "Timedelta('76 days 00:00:00')"
      ]
     },
     "execution_count": 46,
     "metadata": {},
     "output_type": "execute_result"
    }
   ],
   "source": [
    "# ----------------------- взрос онко-----------------------\n",
    "df_23_взрослые_онко = df_23[          (df_23['Тип_диагноза'] == 'онкология')\n",
    "                                   &(df_23['Дети'] == 'взрослые')]['прод_наблюд'].median()\n",
    "df_23_взрослые_онко"
   ]
  },
  {
   "cell_type": "code",
   "execution_count": 48,
   "id": "77ffb9b1-0547-4581-a23e-766d66307473",
   "metadata": {
    "tags": []
   },
   "outputs": [
    {
     "data": {
      "text/plain": [
       "Timedelta('236 days 00:00:00')"
      ]
     },
     "execution_count": 48,
     "metadata": {},
     "output_type": "execute_result"
    }
   ],
   "source": [
    "# ----------------------- взрос неонко-----------------------\n",
    "df_23_взрослые_неонко = df_23[          (df_23['Тип_диагноза'] == 'не_онко')\n",
    "                                   &(df_23['Дети'] == 'взрослые')]['прод_наблюд'].median()\n",
    "df_23_взрослые_неонко"
   ]
  },
  {
   "cell_type": "code",
   "execution_count": 63,
   "id": "bd90eb37-2490-447c-b4f4-6b98b348c9e8",
   "metadata": {
    "tags": []
   },
   "outputs": [
    {
     "name": "stdout",
     "output_type": "stream",
     "text": [
      "---------2021---\n",
      "str(df_21_дети_онко)='211 days 00:00:00'\n",
      "str(df_21_дети_неонко)='1257 days 12:00:00'\n",
      "str(df_21_взрослые_онко)='62 days 00:00:00'\n",
      "str(df_21_взрослые_неонко)='446 days 00:00:00'\n",
      "--------2022----\n",
      "str(df_22_дети_онко)='217 days 00:00:00'\n",
      "str(df_22_дети_неонко)='892 days 00:00:00'\n",
      "str(df_22_взрослые_онко)='70 days 00:00:00'\n",
      "str(df_22_взрослые_неонко)='417 days 00:00:00'\n",
      "----2023----\n",
      "str(df_23_дети_онко)='166 days 00:00:00'\n",
      "str(df_23_дети_неонко)='728 days 00:00:00'\n",
      "str(df_23_взрослые_онко)='76 days 00:00:00'\n",
      "str(df_23_взрослые_неонко)='236 days 00:00:00'\n"
     ]
    }
   ],
   "source": [
    "print(f'---------2021---')\n",
    "print(f'{str(df_21_дети_онко)=}')\n",
    "print(f'{str(df_21_дети_неонко)=}')\n",
    "print(f'{str(df_21_взрослые_онко)=}')\n",
    "print(f'{str(df_21_взрослые_неонко)=}')\n",
    "print(f'--------2022----')\n",
    "print(f'{str(df_22_дети_онко)=}')\n",
    "print(f'{str(df_22_дети_неонко)=}')\n",
    "print(f'{str(df_22_взрослые_онко)=}')\n",
    "print(f'{str(df_22_взрослые_неонко)=}')\n",
    "print(f'----2023----')\n",
    "print(f'{str(df_23_дети_онко)=}')\n",
    "print(f'{str(df_23_дети_неонко)=}')\n",
    "print(f'{str(df_23_взрослые_онко)=}')\n",
    "print(f'{str(df_23_взрослые_неонко)=}')"
   ]
  },
  {
   "cell_type": "code",
   "execution_count": 49,
   "id": "3ba5619a-ccec-4019-85bd-c7c3d9bc2f28",
   "metadata": {
    "tags": []
   },
   "outputs": [],
   "source": [
    "df_all_21_24.to_excel('df_all_21_24.')"
   ]
  },
  {
   "cell_type": "code",
   "execution_count": null,
   "id": "347dedc0-a98e-42e9-88d4-0821bbac1244",
   "metadata": {},
   "outputs": [],
   "source": []
  },
  {
   "cell_type": "code",
   "execution_count": null,
   "id": "b1e3e0e4-c740-48ae-b5dc-55dbcedf5107",
   "metadata": {},
   "outputs": [],
   "source": []
  },
  {
   "cell_type": "code",
   "execution_count": null,
   "id": "c71310b5-671a-437e-813b-cb0ae4562886",
   "metadata": {},
   "outputs": [],
   "source": []
  },
  {
   "cell_type": "code",
   "execution_count": null,
   "id": "bc2fa3ff-7bb2-41d9-a01f-5482d5f4ac24",
   "metadata": {},
   "outputs": [],
   "source": []
  },
  {
   "cell_type": "markdown",
   "id": "2b197244-b777-45a5-bd29-459472ef6d23",
   "metadata": {
    "tags": []
   },
   "source": [
    "<div class=\"alert alert-block alert-warning\"> <font size=3>\n",
    "все НАБЛЮДЕНИЯ median"
   ]
  },
  {
   "cell_type": "code",
   "execution_count": 42,
   "id": "bfe57d45-0b18-493b-8985-9728445ad7e3",
   "metadata": {
    "tags": []
   },
   "outputs": [
    {
     "name": "stdout",
     "output_type": "stream",
     "text": [
      "df_21_все_онко=Timedelta('62 days 00:00:00')\n",
      "df_22_все_онко=Timedelta('70 days 00:00:00')\n",
      "df_23_все_онко=Timedelta('77 days 00:00:00')\n"
     ]
    }
   ],
   "source": [
    "# -------------------------------- все ---------------\n",
    "# ----------------------- дети онко-----------------------\n",
    "df_21_все_онко = df_21[          (df_21['Тип_диагноза'] == 'онкология')]['прод_наблюд'].median()\n",
    "df_22_все_онко = df_22[          (df_22['Тип_диагноза'] == 'онкология')]['прод_наблюд'].median()\n",
    "df_23_все_онко = df_23[          (df_23['Тип_диагноза'] == 'онкология')]['прод_наблюд'].median()\n",
    "print(f'{df_21_все_онко=}')\n",
    "print(f'{df_22_все_онко=}')\n",
    "print(f'{df_23_все_онко=}')"
   ]
  },
  {
   "cell_type": "code",
   "execution_count": null,
   "id": "f76f7a22-2fe1-4ccc-a176-a4580df65d7a",
   "metadata": {},
   "outputs": [],
   "source": []
  },
  {
   "cell_type": "code",
   "execution_count": null,
   "id": "e3a01452-e40a-46af-9953-6604921a63ce",
   "metadata": {},
   "outputs": [],
   "source": []
  },
  {
   "cell_type": "code",
   "execution_count": null,
   "id": "71329c34-0c6a-4af2-b18c-c4fde90709a9",
   "metadata": {},
   "outputs": [],
   "source": []
  },
  {
   "cell_type": "code",
   "execution_count": null,
   "id": "3c1df1c6-25e7-47a1-9179-4a69efea0af9",
   "metadata": {},
   "outputs": [],
   "source": []
  }
 ],
 "metadata": {
  "kernelspec": {
   "display_name": "Python 3 (ipykernel)",
   "language": "python",
   "name": "python3"
  },
  "language_info": {
   "codemirror_mode": {
    "name": "ipython",
    "version": 3
   },
   "file_extension": ".py",
   "mimetype": "text/x-python",
   "name": "python",
   "nbconvert_exporter": "python",
   "pygments_lexer": "ipython3",
   "version": "3.11.5"
  }
 },
 "nbformat": 4,
 "nbformat_minor": 5
}
