{
 "cells": [
  {
   "cell_type": "code",
   "execution_count": null,
   "id": "546383e0-d9a5-4d7d-b075-9ad092e6bedc",
   "metadata": {},
   "outputs": [],
   "source": [
    "import pandas as pd\n",
    "import numpy as np\n",
    "from IPython.display import display_markdown\n",
    "from datetime import datetime, date\n",
    "import warnings\n",
    "warnings.filterwarnings('ignore')\n"
   ]
  },
  {
   "cell_type": "code",
   "execution_count": null,
   "id": "ea27dc5d-6840-4054-868e-f9ebb2ca4a0e",
   "metadata": {},
   "outputs": [],
   "source": []
  },
  {
   "cell_type": "code",
   "execution_count": null,
   "id": "a73a03c3-8011-495a-873a-36e3d0f2ff11",
   "metadata": {},
   "outputs": [],
   "source": [
    "#  переименуем покороче столбцы\n",
    "df_poluch_vozvtat.rename(columns={'Пациент.ФИО': 'Пациент'}, inplace=True)\n",
    "df_poluch_vozvtat.rename(columns={'Пациент.Дата рождения': 'ДР'}, inplace=True)\n",
    "df_poluch_vozvtat.rename(columns={'Пациент.Пол': 'Пол'}, inplace=True)\n",
    "df_poluch_vozvtat.rename(columns={'Оборудование.Номенклатура': 'Номенклатура'}, inplace=True)\n",
    "df_poluch_vozvtat.rename(columns={'Оборудование.Инвентарный номер': 'Инвент_ном'}, inplace=True)\n",
    "df_poluch_vozvtat.rename(columns={'Дата выдачи': 'Дата_выдачи'}, inplace=True)\n",
    "df_poluch_vozvtat.rename(columns={'Ссылка.Дата': 'Дата_возвр'}, inplace=True)\n",
    "# df_poluch_vozvtat.head(20)"
# df_poluch_vozvtat.head(20)
   ]
  },
  {
   "cell_type": "code",
   "execution_count": null,
   "id": "dcb306bb-cdc9-4824-9668-e0e74fb89816",
   "metadata": {},
   "outputs": [],
   "source": [
    "data_poluchenie = pd.read_csv('выдача_1с_все_pand.csv', delimiter=';', encoding='cp1251')\n",
    "print(data_poluchenie.shape)"
   ]
  },
  {
   "cell_type": "code",
   "execution_count": null,
   "id": "5dc27a86-6d4f-446b-b1c0-2ccf0df33e38",
   "metadata": {},
   "outputs": [],
   "source": [
    "df_o['OrderDate'] = df_o.OrderDate.astype('datetime64')"
   ]
  },
  {
   "cell_type": "code",
   "execution_count": null,
   "id": "9627606b-01c8-4322-8f4f-8e083fdfd3e6",
   "metadata": {},
   "outputs": [],
   "source": [
    "#  ----- Добавим УНИКАЛЬНЫЙ ключ ФИО+ДР - без пробелов ------------\n",
    "df_poluchenie_nomenk['Ключ'] = df_poluchenie_nomenk['Пациент.ФИО'].map(str) + (df_poluchenie_nomenk['Пациент.Дата рождения'].dt.date).map(str) + df_poluchenie_nomenk['Оборудование.Инвентарный номер'].map(str)\n",
    "df_poluchenie_nomenk['Ключ'] = df_poluchenie_nomenk['Ключ'].str.lower()            # ---- все к нижнему регистру\n",
    "df_poluchenie_nomenk['Ключ'] = df_poluchenie_nomenk['Ключ'].str.replace(' ', '')   # ---- пробелы долой \n",
    "# df_poluchenie_nomenk\n",
    "\n"
   ]
  },
  {
   "cell_type": "markdown",
   "id": "ff3616ac-ab7c-488e-93b5-be71c6c8788a",
   "metadata": {},
   "source": [
    "<div class=\"alert alert-block alert-warning\"><font size=3>\n",
    "ТОЛЬКО ПОВТОРНЫВЕ    </div>"
   ]
  },
  {
   "cell_type": "code",
   "execution_count": 108,
   "id": "6ff8936e-33e2-4b44-b800-7d528a1082e7",
   "metadata": {},
   "outputs": [],
   "source": [
    "# df_google_only_poluch[df_google_only_poluch.duplicated('Ключ', keep=False)].sort_values('Ключ')"
   ]
  },
  {
   "cell_type": "code",
   "execution_count": null,
   "id": "c96ec3e9-9862-4725-8eb1-dff97c102c54",
   "metadata": {},
   "outputs": [],
   "source": [
    "# ----------------форматнем дату к дате\n",
    "df_poluchenie_nomenk['Пациент.Дата рождения'] = pd.to_datetime(df_poluchenie_nomenk['Пациент.Дата рождения'], dayfirst=True, errors = 'coerce').dt.normalize()\n",
    "df_poluchenie_nomenk['Дата выдачи'] = pd.to_datetime(df_poluchenie_nomenk['Дата выдачи'], dayfirst=True, errors = 'coerce').dt.normalize()\n",
    "# df_poluchenie_nomenk\n"
   ]
  },
  {
   "cell_type": "code",
   "execution_count": null,
   "id": "606b5f1a-b88c-49a6-a08e-e4362be9cc1d",
   "metadata": {},
   "outputs": [],
   "source": [
    "# ---------------------- функция преобразования к нижнему РЕГИСТРУ\n",
    "def def_low(df):\n",
    "    for i in df.columns:\n",
    "        df[i] =  df[i].str.lower()\n",
    "    return df   "
   ]
  },
  {
   "cell_type": "code",
   "execution_count": null,
   "id": "78fc6b31-2aff-445d-bcf7-461254012111",
   "metadata": {},
   "outputs": [],
   "source": []
  },
  {
   "cell_type": "code",
   "execution_count": null,
   "id": "f6bc3897-2588-4e2c-b929-b84979845402",
   "metadata": {},
   "outputs": [],
   "source": [
    "# -------------AGE -------------\n",
    "def calculate_age(x,y):\n",
    "    age = y.year - x.year - ((y.month, y.day) < (x.month, x.day)) \n",
    "    return age\n",
    "\n",
    "df['age'] = df.apply(\n",
    "               lambda x:  prepend_geek(x['ДР'], x['Дата_выдачи']),axis=1 \n",
    "               )"
   ]
  },
  {
   "cell_type": "code",
   "execution_count": null,
   "id": "e1582a5f-32bd-49a9-97d7-69d72a75ff85",
   "metadata": {},
   "outputs": [],
   "source": [
    "# ------------------------ LAMBDA --------------------------\n",
    "df_unit['Возраст'] = df_unit.apply( lambda x:  calculate_age(x['ДР'], x['Дата_выдачи']),axis=1)\n",
    "df_unit['Дети'] = df_unit['Возраст'].apply(lambda x: 'Дети' if x <= 17 else 'Взрослые')\n",
    "df_unit"
   ]
  },
  {
   "cell_type": "code",
   "execution_count": 1,
   "id": "7ffb9ff3-8db4-48d5-a6f0-4fa3d772b2f4",
   "metadata": {},
   "outputs": [
    {
     "ename": "NameError",
     "evalue": "name 'pd' is not defined",
     "output_type": "error",
     "traceback": [
      "\u001b[1;31m---------------------------------------------------------------------------\u001b[0m",
      "\u001b[1;31mNameError\u001b[0m                                 Traceback (most recent call last)",
      "Input \u001b[1;32mIn [1]\u001b[0m, in \u001b[0;36m<cell line: 2>\u001b[1;34m()\u001b[0m\n\u001b[0;32m      1\u001b[0m \u001b[38;5;66;03m# ------------------------------------Биннинг данных-----------\u001b[39;00m\n\u001b[1;32m----> 2\u001b[0m df_conc[\u001b[38;5;124m'\u001b[39m\u001b[38;5;124mdeti\u001b[39m\u001b[38;5;124m'\u001b[39m] \u001b[38;5;241m=\u001b[39m \u001b[43mpd\u001b[49m\u001b[38;5;241m.\u001b[39mcut(\n\u001b[0;32m      3\u001b[0m     df_conc[\u001b[38;5;124m'\u001b[39m\u001b[38;5;124mВозраст\u001b[39m\u001b[38;5;124m'\u001b[39m],\n\u001b[0;32m      4\u001b[0m     bins\u001b[38;5;241m=\u001b[39m[\u001b[38;5;241m0\u001b[39m, \u001b[38;5;241m17\u001b[39m, \u001b[38;5;241m150\u001b[39m],\n\u001b[0;32m      5\u001b[0m     labels\u001b[38;5;241m=\u001b[39m[\u001b[38;5;124m'\u001b[39m\u001b[38;5;124mДети\u001b[39m\u001b[38;5;124m'\u001b[39m, \u001b[38;5;124m'\u001b[39m\u001b[38;5;124mВзрослые\u001b[39m\u001b[38;5;124m'\u001b[39m]\n\u001b[0;32m      6\u001b[0m  )\n",
      "\u001b[1;31mNameError\u001b[0m: name 'pd' is not defined"
     ]
    }
   ],
   "source": [
    "# ------------------------------------Биннинг данных-----------\n",
    "df_conc['deti'] = pd.cut(\n",
    "    df_conc['Возраст'],\n",
    "    bins=[0, 17, 150],\n",
    "    labels=['Дети', 'Взрослые']\n",
    " )"
   ]
  },
  {
   "cell_type": "code",
   "execution_count": null,
   "id": "2555cfa4-d20a-4b4a-8236-9016de3c49fa",
   "metadata": {},
   "outputs": [],
   "source": []
  }
 ],
 "metadata": {
  "kernelspec": {
   "display_name": "Python 3 (ipykernel)",
   "language": "python",
   "name": "python3"
  },
  "language_info": {
   "codemirror_mode": {
    "name": "ipython",
    "version": 3
   },
   "file_extension": ".py",
   "mimetype": "text/x-python",
   "name": "python",
   "nbconvert_exporter": "python",
   "pygments_lexer": "ipython3",
   "version": "3.9.12"
  }
 },
 "nbformat": 4,
 "nbformat_minor": 5
}
