{
 "cells": [
  {
   "cell_type": "markdown",
   "id": "e3089cec-4574-464c-8dc9-3917bf603689",
   "metadata": {},
   "source": [
    "## ДЛЯ ПОДСЧЕТА выгрузок - 011123"
   ]
  },
  {
   "cell_type": "code",
   "execution_count": 1,
   "id": "fd4d7422-d7aa-4b98-b17d-a382b0e6e3c8",
   "metadata": {},
   "outputs": [],
   "source": [
    "import pandas as pd\n",
    "import numpy as np\n",
    "from IPython.display import display_markdown\n",
    "import warnings\n",
    "warnings.filterwarnings('ignore')"
   ]
  },
  {
   "cell_type": "code",
   "execution_count": 2,
   "id": "c975d71c-9dfa-41b5-af48-ab1c2caa8479",
   "metadata": {},
   "outputs": [],
   "source": [
    "# # -------------AGE -------------\n",
    "# def calculate_age(x,y):\n",
    "#     age = y.year - x.year - ((y.month, y.day) < (x.month, x.day)) \n",
    "#     if age < 0:\n",
    "#         age = 0\n",
    "#     return age"
   ]
  },
  {
   "cell_type": "code",
   "execution_count": 3,
   "id": "4da6ea5d-88bf-4f55-b533-1fe4c4aeb06b",
   "metadata": {},
   "outputs": [],
   "source": [
    "#     ---------- ЗАГРУЗКА и ПРЕДОБРАБОТКА файла 605го ----------------------\n",
    "\n",
    "# # file_name = '1c_605_0111_1400.csv'\n",
    "# file_name = 'выгрузка_из_1с_0111_1800.csv'\n",
    "# df = pd.read_csv(file_name, delimiter=';', encoding='cp1251')"
   ]
  },
  {
   "cell_type": "code",
   "execution_count": 4,
   "id": "0d9588f1-24ad-4343-b4b5-48b268b65bc8",
   "metadata": {},
   "outputs": [],
   "source": [
    "# df_605 = df.copy()\n",
    "# df_605.shape"
   ]
  },
  {
   "cell_type": "code",
   "execution_count": 5,
   "id": "a7060568-bf0f-4fb2-8c65-86b26109250f",
   "metadata": {},
   "outputs": [],
   "source": [
    "# df_605.columns.tolist()"
   ]
  },
  {
   "cell_type": "code",
   "execution_count": 6,
   "id": "34d4c59d-b54a-47b2-9c00-cd8acae15564",
   "metadata": {},
   "outputs": [],
   "source": [
    "# # уберем лишние колонки\n",
    "# df_605 = df.copy()\n",
    "# df_605 = df_605[[\n",
    "#     'Дата постановки на учет/включения пациента в реестр',\n",
    "#  'Пациент',\n",
    "#  'Пол',\n",
    "#  'Дата рождения',\n",
    "#  'Гражданский статус',\n",
    "#  # 'Адрес',\n",
    "#  'Адрес фактический',\n",
    "#  'Документ удостоверяющий личность',\n",
    "#  'Серия/№',\n",
    "#  # 'Кем выдан',\n",
    "#  # 'Свидетельство о регистрации по месту жительства(до 14 лет)',\n",
    "#  'СНИЛС',\n",
    "#  'Полис ОМС',\n",
    "#  # 'Наличие инвалидности',\n",
    "#  'Основной диагноз по МКБ-10',\n",
    "#  # 'Основное контактное лицо',\n",
    "#  'Дата признания пациента нуждающимся в ПМП (ВК)',\n",
    "#  'Тип документа о признании паллиативным',\n",
    "#  'Медицинская организация, в которой признали пациента нуждающимся в ПМП',\n",
    "#  'Наличие разрешения ДЗМ на оказание помощи',\n",
    "#  'Дата разрешения ДЗМ',\n",
    "#  'Номер разрешения ДЗМ',\n",
    "#  'Текущий статус пациента',\n",
    "#  'Дата прекращения оказания ПМП',\n",
    "#  'Основания прекращения оказания пациенту ПМП',\n",
    "#  'Курирующее подразделение/филиал',\n",
    "#  # 'Наблюдение в РЦ',\n",
    "#  'БК',\n",
    "#  # 'Основной диагноз на момент обращения',\n",
    "#  # 'Комментарий',\n",
    "#  # 'Участник СВО',\n",
    "#  'Канал поступления информации',\n",
    "#  'Кто направил',\n",
    "#  'Дата получения ИДС на передачу данных',\n",
    "#  '№ амбулаторной карты'\n",
    "#                      ]]\n",
    "\n",
    "# #  переименуем покороче столбцы\n",
    "# df_605.rename(columns={'Дата постановки на учет/включения пациента в реестр': 'Дата_постанов'}, inplace=True)\n",
    "# df_605.rename(columns={'Дата рождения': 'ДР'}, inplace=True)\n",
    "# df_605.rename(columns={'Дата признания пациента нуждающимся в ПМП (ВК)': 'Дата_признания'}, inplace=True)\n",
    "# df_605.rename(columns={'Дата прекращения оказания ПМП': 'Дата_прекр'}, inplace=True)\n",
    "# df_605.rename(columns={'Курирующее подразделение/филиал': 'Филиал'}, inplace=True)\n",
    "# df_605.rename(columns={'Основной диагноз по МКБ-10': 'Диагноз'}, inplace=True)\n",
    "# df_605.rename(columns={'Гражданский статус': 'Иногород'}, inplace=True)\n",
    "# df_concat = pd.concat([df_605])"
   ]
  },
  {
   "cell_type": "code",
   "execution_count": 7,
   "id": "79d8a678-53fe-446e-a716-1c200e818f45",
   "metadata": {},
   "outputs": [],
   "source": [
    "# # ----------------форматнем дату к дате\n",
    "# df_concat['ДР'] = pd.to_datetime(df_concat['ДР'], dayfirst=True, errors = 'coerce').dt.normalize()\n",
    "# df_concat['Дата_постанов'] = pd.to_datetime(df_concat['Дата_постанов'], dayfirst=True, errors = 'coerce').dt.normalize()\n",
    "# df_concat['Дата_признания'] = pd.to_datetime(df_concat['Дата_признания'], dayfirst=True, errors = 'coerce').dt.normalize()\n",
    "# df_concat['Дата_прекр'] = pd.to_datetime(df_concat['Дата_прекр'], dayfirst=True, errors = 'coerce').dt.normalize()"
   ]
  },
  {
   "cell_type": "code",
   "execution_count": 8,
   "id": "921dd2d3-33e6-430e-9bb1-24b2d20dae5e",
   "metadata": {},
   "outputs": [],
   "source": [
    "# df_concat['Филиал'].unique()"
   ]
  },
  {
   "cell_type": "code",
   "execution_count": 9,
   "id": "3874081f-54b4-4a6e-80ad-39571736ed76",
   "metadata": {},
   "outputs": [],
   "source": [
    "\n",
    "\n",
    "# # Уберем записи со СТАТУСОМ  'Умер без п/о', 'Новый пациент', 'Вне реестра', 'Врач КЦ' --------------- БК\n",
    "# # - удаляем строки. в которых текущий статус не заполнен =  nan\n",
    "\n",
    "\n",
    "# df_concat = df_concat.loc[(~df_concat['Текущий статус пациента'].isin(['Новый пациент', 'Умер без п/о', 'Вне реестра', 'Врач КЦ']))]   # -----------------записи со СТАТУСОМ  'Умер без п/о', 'Новый пациент', 'Вне реестра', 'Врач КЦ'----------------\n",
    "# # df_concat = df_concat.loc[(~df_concat['Текущий статус пациента'].isna())]  # - удаляем строки. в которых текущий статус не заполнен =  nan\n",
    "# df_concat = df_concat.loc[(df_concat['БК'] == 'Нет')]  # - удаляем строки. в которых текущий статус не заполнен =  nan\n",
    "# df_concat = df_concat.loc[(~df_concat['Филиал'].isin(['ГБУЗ Московский многопрофильный центр паллиативной','Координационный центр','БМЧУ \"Детский хоспис\"']) )]  # - удаляем строки. в которых текущий статус не заполнен =  nan\n",
    "\n",
    "\n",
    "\n",
    "\n"
   ]
  },
  {
   "cell_type": "code",
   "execution_count": null,
   "id": "dfe407b6-4e93-4a67-92c1-f7199ea85222",
   "metadata": {},
   "outputs": [],
   "source": []
  },
  {
   "cell_type": "code",
   "execution_count": null,
   "id": "bf9ea30c-a0c7-4845-af2c-697dbae5c24a",
   "metadata": {},
   "outputs": [],
   "source": []
  },
  {
   "cell_type": "markdown",
   "id": "319f73e4-fdb6-4e9a-8535-2244b29ae7de",
   "metadata": {},
   "source": [
    "<div class=\"alert alert-block alert-danger\">\n",
    "<!-- <div class=\"alert alert-block alert-info\"> <div class=\"alert alert-block alert-warning\"> <div class=\"alert alert-block alert-success\"> <div class=\"alert alert-block alert-danger\">      --> \n",
    "    <font size=3>\n",
    "<b>функция<br>\n",
    "</b>            </div>"
   ]
  },
  {
   "cell_type": "code",
   "execution_count": 21,
   "id": "52b95a3d-347b-4d92-8de4-a0cab1e4c594",
   "metadata": {},
   "outputs": [],
   "source": [
    "#     ---------- ЗАГРУЗКА и ПРЕДОБРАБОТКА файла 605го ----------------------\n",
    "\n",
    "\n",
    "def def_zagruz(file):\n",
    "    # file_name = '1c_605_0111_1400.csv'\n",
    "    file_name = file\n",
    "    # file_name = 'выгрузка_из_1с_0111_1800.csv'\n",
    "    df = pd.read_csv(file_name, delimiter=';', encoding='cp1251')\n",
    "\n",
    "    df_605 = df.copy()\n",
    "    df_605.shape\n",
    "\n",
    "    # уберем лишние колонки\n",
    "    df_605 = df.copy()\n",
    "    df_605 = df_605[[\n",
    "        'Дата постановки на учет/включения пациента в реестр',\n",
    "     'Пациент',\n",
    "     'Пол',\n",
    "     'Дата рождения',\n",
    "     'Гражданский статус',\n",
    "     'Адрес',\n",
    "     # 'Адрес фактический',\n",
    "     'Документ удостоверяющий личность',\n",
    "     'Серия/№',\n",
    "     # 'Кем выдан',\n",
    "     # 'Свидетельство о регистрации по месту жительства(до 14 лет)',\n",
    "     'СНИЛС',\n",
    "     'Полис ОМС',\n",
    "     # 'Наличие инвалидности',\n",
    "     'Основной диагноз по МКБ-10',\n",
    "     # 'Основное контактное лицо',\n",
    "     'Дата признания пациента нуждающимся в ПМП (ВК)',\n",
    "     'Тип документа о признании паллиативным',\n",
    "     'Медицинская организация, в которой признали пациента нуждающимся в ПМП',\n",
    "     'Наличие разрешения ДЗМ на оказание помощи',\n",
    "     'Дата разрешения ДЗМ',\n",
    "     'Номер разрешения ДЗМ',\n",
    "     'Текущий статус пациента',\n",
    "     'Дата прекращения оказания ПМП',\n",
    "     'Основания прекращения оказания пациенту ПМП',\n",
    "     'Курирующее подразделение/филиал',\n",
    "     # 'Наблюдение в РЦ',\n",
    "     'БК',\n",
    "     # 'Основной диагноз на момент обращения',\n",
    "     # 'Комментарий',\n",
    "     # 'Участник СВО',\n",
    "     'Канал поступления информации',\n",
    "     'Кто направил',\n",
    "     'Дата получения ИДС на передачу данных',\n",
    "     '№ амбулаторной карты'\n",
    "                         ]]\n",
    "\n",
    "    #  переименуем покороче столбцы\n",
    "    df_605.rename(columns={'Дата постановки на учет/включения пациента в реестр': 'Дата_постанов'}, inplace=True)\n",
    "    df_605.rename(columns={'Дата рождения': 'ДР'}, inplace=True)\n",
    "    df_605.rename(columns={'Дата признания пациента нуждающимся в ПМП (ВК)': 'Дата_признания'}, inplace=True)\n",
    "    df_605.rename(columns={'Дата прекращения оказания ПМП': 'Дата_прекр'}, inplace=True)\n",
    "    df_605.rename(columns={'Курирующее подразделение/филиал': 'Филиал'}, inplace=True)\n",
    "    df_605.rename(columns={'Основной диагноз по МКБ-10': 'Диагноз'}, inplace=True)\n",
    "    df_605.rename(columns={'Гражданский статус': 'Иногород'}, inplace=True)\n",
    "    df_concat = pd.concat([df_605])\n",
    "    # ----------------форматнем дату к дате\n",
    "    df_concat['ДР'] = pd.to_datetime(df_concat['ДР'], dayfirst=True, errors = 'coerce').dt.normalize()\n",
    "    df_concat['Дата_постанов'] = pd.to_datetime(df_concat['Дата_постанов'], dayfirst=True, errors = 'coerce').dt.normalize()\n",
    "    df_concat['Дата_признания'] = pd.to_datetime(df_concat['Дата_признания'], dayfirst=True, errors = 'coerce').dt.normalize()\n",
    "    df_concat['Дата_прекр'] = pd.to_datetime(df_concat['Дата_прекр'], dayfirst=True, errors = 'coerce').dt.normalize()\n",
    "\n",
    "    # Уберем записи со СТАТУСОМ  'Умер без п/о', 'Новый пациент', 'Вне реестра', 'Врач КЦ' --------------- БК\n",
    "    # - удаляем строки. в которых текущий статус не заполнен =  nan\n",
    "\n",
    "\n",
    "    df_concat = df_concat.loc[(~df_concat['Текущий статус пациента'].isin(['Новый пациент', 'Умер без п/о', 'Вне реестра', 'Врач КЦ']))]   # -----------------записи со СТАТУСОМ  'Умер без п/о', 'Новый пациент', 'Вне реестра', 'Врач КЦ'----------------\n",
    "    # df_concat = df_concat.loc[(~df_concat['Текущий статус пациента'].isna())]  # - удаляем строки. в которых текущий статус не заполнен =  nan\n",
    "    df_concat = df_concat.loc[(df_concat['БК'] == 'Нет')]  # - удаляем строки. в которых текущий статус не заполнен =  nan\n",
    "    df_concat = df_concat.loc[(~df_concat['Филиал'].isin(['ГБУЗ Московский многопрофильный центр паллиативной','Координационный центр','БМЧУ \"Детский хоспис\"']) )]  # - удаляем строки. в которых текущий статус не заполнен =  nan\n",
    "\n",
    "\n",
    "    \n",
    "    # -------- расчет разницы \n",
    "    df_concat['diff_days'] =(df_concat['Дата_прекр'] - df_concat['Дата_постанов']) / np.timedelta64 ( 1 , 'D')\n",
    "\n",
    "    \n",
    "    df_concat['Тип_диагноза'] = np.nan\n",
    "\n",
    "    return df_concat"
   ]
  },
  {
   "cell_type": "code",
   "execution_count": 20,
   "id": "574570ad-4b12-4146-8f12-221bff868c1f",
   "metadata": {},
   "outputs": [],
   "source": [
    "def translete_diagnoz_startswith(df, list_diagn, new_type_diagnog):\n",
    "    for list_diagn_ in list_diagn:\n",
    "        df['Диагноз'] = df['Диагноз'].str.lower()\n",
    "        df.loc[  \n",
    "               # (df['Тип_диагноза'].isna())\n",
    "            (~df['Диагноз'].isna())\n",
    "                 & \n",
    "            (df['Диагноз'].str.startswith(list_diagn_)), 'Тип_диагноза' ] = new_type_diagnog"
   ]
  },
  {
   "cell_type": "code",
   "execution_count": null,
   "id": "23408e2c-a130-4baa-91dd-d816a3d05507",
   "metadata": {},
   "outputs": [],
   "source": []
  },
  {
   "cell_type": "markdown",
   "id": "cdf62f67-2d48-40d4-a358-02cbe84e7283",
   "metadata": {},
   "source": [
    "<div class=\"alert alert-block alert-success\">\n",
    "<!-- <div class=\"alert alert-block alert-info\"> <div class=\"alert alert-block alert-warning\"> <div class=\"alert alert-block alert-success\"> <div class=\"alert alert-block alert-danger\">      --> \n",
    "    <font size=3>\n",
    "<b>Считаем ДИАГНОЗЫ<br>\n",
    "</b>            </div>"
   ]
  },
  {
   "cell_type": "code",
   "execution_count": null,
   "id": "fa0d5674-5093-4256-a0d2-5e7b83de60cf",
   "metadata": {},
   "outputs": [],
   "source": []
  },
  {
   "cell_type": "code",
   "execution_count": null,
   "id": "127df5bd-ff7f-48d2-ae25-76ab7ab0e07f",
   "metadata": {},
   "outputs": [],
   "source": [
    "def translete_diagnoz_startswith(df, list_diagn, new_type_diagnog):\n",
    "    for list_diagn_ in list_diagn:\n",
    "        df['Диагноз'] = df['Диагноз'].str.lower()\n",
    "        df.loc[  \n",
    "               # (df['Тип_диагноза'].isna())\n",
    "            (~df['Диагноз'].isna())\n",
    "                 & \n",
    "            (df['Диагноз'].str.startswith(list_diagn_)), 'Тип_диагноза' ] = new_type_diagnog"
   ]
  },
  {
   "cell_type": "code",
   "execution_count": null,
   "id": "c393d6f3-dc9a-4fb1-9ac0-466a8ca3f924",
   "metadata": {},
   "outputs": [],
   "source": [
    "list_startswith_onko = [    'c',    '(c',    'с', '(d', 'd',\n",
    "                       'злокачественная меланома туловища',\n",
    "                        'злокачественное новообразование селезеночного изгиба', \n",
    "                       'доброкачественное новообразование поджелудочной железы',\n",
    "                       'глиобластома головного мозга', \n",
    "                       ]\n",
    "list_startswith_vich = [    'в20' , 'b20', 'вич', ]\n",
    "list_startswith_infection = [  'b',  ]\n",
    " \n",
    "list_startswith_teraphiya = [  'd5', 'd6', 'd7', 'd8',\n",
    "                                'd 5', 'd 6', 'd 7', 'd 8' ,\n",
    "                                'e', '(e', 'е0',\n",
    "                                 'h', '(h',\n",
    "                                  'i', '(i',\n",
    "                                  'j', '(j',\n",
    "                                  'k', '(k', 'к',\n",
    "                                  'l', '(l',\n",
    "                                  'm', \n",
    "                                  'n',\n",
    "                                  'm',     '(m',   '(м','м'                   \n",
    "                                 's',      \n",
    "                             'другие уточненные поражения сосудов мозга',\n",
    "       'ревматоидный артрит', \n",
    "       ' алкогольный цирроз печени', \n",
    "                             'атеросклеротическая болезнь сердца',\n",
    "                             'цвб хигм',\n",
    "       # 'диагнозтест', \n",
    "                             'ушиб головного мозга',\n",
    "       \n",
    "                             'вич-инфекция',\n",
    "       'хроническая обструктивн'\n",
    "                                                   ]\n",
    "                             \n",
    "list_startswith_psih = [  'f','(f',]\n",
    "list_startswith_nevrol = [  'g', '(g',]              \n",
    "list_startswith_vrojden = [  'q', '(q',]    \n",
    "list_startswith_proch = [  \n",
    "                         '(a',\n",
    "                        'r', \n",
    "                         's','(s', \n",
    "                         'u', '(u',\n",
    "                         'v',\n",
    "                         'z',\n",
    "                         '(r',\n",
    "                         '(p', 'p',\n",
    "                         't', 'y', 'т']         "
   ]
  },
  {
   "cell_type": "markdown",
   "id": "2c2baf7c-658c-4e29-8e22-cc23f9d7dd7f",
   "metadata": {},
   "source": [
    "<div class=\"alert alert-block alert-success\">\n",
    "<!-- <div class=\"alert alert-block alert-info\"> <div class=\"alert alert-block alert-warning\"> <div class=\"alert alert-block alert-success\"> <div class=\"alert alert-block alert-danger\">      --> \n",
    "    <font size=3>\n",
    "<b>Разница 0 - 3<br>\n",
    "</b>            </div>"
   ]
  },
  {
   "cell_type": "code",
   "execution_count": null,
   "id": "c061de29-bf22-422b-bbd5-fe4d1d944e98",
   "metadata": {},
   "outputs": [],
   "source": [
    "# -------- расчет разницы \n",
    "df_concat['diff_days'] =(df_concat['Дата_прекр'] - df_concat['Дата_постанов']) / np.timedelta64 ( 1 , 'D')\n",
    "# df_concat.head(2)"
   ]
  },
  {
   "cell_type": "code",
   "execution_count": null,
   "id": "dbe1ae3a-586b-4c17-93d3-63a057f48c8e",
   "metadata": {},
   "outputs": [],
   "source": [
    "# df_concat.loc[ (df_concat['diff_days'] >= 0) & (3 >= df_concat['diff_days']) ]"
   ]
  },
  {
   "cell_type": "code",
   "execution_count": null,
   "id": "92f5f0e5-2a69-43cd-bc41-886f1e96dcd8",
   "metadata": {},
   "outputs": [],
   "source": [
    "# df_concat.loc[ \n",
    "#        (df_concat['diff_days'] >= 0) \n",
    "#     &  (df_concat['diff_days'] <= 3) \n",
    "#      & (df_concat['Тип_диагноза'] == 'онко')\n",
    "#              ]"
   ]
  },
  {
   "cell_type": "code",
   "execution_count": null,
   "id": "ecd41367-cbc8-4d40-b780-2d6bee3af4cc",
   "metadata": {},
   "outputs": [],
   "source": [
    "# df_concat.loc[ \n",
    "#        (df_concat['diff_days'] >= 0) \n",
    "#     &  (df_concat['diff_days'] <= 3) \n",
    "#      & (df_concat['Тип_диагноза'] == 'онко')\n",
    "#     & (df_concat['Дата_постанов'] >= '2023-01-01')\n",
    "#              ]"
   ]
  },
  {
   "cell_type": "code",
   "execution_count": 22,
   "id": "5914795d-74e6-40cb-814c-1ed29f9001d6",
   "metadata": {},
   "outputs": [
    {
     "data": {
      "text/plain": [
       "(97882, 28)"
      ]
     },
     "execution_count": 22,
     "metadata": {},
     "output_type": "execute_result"
    }
   ],
   "source": [
    "# def_zagruz('выгрузка_из_1с_0111_1800.csv').shape"
   ]
  },
  {
   "cell_type": "markdown",
   "id": "d297562b-c331-4a2b-aafa-de85d31a1070",
   "metadata": {},
   "source": [
    "<div class=\"alert alert-block alert-success\">\n",
    "<!-- <div class=\"alert alert-block alert-info\"> <div class=\"alert alert-block alert-warning\"> <div class=\"alert alert-block alert-success\"> <div class=\"alert alert-block alert-danger\">      --> \n",
    "    <font size=3>\n",
    "<b>Описание признаков словосочетаний списков ДИАГНОЗОВ<br>\n",
    "</b>            </div>"
   ]
  },
  {
   "cell_type": "code",
   "execution_count": 18,
   "id": "b11d54d8-9786-4313-be0a-56d998ffcce6",
   "metadata": {},
   "outputs": [],
   "source": [
    "list_startswith_onko = [    'c',    '(c',    'с', '(d', 'd',\n",
    "                       'злокачественная меланома туловища',\n",
    "                        'злокачественное новообразование селезеночного изгиба', \n",
    "                       'доброкачественное новообразование поджелудочной железы',\n",
    "                       'глиобластома головного мозга', \n",
    "                       ]\n",
    "list_startswith_vich = [    'в20' , 'b20', 'вич', ]\n",
    "list_startswith_infection = [  'b',  ]\n",
    " \n",
    "list_startswith_teraphiya = [  'd5', 'd6', 'd7', 'd8',\n",
    "                                'd 5', 'd 6', 'd 7', 'd 8' ,\n",
    "                                'e', '(e', 'е0',\n",
    "                                 'h', '(h',\n",
    "                                  'i', '(i',\n",
    "                                  'j', '(j',\n",
    "                                  'k', '(k', 'к',\n",
    "                                  'l', '(l',\n",
    "                                  'm', \n",
    "                                  'n',\n",
    "                                  'm',     '(m',   '(м','м'                   \n",
    "                                 's',      \n",
    "                             'другие уточненные поражения сосудов мозга',\n",
    "       'ревматоидный артрит', \n",
    "       ' алкогольный цирроз печени', \n",
    "                             'атеросклеротическая болезнь сердца',\n",
    "                             'цвб хигм',\n",
    "       # 'диагнозтест', \n",
    "                             'ушиб головного мозга',\n",
    "       \n",
    "                             'вич-инфекция',\n",
    "       'хроническая обструктивн'\n",
    "                                                   ]\n",
    "                             \n",
    "list_startswith_psih = [  'f','(f',]\n",
    "list_startswith_nevrol = [  'g', '(g',]              \n",
    "list_startswith_vrojden = [  'q', '(q',]    \n",
    "list_startswith_proch = [  \n",
    "                         '(a',\n",
    "                        'r', \n",
    "                         's','(s', \n",
    "                         'u', '(u',\n",
    "                         'v',\n",
    "                         'z',\n",
    "                         '(r',\n",
    "                         '(p', 'p',\n",
    "                         't', 'y', 'т']         "
   ]
  },
  {
   "cell_type": "code",
   "execution_count": 128,
   "id": "6da5894e-3692-4a78-a607-8a276c4a8554",
   "metadata": {},
   "outputs": [],
   "source": [
    "# df_result.columns.tolist()"
   ]
  },
  {
   "cell_type": "markdown",
   "id": "10befc23-0570-46a3-9afc-2040bd63dafb",
   "metadata": {},
   "source": [
    "<div class=\"alert alert-block alert-success\">\n",
    "<!-- <div class=\"alert alert-block alert-info\"> <div class=\"alert alert-block alert-warning\"> <div class=\"alert alert-block alert-success\"> <div class=\"alert alert-block alert-danger\">      --> \n",
    "    <font size=5>\n",
    "<b> РЕЗУЛЬТАТ<br>\n",
    "</b>            </div>"
   ]
  },
  {
   "cell_type": "code",
   "execution_count": 37,
   "id": "c3fc4983-f73b-4f79-b2d3-839e7fb1567b",
   "metadata": {},
   "outputs": [],
   "source": [
    "file_name = 'выгрузка_из_1с_0111_1800.csv'\n",
    "\n",
    "df_result = def_zagruz(file_name)\n",
    "\n",
    "# --------------- диагн ---------\n",
    "df_result['Тип_диагноза'] = np.nan\n",
    "\n",
    "# ------------- применим функции\n",
    "translete_diagnoz_startswith(df_result, list_startswith_onko, 'онко')\n",
    "translete_diagnoz_startswith(df_result, list_startswith_vich, 'vich')\n",
    "translete_diagnoz_startswith(df_result, list_startswith_infection, 'infek')\n",
    "translete_diagnoz_startswith(df_result, list_startswith_teraphiya, 'teraph')\n",
    "translete_diagnoz_startswith(df_result, list_startswith_psih, 'psih')\n",
    "translete_diagnoz_startswith(df_result, list_startswith_nevrol, 'nevrol')\n",
    "translete_diagnoz_startswith(df_result, list_startswith_vrojden, 'vrojden')\n",
    "translete_diagnoz_startswith(df_result, list_startswith_proch, 'proch')\n",
    "# -----------------------------------------\n",
    "df_result.loc[df_result['Тип_диагноза'].isna(), 'Тип_диагноза'] = 'not'\n",
    "\n",
    "# df_result"
   ]
  },
  {
   "cell_type": "markdown",
   "id": "230a91f1-7e1f-45cb-b7fc-439aa870886b",
   "metadata": {},
   "source": [
    "<div class=\"alert alert-block alert-success\">\n",
    "<!-- <div class=\"alert alert-block alert-info\"> <div class=\"alert alert-block alert-warning\"> <div class=\"alert alert-block alert-success\"> <div class=\"alert alert-block alert-danger\">      --> \n",
    "    <font size=3>\n",
    "<b> применим функции для диагнозов<br>\n",
    "</b>            </div>"
   ]
  },
  {
   "cell_type": "markdown",
   "id": "3e621503-7fbf-432f-b407-5161d49ab6d7",
   "metadata": {},
   "source": [
    "<div class=\"alert alert-block alert-success\">\n",
    "<!-- <div class=\"alert alert-block alert-info\"> <div class=\"alert alert-block alert-warning\"> <div class=\"alert alert-block alert-success\"> <div class=\"alert alert-block alert-danger\">      --> \n",
    "    <font size=1>\n",
    "<b> Диагноззы <br>\n",
    "</b>            </div>"
   ]
  },
  {
   "cell_type": "code",
   "execution_count": 202,
   "id": "69e5d967-5395-46fb-8efb-b82582f22c51",
   "metadata": {},
   "outputs": [],
   "source": [
    "# ---------------------------------------------- диагноз - ПУСТО\n",
    "diag_pusto = df_result.loc[df_result['Тип_диагноза'] == 'not']\n",
    "# ---------------------------------------------- диагноз - ПУСТО на патронаже -----\n",
    "diag_pusto_patron = df_result.loc[(df_result['Тип_диагноза'] == 'not') & (df_result['Текущий статус пациента'] == 'Патронаж')]\n",
    "# ---------------------------------------------- диагноз - неконкрет\n",
    "diag_diapaz = df_result.loc[             (df_result['Диагноз'].str.len() < 10)                           ]"
   ]
  },
  {
   "cell_type": "markdown",
   "id": "2577e21d-9c88-46aa-b280-250af293e0a6",
   "metadata": {},
   "source": [
    "<div class=\"alert alert-block alert-success\">\n",
    "<!-- <div class=\"alert alert-block alert-info\"> <div class=\"alert alert-block alert-warning\"> <div class=\"alert alert-block alert-success\"> <div class=\"alert alert-block alert-danger\">      --> \n",
    "    <font size=1>\n",
    "<b> 0 - 3 <br>\n",
    "</b>            </div>"
   ]
  },
  {
   "cell_type": "code",
   "execution_count": 41,
   "id": "c2c70312-14d1-44c0-b1e1-26914a2a9681",
   "metadata": {},
   "outputs": [],
   "source": [
    "# #------------------------------ --------------------- 0 - 3 -------------\n",
    "# df_result.loc[ \n",
    "#        (df_result['diff_days'] >= 0) \n",
    "#     &  (df_result['diff_days'] <= 3) \n",
    "#      & (df_result['Тип_диагноза'] == 'онко')\n",
    "#     & (df_result['Дата_постанов'] >= '2023-01-01')\n",
    "# ]"
   ]
  },
  {
   "cell_type": "code",
   "execution_count": 42,
   "id": "138dfb32-2804-4445-ac73-730040c8055d",
   "metadata": {},
   "outputs": [],
   "source": [
    "# #------------------------------ --------------------- 0 - 3 -------------\n",
    "# df_result.loc[ \n",
    "#        (df_result['diff_days'] >= 0) \n",
    "#     &  (df_result['diff_days'] <= 3) \n",
    "#      & (df_result['Тип_диагноза'] == 'онко')\n",
    "#     & (df_result['Дата_постанов'] >= '2023-01-01')\n",
    "#     & (df_result['Текущий статус пациента'] == 'Прекращено оказание ПМП')\n",
    "#              ]"
   ]
  },
  {
   "cell_type": "markdown",
   "id": "6ae3e70d-0c99-4ed3-8877-1d9b88081575",
   "metadata": {},
   "source": [
    "<div class=\"alert alert-block alert-success\">\n",
    "<!-- <div class=\"alert alert-block alert-info\"> <div class=\"alert alert-block alert-warning\"> <div class=\"alert alert-block alert-success\"> <div class=\"alert alert-block alert-danger\">      --> \n",
    "    <font size=1>\n",
    "<b> Адреса <br>\n",
    "</b>            </div>"
   ]
  },
  {
   "cell_type": "code",
   "execution_count": 44,
   "id": "5c66973a-18d7-4b87-be82-5f0a966177ab",
   "metadata": {},
   "outputs": [],
   "source": [
    "# ---------------------------------------------- адрес - пустой\n",
    "adres_pusto = df_result.loc[df_result['Адрес'].isna()]"
   ]
  },
  {
   "cell_type": "markdown",
   "id": "a738823c-cb5f-4dc2-8c74-a57ba045270d",
   "metadata": {},
   "source": [
    "<div class=\"alert alert-block alert-success\">\n",
    "<!-- <div class=\"alert alert-block alert-info\"> <div class=\"alert alert-block alert-warning\"> <div class=\"alert alert-block alert-success\"> <div class=\"alert alert-block alert-danger\">      --> \n",
    "    <font size=1>\n",
    "<b> Иногород <br>\n",
    "</b>            </div>"
   ]
  },
  {
   "cell_type": "code",
   "execution_count": 46,
   "id": "8f703376-d251-41ad-be2f-e103a9f040a7",
   "metadata": {},
   "outputs": [],
   "source": [
    "# ---------------------------------------------- Иногород статус - пустой\n",
    "inogorod_pusto = df_result.loc[\n",
    "    # (df_result['Иногород'] != 'Москвич')\n",
    "   (df_result['Иногород'].isna())\n",
    "]"
   ]
  },
  {
   "cell_type": "code",
   "execution_count": 49,
   "id": "c7feaded-cd9e-4585-867a-160f01975f16",
   "metadata": {},
   "outputs": [],
   "source": [
    "# ---------------------------------------------- Иногород статус - немоскв заполненнеы --- \n",
    "inogorod_vse = df_result.loc[\n",
    "    (df_result['Иногород'] != 'Москвич')\n",
    "   & (~df_result['Иногород'].isna())\n",
    "]\n",
    "# inogorod_vse"
   ]
  },
  {
   "cell_type": "code",
   "execution_count": 54,
   "id": "072fa010-c01c-4c25-b6ed-c79dc84d4ded",
   "metadata": {},
   "outputs": [],
   "source": [
    "# ---------------------------------------------- Иногород статус - пустой  разреш\n",
    "inogorod_s_razresh = df_result.loc[\n",
    "    (df_result['Иногород'] != 'Москвич')\n",
    "   & (~df_result['Иногород'].isna())\n",
    "   & (\n",
    "   (df_result['Наличие разрешения ДЗМ на оказание помощи'] == 'Да')\n",
    "    | (~df_result['Дата разрешения ДЗМ'].isna())\n",
    "    | (~df_result['Номер разрешения ДЗМ'].isna())\n",
    "    ) \n",
    "]\n",
    "#  inogorod_s_razresh"
   ]
  },
  {
   "cell_type": "code",
   "execution_count": 57,
   "id": "fde052e9-a31d-4399-aaa8-27db3bece0a9",
   "metadata": {},
   "outputs": [],
   "source": [
    "# ---------------------------------------------- Иногород статус - пустой  БЕЗ разреш\n",
    "inogorod_bez_razresh = df_result.loc[\n",
    "    (df_result['Иногород'] != 'Москвич')\n",
    "   & (~df_result['Иногород'].isna())\n",
    "   & (\n",
    "   (df_result['Наличие разрешения ДЗМ на оказание помощи'] == 'Нет')\n",
    "    | (df_result['Дата разрешения ДЗМ'].isna())\n",
    "    | (df_result['Номер разрешения ДЗМ'].isna())\n",
    "    ) \n",
    "]\n",
    "# inogorod_bez_razresh"
   ]
  },
  {
   "cell_type": "code",
   "execution_count": 59,
   "id": "c76fe6a8-fb4c-4aea-8b2b-9cbee7206aca",
   "metadata": {},
   "outputs": [],
   "source": [
    "# ----------------------------------------------  Иногород  без адреса\n",
    "inogorod_bez_adres = df_result.loc[\n",
    "    (df_result['Иногород'] != 'Москвич')\n",
    "   & (~df_result['Иногород'].isna())\n",
    "    & (df_result['Адрес'].isna())\n",
    "]\n",
    "# inogorod_bez_adres"
   ]
  },
  {
   "cell_type": "markdown",
   "id": "dcd12513-428e-4dde-963b-f98c624dc4f3",
   "metadata": {},
   "source": [
    "<div class=\"alert alert-block alert-success\">\n",
    "<!-- <div class=\"alert alert-block alert-info\"> <div class=\"alert alert-block alert-warning\"> <div class=\"alert alert-block alert-success\"> <div class=\"alert alert-block alert-danger\">      --> \n",
    "    <font size=1>\n",
    "<b> Прекращено ПМП <br>\n",
    "</b>            </div>"
   ]
  },
  {
   "cell_type": "code",
   "execution_count": 65,
   "id": "d5a3c032-e2ae-4d63-98a9-6a27a65c1721",
   "metadata": {},
   "outputs": [
    {
     "data": {
      "text/plain": [
       "(2019, 28)"
      ]
     },
     "execution_count": 65,
     "metadata": {},
     "output_type": "execute_result"
    }
   ],
   "source": [
    "# ---------------------------------------------- Прекращено ПМП\n",
    "end_pmp_vse = df_result.loc[(df_result['Текущий статус пациента'] == 'Прекращено оказание ПМП')]\n",
    "end_pmp_vse.shape"
   ]
  },
  {
   "cell_type": "code",
   "execution_count": 66,
   "id": "a1093be4-6e85-4a8b-be5a-b582e55f4734",
   "metadata": {},
   "outputs": [
    {
     "data": {
      "text/plain": [
       "(519, 28)"
      ]
     },
     "execution_count": 66,
     "metadata": {},
     "output_type": "execute_result"
    }
   ],
   "source": [
    "# ---------------------------------------------- Прекращено ПМП  --- записей без даты прекращения\n",
    "end_pmp_bez_date_end = df_result.loc[\n",
    "    (df_result['Текущий статус пациента'] == 'Прекращено оказание ПМП')\n",
    "   & (df_result['Дата_прекр'].isna())\n",
    "]\n",
    "end_pmp_bez_date_end.shape"
   ]
  },
  {
   "cell_type": "code",
   "execution_count": 82,
   "id": "f4c3d390-c7b2-4cad-80d9-2fb6db1963ab",
   "metadata": {},
   "outputs": [
    {
     "data": {
      "text/plain": [
       "(1, 28)"
      ]
     },
     "execution_count": 82,
     "metadata": {},
     "output_type": "execute_result"
    }
   ],
   "source": [
    "# ---------------------------------------------- Прекращено ПМП  --- записей с кривой датой прекращения\n",
    "end_pmp_kriv_date = df_result.loc[\n",
    "    (df_result['Текущий статус пациента'] == 'Прекращено оказание ПМП')\n",
    "     & (~df_result['Дата_прекр'].isna())\n",
    "   & ((df_result['Дата_прекр'] >= pd.to_datetime('today').normalize()) | (df_result['Дата_прекр'] <= '1900-01-01') )\n",
    "]\n",
    "end_pmp_kriv_date.shape"
   ]
  },
  {
   "cell_type": "code",
   "execution_count": 81,
   "id": "51a90b51-15cb-4f70-9f8b-4a15c7200409",
   "metadata": {},
   "outputs": [
    {
     "data": {
      "text/plain": [
       "(1181, 28)"
      ]
     },
     "execution_count": 81,
     "metadata": {},
     "output_type": "execute_result"
    }
   ],
   "source": [
    "# ----------------------------------------------  Прекращено ПМП записей без обоснования (поле обоснования пусто) - 1181\n",
    "end_pmp_bez_obosnovan =  df_result.loc[(df_result['Текущий статус пациента'] == 'Прекращено оказание ПМП')\n",
    "                                         & (df_result['Основания прекращения оказания пациенту ПМП'].isna())]\n",
    "end_pmp_bez_obosnovan.shape"
   ]
  },
  {
   "cell_type": "code",
   "execution_count": 95,
   "id": "24208765-eed8-4fc0-aaf5-bbc00c57e9a6",
   "metadata": {},
   "outputs": [],
   "source": [
    "# ----------------------------2023 год------------------ Прекращено ПМП 2023 всего записей в 2023 г (постановка + выбытие)  ** 1500\n",
    "end_pmp_vse_2023 =  df_result.loc[\n",
    "                                     (df_result['Текущий статус пациента'] == 'Прекращено оказание ПМП')\n",
    "                                    & ((df_result['Дата_прекр'] >= '2023-01-01') & (df_result['Дата_прекр'] <= '2023-11-01'))\n",
    "                                       # &(df_result['Тип_диагноза'] == 'онко')\n",
    "                                       ]\n",
    "# end_pmp_vse_2023"
   ]
  },
  {
   "cell_type": "code",
   "execution_count": 96,
   "id": "70c09061-485a-4414-9452-a091fadd43ab",
   "metadata": {},
   "outputs": [],
   "source": [
    "# ----------------------------2023 год------------------ Прекращено ПМП 2023 всего записей в 2023 г  без обоснования (поле обоснования пусто)\n",
    "end_pmp_2023_bez_obosnovan =  df_result.loc[\n",
    "                                     (df_result['Текущий статус пациента'] == 'Прекращено оказание ПМП')\n",
    "                                    & ((df_result['Дата_прекр'] >= '2023-01-01') & (df_result['Дата_прекр'] <= '2023-11-01'))\n",
    "                                    & (df_result['Основания прекращения оказания пациенту ПМП'].isna())\n",
    "                                       ]\n",
    "# end_pmp_2023_bez_obosnovan"
   ]
  },
  {
   "cell_type": "markdown",
   "id": "fc1e0153-5450-4a77-acac-6bd8a989998c",
   "metadata": {},
   "source": [
    "<div class=\"alert alert-block alert-success\">\n",
    "<!-- <div class=\"alert alert-block alert-info\"> <div class=\"alert alert-block alert-warning\"> <div class=\"alert alert-block alert-success\"> <div class=\"alert alert-block alert-danger\">      --> \n",
    "    <font size=1>\n",
    "<b> Дата постановки <br>\n",
    "</b>            </div>"
   ]
  },
  {
   "cell_type": "code",
   "execution_count": 98,
   "id": "a856b71a-a876-4587-b08b-7452980b4c74",
   "metadata": {},
   "outputs": [
    {
     "data": {
      "text/plain": [
       "(2103, 28)"
      ]
     },
     "execution_count": 98,
     "metadata": {},
     "output_type": "execute_result"
    }
   ],
   "source": [
    "# ----------------------Дата постановки на учет\tколичество незаполненных - 2103\n",
    "date_postanov = df_result.loc[\n",
    "   (df_result['Дата_постанов'].isna())\n",
    "                          ]\n",
    "# date_postanov.shape"
   ]
  },
  {
   "cell_type": "code",
   "execution_count": 109,
   "id": "3025fbdd-f4fa-4480-8d4b-3b327d7abe98",
   "metadata": {},
   "outputs": [],
   "source": [
    "# ----------------------Дата постановки на учет\tколичество незаполненных - 2103\n",
    "date_postanov_kriv = df_result.loc[\n",
    "                                   (~df_result['Дата_постанов'].isna())\n",
    "                                 & ((df_result['Дата_постанов'] >= pd.to_datetime('today').normalize()) | (df_result['Дата_постанов'] <= '2010-01-01') )\n",
    "                                                              ]\n",
    "# date_postanov_kriv.shape"
   ]
  },
  {
   "cell_type": "code",
   "execution_count": 110,
   "id": "0e8c799c-7fcc-4c33-b7ff-fd5e26e81d5d",
   "metadata": {},
   "outputs": [
    {
     "data": {
      "text/plain": [
       "(559, 28)"
      ]
     },
     "execution_count": 110,
     "metadata": {},
     "output_type": "execute_result"
    }
   ],
   "source": [
    "# ----------------------Дата признания\tколичество незаполненных количество незаполненных в 2023 (по выбытию и живые) -  19098\n",
    "date_postanov_pusto_2023 =  df_result.loc[\n",
    "                                     (df_result['Дата_постанов'].isna())\n",
    "                                   & ((df_result['Дата_прекр'] >= '2023-01-01') & (df_result['Дата_прекр'] <= '2023-11-01') | (df_result['Дата_прекр'].isna())) \n",
    "                                           ]\n",
    "date_postanov_pusto_2023.shape"
   ]
  },
  {
   "cell_type": "code",
   "execution_count": 114,
   "id": "8a6f559c-0061-4ece-925b-096c81f71cf0",
   "metadata": {},
   "outputs": [
    {
     "data": {
      "text/plain": [
       "(33, 28)"
      ]
     },
     "execution_count": 114,
     "metadata": {},
     "output_type": "execute_result"
    }
   ],
   "source": [
    "# ----------------------Дата признания\tколичество незаполненных количество незаполненных в 2023 (по выбытию и живые) -  19098\n",
    "date_postanov_kriv_2023 =  df_result.loc[\n",
    "                                     (~df_result['Дата_постанов'].isna())\n",
    "                                   & ((df_result['Дата_прекр'] >= '2023-01-01') & (df_result['Дата_прекр'] <= '2023-11-01') | (df_result['Дата_прекр'].isna())) \n",
    "                                   & ((df_result['Дата_постанов'] >= pd.to_datetime('today').normalize()) | (df_result['Дата_постанов'] <= '2010-01-01') )\n",
    "                                           ]\n",
    "# date_postanov_kriv_2023.shape"
   ]
  },
  {
   "cell_type": "markdown",
   "id": "26491033-351d-4804-98dd-3a11e9a37d59",
   "metadata": {},
   "source": [
    "<div class=\"alert alert-block alert-success\">\n",
    "<!-- <div class=\"alert alert-block alert-info\"> <div class=\"alert alert-block alert-warning\"> <div class=\"alert alert-block alert-success\"> <div class=\"alert alert-block alert-danger\">      --> \n",
    "    <font size=1>\n",
    "<b> Дата признания <br>\n",
    "</b>            </div>"
   ]
  },
  {
   "cell_type": "code",
   "execution_count": null,
   "id": "5a5db92e-3533-421e-aedb-e9115e96f848",
   "metadata": {},
   "outputs": [],
   "source": [
    "количество незаполненных в 2023 (по выбытию и живые)\n",
    "количество кривых записей в 2023 (по выбытию и живые)"
   ]
  },
  {
   "cell_type": "code",
   "execution_count": 115,
   "id": "eb3de14a-eb46-4d15-b467-3861e6a6a7f9",
   "metadata": {},
   "outputs": [
    {
     "data": {
      "text/plain": [
       "(59097, 28)"
      ]
     },
     "execution_count": 115,
     "metadata": {},
     "output_type": "execute_result"
    }
   ],
   "source": [
    "# ----------------------Дата признания\tколичество незаполненных  -59097  \n",
    "date_priznan_pusto = df_result.loc[\n",
    "                             (df_result['Дата_признания'].isna())\n",
    "                                  ]\n",
    "# date_priznan_pusto.shape"
   ]
  },
  {
   "cell_type": "code",
   "execution_count": 117,
   "id": "764d5cb3-8e3e-4b29-885b-b5a9e7b86ed1",
   "metadata": {},
   "outputs": [
    {
     "data": {
      "text/plain": [
       "(27, 28)"
      ]
     },
     "execution_count": 117,
     "metadata": {},
     "output_type": "execute_result"
    }
   ],
   "source": [
    "# ----------------------Дата признания\tколичество кривых записей (включ 2010 и раньше, будущее)\n",
    "date_priznan_kriv = df_result.loc[\n",
    "                             (~df_result['Дата_признания'].isna())\n",
    "                          & ((df_result['Дата_постанов'] >= pd.to_datetime('today').normalize()) | (df_result['Дата_постанов'] <= '2010-01-01') )\n",
    "                                      ]\n",
    "date_priznan_kriv.shape"
   ]
  },
  {
   "cell_type": "code",
   "execution_count": 120,
   "id": "6261ea49-9ac9-443a-bbdf-1566e1fcdbc4",
   "metadata": {},
   "outputs": [
    {
     "data": {
      "text/plain": [
       "(19098, 28)"
      ]
     },
     "execution_count": 120,
     "metadata": {},
     "output_type": "execute_result"
    }
   ],
   "source": [
    "# ----------------------Дата признания\tколичество незаполненных в 2023 (по выбытию и живые)\n",
    "date_priznan_pusto_2023 = df_result.loc[\n",
    "                             (df_result['Дата_признания'].isna())\n",
    "                         & ((df_result['Дата_прекр'] >= '2023-01-01') & (df_result['Дата_прекр'] <= '2023-11-01') | (df_result['Дата_прекр'].isna())) \n",
    "                       # & (df_result['Тип_диагноза'] == 'онко') # -------------------- diag\n",
    "                                      ]\n",
    "date_priznan_pusto_2023.shape"
   ]
  },
  {
   "cell_type": "markdown",
   "id": "0b517c8a-f346-4b5f-bbb1-230b05f31d48",
   "metadata": {},
   "source": [
    "<div class=\"alert alert-block alert-success\">\n",
    "<!-- <div class=\"alert alert-block alert-info\"> <div class=\"alert alert-block alert-warning\"> <div class=\"alert alert-block alert-success\"> <div class=\"alert alert-block alert-danger\">      --> \n",
    "    <font size=1>\n",
    "<b> Медорганиз <br>\n",
    "</b>            </div>"
   ]
  },
  {
   "cell_type": "code",
   "execution_count": 124,
   "id": "f8507a51-ae95-4988-9285-9c6788b50530",
   "metadata": {},
   "outputs": [
    {
     "data": {
      "text/plain": [
       "(7014, 28)"
      ]
     },
     "execution_count": 124,
     "metadata": {},
     "output_type": "execute_result"
    }
   ],
   "source": [
    "# -------------------------------------Медорганизация, призн ПМП\tколичество незаполненных\n",
    "medorg_pusto = df_result.loc[\n",
    "                         (df_result['Медицинская организация, в которой признали пациента нуждающимся в ПМП'].isna())\n",
    "\n",
    "                                          ]\n",
    "medorg_pusto.shape"
   ]
  },
  {
   "cell_type": "code",
   "execution_count": 135,
   "id": "80e527b4-bbe7-4570-9586-57c892a86bc7",
   "metadata": {},
   "outputs": [
    {
     "data": {
      "text/plain": [
       "(2010, 28)"
      ]
     },
     "execution_count": 135,
     "metadata": {},
     "output_type": "execute_result"
    }
   ],
   "source": [
    "# -------------------------------------Медорганизация, призн ПМП\tколичество незаполненных в 2023 (по выбытию и живые) !!!!!!!!!!!!!!!!!!!!!!!!!!!!\n",
    "medorg_pusto_2023 = df_result.loc[\n",
    "                         (df_result['Медицинская организация, в которой признали пациента нуждающимся в ПМП'].isna())\n",
    "                         & (\n",
    "                               ((df_result['Дата_прекр'] >= '2023-01-01') | (df_result['Дата_прекр'].isna()))\n",
    "                           )\n",
    "                                          ]\n",
    "medorg_pusto_2023.shape"
   ]
  },
  {
   "cell_type": "markdown",
   "id": "af4b08e6-abea-4862-a1e0-38dd0a829896",
   "metadata": {},
   "source": [
    "<div class=\"alert alert-block alert-success\">\n",
    "<!-- <div class=\"alert alert-block alert-info\"> <div class=\"alert alert-block alert-warning\"> <div class=\"alert alert-block alert-success\"> <div class=\"alert alert-block alert-danger\">      --> \n",
    "    <font size=1>\n",
    "<b> Дубли <br>\n",
    "</b>            </div>"
   ]
  },
  {
   "cell_type": "code",
   "execution_count": 224,
   "id": "658848cf-efa8-48bc-936d-61c24295b294",
   "metadata": {},
   "outputs": [],
   "source": [
    " # df_result[df_result.duplicated(['Пациент', 'ДР'], keep=False)].sort_values('Пациент').loc[~df_result['ДР'].isna()]"
   ]
  },
  {
   "cell_type": "code",
   "execution_count": 227,
   "id": "00718bec-723e-40b3-9467-2c68d16b212b",
   "metadata": {},
   "outputs": [
    {
     "data": {
      "text/plain": [
       "(14, 28)"
      ]
     },
     "execution_count": 227,
     "metadata": {},
     "output_type": "execute_result"
    }
   ],
   "source": [
    "# -------------------Дубли ФИО ДР\n",
    "dubl_fio_dr = df_result[  df_result.duplicated(['Пациент', 'ДР'], keep=False  )]\n",
    "dubl_fio_dr.shape"
   ]
  },
  {
   "cell_type": "code",
   "execution_count": 231,
   "id": "5cc1cc37-8e9a-406e-b054-24c16eeb48a0",
   "metadata": {},
   "outputs": [
    {
     "data": {
      "text/plain": [
       "(489, 28)"
      ]
     },
     "execution_count": 231,
     "metadata": {},
     "output_type": "execute_result"
    }
   ],
   "source": [
    "# -------------------Дубли Полис ОМС\n",
    "dubl_oms = df_result[  df_result.duplicated(['Полис ОМС'], keep=False)  ].loc[\n",
    "                                                       (~df_result['Полис ОМС'].isna())]\n",
    "dubl_oms.shape"
   ]
  },
  {
   "cell_type": "code",
   "execution_count": 232,
   "id": "56c4e6a0-03d5-4590-9643-c545ecd82d05",
   "metadata": {},
   "outputs": [
    {
     "data": {
      "text/plain": [
       "(530, 28)"
      ]
     },
     "execution_count": 232,
     "metadata": {},
     "output_type": "execute_result"
    }
   ],
   "source": [
    "# -------------------Дубли СНИЛС\n",
    "dubl_snils = df_result[  df_result.duplicated(['СНИЛС'], keep=False)  ].loc[\n",
    "                                                       (~df_result['СНИЛС'].isna())\n",
    "]\n",
    "dubl_snils.shape"
   ]
  },
  {
   "cell_type": "code",
   "execution_count": 233,
   "id": "a1742c76-78b0-4fb4-a095-266880e410a0",
   "metadata": {},
   "outputs": [
    {
     "data": {
      "text/plain": [
       "(121, 28)"
      ]
     },
     "execution_count": 233,
     "metadata": {},
     "output_type": "execute_result"
    }
   ],
   "source": [
    "# -------------------Дубли ДУЛ\n",
    "dubl_dul = df_result[  df_result.duplicated(['Серия/№'], keep=False)  ].loc[\n",
    "                                                       (~df_result['Серия/№'].isna())\n",
    "                    &  (df_result['Серия/№'] != '0')\n",
    "                    &  (df_result['Серия/№'] != '0000000')\n",
    "                    &  (df_result['Серия/№'] != '000000')\n",
    "    &  (df_result['Серия/№'] != '00000')\n",
    "    &  (df_result['Серия/№'] != '00000000')\n",
    "    &  (df_result['Серия/№'] != '00000000000')\n",
    "    &  (df_result['Серия/№'] != '0000')\n",
    "    &  (df_result['Серия/№'] != '0000000000')  \n",
    "        \n",
    "]\n",
    "dubl_dul.shape"
   ]
  },
  {
   "cell_type": "code",
   "execution_count": null,
   "id": "9bba92ff-6a35-4196-b32b-18fa86c3f72b",
   "metadata": {},
   "outputs": [],
   "source": []
  },
  {
   "cell_type": "code",
   "execution_count": null,
   "id": "137fec39-a161-4be9-8c44-e3dae4654f25",
   "metadata": {},
   "outputs": [],
   "source": []
  },
  {
   "cell_type": "code",
   "execution_count": null,
   "id": "f25661e9-0c68-4540-8184-e88a1d32094e",
   "metadata": {},
   "outputs": [],
   "source": []
  },
  {
   "cell_type": "code",
   "execution_count": null,
   "id": "af71910d-581b-4695-be72-a580b50914ae",
   "metadata": {},
   "outputs": [],
   "source": []
  },
  {
   "cell_type": "code",
   "execution_count": null,
   "id": "99592411-943f-47c9-8213-a2ae310f6049",
   "metadata": {},
   "outputs": [],
   "source": []
  },
  {
   "cell_type": "code",
   "execution_count": null,
   "id": "89b1a024-57d3-41cb-be87-43058a3917fb",
   "metadata": {},
   "outputs": [],
   "source": []
  },
  {
   "cell_type": "code",
   "execution_count": 27,
   "id": "78e7c6e8-12a9-4c4e-9f35-678563ac4957",
   "metadata": {},
   "outputs": [
    {
     "data": {
      "text/markdown": [
       " # Статистика реестра (выгрузка) \"выгрузка_из_1с_0111_1800.csv\":\n",
       "\n",
       "| Параметр | Количество | прим |\n",
       "|---:|:-|:-|\n",
       "| __Всего В РАССМОТРЕНИИ__      | 97882      | - |\n",
       "| Количество пациентов, с незаполненным __диагнозом__          | 1160   | на патронаже  188    |\n",
       "| Количество пациентов, \"неконкретным\" диагнозом               | 1160   | на патронаже  188    |\n",
       "\n",
       "\n"
      ]
     },
     "metadata": {},
     "output_type": "display_data"
    }
   ],
   "source": [
    "df_result.loc[df_result['Тип_диагноза'] == 'not']\n",
    "\n",
    "a = f'Статистика реестра (выгрузка) \"{file_name}\":'\n",
    "\n",
    "display_markdown(f''' # {a}\n",
    "\n",
    "| Параметр | Количество | прим |\n",
    "|---:|:-|:-|\n",
    "| __Всего В РАССМОТРЕНИИ__      | {df_result.shape[0]}      | - |\n",
    "| Количество пациентов, с незаполненным __диагнозом__          | {df_result.loc[df_result['Тип_диагноза'] == 'not'].shape[0]}   | на патронаже  {df_result.loc[(df_result['Тип_диагноза'] == 'not') & (df_result['Текущий статус пациента'] == 'Патронаж')].shape[0]}    |\n",
    "| Количество пациентов, \"неконкретным\" диагнозом               | {df_result.loc[df_result['Тип_диагноза'] == 'not'].shape[0]}   | на патронаже  {df_result.loc[(df_result['Тип_диагноза'] == 'not') & (df_result['Текущий статус пациента'] == 'Патронаж')].shape[0]}    |\n",
    "\n",
    "\n",
    "''', raw=True)"
   ]
  },
  {
   "cell_type": "code",
   "execution_count": null,
   "id": "3f1e16da-1e7a-46c6-b37e-4a6f0dc5f2f0",
   "metadata": {},
   "outputs": [],
   "source": [
    "df_result"
   ]
  },
  {
   "cell_type": "code",
   "execution_count": null,
   "id": "6446d869-c778-43cf-a8be-7eb020e78fbf",
   "metadata": {},
   "outputs": [],
   "source": []
  },
  {
   "cell_type": "code",
   "execution_count": null,
   "id": "d66cc2a9-db43-4237-992b-9281c0f5bf66",
   "metadata": {},
   "outputs": [],
   "source": []
  },
  {
   "cell_type": "code",
   "execution_count": null,
   "id": "8f6f5043-e07e-457a-88fb-d2f4c01bc635",
   "metadata": {},
   "outputs": [],
   "source": []
  },
  {
   "cell_type": "code",
   "execution_count": null,
   "id": "f07b3830-3059-4bc5-8c61-c2642efffae5",
   "metadata": {},
   "outputs": [],
   "source": [
    "# # Уберем записи с БМЧУ\n",
    "# df_concat = df_concat.loc[df_concat['Филиал'] != 'БМЧУ \"Детский хоспис\"']"
   ]
  },
  {
   "cell_type": "code",
   "execution_count": null,
   "id": "87d3a356-6114-4cd7-9538-6eb9be37e1bb",
   "metadata": {},
   "outputs": [],
   "source": []
  },
  {
   "cell_type": "code",
   "execution_count": null,
   "id": "a636b826-12f7-4149-8175-233e46c4c291",
   "metadata": {},
   "outputs": [],
   "source": [
    "# =----- ДУБЛИ -------СНИЛС\n",
    "# df_concat.groupby(df_concat.columns.tolist(),as_index=False).size()\n",
    "df_concat.groupby(df_concat['Полис ОМС'],as_index=False).size()\n",
    "\n"
   ]
  },
  {
   "cell_type": "code",
   "execution_count": null,
   "id": "9ae03413-fced-4da3-98b6-1d6215bf48a0",
   "metadata": {},
   "outputs": [],
   "source": [
    "df_concat.columns.tolist()"
   ]
  },
  {
   "cell_type": "code",
   "execution_count": null,
   "id": "0e7c53ae-8936-4cf8-ae63-e5a328d2547d",
   "metadata": {},
   "outputs": [],
   "source": []
  },
  {
   "cell_type": "code",
   "execution_count": null,
   "id": "e3ed1fb2-aad5-428d-b45c-bbc1f0125ff7",
   "metadata": {},
   "outputs": [],
   "source": []
  },
  {
   "cell_type": "code",
   "execution_count": null,
   "id": "addbb540-c730-444e-91bd-3004c4f7b7b5",
   "metadata": {},
   "outputs": [],
   "source": []
  },
  {
   "cell_type": "code",
   "execution_count": null,
   "id": "752fc7cd-7795-489b-a369-f775f499f4fb",
   "metadata": {},
   "outputs": [],
   "source": []
  },
  {
   "cell_type": "code",
   "execution_count": null,
   "id": "d1de1208-200d-45dd-8928-039633b0fbd7",
   "metadata": {},
   "outputs": [],
   "source": []
  },
  {
   "cell_type": "code",
   "execution_count": null,
   "id": "16e49988-c28a-44f0-aba6-7bb328d33be1",
   "metadata": {},
   "outputs": [],
   "source": [
    "\n",
    "\n",
    "\n",
    "# # ---------------------------------------------------------Уберем 'БМЧУ \"Детский хоспис\"' из наших данных ----------------------------\n",
    "# if bmchu != 'учитываем':\n",
    "#     df_concat = df_concat.loc[df_concat['Филиал'] != 'БМЧУ \"Детский хоспис\"']  # - удаляем строки. в которых текущий статус не заполнен =  nan\n",
    "\n",
    "\n",
    "# #     # ---------------------------------------------------------Уберем 'БМЧУ \"Детский хоспис\"' из наших данных ----------------------------\n",
    "# if bk != 'с учетом БК':\n",
    "#     df_concat = df_concat.loc[df_concat['БК'] != 'Да']  # - удаляем строки. в которых текущий статус не заполнен =  nan     \n",
    "\n",
    "# УДАЛИМ полные дубликаиы строк (оставляем только ПЕРВЫЕ строки из повторов (из 605го) )\n",
    "df_concat = df_concat.drop_duplicates(keep='first')\n",
    "df_concat.index.duplicated()\n",
    "df_concat.reset_index(drop= True , inplace= True )\n",
    "\n",
    "\n",
    "# Заполним поле Дата_первых_сведений данными: \n",
    "#  если Дата_вкл_реестр не пустая, то  Дата_учета = Дата_вкл_реестр\n",
    "\n",
    "df_concat.loc[ (~df_concat['Дата_вкл_реестр'].isnull()) , 'Дата_первых_сведений'] = df_concat['Дата_вкл_реестр']\n",
    "df_concat.loc[ (df_concat['Дата_вкл_реестр'].isnull()) & (~df_concat['Дата_признания'].isnull()) , 'Дата_первых_сведений'] = df_concat['Дата_признания']\n",
    "df_concat.loc[ (df_concat['Дата_вкл_реестр'].isnull()) & (df_concat['Дата_признания'].isnull()) & (~df_concat['Дата_прекр'].isnull()) , 'Дата_первых_сведений'] = df_concat['Дата_прекр'] - pd.Timedelta(days = 2)\n",
    "\n",
    "\n",
    "\n",
    "# новый признак - Дата_выбытия\n",
    "\n",
    "# 1 -- условие ---------------------------\n",
    "df_concat.loc[ (  \n",
    "           ((df_concat['Дата_прекр'].isnull()) & (df_concat['Дата_вкл_реестр'] < '2020-12-31'))  \n",
    "        &  (  (df_concat['Текущий статус пациента'] == 'Умер') | (df_concat['Текущий статус пациента'] == 'Прекращено оказание ПМП') )\n",
    "           )\n",
    "           , 'Дата_выбытия'] = '01.01.1900'\n",
    "\n",
    "# 2 -- условие----------------------------\n",
    "df_concat.loc[(~df_concat['Дата_прекр'].isnull()), 'Дата_выбытия'] = df_concat['Дата_прекр']\n",
    "\n",
    "# 3 -- условие ---------------------------\n",
    "df_concat.loc[\n",
    "                 (~df_concat['Дата_первых_сведений'].isnull() & df_concat['Дата_выбытия'].isnull() )  \n",
    "              &  ((df_concat['Текущий статус пациента'] == 'Умер') | (df_concat['Текущий статус пациента'] == 'Прекращено оказание ПМП')), 'Дата_выбытия'] = df_concat['Дата_первых_сведений'] + pd.Timedelta(days = 2)\n",
    "\n",
    "\n",
    "\n",
    "# ----------------форматнем дату к дате\n",
    "df_concat['ДР'] = pd.to_datetime(df_concat['ДР'], dayfirst=True, errors = 'coerce').dt.normalize()\n",
    "df_concat['Дата_вкл_реестр'] = pd.to_datetime(df_concat['Дата_вкл_реестр'], dayfirst=True, errors = 'coerce').dt.normalize()\n",
    "df_concat['Дата_признания'] = pd.to_datetime(df_concat['Дата_признания'], dayfirst=True, errors = 'coerce').dt.normalize()\n",
    "df_concat['Дата_прекр'] = pd.to_datetime(df_concat['Дата_прекр'], dayfirst=True, errors = 'coerce').dt.normalize()\n",
    "df_concat['Дата_выбытия'] = pd.to_datetime(df_concat['Дата_выбытия'], dayfirst=True, errors = 'coerce').dt.normalize()\n",
    "df_concat['Дата_первых_сведений'] = pd.to_datetime(df_concat['Дата_первых_сведений'], dayfirst=True, errors = 'coerce').dt.normalize()\n",
    "\n",
    "\n",
    "#  # ------------подсчитаем ВОЗРАСТ --------------\n",
    "# # now = pd.Timestamp('now')\n",
    "#  now = pd.Timestamp(date_finish)\n",
    "#  df_concat.loc[(df_concat['Текущий статус пациента'] == 'Умер') & (~df_concat['Дата_выбытия'].isnull()), 'Возраст'] = (df_concat['Дата_выбытия'] - df_concat['ДР']).dt.days//365\n",
    "#  df_concat.loc[(df_concat['Текущий статус пациента'] != 'Умер'), 'Возраст'] = (now - df_concat['ДР']).astype('<m8[Y]')\n",
    "\n",
    "#    ------------------------- ---подсчитаем ВОЗРАСТ -------------- 06.10.23 ----- возраст считаем для момента ВХОДА в ПЕРИОД (за время рассмотрения дети взрослеют и на конец периода мы их можем не поймать) ---------------\n",
    "\n",
    "# now = pd.Timestamp('now')\n",
    "now = pd.Timestamp(date_start)\n",
    "# df_concat.loc[(df_concat['Текущий статус пациента'] == 'Умер') & (~df_concat['Дата_выбытия'].isnull()), 'Возраст'] = (df_concat['Дата_выбытия'] - df_concat['ДР']).dt.days//365\n",
    "# df_concat.loc[(df_concat['Текущий статус пациента'] != 'Умер'), 'Возраст'] = (pd.Timestamp(date_start) - df_concat['ДР']).astype('<m8[Y]')\n",
    "\n",
    "df_concat['Возраст'] = np.nan\n",
    "df_concat['Возраст'] = df_concat.apply( lambda x:  calculate_age(x['ДР'], now),axis=1)\n",
    "\n",
    "\n",
    "\n",
    "#  ------ посчитаем категорию трудоспособный --------\n",
    "#  если пол ЖЕНСКИЙ, и возраст Менее 57 -----> Категория - трудоспособный\n",
    "#  если пол Мужской, и возраст Менее 62 -----> Категория - трудоспособный\n",
    "\n",
    "df_concat['Категория'] = np.nan\n",
    "df_concat.loc[(df_concat['Возраст'] >= 18) & (df_concat['Пол'] == 'Мужской') & (df_concat['Возраст'] >= 62), 'Категория'] = 'Старше трудосп'\n",
    "df_concat.loc[(df_concat['Возраст'] >= 18) & (df_concat['Пол'] == 'Женский') & (df_concat['Возраст'] >= 57), 'Категория'] = 'Старше трудосп'\n",
    "\n",
    "\n",
    "#  ------ определим детей ---------------\n",
    "df_concat['Дети'] = np.nan\n",
    "# df_concat.loc[(df_concat['Возраст'] < 18) & (df_concat['Возраст'] >= 0), 'Дети'] = 'Дети'\n",
    "df_concat['Дети'] = df_concat['Возраст'].apply(lambda x: 'Дети' if x <= 17 else np.nan)\n",
    "\n",
    "\n",
    "#  ----- Добавим УНИКАЛЬНЫЙ ключ ФИО+ДР - без пробелов ------------\n",
    "\n",
    "df_concat['Ключ'] = df_concat['Пациент'].map(str) + (df_concat['ДР'].dt.date).map(str)\n",
    "df_concat['Ключ'] = df_concat['Ключ'].str.lower()            # ---- все к нижнему регистру\n",
    "df_concat['Ключ'] = df_concat['Ключ'].str.replace(' ', '')   # ---- пробелы долой \n",
    "\n",
    "\n",
    "df_clr = df_concat.loc[ (~df_concat['Дата_первых_сведений'].isnull())]\n",
    "\n",
    "# ------ удаление дубликатов ----------\n",
    "df_clr = df_clr.drop_duplicates(['Ключ'], keep='first') \n"
   ]
  },
  {
   "cell_type": "code",
   "execution_count": null,
   "id": "d6362d6f-39b9-4c22-9348-775090d313d4",
   "metadata": {},
   "outputs": [],
   "source": []
  },
  {
   "cell_type": "code",
   "execution_count": null,
   "id": "b5463abc-5f11-4724-a31e-e2a59c11b590",
   "metadata": {},
   "outputs": [],
   "source": []
  },
  {
   "cell_type": "code",
   "execution_count": null,
   "id": "348a6ffc-07b2-460a-b04d-c0bd5423faf5",
   "metadata": {},
   "outputs": [],
   "source": []
  },
  {
   "cell_type": "code",
   "execution_count": null,
   "id": "99f34d1e-bff5-49ec-851f-03be8b250728",
   "metadata": {},
   "outputs": [],
   "source": []
  },
  {
   "cell_type": "code",
   "execution_count": null,
   "id": "914684a8-308f-48d5-9967-609b3d3209c3",
   "metadata": {},
   "outputs": [],
   "source": []
  },
  {
   "cell_type": "code",
   "execution_count": null,
   "id": "e1f676f1-1ec9-4285-b214-99d3fdc012e7",
   "metadata": {},
   "outputs": [],
   "source": []
  },
  {
   "cell_type": "code",
   "execution_count": null,
   "id": "4d4e1371-d392-4ed0-b920-865f2de846ba",
   "metadata": {},
   "outputs": [],
   "source": []
  },
  {
   "cell_type": "code",
   "execution_count": null,
   "id": "1cbc79a2-e366-4d5c-84ef-c46c5d6016a2",
   "metadata": {},
   "outputs": [],
   "source": []
  }
 ],
 "metadata": {
  "kernelspec": {
   "display_name": "Python 3 (ipykernel)",
   "language": "python",
   "name": "python3"
  },
  "language_info": {
   "codemirror_mode": {
    "name": "ipython",
    "version": 3
   },
   "file_extension": ".py",
   "mimetype": "text/x-python",
   "name": "python",
   "nbconvert_exporter": "python",
   "pygments_lexer": "ipython3",
   "version": "3.9.12"
  }
 },
 "nbformat": 4,
 "nbformat_minor": 5
}
