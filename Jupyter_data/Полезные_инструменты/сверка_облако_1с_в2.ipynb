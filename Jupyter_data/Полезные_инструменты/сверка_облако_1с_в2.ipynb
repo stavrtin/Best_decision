{
 "cells": [
  {
   "cell_type": "markdown",
   "id": "ebc96443-e1d3-46c0-aa1f-c06defe594a1",
   "metadata": {},
   "source": [
    "<div class=\"alert alert-block alert-success\">\n",
    "\n",
    "<!-- -info-warning-success-danger>   --> <font size=5>\n",
    "<b>\n",
    "    СВЕРКА ОБЛАКА и 1С<br>\n",
    "        </b>    </div>\n",
    "<hr>"
   ]
  },
  {
   "cell_type": "code",
   "execution_count": 1,
   "id": "d6569845-548b-4ad6-b543-1b8c7e551d6a",
   "metadata": {},
   "outputs": [],
   "source": [
    "# pd.set_option('display.expand_frame_repr', True)\n",
    "# pd.set_option('display.max_rows', 50)\n",
    "# pd.set_option('display.max_columns', 500)\n",
    "# pd.set_option('display.width', 1000)\n",
    "# pd.set_option('display.max_colwidth', None)"
   ]
  },
  {
   "cell_type": "code",
   "execution_count": 2,
   "id": "76f19e7f-c78b-4c60-a638-8f458a5d84fc",
   "metadata": {},
   "outputs": [],
   "source": [
    "import pandas as pd\n",
    "import numpy as np\n",
    "import warnings\n",
    "from IPython.display import display_markdown\n",
    "warnings.filterwarnings('ignore')"
   ]
  },
  {
   "cell_type": "markdown",
   "id": "bff1f524-2561-427b-b3e1-dd817b8e3476",
   "metadata": {
    "tags": []
   },
   "source": [
    "####\n",
    "<div class=\"alert alert-block alert-success\"> <font size=5>\n",
    "<b>подключаем облако и 605й (1c)\n",
    "    </b>    </div>\n",
    "<hr>"
   ]
  },
  {
   "cell_type": "code",
   "execution_count": 3,
   "id": "aa63d898-e8bf-45be-bef0-81d2660efa45",
   "metadata": {},
   "outputs": [
    {
     "name": "stdout",
     "output_type": "stream",
     "text": [
      "(13335, 32)\n",
      "(109185, 39)\n"
     ]
    }
   ],
   "source": [
    "file_cloud = 'Реестр_605_новая_форма_24112023_0833.csv'\n",
    "df_cloud = pd.read_csv(file_cloud, delimiter=';', encoding='cp1251')\n",
    "\n",
    "\n",
    "\n",
    "file = 'выгрузка_из_1с_2411.csv'\n",
    "df_1c = pd.read_csv(file, delimiter=';', encoding='cp1251')\n",
    "\n",
    "\n",
    "print(df_cloud.shape)\n",
    "print(df_1c.shape)"
   ]
  },
  {
   "cell_type": "markdown",
   "id": "4c32b1f9-2fc7-46ca-a114-01451fd5b788",
   "metadata": {},
   "source": [
    "<div class=\"alert alert-block alert-info\"> <!-- <div class=\"alert alert-block alert-info\"> <div class=\"alert alert-block alert-warning\"> <div class=\"alert alert-block alert-success\"> <div class=\"alert alert-block alert-danger\">     -->\n",
    "<font size=3>\n",
    "<b>\n",
    "    Убираем лишние колонки для 605го и переименовываем\n",
    "    </b>\n",
    "    </div>\n",
    "<hr>"
   ]
  },
  {
   "cell_type": "code",
   "execution_count": 4,
   "id": "bece0cc5-bc49-4074-9b68-3bdc71d51c7d",
   "metadata": {},
   "outputs": [],
   "source": [
    "# как4ие есть колонки\n",
    "# df_cloud.columns.to_list()"
   ]
  },
  {
   "cell_type": "code",
   "execution_count": 5,
   "id": "7630d046-5de7-47e1-a7ac-950e1c515331",
   "metadata": {
    "tags": []
   },
   "outputs": [
    {
     "data": {
      "text/plain": [
       "['ID  пациента',\n",
       " 'Дата включения в реестр пациентов, нуждающихся в ПМП',\n",
       " 'Дата постановки на учет/включения пациента в реестр',\n",
       " 'Пациент',\n",
       " 'Пол',\n",
       " 'Дата рождения',\n",
       " 'Гражданский статус',\n",
       " 'Адрес',\n",
       " 'Адрес фактический',\n",
       " 'Документ удостоверяющий личность',\n",
       " 'Серия/№',\n",
       " 'Кем выдан',\n",
       " 'Свидетельство о регистрации по месту жительства(до 14 лет)',\n",
       " 'СНИЛС',\n",
       " 'Полис ОМС',\n",
       " 'Наличие инвалидности',\n",
       " 'Основной диагноз по МКБ-10',\n",
       " 'Основное контактное лицо',\n",
       " 'Дата признания пациента нуждающимся в ПМП (ВК)',\n",
       " 'Тип документа о признании паллиативным',\n",
       " 'Медицинская организация, в которой признали пациента нуждающимся в ПМП',\n",
       " 'Наличие разрешения ДЗМ на оказание помощи',\n",
       " 'Дата разрешения ДЗМ',\n",
       " 'Номер разрешения ДЗМ',\n",
       " 'Текущий статус пациента',\n",
       " 'Дата прекращения оказания ПМП',\n",
       " 'Основания прекращения оказания пациенту ПМП',\n",
       " 'Курирующее подразделение/филиал',\n",
       " 'Наблюдение в РЦ',\n",
       " 'БК',\n",
       " 'Основной диагноз на момент обращения',\n",
       " 'Комментарий',\n",
       " 'Участник СВО',\n",
       " 'Канал поступления информации',\n",
       " 'Кто направил',\n",
       " 'Дата получения ИДС на передачу данных',\n",
       " '№ амбулаторной карты',\n",
       " 'Пометка удаления',\n",
       " 'Код']"
      ]
     },
     "execution_count": 5,
     "metadata": {},
     "output_type": "execute_result"
    }
   ],
   "source": [
    "# как4ие есть колонки\n",
    "df_1c.columns.to_list()"
   ]
  },
  {
   "cell_type": "markdown",
   "id": "038b1286-1590-4f5b-8ec3-7cc68b6620ec",
   "metadata": {},
   "source": [
    "<div class=\"alert alert-block alert-info\"> <font size=3>\n",
    "<b> Готовим ключи для женитьбы</b><br>\n",
    "        </div>\n",
    "<hr>"
   ]
  },
  {
   "cell_type": "code",
   "execution_count": 6,
   "id": "623f8df3-7a4f-458b-bfe1-711e3c212a9d",
   "metadata": {},
   "outputs": [],
   "source": [
    "# ----------- Ё --------\n",
    "df_1c['Пациент'] = df_1c['Пациент'].str.replace('ё', 'е') \n",
    "df_cloud['ФИО пациента'] = df_cloud['ФИО пациента'].str.replace('ё', 'е') "
   ]
  },
  {
   "cell_type": "markdown",
   "id": "75c918fe-7331-426a-a25b-25f7b9f4dd3a",
   "metadata": {},
   "source": [
    "<div class=\"alert alert-block alert-info\">\n",
    "<font size=1>\n",
    "<b>                                   Приведем ДАТЫ к фрмату ДАТА</b><br>\n",
    "            </div>"
   ]
  },
  {
   "cell_type": "code",
   "execution_count": 7,
   "id": "01417c98-0507-4236-81da-94321b47c1f8",
   "metadata": {},
   "outputs": [],
   "source": [
    "# ----------------форматнем дату к дате\n",
    "df_1c['Дата рождения'] = pd.to_datetime(df_1c['Дата рождения'], dayfirst=True, errors = 'coerce').dt.normalize()\n",
    "df_cloud['Дата рождения'] = pd.to_datetime(df_cloud['Дата рождения'], dayfirst=True, errors = 'coerce').dt.normalize()"
   ]
  },
  {
   "cell_type": "code",
   "execution_count": 8,
   "id": "749dfe99-b0ed-4c99-9bd8-fded479e0ba1",
   "metadata": {},
   "outputs": [
    {
     "name": "stdout",
     "output_type": "stream",
     "text": [
      "(109185, 40)\n",
      "(13335, 33)\n"
     ]
    }
   ],
   "source": [
    "#  ----- Добавим УНИКАЛЬНЫЙ ключ ФИО+ДР - без пробелов ------------\n",
    "df_1c['Ключ'] = df_1c['Пациент'].map(str) + (df_1c['Дата рождения'].dt.date).map(str)\n",
    "df_1c['Ключ'] = df_1c['Ключ'].str.lower()            # ---- все к нижнему регистру\n",
    "df_1c['Ключ'] = df_1c['Ключ'].str.replace(' ', '')   # ---- пробелы долой \n",
    "print(df_1c.shape)\n",
    "\n",
    "#  ----- Добавим УНИКАЛЬНЫЙ ключ ФИО+ДР - без пробелов ------------\n",
    "df_cloud['Ключ'] = df_cloud['ФИО пациента'].map(str) + (df_cloud['Дата рождения'].dt.date).map(str)\n",
    "df_cloud['Ключ'] = df_cloud['Ключ'].str.lower()            # ---- все к нижнему регистру\n",
    "df_cloud['Ключ'] = df_cloud['Ключ'].str.replace(' ', '')   # ---- пробелы долой \n",
    "print(df_cloud.shape)"
   ]
  },
  {
   "cell_type": "code",
   "execution_count": null,
   "id": "3c1df5be-21b6-47f5-9277-b40cc8dc4fba",
   "metadata": {},
   "outputs": [],
   "source": []
  },
  {
   "cell_type": "markdown",
   "id": "62c3d4f2-34ee-42ad-a7c8-610c9135422c",
   "metadata": {},
   "source": [
    "<div class=\"alert alert-block alert-info\">\n",
    "<font size=1>\n",
    "<b>  УБИРАЕМ СТАТУСЫ КРИВЫЕ</b><br>\n",
    "            </div>"
   ]
  },
  {
   "cell_type": "code",
   "execution_count": 9,
   "id": "b1669140-ff97-4eed-a5fc-641ed56a4a7e",
   "metadata": {},
   "outputs": [
    {
     "data": {
      "text/plain": [
       "(109146, 40)"
      ]
     },
     "execution_count": 9,
     "metadata": {},
     "output_type": "execute_result"
    }
   ],
   "source": [
    "df_1c = df_1c.loc[df_1c['Пометка удаления'] != 'Да']\n",
    "df_1c.shape"
   ]
  },
  {
   "cell_type": "code",
   "execution_count": 10,
   "id": "77a2362e-13a1-457f-9faa-ae1b172c8b92",
   "metadata": {},
   "outputs": [
    {
     "data": {
      "text/plain": [
       "(109072, 40)"
      ]
     },
     "execution_count": 10,
     "metadata": {},
     "output_type": "execute_result"
    }
   ],
   "source": [
    "list_key = ['неизвестноnat','непредставилсяnat','нетnat','неизвестныйnat']\n",
    "df_1c = df_1c.loc[~df_1c['Ключ'].isin(list_key)]\n",
    "df_1c = df_1c.drop_duplicates('Ключ', keep='last')\n",
    "df_1c.shape"
   ]
  },
  {
   "cell_type": "code",
   "execution_count": 11,
   "id": "fb71d2b5-2dd3-4985-a45c-828a9e43000e",
   "metadata": {},
   "outputs": [],
   "source": [
    "# df_1c[df_1c.duplicated('Код', keep=False)].sort_values('Пациент')\n",
    "# df.columns = df.columns.str.rstrip('_x')"
   ]
  },
  {
   "cell_type": "markdown",
   "id": "fe74347e-feac-443f-a2a5-ee9e044554e9",
   "metadata": {},
   "source": [
    "<div class=\"alert alert-block alert-info\"> <font size=3>\n",
    "<b> Джойним датасет ОБЛАКО с 605м<br>\n",
    "</b>            </div>"
   ]
  },
  {
   "cell_type": "code",
   "execution_count": 12,
   "id": "b8e509d0-6056-45c1-b07a-b8d7d06114e0",
   "metadata": {},
   "outputs": [],
   "source": [
    "df_cloud = df_cloud.add_suffix('_облако')\n",
    "df_cloud.rename(columns={'Ключ_облако': 'Ключ'}, inplace=True)\n",
    "df_1c = df_1c.add_suffix('_1с')\n",
    "df_1c.rename(columns={'Ключ_1с': 'Ключ'}, inplace=True)"
   ]
  },
  {
   "cell_type": "code",
   "execution_count": 13,
   "id": "58b316b7-3a67-4932-9a48-52c94e60aae7",
   "metadata": {},
   "outputs": [
    {
     "data": {
      "text/plain": [
       "(13335, 72)"
      ]
     },
     "execution_count": 13,
     "metadata": {},
     "output_type": "execute_result"
    }
   ],
   "source": [
    "df_merg = pd.merge(df_cloud, df_1c, how='left', on='Ключ')\n",
    "df_merg.shape"
   ]
  },
  {
   "cell_type": "markdown",
   "id": "8a4df950-e0ca-4a9f-b0ba-2dd87dbf86e2",
   "metadata": {
    "tags": []
   },
   "source": [
    "###\n",
    "<div class=\"alert alert-block alert-success\"> <font size=3>\n",
    "<b> Проверка пациента, НА ОПЕЧАТКИ (есть в облаке - нет в 1С)<br>\n",
    "</b>            </div>"
   ]
  },
  {
   "cell_type": "code",
   "execution_count": 14,
   "id": "1c6e14bc-0115-402c-bae9-040ff1516add",
   "metadata": {},
   "outputs": [],
   "source": [
    "df_opechatka_fio_dr = df_merg.loc[df_merg['Пациент_1с'].isna()]\n",
    "df_opechatka_fio_dr.dropna(how='all', axis=1, inplace=True)\n",
    "df_opechatka_fio_dr.to_excel('df_opechatka_fio_dr.xlsx')\n",
    "df_merg = df_merg.loc[~df_merg['Пациент_1с'].isna()]"
   ]
  },
  {
   "cell_type": "code",
   "execution_count": 15,
   "id": "e6077019-2ef3-4a5b-931c-e3d4f160dc54",
   "metadata": {},
   "outputs": [],
   "source": [
    "df_opechatka_fio_dr.shape\n",
    "df_opechatka_fio_dr.to_excel('df_opechatka_fio_dr.xlsx')"
   ]
  },
  {
   "cell_type": "markdown",
   "id": "a06f54a5-8aeb-4f48-8529-bd4b1fa3ad37",
   "metadata": {
    "tags": []
   },
   "source": [
    "###\n",
    "<div class=\"alert alert-block alert-success\"> <font size=3>\n",
    "<b>  Дубли ОБЛАКА - ФИО+ДР <br>\n",
    "</b>            </div>"
   ]
  },
  {
   "cell_type": "code",
   "execution_count": 16,
   "id": "0986a862-c511-43db-b55f-1d8aa813d687",
   "metadata": {},
   "outputs": [],
   "source": [
    "duble_cloude_fio = df_merg[df_merg.duplicated('Ключ', keep=False)].sort_values('Ключ')"
   ]
  },
  {
   "cell_type": "code",
   "execution_count": 17,
   "id": "83365a52-abc3-4495-820b-de680805a7f3",
   "metadata": {},
   "outputs": [],
   "source": [
    "duble_cloude_fio = duble_cloude_fio[[\n",
    "    'Дата включения пациента в Реестр_облако',\n",
    "     'ФИО пациента_облако',\n",
    "     'Пол_облако',\n",
    "     'Дата рождения_облако',\n",
    "     'Гражданский статус_облако',\n",
    "    'СНИЛС_облако',\n",
    "    'СНИЛС_1с',\n",
    "    'Пациент_1с'\n",
    "]]\n",
    "duble_cloude_fio.shape\n",
    "duble_cloude_fio.to_excel('duble_cloude_fio.xlsx')"
   ]
  },
  {
   "cell_type": "markdown",
   "id": "8baffef8-9d80-49c4-b366-92d75a826374",
   "metadata": {
    "tags": []
   },
   "source": [
    "###\n",
    "<div class=\"alert alert-block alert-success\"> <font size=3>\n",
    "<b>  Дубли ОБЛАКА - CНИЛС <br>\n",
    "</b>            </div>"
   ]
  },
  {
   "cell_type": "code",
   "execution_count": 18,
   "id": "052bfd43-55c6-4ebb-bcb3-23c0b3143f2c",
   "metadata": {},
   "outputs": [],
   "source": [
    "# --------- преобразовать написание СНИЛС -----\n",
    "df_dub_snils = df_merg.copy()\n",
    "df_dub_snils\n",
    "\n",
    "df_dub_snils['СНИЛС_облако'] = df_dub_snils['СНИЛС_облако'].str.replace('-', '')\n",
    "df_dub_snils['СНИЛС_облако'] = df_dub_snils['СНИЛС_облако'].str.replace(' ', '')\n",
    "df_dub_snils['СНИЛС_облако'] = df_dub_snils['СНИЛС_облако'].str.replace('/', '')\n",
    "df_dub_snils['СНИЛС_облако'] = df_dub_snils['СНИЛС_облако'].str.replace('.', '')"
   ]
  },
  {
   "cell_type": "code",
   "execution_count": 19,
   "id": "2e927952-fe28-43b2-a64d-5c57e166b13b",
   "metadata": {},
   "outputs": [],
   "source": [
    "df_dub_snils = df_dub_snils[df_dub_snils.duplicated('СНИЛС_облако', keep=False)]\n",
    "\n",
    "df_dub_snils = df_dub_snils.loc[\n",
    "    ~df_dub_snils['СНИЛС_облако'].isna()][[\n",
    "    'Дата включения пациента в Реестр_облако',\n",
    " 'ФИО пациента_облако',\n",
    " 'Пол_облако',\n",
    " 'Дата рождения_облако',\n",
    " 'Гражданский статус_облако',\n",
    "\n",
    " 'СНИЛС_облако',\n",
    "    'СНИЛС_1с',\n",
    "    'Пациент_1с'\n",
    "]]"
   ]
  },
  {
   "cell_type": "code",
   "execution_count": 20,
   "id": "68190a1c-6d61-46bd-a66d-63c604ae6e6d",
   "metadata": {},
   "outputs": [
    {
     "data": {
      "text/plain": [
       "(11, 8)"
      ]
     },
     "execution_count": 20,
     "metadata": {},
     "output_type": "execute_result"
    }
   ],
   "source": [
    "df_dub_snils.to_excel('df_dub_snils.xlsx')\n",
    "df_dub_snils.shape"
   ]
  },
  {
   "cell_type": "markdown",
   "id": "3f626ca4-5eb4-4587-ba22-d98bfb897b26",
   "metadata": {
    "tags": []
   },
   "source": [
    "###\n",
    "<div class=\"alert alert-block alert-success\"> <font size=3>\n",
    "<b>  Дубли ОБЛАКА - ПОЛИС <br>\n",
    "</b>            </div>"
   ]
  },
  {
   "cell_type": "code",
   "execution_count": 21,
   "id": "32483ad5-1a5e-4219-9acf-e54e0d0f99e4",
   "metadata": {},
   "outputs": [],
   "source": [
    "# --------- преобразовать написание СНИЛС -----\n",
    "df_dub_oms = df_merg.copy()\n",
    "df_dub_oms\n",
    "\n",
    "df_dub_oms['Полис ОМС_облако'] = df_dub_oms['Полис ОМС_облако'].str.replace('-', '')\n",
    "df_dub_oms['Полис ОМС_облако'] = df_dub_oms['Полис ОМС_облако'].str.replace(' ', '')\n",
    "df_dub_oms['Полис ОМС_облако'] = df_dub_oms['Полис ОМС_облако'].str.replace('/', '')\n",
    "df_dub_oms['Полис ОМС_облако'] = df_dub_oms['Полис ОМС_облако'].str.replace('.', '')"
   ]
  },
  {
   "cell_type": "code",
   "execution_count": 22,
   "id": "255264a5-100f-4085-9542-d26f3208c290",
   "metadata": {},
   "outputs": [],
   "source": [
    "df_dub_oms = df_dub_oms[df_dub_oms.duplicated('Полис ОМС_облако', keep=False)]\n",
    "\n",
    "df_dub_oms = df_dub_oms.loc[\n",
    "    ~df_dub_oms['Полис ОМС_облако'].isna()][[\n",
    "    'Дата включения пациента в Реестр_облако',\n",
    " 'ФИО пациента_облако',\n",
    " 'Пол_облако',\n",
    " 'Дата рождения_облако',\n",
    " 'Гражданский статус_облако',\n",
    "\n",
    " 'Полис ОМС_облако',\n",
    "    'Полис ОМС_1с',\n",
    "    'Пациент_1с'\n",
    "]]"
   ]
  },
  {
   "cell_type": "code",
   "execution_count": 23,
   "id": "8ca80d40-e10b-436f-9e5a-fb7e8758390b",
   "metadata": {},
   "outputs": [],
   "source": [
    "df_dub_oms.shape\n",
    "df_dub_oms.to_excel('df_dub_oms.xlsx')"
   ]
  },
  {
   "cell_type": "markdown",
   "id": "911b711e-bc8d-411b-84a3-642fe38c038c",
   "metadata": {
    "tags": []
   },
   "source": [
    "###\n",
    "<div class=\"alert alert-block alert-success\"> <font size=3>\n",
    "<b>  Пустоты (облака) ДР<br>\n",
    "</b>            </div>"
   ]
  },
  {
   "cell_type": "code",
   "execution_count": 24,
   "id": "e1cb6725-0e59-48b2-a1bb-906c656352a0",
   "metadata": {},
   "outputs": [],
   "source": [
    "df_cloud_pusto_dr = df_merg.loc[\n",
    "       df_merg['Дата рождения_облако'].isna()\n",
    "                                                                          ][[\n",
    "    'id пациента_облако',\n",
    " 'ФИО пациента_облако',\n",
    " 'Дата рождения_облако',\n",
    "    # 'Дата рождения_1с',\n",
    "     'Дата включения пациента в Реестр_облако',\n",
    "      'Дата постановки на учет/включения пациента в реестр_1с',\n",
    " 'Медицинская организация, к которой прикреплен пациент для оказания паллиативной специализированной медицинской помощи в амбулаторных условиях_облако',\n",
    "      'Текущий статус пациента_облако',   \n",
    " 'Курирующее подразделение/филиал_1с',\n",
    "     'Текущий статус пациента_1с',\n",
    "]]\n",
    "df_cloud_pusto_dr.shape\n",
    "df_cloud_pusto_dr.to_excel('df_cloud_pusto_dr.xlsx')"
   ]
  },
  {
   "cell_type": "markdown",
   "id": "ca6732ac-09d4-4253-a4ea-8da7138438aa",
   "metadata": {
    "tags": []
   },
   "source": [
    "###\n",
    "<div class=\"alert alert-block alert-success\"> <font size=3>\n",
    "<b>  Пустоты (облака) id-ЕМИАС<br>\n",
    "</b>            </div>"
   ]
  },
  {
   "cell_type": "code",
   "execution_count": 25,
   "id": "ab28ba25-799b-4521-bc7c-94515e19916e",
   "metadata": {},
   "outputs": [],
   "source": [
    "df_merg['Дата включения пациента в Реестр_облако'] = pd.to_datetime(df_merg['Дата включения пациента в Реестр_облако'])"
   ]
  },
  {
   "cell_type": "code",
   "execution_count": 26,
   "id": "4173ab04-011e-48c4-9309-2cd1f4848c56",
   "metadata": {},
   "outputs": [],
   "source": [
    "df_cloud_pusto_id_emias = df_merg.loc[\n",
    "       df_merg['id пациента_облако'].isna()\n",
    "    & (df_merg['Дата включения пациента в Реестр_облако'] > '2023-11-15')\n",
    "                                                                          ][[\n",
    "    'id пациента_облако',\n",
    " 'ФИО пациента_облако',\n",
    " 'Дата рождения_облако',\n",
    "     'Дата включения пациента в Реестр_облако',\n",
    "      'Дата постановки на учет/включения пациента в реестр_1с',\n",
    " 'Медицинская организация, к которой прикреплен пациент для оказания паллиативной специализированной медицинской помощи в амбулаторных условиях_облако',\n",
    "      'Текущий статус пациента_облако',   \n",
    " 'Курирующее подразделение/филиал_1с',\n",
    "     'Текущий статус пациента_1с',\n",
    "]]\n",
    "df_cloud_pusto_id_emias.shape\n",
    "df_cloud_pusto_id_emias.to_excel('df_cloud_pusto_id_emias.xlsx')"
   ]
  },
  {
   "cell_type": "markdown",
   "id": "33246994-9d21-4927-ac1e-02305c5f8f38",
   "metadata": {
    "tags": []
   },
   "source": [
    "###\n",
    "<div class=\"alert alert-block alert-success\"> <font size=3>\n",
    "<b>  Пустоты (облака) СНИЛС<br>\n",
    "</b>            </div>"
   ]
  },
  {
   "cell_type": "code",
   "execution_count": 27,
   "id": "fa3b1615-79da-4655-9be8-7a0226eacc8b",
   "metadata": {},
   "outputs": [],
   "source": [
    "df_cloud_pusto_snils = df_merg.loc[\n",
    "       df_merg['СНИЛС_облако'].isna()\n",
    "                                      ][[\n",
    "    'id пациента_облако',\n",
    "    'ФИО пациента_облако',\n",
    "    'Дата рождения_облако',\n",
    "    'Дата включения пациента в Реестр_облако',\n",
    "    'Дата постановки на учет/включения пациента в реестр_1с',\n",
    "    'Медицинская организация, к которой прикреплен пациент для оказания паллиативной специализированной медицинской помощи в амбулаторных условиях_облако',\n",
    "    'Текущий статус пациента_облако',   \n",
    "    'Курирующее подразделение/филиал_1с',\n",
    "     'Текущий статус пациента_1с',\n",
    "     'СНИЛС_1с',\n",
    "]]\n",
    "df_cloud_pusto_snils.shape\n",
    "df_cloud_pusto_snils.to_excel('df_cloud_pusto_snils.xlsx')"
   ]
  },
  {
   "cell_type": "markdown",
   "id": "22d9af65-db9a-4313-bd33-1040e8879000",
   "metadata": {
    "tags": []
   },
   "source": [
    "###\n",
    "<div class=\"alert alert-block alert-success\"> <font size=3>\n",
    "<b>  Пустоты (облака) ПОЛИС<br>\n",
    "</b>            </div>"
   ]
  },
  {
   "cell_type": "code",
   "execution_count": 28,
   "id": "0272ac4d-2927-4a2f-92b8-5f97bd851c2d",
   "metadata": {},
   "outputs": [
    {
     "name": "stdout",
     "output_type": "stream",
     "text": [
      "(1, 10)\n"
     ]
    }
   ],
   "source": [
    "df_cloud_pusto_oms = df_merg.loc[\n",
    "       df_merg['Полис ОМС_облако'].isna()\n",
    "                                                                          ][[\n",
    "    'id пациента_облако',\n",
    " 'ФИО пациента_облако',\n",
    " 'Дата рождения_облако',\n",
    "     'Дата включения пациента в Реестр_облако',\n",
    "      'Дата постановки на учет/включения пациента в реестр_1с',\n",
    " 'Медицинская организация, к которой прикреплен пациент для оказания паллиативной специализированной медицинской помощи в амбулаторных условиях_облако',\n",
    "      'Текущий статус пациента_облако',   \n",
    " 'Курирующее подразделение/филиал_1с',\n",
    "     'Текущий статус пациента_1с',\n",
    "\n",
    "    'Полис ОМС_1с',\n",
    "]]\n",
    "df_cloud_pusto_oms.to_excel('df_cloud_pusto_oms.xlsx')\n",
    "print(df_cloud_pusto_oms.shape)"
   ]
  },
  {
   "cell_type": "markdown",
   "id": "85323219-2f9a-40dd-8439-dd9b72bf8dbb",
   "metadata": {
    "tags": []
   },
   "source": [
    "###\n",
    "<div class=\"alert alert-block alert-success\"> <font size=3>\n",
    "<b>  Пустоты (облака) ПАСПОРТ<br>\n",
    "</b>            </div>"
   ]
  },
  {
   "cell_type": "code",
   "execution_count": 29,
   "id": "7f767fdc-4477-492b-8838-81f474f79692",
   "metadata": {},
   "outputs": [
    {
     "name": "stdout",
     "output_type": "stream",
     "text": [
      "(1997, 10)\n"
     ]
    }
   ],
   "source": [
    "df_cloud_pusto_pasp = df_merg.loc[\n",
    "       df_merg['Номер документа, удостоверяющего личность_облако'].isna()\n",
    "                                                                          ][[\n",
    "    'id пациента_облако',\n",
    " 'ФИО пациента_облако',\n",
    " 'Дата рождения_облако',\n",
    "     'Дата включения пациента в Реестр_облако',\n",
    "      'Дата постановки на учет/включения пациента в реестр_1с',\n",
    " 'Медицинская организация, к которой прикреплен пациент для оказания паллиативной специализированной медицинской помощи в амбулаторных условиях_облако',\n",
    "      'Текущий статус пациента_облако',   \n",
    " 'Курирующее подразделение/филиал_1с',\n",
    "     'Текущий статус пациента_1с',\n",
    "\n",
    "    'Серия/№_1с',\n",
    "]]\n",
    "# df_cloud_pusto_pasp.to_excel('df_cloud_pusto_pasp.xlsx')\n",
    "print(df_cloud_pusto_pasp.shape)"
   ]
  },
  {
   "cell_type": "markdown",
   "id": "03dfe920-c45e-488b-bd1d-eff87db0046e",
   "metadata": {
    "tags": []
   },
   "source": [
    "###\n",
    "<div class=\"alert alert-block alert-success\"> <font size=3>\n",
    "<b>  пустая МО при наличии даты ВК (пациент - не новый)<br>\n",
    "</b>            </div>"
   ]
  },
  {
   "cell_type": "code",
   "execution_count": 30,
   "id": "49b44573-df43-4bf1-98e3-bce295d3753a",
   "metadata": {},
   "outputs": [],
   "source": [
    "df_cloud_pusto_mo = df_merg.loc[\n",
    "       ~df_merg['Дата выдачи заключения _облако'].isna()\n",
    "    & (df_merg['Наименование медицинской организации, выдавшей медицинское заключение _облако'].isna()    )\n",
    "      & (df_merg['Текущий статус пациента_облако'].str.contains('пациен') == False )\n",
    "    \n",
    "                                                                          ][[\n",
    "    'id пациента_облако',\n",
    "    'ФИО пациента_облако',\n",
    "    'Дата рождения_облако',\n",
    "\n",
    "    'Дата включения пациента в Реестр_облако',\n",
    "    'Дата выдачи заключения _облако',\n",
    "    'Наименование медицинской организации, выдавшей медицинское заключение _облако',\n",
    "    'Медицинская организация, в которой признали пациента нуждающимся в ПМП_1с',\n",
    "    \n",
    "    'Медицинская организация, к которой прикреплен пациент для оказания паллиативной специализированной медицинской помощи в амбулаторных условиях_облако',\n",
    "    'Текущий статус пациента_облако',   \n",
    "    'Курирующее подразделение/филиал_1с',\n",
    "    'Текущий статус пациента_1с',\n",
    "    ]]\n",
    "df_cloud_pusto_mo.shape\n",
    "df_cloud_pusto_mo.to_excel('df_cloud_pusto_mo.xlsx')"
   ]
  },
  {
   "cell_type": "markdown",
   "id": "b9ca24ad-b0ec-4297-9b3e-39b15f091c80",
   "metadata": {
    "tags": []
   },
   "source": [
    "###\n",
    "<div class=\"alert alert-block alert-success\"> <font size=3>\n",
    "<b>  Пустоты (облака) дата ВК (статус \"не новый\")<br>\n",
    "</b>            </div>"
   ]
  },
  {
   "cell_type": "code",
   "execution_count": 31,
   "id": "c90778c0-0a42-4217-86ee-e0bd0d8b957c",
   "metadata": {},
   "outputs": [],
   "source": [
    "df_cloud_pusto_vk = df_merg.loc[\n",
    "       df_merg['Дата выдачи заключения _облако'].isna()\n",
    "    & (df_merg['Текущий статус пациента_облако'].str.contains('пациен') == False )\n",
    "    \n",
    "                                                                          ][[\n",
    "    'id пациента_облако',\n",
    " 'ФИО пациента_облако',\n",
    " 'Дата рождения_облако',\n",
    "    'Дата выдачи заключения _облако',\n",
    "     'Дата включения пациента в Реестр_облако',\n",
    "      'Дата постановки на учет/включения пациента в реестр_1с',\n",
    " 'Медицинская организация, к которой прикреплен пациент для оказания паллиативной специализированной медицинской помощи в амбулаторных условиях_облако',\n",
    "      'Текущий статус пациента_облако',   \n",
    " 'Курирующее подразделение/филиал_1с',\n",
    "     'Текущий статус пациента_1с',\n",
    "]]\n",
    "df_cloud_pusto_vk.shape\n",
    "df_cloud_pusto_vk.to_excel('df_cloud_pusto_vk.xlsx')"
   ]
  },
  {
   "cell_type": "code",
   "execution_count": null,
   "id": "afd9dad8-9872-4c47-b27e-6907a2d20bd4",
   "metadata": {},
   "outputs": [],
   "source": []
  },
  {
   "cell_type": "markdown",
   "id": "4dde6608-3a4b-4a9a-8195-08598d6c0565",
   "metadata": {
    "tags": []
   },
   "source": [
    "###\n",
    "<div class=\"alert alert-block alert-success\"> <font size=3>\n",
    "<b>  Пустая Дата разрешения (облако) если Гражд статус \"немосквич\" <br>\n",
    "</b>            </div>"
   ]
  },
  {
   "cell_type": "code",
   "execution_count": 32,
   "id": "b7015504-27f6-494a-a20a-6429ed2a1609",
   "metadata": {},
   "outputs": [],
   "source": [
    "df_cloud_pusto_razresh = df_merg.loc[\n",
    "       df_merg['Дата выдачи разрешения_облако'].isna()\n",
    "    & (df_merg['Гражданский статус_облако'].str.contains('осквич') == False )\n",
    "    \n",
    "                                                                          ][[\n",
    "    'id пациента_облако',\n",
    " 'ФИО пациента_облако',\n",
    " 'Дата рождения_облако',\n",
    "    'Дата выдачи разрешения_облако',\n",
    "     'Дата включения пациента в Реестр_облако',\n",
    "      'Гражданский статус_облако',\n",
    " 'Медицинская организация, к которой прикреплен пациент для оказания паллиативной специализированной медицинской помощи в амбулаторных условиях_облако',\n",
    "      'Текущий статус пациента_облако',   \n",
    " 'Курирующее подразделение/филиал_1с',\n",
    "     'Текущий статус пациента_1с',\n",
    "]]\n",
    "df_cloud_pusto_razresh.shape\n",
    "df_cloud_pusto_razresh.to_excel('df_cloud_pusto_razresh.xlsx')"
   ]
  },
  {
   "cell_type": "markdown",
   "id": "4d7b0831-3880-4b34-8869-70de5d125bfa",
   "metadata": {
    "jp-MarkdownHeadingCollapsed": true,
    "tags": []
   },
   "source": [
    "### \n",
    "<hr>"
   ]
  },
  {
   "cell_type": "markdown",
   "id": "5eee0889-ed07-43e8-8260-1d0c8c432fa8",
   "metadata": {
    "tags": []
   },
   "source": [
    "###\n",
    "<div class=\"alert alert-block alert-success\"> <font size=3>\n",
    "<b>  Дата включения (облако) <> Дата вкл в гор.реестр<br>\n",
    "</b>            </div>"
   ]
  },
  {
   "cell_type": "code",
   "execution_count": 33,
   "id": "06d2f3da-3192-4be8-965e-92968ffe0c6c",
   "metadata": {},
   "outputs": [],
   "source": [
    "# df_merg.shape"
   ]
  },
  {
   "cell_type": "code",
   "execution_count": 34,
   "id": "4bab99fb-0385-465c-9267-d393ec861950",
   "metadata": {},
   "outputs": [],
   "source": [
    "# df_differ_date_includs_reestr = df_merg.loc[\n",
    "#        ~df_merg['Дата включения пациента в Реестр_облако'].isna()\n",
    "#     & (df_merg['Дата включения пациента в Реестр_облако'] != df_merg['Дата включения в реестр пациентов, нуждающихся в ПМП_1с'])\n",
    "#     & (~df_merg['Текущий статус пациента_облако'].isin(['Новый пациент','новый пациент']))\n",
    "#                                                                        ][[\n",
    "#  'ФИО пациента_облако',\n",
    "#  'Дата рождения_облако',\n",
    "#      'Дата включения пациента в Реестр_облако',\n",
    "#       'Дата постановки на учет/включения пациента в реестр_1с',\n",
    "#     'Дата включения в реестр пациентов, нуждающихся в ПМП_1с',\n",
    "#  'Медицинская организация, к которой прикреплен пациент для оказания паллиативной специализированной медицинской помощи в амбулаторных условиях_облако',\n",
    "#       'Текущий статус пациента_облако',   \n",
    "#  'Курирующее подразделение/филиал_1с',\n",
    "#      'Текущий статус пациента_1с',\n",
    "# ]]\n",
    "# df_differ_date_includs_reestr.shape\n",
    "# df_differ_date_includs_reestr"
   ]
  },
  {
   "cell_type": "markdown",
   "id": "b7d1995f-9c6d-4cc6-9be2-cd42dc9dfc8f",
   "metadata": {
    "tags": []
   },
   "source": [
    "###\n",
    "<div class=\"alert alert-block alert-success\"> <font size=3>\n",
    "<b>  'Текущий статус пациентас_x', - 'Текущий статус пациента_y',<br>\n",
    "</b>            </div>"
   ]
  },
  {
   "cell_type": "code",
   "execution_count": 35,
   "id": "21c21243-1916-4943-a9cf-9c972908aae0",
   "metadata": {},
   "outputs": [],
   "source": [
    "# df_merg['Текущий статус пациента_облако'] = df_merg['Текущий статус пациента_облако'].str.lower()\n",
    "# df_merg['Текущий статус пациента_1с'] = df_merg['Текущий статус пациента_1с'].str.lower()\n"
   ]
  },
  {
   "cell_type": "code",
   "execution_count": 36,
   "id": "17965b36-dc6d-440e-b1e3-44fa27da1715",
   "metadata": {
    "jupyter": {
     "source_hidden": true
    },
    "tags": []
   },
   "outputs": [],
   "source": [
    "# df_differ_now_status = df_merg.loc[\n",
    "      \n",
    "#     ((df_merg['Текущий статус пациента_облако'].str.contains('пациент') == False) &  (df_merg['Текущий статус пациента_1с'].str.contains('пациент') == False))\n",
    "#     &\n",
    "#     (\n",
    "#         df_merg['Текущий статус пациента_облако'].str.contains('стационар') & (((df_merg['Текущий статус пациента_1с'] != ''.str.contains('стационар') == False) | (df_merg['Текущий статус пациента_1с'].str.contains('госпит') == False  )))\n",
    "#     )\n",
    "    \n",
    "    \n",
    "# #     & (\n",
    "# #              ((df_merg['Текущий статус пациента_облако'] == 'прекращено оказание пмп') & (df_merg['Причина прекращения ПМП_облако'] == 'смерть пациента')) \n",
    "# #             & (df_merg['Текущий статус пациента_1с'] != 'умер')\n",
    "# #       )   \n",
    "    \n",
    "       \n",
    "#     # & (df_merg['Текущий статус пациента_облако'] != df_merg['Текущий статус пациента_1с'])\n",
    "    \n",
    "\n",
    "# ][[\n",
    "#  'ФИО пациента_облако',\n",
    "#  'Дата рождения_облако',\n",
    "#  'Дата включения пациента в Реестр_облако',\n",
    "#  'Дата постановки на учет/включения пациента в реестр_1с',\n",
    "#  'Медицинская организация, к которой прикреплен пациент для оказания паллиативной специализированной медицинской помощи в амбулаторных условиях_облако',\n",
    "      \n",
    "#  'Курирующее подразделение/филиал_1с',\n",
    "#  'Текущий статус пациента_облако',   \n",
    "#     'Причина прекращения ПМП_облако',\n",
    "#  'Текущий статус пациента_1с',\n",
    "#     'Клиент.Дата прекращения оказания ПМП_облако',\n",
    "#     'Дата прекращения оказания ПМП_1с',\n",
    "# ]]\n",
    "# df_differ_now_status.shape"
   ]
  },
  {
   "cell_type": "markdown",
   "id": "8bbacdf2-9141-4b21-b217-260fda454e7b",
   "metadata": {
    "tags": []
   },
   "source": [
    "###\n",
    "<div class=\"alert alert-block alert-success\"> <font size=3>\n",
    "<b>  'Пустой диагноз' облако  (есть в 1с),<br>\n",
    "</b>            </div>"
   ]
  },
  {
   "cell_type": "code",
   "execution_count": 37,
   "id": "9dbf7f8a-d3cc-4018-8852-a82a46e7e089",
   "metadata": {},
   "outputs": [],
   "source": [
    "# df_merg['Текущий статус пациента_облако'] = df_merg['Текущий статус пациента_облако'].str.lower()\n",
    "# df_merg['Текущий статус пациента_1с'] = df_merg['Текущий статус пациента_1с'].str.lower()\n"
   ]
  },
  {
   "cell_type": "code",
   "execution_count": 38,
   "id": "53d3bba9-d59b-4515-8f58-6c7077697400",
   "metadata": {},
   "outputs": [],
   "source": [
    "df_cloud_pusto_diagnoz = df_merg.loc[\n",
    "      \n",
    "    # (~df_merg['Текущий статус пациента_облако'].str.contains('пациент') &  ~df_merg['Текущий статус пациента_1с'].str.contains('пациент'))\n",
    "    df_merg['Основной диагноз_облако'].isna()\n",
    "    & ~df_merg['Основной диагноз по МКБ-10_1с'].isna()\n",
    "                                                                   ][[\n",
    " 'ФИО пациента_облако',\n",
    " 'Дата рождения_облако',\n",
    " 'Дата включения пациента в Реестр_облако',\n",
    " 'Дата постановки на учет/включения пациента в реестр_1с',\n",
    " 'Медицинская организация, к которой прикреплен пациент для оказания паллиативной специализированной медицинской помощи в амбулаторных условиях_облако',\n",
    "      \n",
    " 'Курирующее подразделение/филиал_1с',\n",
    " 'Текущий статус пациента_облако',   \n",
    " 'Текущий статус пациента_1с',\n",
    "    'Клиент.Дата прекращения оказания ПМП_облако',\n",
    "    'Дата прекращения оказания ПМП_1с',\n",
    "    'Основной диагноз_облако',\n",
    "    'Основной диагноз по МКБ-10_1с',\n",
    "    \n",
    "]]\n",
    "df_cloud_pusto_diagnoz.shape\n",
    "df_cloud_pusto_diagnoz.to_excel('df_cloud_pusto_diagnoz.xlsx')"
   ]
  },
  {
   "cell_type": "markdown",
   "id": "4175a5b2-ef11-47be-8348-a3c6d2082e5f",
   "metadata": {
    "tags": []
   },
   "source": [
    "###\n",
    "<div class=\"alert alert-block alert-success\"> <font size=3>\n",
    "<b>  Отличия диагнозов между ОБЛАКОМ и 1С !!<br>\n",
    "</b>            </div>"
   ]
  },
  {
   "cell_type": "code",
   "execution_count": 39,
   "id": "f7fb4de4-fe20-4fdb-8f42-cccc593f20e6",
   "metadata": {},
   "outputs": [],
   "source": [
    "df_merg1 = df_merg.copy()"
   ]
  },
  {
   "cell_type": "code",
   "execution_count": 40,
   "id": "1ffe2950-5621-4c4f-9f50-2efaa8549763",
   "metadata": {},
   "outputs": [],
   "source": [
    "# df_merg['Текущий статус пациента_облако'] = df_merg['Текущий статус пациента_облако'].str.lower()\n",
    "# df_merg['Текущий статус пациента_1с'] = df_merg['Текущий статус пациента_1с'].str.lower()\n",
    "df_merg['Основной диагноз_облако'] = df_merg['Основной диагноз_облако'].astype(str)\n",
    "df_merg['Основной диагноз по МКБ-10_1с'] = df_merg['Основной диагноз по МКБ-10_1с'].astype(str)"
   ]
  },
  {
   "cell_type": "code",
   "execution_count": 41,
   "id": "45e1631c-d21a-4b19-9e46-ff59960468fd",
   "metadata": {},
   "outputs": [],
   "source": [
    "def digit_diagnoz(diagnoz_str):\n",
    "    digit_ = ''.join(filter(str.isdigit, diagnoz_str))\n",
    "   \n",
    "    return f'{digit_}'"
   ]
  },
  {
   "cell_type": "code",
   "execution_count": 42,
   "id": "abbd4554-7bac-420d-ad25-4d0f24a80bb4",
   "metadata": {},
   "outputs": [],
   "source": [
    "df_merg['digit_diagnoz_cloud'] = df_merg['Основной диагноз_облако'].apply(digit_diagnoz)\n",
    "df_merg['digit_diagnoz_1c'] = df_merg['Основной диагноз по МКБ-10_1с'].apply(digit_diagnoz)"
   ]
  },
  {
   "cell_type": "code",
   "execution_count": 43,
   "id": "80ba6a10-7c36-43ab-bb83-1850cbbe8d90",
   "metadata": {},
   "outputs": [
    {
     "data": {
      "text/plain": [
       "(200, 14)"
      ]
     },
     "execution_count": 43,
     "metadata": {},
     "output_type": "execute_result"
    }
   ],
   "source": [
    "df_diff_diagnoz = df_merg.loc[\n",
    "      \n",
    "      ((df_merg['Основной диагноз_облако'] != 'nan') & (df_merg['Основной диагноз по МКБ-10_1с'] != 'nan'))\n",
    "    \n",
    "     & (df_merg['digit_diagnoz_cloud'] != df_merg['digit_diagnoz_1c'])\n",
    "                                                                   ][[\n",
    " 'ФИО пациента_облако',\n",
    " 'Дата рождения_облако',\n",
    " 'Дата включения пациента в Реестр_облако',\n",
    " 'Дата постановки на учет/включения пациента в реестр_1с',\n",
    " 'Медицинская организация, к которой прикреплен пациент для оказания паллиативной специализированной медицинской помощи в амбулаторных условиях_облако',\n",
    "      \n",
    " 'Курирующее подразделение/филиал_1с',\n",
    " 'Текущий статус пациента_облако',   \n",
    " 'Текущий статус пациента_1с',\n",
    "    'Клиент.Дата прекращения оказания ПМП_облако',\n",
    "    'Дата прекращения оказания ПМП_1с',\n",
    "    'Основной диагноз_облако',\n",
    "    'Основной диагноз по МКБ-10_1с',\n",
    "    'digit_diagnoz_cloud', 'digit_diagnoz_1c',\n",
    "]]\n",
    "df_diff_diagnoz.shape"
   ]
  },
  {
   "cell_type": "code",
   "execution_count": 44,
   "id": "14b4805c-5f9b-4ac0-b9b4-1eb8c4889d21",
   "metadata": {},
   "outputs": [],
   "source": [
    "df_diff_diagnoz.to_excel('df_diff_diagnoz.xlsx')"
   ]
  },
  {
   "cell_type": "markdown",
   "id": "e2e6f82e-87f0-4c85-a3e4-07ab8fb103fe",
   "metadata": {
    "tags": []
   },
   "source": [
    "###\n",
    "<div class=\"alert alert-block alert-success\"> <font size=3>\n",
    "<b> статус заявки \"новая\" продолжительность более 5 дней\n",
    "</b>            </div>"
   ]
  },
  {
   "cell_type": "code",
   "execution_count": 45,
   "id": "e5069a35-7eb2-4bdb-9ec7-8254b14769c8",
   "metadata": {},
   "outputs": [],
   "source": [
    "now = pd.to_datetime('today').normalize()"
   ]
  },
  {
   "cell_type": "code",
   "execution_count": 46,
   "id": "d0738713-bdf5-4612-8cf8-43c6cb1e8f48",
   "metadata": {},
   "outputs": [],
   "source": [
    "df_merg['Дата создания заявки_облако'] = pd.to_datetime(df_merg['Дата создания заявки_облако'])\n",
    "df_merg['Дата создания заявки_облако'] = pd.to_datetime(df_merg['Дата создания заявки_облако'])"
   ]
  },
  {
   "cell_type": "code",
   "execution_count": 47,
   "id": "7b3c7b31-f4ab-4c72-b4ba-620d3afd3c46",
   "metadata": {},
   "outputs": [
    {
     "data": {
      "text/plain": [
       "(50, 10)"
      ]
     },
     "execution_count": 47,
     "metadata": {},
     "output_type": "execute_result"
    }
   ],
   "source": [
    "df_cloud_long_zayavka = df_merg.loc[\n",
    "    (df_merg[ 'Статус заявки_облако'].str.contains('овая') == False)\n",
    "    & ((now - df_merg['Дата создания заявки_облако']) > '5 days')                                                             \n",
    "                                                                   ][[\n",
    "                                                              \n",
    "    'id пациента_облако',\n",
    " 'ФИО пациента_облако',\n",
    " 'Дата рождения_облако',\n",
    "         'Дата включения пациента в Реестр_облако',\n",
    "   'Статус заявки_облако',\n",
    "      'Гражданский статус_облако',\n",
    " 'Медицинская организация, к которой прикреплен пациент для оказания паллиативной специализированной медицинской помощи в амбулаторных условиях_облако',\n",
    "      'Текущий статус пациента_облако',   \n",
    " 'Курирующее подразделение/филиал_1с',\n",
    "     'Текущий статус пациента_1с',\n",
    "]]\n",
    "df_cloud_long_zayavka.shape"
   ]
  },
  {
   "cell_type": "code",
   "execution_count": 48,
   "id": "4461657d-3db5-422f-ad15-e55baf1c95dd",
   "metadata": {},
   "outputs": [],
   "source": [
    "df_cloud_long_zayavka.to_excel('df_cloud_long_zayavka.xlsx')"
   ]
  },
  {
   "cell_type": "markdown",
   "id": "f1543ee9-c855-4a01-a103-c77134db60b5",
   "metadata": {
    "tags": []
   },
   "source": [
    "###\n",
    "<div class=\"alert alert-block alert-success\"> <font size=3>\n",
    "<b> статус заявки \"новая\", текущ статус - \"не новый\"\n",
    "</b>            </div>"
   ]
  },
  {
   "cell_type": "code",
   "execution_count": 49,
   "id": "f266bdd8-4292-413a-a5a7-bf735d1e1e02",
   "metadata": {},
   "outputs": [
    {
     "data": {
      "text/plain": [
       "(8, 8)"
      ]
     },
     "execution_count": 49,
     "metadata": {},
     "output_type": "execute_result"
    }
   ],
   "source": [
    "df_cloud_status_not_new = df_merg.loc[\n",
    "    (df_merg[ 'Статус заявки_облако'].str.contains('овая') == True)\n",
    "    & (df_merg['Текущий статус пациента_облако'].str.contains('овый') == False ) \n",
    "                                                                   ][[\n",
    "\n",
    " 'ФИО пациента_облако',\n",
    " 'Дата рождения_облако',\n",
    "         'Дата включения пациента в Реестр_облако',\n",
    "   'Статус заявки_облако',\n",
    "    'Текущий статус пациента_облако',  \n",
    "       'Медицинская организация, к которой прикреплен пациент для оказания паллиативной специализированной медицинской помощи в амбулаторных условиях_облако',\n",
    "       \n",
    " 'Курирующее подразделение/филиал_1с',\n",
    "     'Текущий статус пациента_1с',\n",
    "]]\n",
    "df_cloud_status_not_new.shape"
   ]
  },
  {
   "cell_type": "code",
   "execution_count": 50,
   "id": "1fa48a86-cb33-4d42-a9ab-2e92a332a17d",
   "metadata": {},
   "outputs": [],
   "source": [
    "df_cloud_status_not_new.to_excel('df_cloud_status_not_new.xlsx')"
   ]
  },
  {
   "cell_type": "markdown",
   "id": "aa5e820a-9326-4271-a5ad-089c6aa4d234",
   "metadata": {
    "tags": []
   },
   "source": [
    "###\n",
    "<div class=\"alert alert-block alert-success\"> <font size=3>\n",
    "<b> прекращено оказание - - причина Пустая\n",
    "</b>            </div>"
   ]
  },
  {
   "cell_type": "code",
   "execution_count": 51,
   "id": "70b5b282-ea97-4173-908e-64ba0b30bc8e",
   "metadata": {},
   "outputs": [
    {
     "data": {
      "text/plain": [
       "(4, 7)"
      ]
     },
     "execution_count": 51,
     "metadata": {},
     "output_type": "execute_result"
    }
   ],
   "source": [
    "df_cloud_stop_pusto = df_merg.loc[\n",
    "    (df_merg[ 'Текущий статус пациента_облако'].str.contains('оказание') == True)\n",
    "    & (df_merg['Причина прекращения ПМП_облако'].isna()) \n",
    "                                                                   ][[\n",
    "\n",
    " 'ФИО пациента_облако',\n",
    " 'Дата рождения_облако',\n",
    "         'Дата включения пациента в Реестр_облако',\n",
    "    'Текущий статус пациента_облако',  \n",
    "       'Медицинская организация, к которой прикреплен пациент для оказания паллиативной специализированной медицинской помощи в амбулаторных условиях_облако',\n",
    "       \n",
    " 'Курирующее подразделение/филиал_1с',\n",
    "     'Текущий статус пациента_1с',\n",
    "]]\n",
    "df_cloud_stop_pusto.shape"
   ]
  },
  {
   "cell_type": "code",
   "execution_count": 52,
   "id": "e1a2ab34-2514-4ea2-be6a-134d231b8d37",
   "metadata": {},
   "outputs": [],
   "source": [
    "df_cloud_stop_pusto.to_excel('df_cloud_stop_pusto.xlsx')"
   ]
  },
  {
   "cell_type": "markdown",
   "id": "ffd8f6cd-96b1-4d27-9570-8b7e4021e5b5",
   "metadata": {
    "tags": []
   },
   "source": [
    "###\n",
    "<div class=\"alert alert-block alert-success\"> <font size=3>\n",
    "<b> прекращено оказание -- дата Пустая\n",
    "</b>            </div>"
   ]
  },
  {
   "cell_type": "code",
   "execution_count": 53,
   "id": "bc7759d9-6598-4898-b3a4-42ecf83aca8c",
   "metadata": {},
   "outputs": [
    {
     "data": {
      "text/plain": [
       "(23, 8)"
      ]
     },
     "execution_count": 53,
     "metadata": {},
     "output_type": "execute_result"
    }
   ],
   "source": [
    "df_cloud_prekrash_data_pusto = df_merg.loc[\n",
    "    (df_merg[ 'Текущий статус пациента_облако'].str.contains('оказание') == True)\n",
    "    & (df_merg['Клиент.Дата прекращения оказания ПМП_облако'].isna()) \n",
    "                                                                   ][[\n",
    "\n",
    " 'ФИО пациента_облако',\n",
    " 'Дата рождения_облако',\n",
    "         'Дата включения пациента в Реестр_облако',\n",
    "    'Текущий статус пациента_облако',  \n",
    "    'Клиент.Дата прекращения оказания ПМП_облако',\n",
    "       'Медицинская организация, к которой прикреплен пациент для оказания паллиативной специализированной медицинской помощи в амбулаторных условиях_облако',\n",
    "       \n",
    " 'Курирующее подразделение/филиал_1с',\n",
    "     'Текущий статус пациента_1с',\n",
    "]]\n",
    "df_cloud_prekrash_data_pusto.shape"
   ]
  },
  {
   "cell_type": "code",
   "execution_count": 54,
   "id": "bee03cba-b520-42d5-835f-d399e5e557e3",
   "metadata": {},
   "outputs": [],
   "source": [
    "df_cloud_prekrash_data_pusto.to_excel('df_cloud_prekrash_data_pusto.xlsx')"
   ]
  },
  {
   "cell_type": "markdown",
   "id": "63cd88be-1556-4344-a242-477e7290e378",
   "metadata": {
    "tags": []
   },
   "source": [
    "###\n",
    "<div class=\"alert alert-block alert-success\"> <font size=3>\n",
    "<b> причина - смерть - дата прекр Пустая\n",
    "</b>            </div>"
   ]
  },
  {
   "cell_type": "code",
   "execution_count": 55,
   "id": "adea5737-0db3-4d0c-b989-0f4fae1af752",
   "metadata": {},
   "outputs": [],
   "source": [
    "df_merg['Дата рождения_облако'] = pd.to_datetime(df_merg['Дата рождения_облако']).dt.date\n"
   ]
  },
  {
   "cell_type": "code",
   "execution_count": 56,
   "id": "2718ba34-9603-402f-96ae-f6cd2dfec8f8",
   "metadata": {},
   "outputs": [
    {
     "data": {
      "text/html": [
       "<div>\n",
       "<style scoped>\n",
       "    .dataframe tbody tr th:only-of-type {\n",
       "        vertical-align: middle;\n",
       "    }\n",
       "\n",
       "    .dataframe tbody tr th {\n",
       "        vertical-align: top;\n",
       "    }\n",
       "\n",
       "    .dataframe thead th {\n",
       "        text-align: right;\n",
       "    }\n",
       "</style>\n",
       "<table border=\"1\" class=\"dataframe\">\n",
       "  <thead>\n",
       "    <tr style=\"text-align: right;\">\n",
       "      <th></th>\n",
       "      <th>ФИО пациента_облако</th>\n",
       "      <th>Дата рождения_облако</th>\n",
       "      <th>Дата включения пациента в Реестр_облако</th>\n",
       "      <th>Текущий статус пациента_облако</th>\n",
       "      <th>Причина прекращения ПМП_облако</th>\n",
       "      <th>Клиент.Дата прекращения оказания ПМП_облако</th>\n",
       "      <th>Дата смерти_облако</th>\n",
       "      <th>Медицинская организация, к которой прикреплен пациент для оказания паллиативной специализированной медицинской помощи в амбулаторных условиях_облако</th>\n",
       "      <th>Курирующее подразделение/филиал_1с</th>\n",
       "      <th>Текущий статус пациента_1с</th>\n",
       "    </tr>\n",
       "  </thead>\n",
       "  <tbody>\n",
       "    <tr>\n",
       "      <th>521</th>\n",
       "      <td>Еремко Андрей Владимирович</td>\n",
       "      <td>1960-07-20</td>\n",
       "      <td>2023-06-29</td>\n",
       "      <td>прекращено оказание ПМП</td>\n",
       "      <td>смерть пациента</td>\n",
       "      <td>NaN</td>\n",
       "      <td>NaN</td>\n",
       "      <td>Люблино ОВПП</td>\n",
       "      <td>Люблино ОВПП</td>\n",
       "      <td>Умер</td>\n",
       "    </tr>\n",
       "    <tr>\n",
       "      <th>5335</th>\n",
       "      <td>Маренов Михаил Васильевич</td>\n",
       "      <td>1947-11-18</td>\n",
       "      <td>2023-10-14</td>\n",
       "      <td>прекращено оказание ПМП</td>\n",
       "      <td>смерть пациента</td>\n",
       "      <td>17.11.2023</td>\n",
       "      <td>NaN</td>\n",
       "      <td>Преображенское ОВПП</td>\n",
       "      <td>Преображенское ОВПП</td>\n",
       "      <td>Умер</td>\n",
       "    </tr>\n",
       "  </tbody>\n",
       "</table>\n",
       "</div>"
      ],
      "text/plain": [
       "             ФИО пациента_облако Дата рождения_облако  \\\n",
       "521   Еремко Андрей Владимирович           1960-07-20   \n",
       "5335   Маренов Михаил Васильевич           1947-11-18   \n",
       "\n",
       "     Дата включения пациента в Реестр_облако Текущий статус пациента_облако  \\\n",
       "521                               2023-06-29        прекращено оказание ПМП   \n",
       "5335                              2023-10-14        прекращено оказание ПМП   \n",
       "\n",
       "     Причина прекращения ПМП_облако  \\\n",
       "521                 смерть пациента   \n",
       "5335                смерть пациента   \n",
       "\n",
       "     Клиент.Дата прекращения оказания ПМП_облако Дата смерти_облако  \\\n",
       "521                                          NaN                NaN   \n",
       "5335                                  17.11.2023                NaN   \n",
       "\n",
       "     Медицинская организация, к которой прикреплен пациент для оказания паллиативной специализированной медицинской помощи в амбулаторных условиях_облако  \\\n",
       "521                                        Люблино ОВПП                                                                                                     \n",
       "5335                                Преображенское ОВПП                                                                                                     \n",
       "\n",
       "     Курирующее подразделение/филиал_1с Текущий статус пациента_1с  \n",
       "521                        Люблино ОВПП                       Умер  \n",
       "5335                Преображенское ОВПП                       Умер  "
      ]
     },
     "execution_count": 56,
     "metadata": {},
     "output_type": "execute_result"
    }
   ],
   "source": [
    "df_cloud_dead_data_pusto = df_merg.loc[\n",
    "    (df_merg[ 'Текущий статус пациента_облако'].str.contains('оказание') == True)\n",
    "    &(df_merg[ 'Причина прекращения ПМП_облако'].str.contains('мерть') == True)\n",
    "    & (\n",
    "        (df_merg['Клиент.Дата прекращения оказания ПМП_облако'].isna()\n",
    "       | (df_merg['Дата смерти_облако'].isna())       \n",
    "        )) \n",
    "                                                                   ][[\n",
    "\n",
    " 'ФИО пациента_облако',\n",
    " 'Дата рождения_облако',\n",
    "         'Дата включения пациента в Реестр_облако',\n",
    "    'Текущий статус пациента_облако',  \n",
    "    'Причина прекращения ПМП_облако',\n",
    "    'Клиент.Дата прекращения оказания ПМП_облако',\n",
    "    'Дата смерти_облако',\n",
    "       'Медицинская организация, к которой прикреплен пациент для оказания паллиативной специализированной медицинской помощи в амбулаторных условиях_облако',\n",
    "       \n",
    " 'Курирующее подразделение/филиал_1с',\n",
    "     'Текущий статус пациента_1с',\n",
    "]]\n",
    "df_cloud_dead_data_pusto"
   ]
  },
  {
   "cell_type": "markdown",
   "id": "75a002ab-0482-4d90-bdf9-f49e259607a8",
   "metadata": {},
   "source": [
    "###\n",
    "<div class=\"alert alert-block alert-success\"> <font size=3>\n",
    "<b> Вывод"
   ]
  },
  {
   "cell_type": "code",
   "execution_count": 59,
   "id": "35823a08-4965-47a6-8aac-8d6e3a5c1efd",
   "metadata": {},
   "outputs": [
    {
     "data": {
      "text/markdown": [
       " # Динамика мониторинга чистоты на 24-11-2023_08:33 :\n",
       "\n",
       "| Параметр | Количество | Сохранен в файл |- | - |\n",
       "|-:|:|:-|:-|:-|\n",
       "| - __Всего__ записей в облаке| __13335__      | - | - |- |\n",
       "| - возможные __опечатки__| 23                      | df_opechatka_fio_dr.xlsx | - |- |\n",
       "| - __Дубли__ ФИО+ДР (с повторами)             | 6          | duble_cloude_fio.xlsx |---- |---- |\n",
       "| - __Дубли__ СНИЛС (с повторами)              | 11             | df_dub_snils.xlsx |---- |---- |\n",
       "| - __Дубли__ Полис-ОМС (с повторами)          | 8                  | df_dub_oms.xlsx |---- |---- |\n",
       "| - пустой id-ЕМИАС (в облаке) (позже 15.11.23) | 50   | df_cloud_pusto_id_emias.xlsx |---- |---- |\n",
       "| - пустой СНИЛС   (в облаке)              | 8   | df_cloud_pusto_snils.xlsx |---- |---- |\n",
       "| - пустой ОМС  (в облаке)                 | 1   | df_cloud_pusto_oms.xlsx |---- |---- |\n",
       "| - пустое ДР (в облаке)                 | 11   | df_cloud_pusto_dr.xlsx |---- |---- |\n",
       "| - пустая дата ВК(в облаке)  (статус \"не новый\")              | 93   | df_cloud_pusto_vk.xlsx |---- |---- |\n",
       "| - пустая МО при наличии даты ВК (пациент - не новый)               | 25 |  df_cloud_pusto_mo.xlsx |---- |---- |\n",
       "| - Пустая Дата разрешения (облако) если Гражд статус \"не москвич\"               | 9 |  df_cloud_pusto_razresh.xlsx |---- |---- |\n",
       "| - Пустой диагноз в облаке  (есть в 1с)   | 26 |  df_cloud_pusto_diagnoz.xlsx |---- |---- |\n",
       "| - статус заявки \"новая\" продолжительность более 5 дней                | 50  | df_cloud_long_zayavka.xlsx |---- |---- |\n",
       "| - статус заявки \"новая\", текущ статус - \"не новый\"                | 8  | df_cloud_status_not_new.xlsx |---- |---- |\n",
       "| - прекращено оказание (в облаке) причина Пустая                | 11  | df_cloud_pusto_dr.xlsx |---- |---- |\n",
       "| - прекращено оказание (в облаке) дата Пустая                | 23   |df_cloud_prekrash_data_pusto.xlsx |---- |---- |\n",
       "| - причина - смерть - дата прекр Пустая                | 2   |df_cloud_dead_data_pusto.xlsx |---- |---- |\n",
       "| - Отличия диагнозов между ОБЛАКОМ и 1С   | 200  | df_diff_diagnoz.xlsx |---- |---- |\n",
       "\n",
       "\n",
       "\n"
      ]
     },
     "metadata": {},
     "output_type": "display_data"
    }
   ],
   "source": [
    "# ---------------------------- ИТОГИ ---------------\n",
    "start = '24-11-2023_08:33'\n",
    "\n",
    "god_start = start.split('-')[0]\n",
    "mes_start = start.split('-')[1]\n",
    "day_start = start.split('-')[2]\n",
    "\n",
    "# ------------------------------------------------готовим реестр ------\n",
    "df_opechatka_fio_dr.shape\n",
    "\n",
    "# ------------------------------------------------собираем данные ------\n",
    "# all_clients  = def_data_all_clients(df_reest, start, finish)\n",
    "# new_clients  = def_data_new_clients(df_reest, start, finish)\n",
    "# dead_clients = def_data_dead_clients(df_reest, start, finish)\n",
    "# inogorod_clients = def_data_inogorod_clients(df_reest, start, finish)\n",
    "# data_inogorod_clients_all = def_data_inogorod_clients_all(df_reest, start, finish)\n",
    "\n",
    "# df_live = def_live_clients_today(df_reest)\n",
    "\n",
    "a = f'Динамика мониторинга чистоты на {start} :'\n",
    "\n",
    "display_markdown(f''' # {a}\n",
    "\n",
    "| Параметр | Количество | Сохранен в файл |- | - |\n",
    "|-:|:|:-|:-|:-|\n",
    "| - __Всего__ записей в облаке| __{df_cloud.shape[0]}__      | - | - |- |\n",
    "| - возможные __опечатки__| {df_opechatka_fio_dr.shape[0]}                      | df_opechatka_fio_dr.xlsx | - |- |\n",
    "| - __Дубли__ ФИО+ДР (с повторами)             | {duble_cloude_fio.shape[0]}          | duble_cloude_fio.xlsx |---- |---- |\n",
    "| - __Дубли__ СНИЛС (с повторами)              | {df_dub_snils.shape[0]}             | df_dub_snils.xlsx |---- |---- |\n",
    "| - __Дубли__ Полис-ОМС (с повторами)          | {df_dub_oms.shape[0]}                  | df_dub_oms.xlsx |---- |---- |\n",
    "| - пустой id-ЕМИАС (в облаке) (позже 15.11.23) | {df_cloud_pusto_id_emias.shape[0]}   | df_cloud_pusto_id_emias.xlsx |---- |---- |\n",
    "| - пустой СНИЛС   (в облаке)              | {df_cloud_pusto_snils.shape[0]}   | df_cloud_pusto_snils.xlsx |---- |---- |\n",
    "| - пустой ОМС  (в облаке)                 | {df_cloud_pusto_oms.shape[0]}   | df_cloud_pusto_oms.xlsx |---- |---- |\n",
    "| - пустое ДР (в облаке)                 | {df_cloud_pusto_dr.shape[0]}   | df_cloud_pusto_dr.xlsx |---- |---- |\n",
    "| - пустая дата ВК(в облаке)  (статус \"не новый\")              | {df_cloud_pusto_vk.shape[0]}   | df_cloud_pusto_vk.xlsx |---- |---- |\n",
    "| - пустая МО при наличии даты ВК (пациент - не новый)               | {df_cloud_pusto_mo.shape[0]} |  df_cloud_pusto_mo.xlsx |---- |---- |\n",
    "| - Пустая Дата разрешения (облако) если Гражд статус \"не москвич\"               | {df_cloud_pusto_razresh.shape[0]} |  df_cloud_pusto_razresh.xlsx |---- |---- |\n",
    "| - Пустой диагноз в облаке  (есть в 1с)   | {df_cloud_pusto_diagnoz.shape[0]} |  df_cloud_pusto_diagnoz.xlsx |---- |---- |\n",
    "| - статус заявки \"новая\" продолжительность более 5 дней                | {df_cloud_long_zayavka.shape[0]}  | df_cloud_long_zayavka.xlsx |---- |---- |\n",
    "| - статус заявки \"новая\", текущ статус - \"не новый\"                | {df_cloud_status_not_new.shape[0]}  | df_cloud_status_not_new.xlsx |---- |---- |\n",
    "| - прекращено оказание (в облаке) причина Пустая                | {df_cloud_pusto_dr.shape[0]}  | df_cloud_pusto_dr.xlsx |---- |---- |\n",
    "| - прекращено оказание (в облаке) дата Пустая                | {df_cloud_prekrash_data_pusto.shape[0]}   |df_cloud_prekrash_data_pusto.xlsx |---- |---- |\n",
    "| - причина - смерть - дата прекр Пустая                | {df_cloud_dead_data_pusto.shape[0]}   |df_cloud_dead_data_pusto.xlsx |---- |---- |\n",
    "| - Отличия диагнозов между ОБЛАКОМ и 1С   | {df_diff_diagnoz.shape[0]}  | df_diff_diagnoz.xlsx |---- |---- |\n",
    "\n",
    "\n",
    "\n",
    "''', raw=True)"
   ]
  },
  {
   "cell_type": "code",
   "execution_count": null,
   "id": "9958eee8-9009-479b-8f7d-97ce84063503",
   "metadata": {},
   "outputs": [],
   "source": [
    "df_cloud_pusto_vk"
   ]
  },
  {
   "cell_type": "code",
   "execution_count": null,
   "id": "113ac169-9d43-48b0-b79a-e28cd1f8d06f",
   "metadata": {},
   "outputs": [],
   "source": [
    "# --------------------------------------------"
   ]
  },
  {
   "cell_type": "code",
   "execution_count": null,
   "id": "310ceb15-c9d1-4349-a08d-7dccff50bd9d",
   "metadata": {},
   "outputs": [],
   "source": [
    "# --------------------------------------------"
   ]
  },
  {
   "cell_type": "code",
   "execution_count": null,
   "id": "9f1e8d53-8c2e-47af-89f1-ddb7afe08917",
   "metadata": {},
   "outputs": [],
   "source": [
    "# --------------------------------------------"
   ]
  },
  {
   "cell_type": "code",
   "execution_count": null,
   "id": "7030b6f7-4b55-4234-bacf-c641624f369d",
   "metadata": {},
   "outputs": [],
   "source": [
    "# --------------------------------------------"
   ]
  },
  {
   "cell_type": "code",
   "execution_count": null,
   "id": "e66d5cec-fb0c-48c3-b91d-feca84a2d97e",
   "metadata": {},
   "outputs": [],
   "source": [
    "# | - Текущий статус пациента' облако <> 1с   | {df_differ_now_status.shape[0]}   |---- |---- |---- |"
   ]
  },
  {
   "cell_type": "code",
   "execution_count": null,
   "id": "be2e2197-00a8-41fd-86c4-bb020e60aec2",
   "metadata": {},
   "outputs": [],
   "source": []
  },
  {
   "cell_type": "code",
   "execution_count": 57,
   "id": "507f38ec-0ba0-4240-ab2e-f27dacf99e8a",
   "metadata": {},
   "outputs": [],
   "source": [
    "# **********************************"
   ]
  },
  {
   "cell_type": "code",
   "execution_count": 60,
   "id": "bae9f826-6185-4934-b75d-89f3ecf8cb88",
   "metadata": {},
   "outputs": [],
   "source": [
    "# df_cloud_dead_data_pusto['Дата рождения_облако'] = pd.to_datetime(df_cloud_dead_data_pusto['Дата рождения_облако']).dt.strftime('%Y-%m'))\n",
    "# df_cloud_dead_data_pusto"
   ]
  },
  {
   "cell_type": "code",
   "execution_count": null,
   "id": "386c3586-51e0-4552-aa6f-cd3e7e4abb9c",
   "metadata": {},
   "outputs": [],
   "source": [
    "# df_cloud_dead_data_pusto.to_excel('df_cloud_dead_data_pusto.xlsx')"
   ]
  },
  {
   "cell_type": "code",
   "execution_count": null,
   "id": "d371da26-7cce-49be-8268-b808b56c170d",
   "metadata": {},
   "outputs": [],
   "source": [
    "# pd.to_datetime(df[\"date\"].dt.strftime('%Y-%m'))"
   ]
  },
  {
   "cell_type": "code",
   "execution_count": null,
   "id": "64de1c2f-55fd-4ee4-92a5-a36bc508c94a",
   "metadata": {},
   "outputs": [],
   "source": []
  }
 ],
 "metadata": {
  "kernelspec": {
   "display_name": "Python 3 (ipykernel)",
   "language": "python",
   "name": "python3"
  },
  "language_info": {
   "codemirror_mode": {
    "name": "ipython",
    "version": 3
   },
   "file_extension": ".py",
   "mimetype": "text/x-python",
   "name": "python",
   "nbconvert_exporter": "python",
   "pygments_lexer": "ipython3",
   "version": "3.9.12"
  }
 },
 "nbformat": 4,
 "nbformat_minor": 5
}
