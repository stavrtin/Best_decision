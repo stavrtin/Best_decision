{
 "cells": [
  {
   "cell_type": "markdown",
   "id": "4dfc8c87-5623-47c9-b3ca-c6103dd25450",
   "metadata": {},
   "source": [
    "    v1 - правки в подсчете ВОЗРАСТА (06-10-23) возраст на дату НАЧАЛА периода"
   ]
  },
  {
   "cell_type": "code",
   "execution_count": 1,
   "id": "5ebf6cd0-3439-4585-9005-f8da6645eb80",
   "metadata": {
    "tags": []
   },
   "outputs": [],
   "source": [
    "import pandas as pd\n",
    "import numpy as np\n",
    "from IPython.display import display_markdown\n",
    "import warnings\n",
    "warnings.filterwarnings('ignore')"
   ]
  },
  {
   "cell_type": "markdown",
   "id": "3985295c-65f6-4d94-9953-77e227755fc8",
   "metadata": {
    "jp-MarkdownHeadingCollapsed": true,
    "tags": []
   },
   "source": [
    "<div class=\"alert alert-block alert-success\">     <font size=3>\n",
    "<!-- <div class=\"alert alert-block alert-info\"> <div class=\"alert alert-block alert-warning\"> <div class=\"alert alert-block alert-success\"> <div class=\"alert alert-block alert-danger\">      --> \n",
    "<b> На основе \"мониторинг_2кв_v5_dead_correct\" <br>\n",
    "</b>            </div>"
   ]
  },
  {
   "cell_type": "markdown",
   "id": "ae9be183-71a8-435e-a3cf-6a0e3fc3c001",
   "metadata": {
    "tags": []
   },
   "source": [
    "### \n",
    "<div class=\"alert alert-block alert-warning\">\n",
    "<!-- <div class=\"alert alert-block alert-info\"> <div class=\"alert alert-block alert-warning\"> <div class=\"alert alert-block alert-success\"> <div class=\"alert alert-block alert-danger\">      --> \n",
    "    <font size=3>\n",
    "<b> Функции для расчета  <br>\n",
    "</b>            </div>"
   ]
  },
  {
   "cell_type": "markdown",
   "id": "c5d817a2-a2da-4fd7-b8ea-11d87761d3df",
   "metadata": {
    "tags": []
   },
   "source": [
    "#### функция возраста"
   ]
  },
  {
   "cell_type": "code",
   "execution_count": 2,
   "id": "e67ea24c-e82a-42b8-879d-09072360cd15",
   "metadata": {},
   "outputs": [],
   "source": [
    "# -------------AGE -------------\n",
    "def calculate_age(x,y):\n",
    "    age = y.year - x.year - ((y.month, y.day) < (x.month, x.day)) \n",
    "    if age < 0:\n",
    "        age = 0\n",
    "    return age"
   ]
  },
  {
   "cell_type": "markdown",
   "id": "60c45a30-7cd0-4e6e-8a00-15e894cbf280",
   "metadata": {
    "tags": []
   },
   "source": [
    "#### функция 605го"
   ]
  },
  {
   "cell_type": "code",
   "execution_count": null,
   "id": "afcd598f-11f6-46fc-8edb-55c5dc7a34ea",
   "metadata": {},
   "outputs": [],
   "source": []
  },
  {
   "cell_type": "code",
   "execution_count": 3,
   "id": "a39f7c8f-b3cc-42dc-bfa9-6051845103c9",
   "metadata": {
    "tags": []
   },
   "outputs": [],
   "source": [
    "# def load_data_605(file_name, bmchu, bk, date_finish): -- изменения в подсчете ВОЗРАСТА -------------- 06.10.23 ----- возраст считаем для момента ВХОДА в ПЕРИОД (за время рассмотрения дети взрослеют и на конец периода мы их можем не поймать) --------\n",
    "def load_data_605(file_name, bmchu, bk, date_start):\n",
    "        \n",
    "     #     ---------- ЗАГРУЗКА и ПРЕДОБРАБОТКА файла 605го ----------------------\n",
    "    \n",
    "    # file_name = file_605\n",
    "    df = pd.read_csv(file_name, delimiter=';', encoding='cp1251')\n",
    "\n",
    "    # уберем лишние колонки\n",
    "    df_605 = df.copy()\n",
    "    df_605 = df_605[['Дата постановки на учет/включения пациента в реестр',\n",
    "           'Пациент', \n",
    "           'Дата рождения', 'Пол',\n",
    "           'Дата признания пациента нуждающимся в ПМП (ВК)',\n",
    "           'Текущий статус пациента',\n",
    "           'Дата прекращения оказания ПМП', \n",
    "             'Курирующее подразделение/филиал',\n",
    "                   'Гражданский статус' ,\n",
    "                    'Адрес', 'Основной диагноз по МКБ-10',\n",
    "                     'Адрес фактический',\n",
    "                     'Дата разрешения ДЗМ',\n",
    "                     'Номер разрешения ДЗМ',\n",
    "                     'БК',\n",
    "                     'Наблюдение в РЦ'\n",
    "                    ]]\n",
    "\n",
    "    #  переименуем покороче столбцы\n",
    "    df_605.rename(columns={'Дата постановки на учет/включения пациента в реестр': 'Дата_вкл_реестр'}, inplace=True)\n",
    "    df_605.rename(columns={'Дата рождения': 'ДР'}, inplace=True)\n",
    "    df_605.rename(columns={'Дата признания пациента нуждающимся в ПМП (ВК)': 'Дата_признания'}, inplace=True)\n",
    "    df_605.rename(columns={'Дата прекращения оказания ПМП': 'Дата_прекр'}, inplace=True)\n",
    "    df_605.rename(columns={'Курирующее подразделение/филиал': 'Филиал'}, inplace=True)\n",
    "    df_605.rename(columns={'Основной диагноз по МКБ-10': 'Диагноз'}, inplace=True)\n",
    "    df_605.rename(columns={'Гражданский статус': 'Иногород'}, inplace=True)\n",
    "\n",
    "    df_concat = pd.concat([df_605])\n",
    "\n",
    "\n",
    "    # ----------------форматнем дату к дате\n",
    "    df_concat['ДР'] = pd.to_datetime(df_concat['ДР'], dayfirst=True, errors = 'coerce').dt.normalize()\n",
    "    df_concat['Дата_вкл_реестр'] = pd.to_datetime(df_concat['Дата_вкл_реестр'], dayfirst=True, errors = 'coerce').dt.normalize()\n",
    "    df_concat['Дата_признания'] = pd.to_datetime(df_concat['Дата_признания'], dayfirst=True, errors = 'coerce').dt.normalize()\n",
    "    df_concat['Дата_прекр'] = pd.to_datetime(df_concat['Дата_прекр'], dayfirst=True, errors = 'coerce').dt.normalize()\n",
    "\n",
    "\n",
    "    # Уберем записи со СТАТУСОМ  'Умер без п/о', 'Новый пациент', 'Вне реестра', 'Врач КЦ'\n",
    "    # - удаляем строки. в которых текущий статус не заполнен =  nan\n",
    "    list_status_ubiraem = ['новый пациент', 'вне реестра', 'врач КЦ', 'Новый пациент', 'Умер без п/о', 'Вне реестра', 'Врач КЦ', 'умер без п/о'] # -----------------записи со СТАТУСОМ  'Умер без п/о', 'Новый пациент', 'Вне реестра', 'Врач КЦ'----------------\n",
    "    df_concat = df_concat.loc[(~df_concat['Текущий статус пациента'].isin(list_status_ubiraem))]   \n",
    "    df_concat = df_concat.loc[(~df_concat['Текущий статус пациента'].isna())]  # - удаляем строки. в которых текущий статус не заполнен =  nan\n",
    "\n",
    "\n",
    "    # ---------------------------------------------------------Уберем 'БМЧУ \"Детский хоспис\"' из наших данных ----------------------------\n",
    "    if bmchu != 'учитываем':\n",
    "        df_concat = df_concat.loc[df_concat['Филиал'] != 'БМЧУ \"Детский хоспис\"']  # - удаляем строки. в которых текущий статус не заполнен =  nan\n",
    "        \n",
    "        \n",
    "   #     # ---------------------------------------------------------Уберем 'БМЧУ \"Детский хоспис\"' из наших данных ----------------------------\n",
    "    if bk != 'с учетом БК':\n",
    "        df_concat = df_concat.loc[df_concat['БК'] != 'Да']  # - удаляем строки. в которых текущий статус не заполнен =  nan     \n",
    "\n",
    "    # УДАЛИМ полные дубликаиы строк (оставляем только ПЕРВЫЕ строки из повторов (из 605го) )\n",
    "    df_concat = df_concat.drop_duplicates(keep='first')\n",
    "    df_concat.index.duplicated()\n",
    "    df_concat.reset_index(drop= True , inplace= True )\n",
    "\n",
    "\n",
    "    # Заполним поле Дата_первых_сведений данными: \n",
    "    #  если Дата_вкл_реестр не пустая, то  Дата_учета = Дата_вкл_реестр\n",
    "\n",
    "    df_concat.loc[ (~df_concat['Дата_вкл_реестр'].isnull()) , 'Дата_первых_сведений'] = df_concat['Дата_вкл_реестр']\n",
    "    df_concat.loc[ (df_concat['Дата_вкл_реестр'].isnull()) & (~df_concat['Дата_признания'].isnull()) , 'Дата_первых_сведений'] = df_concat['Дата_признания']\n",
    "    df_concat.loc[ (df_concat['Дата_вкл_реестр'].isnull()) & (df_concat['Дата_признания'].isnull()) & (~df_concat['Дата_прекр'].isnull()) , 'Дата_первых_сведений'] = df_concat['Дата_прекр'] - pd.Timedelta(days = 2)\n",
    "\n",
    "\n",
    "\n",
    "    # новый признак - Дата_выбытия\n",
    "\n",
    "    # 1 -- условие ---------------------------\n",
    "    df_concat.loc[ (  \n",
    "               ((df_concat['Дата_прекр'].isnull()) & (df_concat['Дата_вкл_реестр'] < '2020-12-31'))  \n",
    "            &  (  (df_concat['Текущий статус пациента'] == 'Умер') | (df_concat['Текущий статус пациента'] == 'Прекращено оказание ПМП') )\n",
    "               )\n",
    "               , 'Дата_выбытия'] = '01.01.1900'\n",
    "\n",
    "    # 2 -- условие----------------------------\n",
    "    df_concat.loc[(~df_concat['Дата_прекр'].isnull()), 'Дата_выбытия'] = df_concat['Дата_прекр']\n",
    "\n",
    "    # 3 -- условие ---------------------------\n",
    "    df_concat.loc[\n",
    "                     (~df_concat['Дата_первых_сведений'].isnull() & df_concat['Дата_выбытия'].isnull() )  \n",
    "                  &  ((df_concat['Текущий статус пациента'] == 'Умер') | (df_concat['Текущий статус пациента'] == 'Прекращено оказание ПМП')), 'Дата_выбытия'] = df_concat['Дата_первых_сведений'] + pd.Timedelta(days = 2)\n",
    "\n",
    "\n",
    "\n",
    "    # ----------------форматнем дату к дате\n",
    "    df_concat['ДР'] = pd.to_datetime(df_concat['ДР'], dayfirst=True, errors = 'coerce').dt.normalize()\n",
    "    df_concat['Дата_вкл_реестр'] = pd.to_datetime(df_concat['Дата_вкл_реестр'], dayfirst=True, errors = 'coerce').dt.normalize()\n",
    "    df_concat['Дата_признания'] = pd.to_datetime(df_concat['Дата_признания'], dayfirst=True, errors = 'coerce').dt.normalize()\n",
    "    df_concat['Дата_прекр'] = pd.to_datetime(df_concat['Дата_прекр'], dayfirst=True, errors = 'coerce').dt.normalize()\n",
    "    df_concat['Дата_выбытия'] = pd.to_datetime(df_concat['Дата_выбытия'], dayfirst=True, errors = 'coerce').dt.normalize()\n",
    "    df_concat['Дата_первых_сведений'] = pd.to_datetime(df_concat['Дата_первых_сведений'], dayfirst=True, errors = 'coerce').dt.normalize()\n",
    "\n",
    "\n",
    "   #  # ------------подсчитаем ВОЗРАСТ --------------\n",
    "   # # now = pd.Timestamp('now')\n",
    "   #  now = pd.Timestamp(date_finish)\n",
    "   #  df_concat.loc[(df_concat['Текущий статус пациента'] == 'Умер') & (~df_concat['Дата_выбытия'].isnull()), 'Возраст'] = (df_concat['Дата_выбытия'] - df_concat['ДР']).dt.days//365\n",
    "   #  df_concat.loc[(df_concat['Текущий статус пациента'] != 'Умер'), 'Возраст'] = (now - df_concat['ДР']).astype('<m8[Y]')\n",
    "\n",
    "   #    ------------------------- ---подсчитаем ВОЗРАСТ -------------- 06.10.23 ----- возраст считаем для момента ВХОДА в ПЕРИОД (за время рассмотрения дети взрослеют и на конец периода мы их можем не поймать) ---------------\n",
    "    \n",
    "   # now = pd.Timestamp('now')\n",
    "    now = pd.Timestamp(date_start)\n",
    "    # df_concat.loc[(df_concat['Текущий статус пациента'] == 'Умер') & (~df_concat['Дата_выбытия'].isnull()), 'Возраст'] = (df_concat['Дата_выбытия'] - df_concat['ДР']).dt.days//365\n",
    "    # df_concat.loc[(df_concat['Текущий статус пациента'] != 'Умер'), 'Возраст'] = (pd.Timestamp(date_start) - df_concat['ДР']).astype('<m8[Y]')\n",
    "    \n",
    "    df_concat['Возраст'] = np.nan\n",
    "    # df_concat['Возраст'] = df_concat.apply( lambda x:  calculate_age(x['ДР'], now),axis=1)\n",
    "    df_concat['Возраст'] = df_concat.apply( lambda x:  calculate_age(x['ДР'], now),axis=1)\n",
    "   \n",
    "\n",
    "\n",
    "    #  ------ посчитаем категорию трудоспособный --------\n",
    "    #  если пол ЖЕНСКИЙ, и возраст Менее 57 -----> Категория - трудоспособный\n",
    "    #  если пол Мужской, и возраст Менее 62 -----> Категория - трудоспособный\n",
    "\n",
    "    df_concat['Категория'] = np.nan\n",
    "    df_concat.loc[(df_concat['Возраст'] >= 18) & (df_concat['Пол'] == 'Мужской') & (df_concat['Возраст'] >= 62), 'Категория'] = 'Старше трудосп'\n",
    "    df_concat.loc[(df_concat['Возраст'] >= 18) & (df_concat['Пол'] == 'Женский') & (df_concat['Возраст'] >= 57), 'Категория'] = 'Старше трудосп'\n",
    "\n",
    "\n",
    "    #  ------ определим детей ---------------\n",
    "    df_concat['Дети'] = np.nan\n",
    "    # df_concat.loc[(df_concat['Возраст'] < 18) & (df_concat['Возраст'] >= 0), 'Дети'] = 'Дети'\n",
    "    df_concat['Дети'] = df_concat['Возраст'].apply(lambda x: 'Дети' if x <= 17 else np.nan)\n",
    "\n",
    "\n",
    "    #  ----- Добавим УНИКАЛЬНЫЙ ключ ФИО+ДР - без пробелов ------------\n",
    "\n",
    "    df_concat['Ключ'] = df_concat['Пациент'].map(str) + (df_concat['ДР'].dt.date).map(str)\n",
    "    df_concat['Ключ'] = df_concat['Ключ'].str.lower()            # ---- все к нижнему регистру\n",
    "    df_concat['Ключ'] = df_concat['Ключ'].str.replace(' ', '')   # ---- пробелы долой \n",
    "\n",
    "\n",
    "    df_clr = df_concat.loc[ (~df_concat['Дата_первых_сведений'].isnull())]\n",
    "\n",
    "    # ------ удаление дубликатов ----------\n",
    "    df_clr = df_clr.drop_duplicates(['Ключ'], keep='first') \n",
    "    \n",
    "    return df_clr  "
   ]
  },
  {
   "cell_type": "markdown",
   "id": "f9b77cf4-714d-4108-b612-8dcde6391a4c",
   "metadata": {
    "tags": []
   },
   "source": [
    "### \n",
    "<div class=\"alert alert-block alert-info\">\n",
    "<!-- <div class=\"alert alert-block alert-info\"> <div class=\"alert alert-block alert-warning\"> <div class=\"alert alert-block alert-success\"> <div class=\"alert alert-block alert-danger\">      --> \n",
    "    <font size=3>\n",
    "<b> функция подсчета Количество пациентов, получателей помощи (чел.)  <br></b>            </div>"
   ]
  },
  {
   "cell_type": "code",
   "execution_count": 4,
   "id": "d7babdfa-6c07-430e-b7c4-ab71b32c7ed2",
   "metadata": {
    "tags": []
   },
   "outputs": [],
   "source": [
    "# from general ---------------------------------------------  Количество пациентов, получателей помощи (чел.)\n",
    "def def_data_all_clients(df, start, finish):\n",
    "    \n",
    " # ------------------- берем     Дата_первых_сведений ----------------- если брать дату включения - будет меньше ---------\n",
    "\n",
    "    df_all = df.loc[ ((df['Дата_первых_сведений'] < finish)     &   ( (df['Дата_выбытия'].isnull())  | (df['Дата_выбытия'] >= start)     ))\n",
    "\n",
    "                    ]\n",
    "\n",
    "    data_all_clients = df.loc[ ((df['Дата_первых_сведений'] < finish)   &   ( (df['Дата_выбытия'].isnull())  | (df['Дата_выбытия'] >= start)     ))\n",
    "\n",
    "                             ]\n",
    "\n",
    "    data_all_clients_vzros = df.loc[ (df['Дата_первых_сведений'] < finish) \n",
    "                             &   ( (df['Дата_выбытия'].isnull())  | (df['Дата_выбытия'] >= start))  \n",
    "                             &   (  df['Дети'].isna())\n",
    "                                    \n",
    "                                   ]\n",
    "    \n",
    "    data_all_clients_vzros_trud = df.loc[ (df['Дата_первых_сведений'] < finish) \n",
    "                             &   ( (df['Дата_выбытия'].isnull())  | (df['Дата_выбытия'] >= start))  \n",
    "                             &   (  df['Категория'] == 'Старше трудосп')    \n",
    "\n",
    "                                        ]\n",
    "    \n",
    "    data_all_clients_deti = df.loc[ (df['Дата_первых_сведений'] < finish) \n",
    "                         &   ( (df['Дата_выбытия'].isnull())  | (df['Дата_выбытия'] >= start))  \n",
    "                         &   (  ~df['Дети'].isna()) \n",
    "\n",
    "                                  ]\n",
    "    \n",
    "    return data_all_clients.shape[0],  data_all_clients_vzros.shape[0], data_all_clients_vzros_trud.shape[0], data_all_clients_deti.shape[0], data_all_clients"
   ]
  },
  {
   "cell_type": "markdown",
   "id": "1d93d11c-91d1-4be2-a6ec-a42125fbb74a",
   "metadata": {
    "tags": []
   },
   "source": [
    "### \n",
    "<div class=\"alert alert-block alert-info\">\n",
    "<!-- <div class=\"alert alert-block alert-info\"> <div class=\"alert alert-block alert-warning\"> <div class=\"alert alert-block alert-success\"> <div class=\"alert alert-block alert-danger\">      --> \n",
    "    <font size=3>\n",
    "<b> функция подсчета НОВЫХ пациентов, обратившихся в ЭТОМ периоде (чел.)  <br></b>            </div>"
   ]
  },
  {
   "cell_type": "code",
   "execution_count": 5,
   "id": "044274aa-d97b-4653-8b17-145ff989d231",
   "metadata": {
    "tags": []
   },
   "outputs": [],
   "source": [
    "# 4444 ---------------------------------------------  Количество НОВЫХ пациентов, получателей помощи (чел.)\n",
    "def def_data_new_clients(df, start, finish):\n",
    "    \n",
    "#  ------------------- берем     Дата_первых_сведений ----------------- если брать дату включения - будет меньше ---------Дата_первых_сведений\n",
    "\n",
    "\n",
    "    data_new_clients = df.loc[ ((df['Дата_первых_сведений'] >= start)  &  (df['Дата_первых_сведений'] < finish) )\n",
    "\n",
    "                             ]\n",
    "\n",
    "\n",
    "    data_new_clients_vzros = df.loc[ (df['Дата_первых_сведений'] >= start)  &  (df['Дата_первых_сведений'] < finish)   \n",
    "                             &   (  df['Дети'].isna())\n",
    "                                    \n",
    "                                   ]\n",
    "    \n",
    "    data_new_clients_vzros_trud = df.loc[ (df['Дата_первых_сведений'] >= start)  &  (df['Дата_первых_сведений'] < finish)   \n",
    "                             &   (  df['Категория'] == 'Старше трудосп') \n",
    "\n",
    "                                        ]\n",
    "    \n",
    "    data_new_clients_deti = df.loc[ (df['Дата_первых_сведений'] >= start)  &  (df['Дата_первых_сведений'] < finish) \n",
    "                         &   (  ~df['Дети'].isna())    \n",
    "\n",
    "                                  ]\n",
    "    \n",
    "    return data_new_clients.shape[0],  data_new_clients_vzros.shape[0], data_new_clients_vzros_trud.shape[0], data_new_clients_deti.shape[0], data_new_clients"
   ]
  },
  {
   "cell_type": "markdown",
   "id": "0714eee5-9084-4bf5-a3ca-2a3f7b5123f7",
   "metadata": {
    "tags": []
   },
   "source": [
    "### \n",
    "<div class=\"alert alert-block alert-info\">\n",
    "<!-- <div class=\"alert alert-block alert-info\"> <div class=\"alert alert-block alert-warning\"> <div class=\"alert alert-block alert-success\"> <div class=\"alert alert-block alert-danger\">      --> \n",
    "    <font size=3>\n",
    "<b> функция подсчета УМЕРШИХ пациентов, в ЭТОМ периоде (чел.)  <br></b>            </div>"
   ]
  },
  {
   "cell_type": "code",
   "execution_count": 6,
   "id": "2cd14984-97da-47c4-b967-2a4e1c750112",
   "metadata": {
    "tags": []
   },
   "outputs": [],
   "source": [
    "# 4444 ---------------------------------------------  Количество НОВЫХ пациентов, получателей помощи (чел.)--------------------------------------Дата_первых_сведений\n",
    "def def_data_dead_clients(df, start, finish):\n",
    "    \n",
    "#  ------------------- берем     Дата_первых_сведений ----------------- если брать дату включения - будет меньше ---------\n",
    "\n",
    "\n",
    "    data_dead_clients = df.loc[ (df['Дата_первых_сведений'] < finish)    &   ( (df['Дата_выбытия'].isnull())  | ((df['Дата_выбытия'] >= start) &  (df['Дата_выбытия'] < finish))  )\n",
    "                              & (df['Текущий статус пациента'] == 'Умер')\n",
    "                              ]\n",
    "\n",
    "\n",
    "    data_dead_clients_vzros = df.loc[ (df['Дата_первых_сведений'] < finish)     &   ( (df['Дата_выбытия'].isnull())  | ((df['Дата_выбытия'] >= start) &  (df['Дата_выбытия'] < finish))  )\n",
    "                                   &   (  df['Дети'].isna())\n",
    "                                    & (df['Текущий статус пациента'] == 'Умер')\n",
    "                                   ]\n",
    "    \n",
    "    data_dead_clients_vzros_trud = df.loc[ (df['Дата_первых_сведений'] < finish)    &   ( (df['Дата_выбытия'].isnull())  | ((df['Дата_выбытия'] >= start) &  (df['Дата_выбытия'] < finish))  ) \n",
    "                                 &   (  df['Категория'] == 'Старше трудосп') \n",
    "                                  & (df['Текущий статус пациента'] == 'Умер')\n",
    "                                        ]\n",
    "    \n",
    "    data_dead_clients_deti = df.loc[ (df['Дата_первых_сведений'] < finish)      &   ( (df['Дата_выбытия'].isnull())  | ((df['Дата_выбытия'] >= start) &  (df['Дата_выбытия'] < finish))  )\n",
    "                                   & (  ~df['Дети'].isna())                                     \n",
    "                                   & (df['Текущий статус пациента'] == 'Умер')\n",
    "                                  ]\n",
    "    \n",
    "    return data_dead_clients.shape[0],  data_dead_clients_vzros.shape[0], data_dead_clients_vzros_trud.shape[0], data_dead_clients_deti.shape[0], data_dead_clients"
   ]
  },
  {
   "cell_type": "markdown",
   "id": "1e8e11bb-c3ae-42cf-b3ed-d939bbbb82ea",
   "metadata": {
    "tags": []
   },
   "source": [
    "### \n",
    "<div class=\"alert alert-block alert-info\">\n",
    "<!-- <div class=\"alert alert-block alert-info\"> <div class=\"alert alert-block alert-warning\"> <div class=\"alert alert-block alert-success\"> <div class=\"alert alert-block alert-danger\">      --> \n",
    "    <font size=3>\n",
    "<b> функция подсчета ИНОГОРОДНИХ пациентов, в ЭТОМ периоде (чел.)  <br></b>            </div>"
   ]
  },
  {
   "cell_type": "code",
   "execution_count": 11,
   "id": "12134032-b1d5-4331-89e3-f441b0a71338",
   "metadata": {
    "tags": []
   },
   "outputs": [],
   "source": [
    "# 100723 ----------------------------------------------ИНОГОРОДНИЕ-----------------------\n",
    "def def_data_inogorod_clients(df, start, finish, list_):\n",
    "    \n",
    "#  ------------------- берем     Дата_первых_сведений ----------------- если брать дату включения - будет меньше ---------  'Гражданин РФ/иногородний', 'Украина', 'БОМЖ', nan, 'Иностранец', 'ЛНР', 'ДНР'\n",
    "\n",
    "    # list_inogorod = ['гражданин РФ (Иногородний)', 'житель ДНР/ЛНР/новых территорий', 'ДНР','Гражданин РФ/иногородний', 'ЛНР',  'ДНР', 'РФ, ДНР' ]\n",
    "    \n",
    "    data_inogorod_clients = df.loc[ ((df['Дата_первых_сведений'] < finish)    &   ( (df['Дата_выбытия'].isnull())  | (df['Дата_выбытия'] >= start)     ))\n",
    "                             \n",
    "                                   & (\n",
    "                                      (df['Иногород'].isin(list_inogorod)) \n",
    "                                       # (df['Иногород'].isin(['ЛНР', 'ДНР', 'Гражданин РФ/иногородний', 'БОМЖ'])) # -------------------------------------------------------------------- + БОМЖ\n",
    "                                      # | (df['БК'] == 'Да') \n",
    "                                      # | ((df['Иногород'] == 'Гражданин РФ/иногородний') & ((~df['Дата разрешения ДЗМ'].isna())) | (~df['Номер разрешения ДЗМ'].isna()) )\n",
    "                                   ) ]\n",
    "\n",
    "\n",
    "    \n",
    "    data_inogorod_clients_vzros = df.loc[ ((df['Дата_первых_сведений'] < finish)     &   ( (df['Дата_выбытия'].isnull())  | (df['Дата_выбытия'] >= start)     ))  \n",
    "                                   &   (  df['Дети'].isna())\n",
    "                                   & (\n",
    "                                      (df['Иногород'].isin(list_inogorod)) \n",
    "                                                                              # (df['Иногород'].isin(['ЛНР', 'ДНР', 'Гражданин РФ/иногородний', 'БОМЖ'])) # ------------------------------------- + БОМЖ\n",
    "                                      # | (df['БК'] == 'Да') \n",
    "                                      # | ((df['Иногород'] == 'Гражданин РФ/иногородний') & ((~df['Дата разрешения ДЗМ'].isna())) | (~df['Номер разрешения ДЗМ'].isna()) )\n",
    "                                   )]\n",
    "    \n",
    "    data_inogorod_clients_vzros_trud = df.loc[ ((df['Дата_первых_сведений'] < finish)    &   ( (df['Дата_выбытия'].isnull())  | (df['Дата_выбытия'] >= start)     ))   \n",
    "                                 &   (  df['Категория'] == 'Старше трудосп') \n",
    "                                  & (\n",
    "                                      (df['Иногород'].isin(list_inogorod)) \n",
    "                                                                             # (df['Иногород'].isin(['ЛНР', 'ДНР', 'Гражданин РФ/иногородний', 'БОМЖ']))  # ------------------------------------- + БОМЖ\n",
    "                                      # | (df['БК'] == 'Да') \n",
    "                                      # | ((df['Иногород'] == 'Гражданин РФ/иногородний') & ((~df['Дата разрешения ДЗМ'].isna())) | (~df['Номер разрешения ДЗМ'].isna()) )\n",
    "                                   )]\n",
    "    \n",
    "    data_inogorod_clients_deti = df.loc[ ((df['Дата_первых_сведений'] < finish)      &   ( (df['Дата_выбытия'].isnull())  | (df['Дата_выбытия'] >= start)     )) \n",
    "                                   & (  ~df['Дети'].isna())                                     \n",
    "                                  & (\n",
    "                                      (df['Иногород'].isin(list_inogorod)) \n",
    "                                        # (df['Иногород'].isin(['ЛНР', 'ДНР', 'Гражданин РФ/иногородний', 'БОМЖ']))  # ------------------------------------------------------------------------- + БОМЖ\n",
    "                                      # | (df['БК'] == 'Да') \n",
    "                                      # | ((df['Иногород'] == 'Гражданин РФ/иногородний') & ((~df['Дата разрешения ДЗМ'].isna())) | (~df['Номер разрешения ДЗМ'].isna()) )\n",
    "                                   )]\n",
    "    \n",
    "    return data_inogorod_clients.shape[0],  data_inogorod_clients_vzros.shape[0], data_inogorod_clients_vzros_trud.shape[0], data_inogorod_clients_deti.shape[0], data_inogorod_clients"
   ]
  },
  {
   "cell_type": "markdown",
   "id": "0db28764-fdd9-4ed5-81e3-3d26fe3346bf",
   "metadata": {
    "tags": []
   },
   "source": [
    "### \n",
    "<div class=\"alert alert-block alert-info\">\n",
    "<!-- <div class=\"alert alert-block alert-info\"> <div class=\"alert alert-block alert-warning\"> <div class=\"alert alert-block alert-success\"> <div class=\"alert alert-block alert-danger\">      --> \n",
    "    <font size=3>\n",
    "<b> функция подсчета Иностарцев и БОМЖей, в ЭТОМ периоде (чел.)  <br></b>            </div>"
   ]
  },
  {
   "cell_type": "code",
   "execution_count": 22,
   "id": "21f5b5ed-3d83-4934-a102-39b174346bce",
   "metadata": {
    "tags": []
   },
   "outputs": [],
   "source": [
    "# 100723 ----------------------------------------------Иностарцев-----------------------\n",
    "def def_data_inostran_clients(df, start, finish, list_):\n",
    "    \n",
    "#  ------------------- берем     Дата_первых_сведений ----------------- если брать дату включения - будет меньше ---------  'Гражданин РФ/иногородний', 'Украина', 'БОМЖ', nan, 'Иностранец', 'ЛНР', 'ДНР'\n",
    "\n",
    "    # list_inostran = ['Иностранец', 'иностранец',  ]\n",
    "    # list_bomj = ['лицо без определенного места жительства', 'БОМЖ' ]\n",
    "    \n",
    "    all_clients_period = df.loc[ \n",
    "                                   (df['Дата_первых_сведений'] < finish)    \n",
    "                               &   ( (df['Дата_выбытия'].isnull())  | (df['Дата_выбытия'] >= start) ) ]\n",
    "\n",
    "    data_inostran_clients            = all_clients_period[all_clients_period['Иногород'].isin(list_inostran + list_bomj)]\n",
    "    \n",
    "    data_inostran_clients_vzros      = data_inostran_clients[data_inostran_clients['Дети'].isna()]\n",
    "    \n",
    "    data_inogorod_clients_vzros_trud = data_inostran_clients_vzros[data_inostran_clients_vzros['Категория'] == 'Старше трудосп']\n",
    "    \n",
    "    data_inostran_clients_deti       = data_inostran_clients[~data_inostran_clients['Дети'].isna()]\n",
    "    \n",
    "    \n",
    "    return data_inostran_clients.shape[0],  data_inostran_clients_vzros.shape[0], data_inogorod_clients_vzros_trud.shape[0], data_inostran_clients_deti.shape[0], data_inostran_clients"
   ]
  },
  {
   "cell_type": "markdown",
   "id": "80f3f8f4-7ca5-4b65-bf3b-b05a8269a210",
   "metadata": {
    "tags": []
   },
   "source": [
    "### \n",
    "<div class=\"alert alert-block alert-info\">\n",
    "<!-- <div class=\"alert alert-block alert-info\"> <div class=\"alert alert-block alert-warning\"> <div class=\"alert alert-block alert-success\"> <div class=\"alert alert-block alert-danger\">      --> \n",
    "    <font size=3>\n",
    "<b> функция подсчета Укр-ЛНР - ДНР, в ЭТОМ периоде (чел.)  <br></b>            </div>"
   ]
  },
  {
   "cell_type": "code",
   "execution_count": 13,
   "id": "5b88a67d-47c5-499d-942a-a6860c017ea9",
   "metadata": {
    "tags": []
   },
   "outputs": [],
   "source": [
    "# 100723 ----------------------------------------------Иностарцев-----------------------\n",
    "def def_data_ukr_dnr_clients(df, start, finish, list_):\n",
    "    \n",
    "#  ------------------- берем     Дата_первых_сведений ----------------- если брать дату включения - будет меньше ---------  'Гражданин РФ/иногородний', 'Украина', 'БОМЖ', nan, 'Иностранец', 'ЛНР', 'ДНР'\n",
    "\n",
    "    # list_ukr_dnr = ['житель ДНР/ЛНР/новых территорий', 'граждане Украины', 'ДНР', 'ЛНР', 'Украина', 'ДНР' 'РФ, ДНР'  ]\n",
    "   \n",
    "    all_clients_period = df.loc[ \n",
    "                                   (df['Дата_первых_сведений'] < finish)    \n",
    "                               &   ( (df['Дата_выбытия'].isnull())  | (df['Дата_выбытия'] >= start) ) ]\n",
    "\n",
    "    data_ukr_dnr_clients = all_clients_period[all_clients_period['Иногород'].isin(list_ukr_dnr)]\n",
    "    \n",
    "    data_ukr_dnr_clients_vzros = data_ukr_dnr_clients[data_ukr_dnr_clients['Дети'].isna()]\n",
    "    \n",
    "    data_ukr_dnr_clients_vzros_trud = data_ukr_dnr_clients_vzros[data_ukr_dnr_clients_vzros['Категория'] == 'Старше трудосп']\n",
    "    \n",
    "    data_ukr_dnr_clients_deti = data_ukr_dnr_clients[~data_ukr_dnr_clients['Дети'].isna()]\n",
    "    \n",
    "    \n",
    "    return data_ukr_dnr_clients.shape[0],  data_ukr_dnr_clients_vzros.shape[0], data_ukr_dnr_clients_vzros_trud.shape[0], data_ukr_dnr_clients_deti.shape[0], data_ukr_dnr_clients"
   ]
  },
  {
   "cell_type": "markdown",
   "id": "e30e66ab-fa48-4556-a6cf-975942cf1c87",
   "metadata": {
    "tags": []
   },
   "source": [
    "### \n",
    "<div class=\"alert alert-block alert-success\">\n",
    "<!-- <div class=\"alert alert-block alert-info\"> <div class=\"alert alert-block alert-warning\"> <div class=\"alert alert-block alert-success\"> <div class=\"alert alert-block alert-danger\">      --> \n",
    "    <font size=6>\n",
    "<b> РЕЗУЛЬТАТ Статистика ОБЩИЕ ПОКАЗАТЕЛИ <br></b>            </div>"
   ]
  },
  {
   "cell_type": "code",
   "execution_count": 24,
   "id": "470dadb5-e074-4192-98e1-06f9b20df50b",
   "metadata": {},
   "outputs": [
    {
     "data": {
      "text/plain": [
       "'2023-01-01_2023-12-31'"
      ]
     },
     "execution_count": 24,
     "metadata": {},
     "output_type": "execute_result"
    }
   ],
   "source": []
  },
  {
   "cell_type": "code",
   "execution_count": 28,
   "id": "a898b1a7-f9d9-494b-a50e-3262a1fed23f",
   "metadata": {
    "tags": []
   },
   "outputs": [
    {
     "data": {
      "text/markdown": [
       " # Статистика МОНИТОРИНГ период с 01.01.2023 по 31.12.2023:\n",
       "\n",
       "| Параметр | Количество всего| Взрослые |трудоспособ | Дети |Условия отбора|файл|\n",
       "|---:|:-|:-|:-|:-|--|--|\n",
       "| Количество пациентов __ВСЕГО__ за период __БМЧУ__не учитываем__ и __с учетом БК__| 29897      | 29257 |24861 |640 |--|all_clients.xlsx|\n",
       "| Количество __НОВЫХ__ пациентов за период          | 18899      | 18705 |16011 |194 |--|--|\n",
       "| Количество __УМЕРШИХ__ пациентов за период        | 15772     | 15697 |13583 |75 |--|--|\n",
       "| Количество __ИНОГОРОДНИХ__ __с учетом БК__ пациентов за период    | 207 | 189 |121 |18 |__['гражданин РФ (Иногородний)', 'житель ДНР/ЛНР/новых территорий', 'ДНР', 'Гражданин РФ/иногородний', 'ЛНР', 'ДНР', 'РФ, ДНР']__|df_inogorod_clients.xlsx|\n",
       "| Количество __ИНОСТРАННЫХ__ пациентов __с учетом БК__ за период    | 167 | 151 |79 |16 |__['Иностранец', 'иностранец', 'лицо без определенного места жительства', 'БОМЖ']__|df_inostr_clients.xlsx|\n",
       "| Количество пациентов ___Укр+нов.терр__ __с учетом БК__ за период    | 98 | 95 |64 |3 |__['житель ДНР/ЛНР/новых территорий', 'граждане Украины', 'ДНР', 'ЛНР', 'Украина', 'ДНРРФ, ДНР']__|df_inostr_clients.xlsx|\n",
       "\n",
       "\n"
      ]
     },
     "metadata": {},
     "output_type": "display_data"
    }
   ],
   "source": [
    "# ---------------------------- ИТОГИ ---------------\n",
    "start = '2023-01-01'\n",
    "finish = '2023-12-31'\n",
    "# file_605 = 'выгрузка_605_из_1с_0610.csv'\n",
    "file_605 = '1С_выгрузка_из_1с_20240110_0832.csv'\n",
    "\n",
    "\n",
    "bmchu = 'не учитываем'\n",
    "# bmchu = 'учитываем'\n",
    "bk = 'с учетом БК'\n",
    "# bk = 'без учета БК'\n",
    "\n",
    "\n",
    "god_start = start.split('-')[0]\n",
    "mes_start = start.split('-')[1]\n",
    "day_start = start.split('-')[2]\n",
    "\n",
    "god_finish = finish.split('-')[0]\n",
    "mes_finish = finish.split('-')[1]\n",
    "day_finish = finish.split('-')[2]\n",
    "\n",
    "\n",
    "\n",
    "list_inogorod = ['гражданин РФ (Иногородний)', 'житель ДНР/ЛНР/новых территорий', 'ДНР','Гражданин РФ/иногородний', 'ЛНР',  'ДНР', 'РФ, ДНР' ]\n",
    "list_inostran = ['Иностранец', 'иностранец',  ]\n",
    "list_bomj = ['лицо без определенного места жительства', 'БОМЖ' ]\n",
    "list_ukr_dnr = ['житель ДНР/ЛНР/новых территорий', 'граждане Украины', 'ДНР', 'ЛНР', 'Украина', 'ДНР' 'РФ, ДНР'  ]\n",
    "\n",
    "# ------------------------------------------------готовим реестр ------\n",
    "df_reest = load_data_605(file_605, bmchu, bk,start)   # ---- start в связи с уточнениями по вычислению возраста\n",
    "\n",
    "# ------------------------------------------------собираем данные ------\n",
    "all_clients  = def_data_all_clients(df_reest, start, finish)\n",
    "new_clients  = def_data_new_clients(df_reest, start, finish)\n",
    "dead_clients = def_data_dead_clients(df_reest, start, finish)\n",
    "inogorod_clients = def_data_inogorod_clients(df_reest, start, finish, list_inogorod)\n",
    "inostr_clients = def_data_inostran_clients(df_reest, start, finish, (list_inostran + list_bomj))\n",
    "ukr_clients = def_data_ukr_dnr_clients(df_reest, start, finish, list_ukr_dnr)\n",
    "\n",
    "a = f'Статистика МОНИТОРИНГ период с {day_start}.{mes_start}.{god_start} по {day_finish}.{mes_finish}.{god_finish}:'\n",
    "\n",
    "display_markdown(f''' # {a}\n",
    "\n",
    "| Параметр | Количество всего| Взрослые |трудоспособ | Дети |Условия отбора|файл|\n",
    "|---:|:-|:-|:-|:-|--|--|\n",
    "| Количество пациентов __ВСЕГО__ за период __БМЧУ__{bmchu}__ и __{bk}__| {all_clients[0]}      | {all_clients[1]} |{all_clients[2]} |{all_clients[3]} |--|all_clients.xlsx|\n",
    "| Количество __НОВЫХ__ пациентов за период          | {new_clients[0]}      | {new_clients[1]} |{new_clients[2]} |{new_clients[3]} |--|--|\n",
    "| Количество __УМЕРШИХ__ пациентов за период        | {dead_clients[0]}     | {dead_clients[1]} |{dead_clients[2]} |{dead_clients[3]} |--|--|\n",
    "| Количество __ИНОГОРОДНИХ__ __{bk}__ пациентов за период    | {inogorod_clients[0]} | {inogorod_clients[1]} |{inogorod_clients[2]} |{inogorod_clients[3]} |__{list_inogorod[:]}__|df_inogorod_clients.xlsx|\n",
    "| Количество __ИНОСТРАННЫХ__ пациентов __{bk}__ за период    | {inostr_clients[0]} | {inostr_clients[1]} |{inostr_clients[2]} |{inostr_clients[3]} |__{list_inostran + list_bomj}__|df_inostr_clients.xlsx|\n",
    "| Количество пациентов ___Укр+нов.терр__ __{bk}__ за период    | {ukr_clients[0]} | {ukr_clients[1]} |{ukr_clients[2]} |{ukr_clients[3]} |__{list_ukr_dnr}__|df_inostr_clients.xlsx|\n",
    "\n",
    "\n",
    "''', raw=True)\n",
    "\n",
    "# ----- сохраним данные в файлы ---------\n",
    "all_clients[4].to_excel(f'all_clients_{start + \"_\" + finish}.xlsx')\n",
    "inogorod_clients[4].to_excel(f'df_inogorod_clients_{start + \"_\" + finish}.xlsx')\n",
    "inostr_clients[4].to_excel(f'df_inostr_clients_{start + \"_\" + finish}.xlsx')\n",
    "ukr_clients[4].to_excel(f'df_ukr_clients_{start + \"_\" + finish}.xlsx')"
   ]
  },
  {
   "cell_type": "code",
   "execution_count": null,
   "id": "5b8b6378-cc3d-47f1-b6c4-77ba472042df",
   "metadata": {},
   "outputs": [],
   "source": [
    "# all_clients[4].to_excel('all_clients_25266.xlsx')"
   ]
  },
  {
   "cell_type": "code",
   "execution_count": null,
   "id": "b4c6f2d1-5daf-41e7-97be-f8c40845b7ed",
   "metadata": {},
   "outputs": [],
   "source": []
  }
 ],
 "metadata": {
  "kernelspec": {
   "display_name": "Python 3 (ipykernel)",
   "language": "python",
   "name": "python3"
  },
  "language_info": {
   "codemirror_mode": {
    "name": "ipython",
    "version": 3
   },
   "file_extension": ".py",
   "mimetype": "text/x-python",
   "name": "python",
   "nbconvert_exporter": "python",
   "pygments_lexer": "ipython3",
   "version": "3.9.12"
  }
 },
 "nbformat": 4,
 "nbformat_minor": 5
}
