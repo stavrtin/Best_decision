{
 "cells": [
  {
   "cell_type": "code",
   "execution_count": 1,
   "id": "5ebf6cd0-3439-4585-9005-f8da6645eb80",
   "metadata": {
    "tags": []
   },
   "outputs": [],
   "source": [
    "import pandas as pd\n",
    "import numpy as np\n",
    "from IPython.display import display_markdown\n",
    "import warnings\n",
    "warnings.filterwarnings('ignore')"
   ]
  },
  {
   "cell_type": "markdown",
   "id": "3985295c-65f6-4d94-9953-77e227755fc8",
   "metadata": {
    "jp-MarkdownHeadingCollapsed": true,
    "tags": []
   },
   "source": [
    "<div class=\"alert alert-block alert-success\">     <font size=3>\n",
    "<!-- <div class=\"alert alert-block alert-info\"> <div class=\"alert alert-block alert-warning\"> <div class=\"alert alert-block alert-success\"> <div class=\"alert alert-block alert-danger\">      --> \n",
    "<b> На основе \"мониторинг_2кв_v5_dead_correct\" <br>\n",
    "</b>            </div>"
   ]
  },
  {
   "cell_type": "markdown",
   "id": "ae9be183-71a8-435e-a3cf-6a0e3fc3c001",
   "metadata": {
    "tags": []
   },
   "source": [
    "### \n",
    "<div class=\"alert alert-block alert-warning\">\n",
    "<!-- <div class=\"alert alert-block alert-info\"> <div class=\"alert alert-block alert-warning\"> <div class=\"alert alert-block alert-success\"> <div class=\"alert alert-block alert-danger\">      --> \n",
    "    <font size=3>\n",
    "<b> Функции для расчета  <br>\n",
    "</b>            </div>"
   ]
  },
  {
   "cell_type": "markdown",
   "id": "60c45a30-7cd0-4e6e-8a00-15e894cbf280",
   "metadata": {
    "tags": []
   },
   "source": [
    "#### функция 605го"
   ]
  },
  {
   "cell_type": "code",
   "execution_count": 2,
   "id": "a39f7c8f-b3cc-42dc-bfa9-6051845103c9",
   "metadata": {
    "jupyter": {
     "source_hidden": true
    },
    "tags": []
   },
   "outputs": [],
   "source": [
    "def load_data_605(file_name, bmchu, bk, date_finish):\n",
    "     #     ---------- ЗАГРУЗКА и ПРЕДОБРАБОТКА файла 605го ----------------------\n",
    "    \n",
    "    # file_name = file_605\n",
    "    df = pd.read_csv(file_name, delimiter=';', encoding='cp1251')\n",
    "\n",
    "    # уберем лишние колонки\n",
    "    df_605 = df.copy()\n",
    "    df_605 = df_605[['Дата постановки на учет/включения пациента в реестр',\n",
    "           'Пациент', \n",
    "           'Дата рождения', 'Пол',\n",
    "           'Дата признания пациента нуждающимся в ПМП (ВК)',\n",
    "           'Текущий статус пациента',\n",
    "           'Дата прекращения оказания ПМП', \n",
    "             'Курирующее подразделение/филиал',\n",
    "                   'Гражданский статус' ,\n",
    "                    'Адрес', 'Основной диагноз по МКБ-10',\n",
    "                     'Адрес фактический',\n",
    "                     'Дата разрешения ДЗМ',\n",
    "                     'Номер разрешения ДЗМ',\n",
    "                     'БК',\n",
    "                     'Наблюдение в РЦ'\n",
    "                    ]]\n",
    "\n",
    "    #  переименуем покороче столбцы\n",
    "    df_605.rename(columns={'Дата постановки на учет/включения пациента в реестр': 'Дата_вкл_реестр'}, inplace=True)\n",
    "    df_605.rename(columns={'Дата рождения': 'ДР'}, inplace=True)\n",
    "    df_605.rename(columns={'Дата признания пациента нуждающимся в ПМП (ВК)': 'Дата_признания'}, inplace=True)\n",
    "    df_605.rename(columns={'Дата прекращения оказания ПМП': 'Дата_прекр'}, inplace=True)\n",
    "    df_605.rename(columns={'Курирующее подразделение/филиал': 'Филиал'}, inplace=True)\n",
    "    df_605.rename(columns={'Основной диагноз по МКБ-10': 'Диагноз'}, inplace=True)\n",
    "    df_605.rename(columns={'Гражданский статус': 'Иногород'}, inplace=True)\n",
    "\n",
    "    df_concat = pd.concat([df_605])\n",
    "\n",
    "\n",
    "    # ----------------форматнем дату к дате\n",
    "    df_concat['ДР'] = pd.to_datetime(df_concat['ДР'], dayfirst=True, errors = 'coerce').dt.normalize()\n",
    "    df_concat['Дата_вкл_реестр'] = pd.to_datetime(df_concat['Дата_вкл_реестр'], dayfirst=True, errors = 'coerce').dt.normalize()\n",
    "    df_concat['Дата_признания'] = pd.to_datetime(df_concat['Дата_признания'], dayfirst=True, errors = 'coerce').dt.normalize()\n",
    "    df_concat['Дата_прекр'] = pd.to_datetime(df_concat['Дата_прекр'], dayfirst=True, errors = 'coerce').dt.normalize()\n",
    "\n",
    "\n",
    "    # Уберем записи со СТАТУСОМ  'Умер без п/о', 'Новый пациент', 'Вне реестра', 'Врач КЦ'\n",
    "    # - удаляем строки. в которых текущий статус не заполнен =  nan\n",
    "    df_concat = df_concat.loc[(~df_concat['Текущий статус пациента'].isin(['Новый пациент', 'Умер без п/о', 'Вне реестра', 'Врач КЦ']))]   # -----------------записи со СТАТУСОМ  'Умер без п/о', 'Новый пациент', 'Вне реестра', 'Врач КЦ'----------------\n",
    "    df_concat = df_concat.loc[(~df_concat['Текущий статус пациента'].isna())]  # - удаляем строки. в которых текущий статус не заполнен =  nan\n",
    "\n",
    "\n",
    "    # ---------------------------------------------------------Уберем 'БМЧУ \"Детский хоспис\"' из наших данных ----------------------------\n",
    "    if bmchu != 'учитываем':\n",
    "        df_concat = df_concat.loc[df_concat['Филиал'] != 'БМЧУ \"Детский хоспис\"']  # - удаляем строки. в которых текущий статус не заполнен =  nan\n",
    "        \n",
    "        \n",
    "   #     # ---------------------------------------------------------Уберем 'БМЧУ \"Детский хоспис\"' из наших данных ----------------------------\n",
    "    if bk != 'с учетом БК':\n",
    "        df_concat = df_concat.loc[df_concat['БК'] != 'Да']  # - удаляем строки. в которых текущий статус не заполнен =  nan     \n",
    "\n",
    "    # УДАЛИМ полные дубликаиы строк (оставляем только ПЕРВЫЕ строки из повторов (из 605го) )\n",
    "    df_concat = df_concat.drop_duplicates(keep='first')\n",
    "    df_concat.index.duplicated()\n",
    "    df_concat.reset_index(drop= True , inplace= True )\n",
    "\n",
    "\n",
    "    # Заполним поле Дата_первых_сведений данными: \n",
    "    #  если Дата_вкл_реестр не пустая, то  Дата_учета = Дата_вкл_реестр\n",
    "\n",
    "    df_concat.loc[ (~df_concat['Дата_вкл_реестр'].isnull()) , 'Дата_первых_сведений'] = df_concat['Дата_вкл_реестр']\n",
    "    df_concat.loc[ (df_concat['Дата_вкл_реестр'].isnull()) & (~df_concat['Дата_признания'].isnull()) , 'Дата_первых_сведений'] = df_concat['Дата_признания']\n",
    "    df_concat.loc[ (df_concat['Дата_вкл_реестр'].isnull()) & (df_concat['Дата_признания'].isnull()) & (~df_concat['Дата_прекр'].isnull()) , 'Дата_первых_сведений'] = df_concat['Дата_прекр'] - pd.Timedelta(days = 2)\n",
    "\n",
    "\n",
    "\n",
    "    # новый признак - Дата_выбытия\n",
    "\n",
    "    # 1 -- условие ---------------------------\n",
    "    df_concat.loc[ (  \n",
    "               ((df_concat['Дата_прекр'].isnull()) & (df_concat['Дата_вкл_реестр'] < '2020-12-31'))  \n",
    "            &  (  (df_concat['Текущий статус пациента'] == 'Умер') | (df_concat['Текущий статус пациента'] == 'Прекращено оказание ПМП') )\n",
    "               )\n",
    "               , 'Дата_выбытия'] = '01.01.1900'\n",
    "\n",
    "    # 2 -- условие----------------------------\n",
    "    df_concat.loc[(~df_concat['Дата_прекр'].isnull()), 'Дата_выбытия'] = df_concat['Дата_прекр']\n",
    "\n",
    "    # 3 -- условие ---------------------------\n",
    "    df_concat.loc[\n",
    "                     (~df_concat['Дата_первых_сведений'].isnull() & df_concat['Дата_выбытия'].isnull() )  \n",
    "                  &  ((df_concat['Текущий статус пациента'] == 'Умер') | (df_concat['Текущий статус пациента'] == 'Прекращено оказание ПМП')), 'Дата_выбытия'] = df_concat['Дата_первых_сведений'] + pd.Timedelta(days = 2)\n",
    "\n",
    "\n",
    "\n",
    "    # ----------------форматнем дату к дате\n",
    "    df_concat['ДР'] = pd.to_datetime(df_concat['ДР'], dayfirst=True, errors = 'coerce').dt.normalize()\n",
    "    df_concat['Дата_вкл_реестр'] = pd.to_datetime(df_concat['Дата_вкл_реестр'], dayfirst=True, errors = 'coerce').dt.normalize()\n",
    "    df_concat['Дата_признания'] = pd.to_datetime(df_concat['Дата_признания'], dayfirst=True, errors = 'coerce').dt.normalize()\n",
    "    df_concat['Дата_прекр'] = pd.to_datetime(df_concat['Дата_прекр'], dayfirst=True, errors = 'coerce').dt.normalize()\n",
    "    df_concat['Дата_выбытия'] = pd.to_datetime(df_concat['Дата_выбытия'], dayfirst=True, errors = 'coerce').dt.normalize()\n",
    "    df_concat['Дата_первых_сведений'] = pd.to_datetime(df_concat['Дата_первых_сведений'], dayfirst=True, errors = 'coerce').dt.normalize()\n",
    "\n",
    "\n",
    "    # ------------подсчитаем ВОЗРАСТ --------------\n",
    "\n",
    "    \n",
    "   # now = pd.Timestamp('now')\n",
    "    now = pd.Timestamp(date_finish)\n",
    "    df_concat.loc[(df_concat['Текущий статус пациента'] == 'Умер') & (~df_concat['Дата_выбытия'].isnull()), 'Возраст'] = (df_concat['Дата_выбытия'] - df_concat['ДР']).dt.days//365\n",
    "    df_concat.loc[(df_concat['Текущий статус пациента'] != 'Умер'), 'Возраст'] = (now - df_concat['ДР']).astype('<m8[Y]')\n",
    "\n",
    "\n",
    "\n",
    "\n",
    "    #  ------ посчитаем категорию трудоспособный --------\n",
    "    #  если пол ЖЕНСКИЙ, и возраст Менее 57 -----> Категория - трудоспособный\n",
    "    #  если пол Мужской, и возраст Менее 62 -----> Категория - трудоспособный\n",
    "\n",
    "    df_concat['Категория'] = np.nan\n",
    "    df_concat.loc[(df_concat['Возраст'] >= 18) & (df_concat['Пол'] == 'Мужской') & (df_concat['Возраст'] >= 62), 'Категория'] = 'Старше трудосп'\n",
    "    df_concat.loc[(df_concat['Возраст'] >= 18) & (df_concat['Пол'] == 'Женский') & (df_concat['Возраст'] >= 57), 'Категория'] = 'Старше трудосп'\n",
    "\n",
    "\n",
    "    #  ------ определим детей ---------------\n",
    "    df_concat['Дети'] = np.nan\n",
    "    df_concat.loc[(df_concat['Возраст'] < 18) & (df_concat['Возраст'] >= 0), 'Дети'] = 'Дети'\n",
    "\n",
    "\n",
    "\n",
    "    #  ----- Добавим УНИКАЛЬНЫЙ ключ ФИО+ДР - без пробелов ------------\n",
    "\n",
    "    df_concat['Ключ'] = df_concat['Пациент'].map(str) + (df_concat['ДР'].dt.date).map(str)\n",
    "    df_concat['Ключ'] = df_concat['Ключ'].str.lower()            # ---- все к нижнему регистру\n",
    "    df_concat['Ключ'] = df_concat['Ключ'].str.replace(' ', '')   # ---- пробелы долой \n",
    "\n",
    "\n",
    "    df_clr = df_concat.loc[ (~df_concat['Дата_первых_сведений'].isnull())]\n",
    "\n",
    "    # ------ удаление дубликатов ----------\n",
    "    df_clr = df_clr.drop_duplicates(['Ключ'], keep='first') \n",
    "    \n",
    "    return df_clr  "
   ]
  },
  {
   "cell_type": "markdown",
   "id": "f9b77cf4-714d-4108-b612-8dcde6391a4c",
   "metadata": {
    "jp-MarkdownHeadingCollapsed": true,
    "tags": []
   },
   "source": [
    "### \n",
    "<div class=\"alert alert-block alert-info\">\n",
    "<!-- <div class=\"alert alert-block alert-info\"> <div class=\"alert alert-block alert-warning\"> <div class=\"alert alert-block alert-success\"> <div class=\"alert alert-block alert-danger\">      --> \n",
    "    <font size=3>\n",
    "<b> функция подсчета Количество пациентов, получателей помощи (чел.)  <br></b>            </div>"
   ]
  },
  {
   "cell_type": "code",
   "execution_count": 3,
   "id": "d7babdfa-6c07-430e-b7c4-ab71b32c7ed2",
   "metadata": {
    "tags": []
   },
   "outputs": [],
   "source": [
    "# 4444 ---------------------------------------------  Количество пациентов, получателей помощи (чел.)\n",
    "def def_data_all_clients(df, start, finish):\n",
    "    \n",
    " # ------------------- берем     Дата_первых_сведений ----------------- если брать дату включения - будет меньше ---------\n",
    "\n",
    "    df_all = df.loc[ ((df['Дата_первых_сведений'] < finish)     &   ( (df['Дата_выбытия'].isnull())  | (df['Дата_выбытия'] >= start)     ))\n",
    "\n",
    "                    ]\n",
    "\n",
    "    data_all_clients = df.loc[ ((df['Дата_первых_сведений'] < finish)   &   ( (df['Дата_выбытия'].isnull())  | (df['Дата_выбытия'] >= start)     ))\n",
    "\n",
    "                             ]\n",
    "\n",
    "    data_all_clients_vzros = df.loc[ (df['Дата_первых_сведений'] < finish) \n",
    "                             &   ( (df['Дата_выбытия'].isnull())  | (df['Дата_выбытия'] >= start))  \n",
    "                             &   (  df['Дети'].isna())\n",
    "                                    \n",
    "                                   ]\n",
    "    \n",
    "    data_all_clients_vzros_trud = df.loc[ (df['Дата_первых_сведений'] < finish) \n",
    "                             &   ( (df['Дата_выбытия'].isnull())  | (df['Дата_выбытия'] >= start))  \n",
    "                             &   (  df['Категория'] == 'Старше трудосп')    \n",
    "\n",
    "                                        ]\n",
    "    \n",
    "    data_all_clients_deti = df.loc[ (df['Дата_первых_сведений'] < finish) \n",
    "                         &   ( (df['Дата_выбытия'].isnull())  | (df['Дата_выбытия'] >= start))  \n",
    "                         &   (  ~df['Дети'].isna()) \n",
    "\n",
    "                                  ]\n",
    "    \n",
    "    return data_all_clients.shape[0],  data_all_clients_vzros.shape[0], data_all_clients_vzros_trud.shape[0], data_all_clients_deti.shape[0], data_all_clients"
   ]
  },
  {
   "cell_type": "markdown",
   "id": "1d93d11c-91d1-4be2-a6ec-a42125fbb74a",
   "metadata": {
    "jp-MarkdownHeadingCollapsed": true,
    "tags": []
   },
   "source": [
    "### \n",
    "<div class=\"alert alert-block alert-info\">\n",
    "<!-- <div class=\"alert alert-block alert-info\"> <div class=\"alert alert-block alert-warning\"> <div class=\"alert alert-block alert-success\"> <div class=\"alert alert-block alert-danger\">      --> \n",
    "    <font size=3>\n",
    "<b> функция подсчета НОВЫХ пациентов, обратившихся в ЭТОМ периоде (чел.)  <br></b>            </div>"
   ]
  },
  {
   "cell_type": "code",
   "execution_count": 4,
   "id": "044274aa-d97b-4653-8b17-145ff989d231",
   "metadata": {
    "tags": []
   },
   "outputs": [],
   "source": [
    "# 4444 ---------------------------------------------  Количество НОВЫХ пациентов, получателей помощи (чел.)\n",
    "def def_data_new_clients(df, start, finish):\n",
    "    \n",
    "#  ------------------- берем     Дата_первых_сведений ----------------- если брать дату включения - будет меньше ---------Дата_первых_сведений\n",
    "\n",
    "\n",
    "    data_new_clients = df.loc[ ((df['Дата_первых_сведений'] >= start)  &  (df['Дата_первых_сведений'] < finish) )\n",
    "\n",
    "                             ]\n",
    "\n",
    "\n",
    "    data_new_clients_vzros = df.loc[ (df['Дата_первых_сведений'] >= start)  &  (df['Дата_первых_сведений'] < finish)   \n",
    "                             &   (  df['Дети'].isna())\n",
    "                                    \n",
    "                                   ]\n",
    "    \n",
    "    data_new_clients_vzros_trud = df.loc[ (df['Дата_первых_сведений'] >= start)  &  (df['Дата_первых_сведений'] < finish)   \n",
    "                             &   (  df['Категория'] == 'Старше трудосп') \n",
    "\n",
    "                                        ]\n",
    "    \n",
    "    data_new_clients_deti = df.loc[ (df['Дата_первых_сведений'] >= start)  &  (df['Дата_первых_сведений'] < finish) \n",
    "                         &   (  ~df['Дети'].isna())    \n",
    "\n",
    "                                  ]\n",
    "    \n",
    "    return data_new_clients.shape[0],  data_new_clients_vzros.shape[0], data_new_clients_vzros_trud.shape[0], data_new_clients_deti.shape[0], data_new_clients"
   ]
  },
  {
   "cell_type": "markdown",
   "id": "0714eee5-9084-4bf5-a3ca-2a3f7b5123f7",
   "metadata": {
    "jp-MarkdownHeadingCollapsed": true,
    "tags": []
   },
   "source": [
    "### \n",
    "<div class=\"alert alert-block alert-info\">\n",
    "<!-- <div class=\"alert alert-block alert-info\"> <div class=\"alert alert-block alert-warning\"> <div class=\"alert alert-block alert-success\"> <div class=\"alert alert-block alert-danger\">      --> \n",
    "    <font size=3>\n",
    "<b> функция подсчета УМЕРШИХ пациентов, в ЭТОМ периоде (чел.)  <br></b>            </div>"
   ]
  },
  {
   "cell_type": "code",
   "execution_count": 5,
   "id": "2cd14984-97da-47c4-b967-2a4e1c750112",
   "metadata": {
    "tags": []
   },
   "outputs": [],
   "source": [
    "# 4444 ---------------------------------------------  Количество НОВЫХ пациентов, получателей помощи (чел.)--------------------------------------Дата_первых_сведений\n",
    "def def_data_dead_clients(df, start, finish):\n",
    "    \n",
    "#  ------------------- берем     Дата_первых_сведений ----------------- если брать дату включения - будет меньше ---------\n",
    "\n",
    "\n",
    "    data_dead_clients = df.loc[ (df['Дата_первых_сведений'] < finish)    &   ( (df['Дата_выбытия'].isnull())  | ((df['Дата_выбытия'] >= start) &  (df['Дата_выбытия'] < finish))  )\n",
    "                              & (df['Текущий статус пациента'] == 'Умер')\n",
    "                              ]\n",
    "\n",
    "\n",
    "    data_dead_clients_vzros = df.loc[ (df['Дата_первых_сведений'] < finish)     &   ( (df['Дата_выбытия'].isnull())  | ((df['Дата_выбытия'] >= start) &  (df['Дата_выбытия'] < finish))  )\n",
    "                                   &   (  df['Дети'].isna())\n",
    "                                    & (df['Текущий статус пациента'] == 'Умер')\n",
    "                                   ]\n",
    "    \n",
    "    data_dead_clients_vzros_trud = df.loc[ (df['Дата_первых_сведений'] < finish)    &   ( (df['Дата_выбытия'].isnull())  | ((df['Дата_выбытия'] >= start) &  (df['Дата_выбытия'] < finish))  ) \n",
    "                                 &   (  df['Категория'] == 'Старше трудосп') \n",
    "                                  & (df['Текущий статус пациента'] == 'Умер')\n",
    "                                        ]\n",
    "    \n",
    "    data_dead_clients_deti = df.loc[ (df['Дата_первых_сведений'] < finish)      &   ( (df['Дата_выбытия'].isnull())  | ((df['Дата_выбытия'] >= start) &  (df['Дата_выбытия'] < finish))  )\n",
    "                                   & (  ~df['Дети'].isna())                                     \n",
    "                                   & (df['Текущий статус пациента'] == 'Умер')\n",
    "                                  ]\n",
    "    \n",
    "    return data_dead_clients.shape[0],  data_dead_clients_vzros.shape[0], data_dead_clients_vzros_trud.shape[0], data_dead_clients_deti.shape[0], data_dead_clients"
   ]
  },
  {
   "cell_type": "markdown",
   "id": "1e8e11bb-c3ae-42cf-b3ed-d939bbbb82ea",
   "metadata": {
    "tags": []
   },
   "source": [
    "### \n",
    "<div class=\"alert alert-block alert-info\">\n",
    "<!-- <div class=\"alert alert-block alert-info\"> <div class=\"alert alert-block alert-warning\"> <div class=\"alert alert-block alert-success\"> <div class=\"alert alert-block alert-danger\">      --> \n",
    "    <font size=3>\n",
    "<b> функция подсчета ИНОГОРОДНИХ пациентов, в ЭТОМ периоде (чел.)  <br></b>            </div>"
   ]
  },
  {
   "cell_type": "code",
   "execution_count": 6,
   "id": "12134032-b1d5-4331-89e3-f441b0a71338",
   "metadata": {
    "jupyter": {
     "source_hidden": true
    },
    "tags": []
   },
   "outputs": [],
   "source": [
    "# 100723 ----------------------------------------------ИНОГОРОДНИЕ-----------------------\n",
    "def def_data_inogorod_clients(df, start, finish):\n",
    "    \n",
    "#  ------------------- берем     Дата_первых_сведений ----------------- если брать дату включения - будет меньше ---------  'Гражданин РФ/иногородний', 'Украина', 'БОМЖ', nan, 'Иностранец', 'ЛНР', 'ДНР'\n",
    "\n",
    "\n",
    "    data_inogorod_clients = df.loc[ ((df['Дата_первых_сведений'] < finish)    &   ( (df['Дата_выбытия'].isnull())  | (df['Дата_выбытия'] >= start)     ))\n",
    "                             \n",
    "                                   & (\n",
    "                                      (df['Иногород'].isin(['ЛНР', 'ДНР', 'Гражданин РФ/иногородний'])) \n",
    "                                       # (df['Иногород'].isin(['ЛНР', 'ДНР', 'Гражданин РФ/иногородний', 'БОМЖ'])) # -------------------------------------------------------------------- + БОМЖ\n",
    "                                      # | (df['БК'] == 'Да') \n",
    "                                      # | ((df['Иногород'] == 'Гражданин РФ/иногородний') & ((~df['Дата разрешения ДЗМ'].isna())) | (~df['Номер разрешения ДЗМ'].isna()) )\n",
    "                                   ) ]\n",
    "\n",
    "\n",
    "    \n",
    "    data_inogorod_clients_vzros = df.loc[ (df['Дата_первых_сведений'] < finish)     &   ( (df['Дата_выбытия'].isnull())  | (df['Дата_выбытия'] >= start)     )  \n",
    "                                   &   (  df['Дети'].isna())\n",
    "                                   & (\n",
    "                                      (df['Иногород'].isin(['ЛНР', 'ДНР', 'Гражданин РФ/иногородний'])) \n",
    "                                                                              # (df['Иногород'].isin(['ЛНР', 'ДНР', 'Гражданин РФ/иногородний', 'БОМЖ'])) # ------------------------------------- + БОМЖ\n",
    "                                      # | (df['БК'] == 'Да') \n",
    "                                      # | ((df['Иногород'] == 'Гражданин РФ/иногородний') & ((~df['Дата разрешения ДЗМ'].isna())) | (~df['Номер разрешения ДЗМ'].isna()) )\n",
    "                                   )]\n",
    "    \n",
    "    data_inogorod_clients_vzros_trud = df.loc[ (df['Дата_первых_сведений'] < finish)    &   ( (df['Дата_выбытия'].isnull())  | (df['Дата_выбытия'] >= start)     )   \n",
    "                                 &   (  df['Категория'] == 'Старше трудосп') \n",
    "                                  & (\n",
    "                                      (df['Иногород'].isin(['ЛНР', 'ДНР', 'Гражданин РФ/иногородний'])) \n",
    "                                                                             # (df['Иногород'].isin(['ЛНР', 'ДНР', 'Гражданин РФ/иногородний', 'БОМЖ']))  # ------------------------------------- + БОМЖ\n",
    "                                      # | (df['БК'] == 'Да') \n",
    "                                      # | ((df['Иногород'] == 'Гражданин РФ/иногородний') & ((~df['Дата разрешения ДЗМ'].isna())) | (~df['Номер разрешения ДЗМ'].isna()) )\n",
    "                                   )]\n",
    "    \n",
    "    data_inogorod_clients_deti = df.loc[ (df['Дата_первых_сведений'] < finish)      &   ( (df['Дата_выбытия'].isnull())  | (df['Дата_выбытия'] >= start)     ) \n",
    "                                   & (  ~df['Дети'].isna())                                     \n",
    "                                  & (\n",
    "                                      (df['Иногород'].isin(['ЛНР', 'ДНР', 'Гражданин РФ/иногородний'])) \n",
    "                                        # (df['Иногород'].isin(['ЛНР', 'ДНР', 'Гражданин РФ/иногородний', 'БОМЖ']))  # ------------------------------------------------------------------------- + БОМЖ\n",
    "                                      # | (df['БК'] == 'Да') \n",
    "                                      # | ((df['Иногород'] == 'Гражданин РФ/иногородний') & ((~df['Дата разрешения ДЗМ'].isna())) | (~df['Номер разрешения ДЗМ'].isna()) )\n",
    "                                   )]\n",
    "    \n",
    "    return data_inogorod_clients.shape[0],  data_inogorod_clients_vzros.shape[0], data_inogorod_clients_vzros_trud.shape[0], data_inogorod_clients_deti.shape[0], data_inogorod_clients"
   ]
  },
  {
   "cell_type": "markdown",
   "id": "e30e66ab-fa48-4556-a6cf-975942cf1c87",
   "metadata": {
    "tags": []
   },
   "source": [
    "### \n",
    "<div class=\"alert alert-block alert-success\">\n",
    "<!-- <div class=\"alert alert-block alert-info\"> <div class=\"alert alert-block alert-warning\"> <div class=\"alert alert-block alert-success\"> <div class=\"alert alert-block alert-danger\">      --> \n",
    "    <font size=6>\n",
    "<b> РЕЗУЛЬТАТ Статистика ОБЩИЕ ПОКАЗАТЕЛИ <br></b>            </div>"
   ]
  },
  {
   "cell_type": "code",
   "execution_count": 8,
   "id": "a898b1a7-f9d9-494b-a50e-3262a1fed23f",
   "metadata": {
    "tags": []
   },
   "outputs": [
    {
     "data": {
      "text/markdown": [
       " # Статистика МОНИТОРИНГ период с 01.01.2023 по 30.06.2023:\n",
       "\n",
       "| Параметр | Количество всего| Взрослые |трудоспособ | Дети |\n",
       "|---:|:-|:-|:-|:-|\n",
       "| Количество пациентов __ВСЕГО__ за период __БМЧУ__не учитываем__ и __с учетом БК__| 20252      | 19731 |16780 |521 |\n",
       "| Количество __НОВЫХ__ пациентов за период          | 9074      | 8982 |7717 |92 |\n",
       "| Количество __УМЕРШИХ__ пациентов за период        | 7531     | 7494 |6497 |37 |\n",
       "| Количество __ИНОГОРОДНИХ__ пациентов за период    | 129 | 117 |73 |12 |\n",
       "| в __ИНОГОРОДНИХ__ __с учетом БК__ учтены:                | ---- |---- |---- |---- |\n",
       "| __'Гражданин РФ/иногородний', 'ЛНР', 'ДНР'__      | ---- |---- |---- |---- |\n",
       "\n",
       "\n"
      ]
     },
     "metadata": {},
     "output_type": "display_data"
    }
   ],
   "source": [
    "# ---------------------------- ИТОГИ ---------------\n",
    "start = '2023-01-01'\n",
    "finish = '2023-06-30'\n",
    "# file_605 = '605_0404.csv'\n",
    "# file_605 = '605_рц_бк_1204.csv'\n",
    "# file_605 = '605_рц_бк_0407_.csv'\n",
    "file_605 = 'выгрузка_из_1с_0410.csv'\n",
    "\n",
    "bmchu = 'не учитываем'\n",
    "# bmchu = 'учитываем'\n",
    "bk = 'с учетом БК'\n",
    "# bk = 'без учета БК'\n",
    "\n",
    "\n",
    "god_start = start.split('-')[0]\n",
    "mes_start = start.split('-')[1]\n",
    "day_start = start.split('-')[2]\n",
    "\n",
    "god_finish = finish.split('-')[0]\n",
    "mes_finish = finish.split('-')[1]\n",
    "day_finish = finish.split('-')[2]\n",
    "\n",
    "\n",
    "# ------------------------------------------------готовим реестр ------\n",
    "df_reest = load_data_605(file_605, bmchu, bk,finish)\n",
    "\n",
    "# ------------------------------------------------собираем данные ------\n",
    "all_clients  = def_data_all_clients(df_reest, start, finish)\n",
    "new_clients  = def_data_new_clients(df_reest, start, finish)\n",
    "dead_clients = def_data_dead_clients(df_reest, start, finish)\n",
    "inogorod_clients = def_data_inogorod_clients(df_reest, start, finish)\n",
    "# data_inogorod_clients_all = def_data_inogorod_clients_all(df_reest, start, finish)\n",
    "\n",
    "a = f'Статистика МОНИТОРИНГ период с {day_start}.{mes_start}.{god_start} по {day_finish}.{mes_finish}.{god_finish}:'\n",
    "\n",
    "display_markdown(f''' # {a}\n",
    "\n",
    "| Параметр | Количество всего| Взрослые |трудоспособ | Дети |\n",
    "|---:|:-|:-|:-|:-|\n",
    "| Количество пациентов __ВСЕГО__ за период __БМЧУ__{bmchu}__ и __{bk}__| {all_clients[0]}      | {all_clients[1]} |{all_clients[2]} |{all_clients[3]} |\n",
    "| Количество __НОВЫХ__ пациентов за период          | {new_clients[0]}      | {new_clients[1]} |{new_clients[2]} |{new_clients[3]} |\n",
    "| Количество __УМЕРШИХ__ пациентов за период        | {dead_clients[0]}     | {dead_clients[1]} |{dead_clients[2]} |{dead_clients[3]} |\n",
    "| Количество __ИНОГОРОДНИХ__ пациентов за период    | {inogorod_clients[0]} | {inogorod_clients[1]} |{inogorod_clients[2]} |{inogorod_clients[3]} |\n",
    "| в __ИНОГОРОДНИХ__ __{bk}__ учтены:                | ---- |---- |---- |---- |\n",
    "| __'Гражданин РФ/иногородний', 'ЛНР', 'ДНР'__      | ---- |---- |---- |---- |\n",
    "\n",
    "\n",
    "''', raw=True)"
   ]
  },
  {
   "cell_type": "code",
   "execution_count": null,
   "id": "105a60ed-ef62-4da5-992c-dc91608bf2dc",
   "metadata": {},
   "outputs": [],
   "source": []
  }
 ],
 "metadata": {
  "kernelspec": {
   "display_name": "Python 3 (ipykernel)",
   "language": "python",
   "name": "python3"
  },
  "language_info": {
   "codemirror_mode": {
    "name": "ipython",
    "version": 3
   },
   "file_extension": ".py",
   "mimetype": "text/x-python",
   "name": "python",
   "nbconvert_exporter": "python",
   "pygments_lexer": "ipython3",
   "version": "3.9.12"
  }
 },
 "nbformat": 4,
 "nbformat_minor": 5
}
