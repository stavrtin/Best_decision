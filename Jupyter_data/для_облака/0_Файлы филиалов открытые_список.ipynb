{
 "cells": [
  {
   "cell_type": "code",
   "execution_count": 5,
   "id": "25774f02-8b70-4c54-9d2e-6bf9ca76cfcb",
   "metadata": {
    "tags": []
   },
   "outputs": [],
   "source": [
    "import pandas as pd\n",
    "from datetime import datetime, date, timedelta\n",
    "from pathlib import Path\n",
    "from tqdm import tqdm\n",
    "import shutil\n",
    "import os, stat"
   ]
  },
  {
   "cell_type": "code",
   "execution_count": 6,
   "id": "7a621fcf-d6aa-49ac-95d1-bf3697024469",
   "metadata": {},
   "outputs": [],
   "source": [
    "# Путь к папке с исходными файлами\n",
    "\n",
    "folder_path = Path('z:/Выездные службы/')"
   ]
  },
  {
   "cell_type": "code",
   "execution_count": 7,
   "id": "a3345908-b517-4691-9467-d6257a27598c",
   "metadata": {},
   "outputs": [],
   "source": [
    "# Создание пустого списка для хранения DataFrame’ов\n",
    "\n",
    "frames = []"
   ]
  },
  {
   "cell_type": "code",
   "execution_count": 8,
   "id": "746c589c-9e90-4bb0-9bd2-d7b57cdf12d8",
   "metadata": {},
   "outputs": [
    {
     "name": "stdout",
     "output_type": "stream",
     "text": [
      "Открытые файлы на текущий момент времени (23.10.2024 14:09:46):\n",
      "\n"
     ]
    }
   ],
   "source": [
    "# Получаем список файлов для объединения\n",
    "\n",
    "files_list = [file for file in folder_path.glob(f'**/~${(datetime.now() - timedelta(days=1)).strftime(\"%Y%m%d\")}*.xlsx')] # в названии вчерашнее число\n",
    "# files_list = [file for file in folder_path.glob(f'**/{datetime.now().strftime(\"%Y%m%d\")}*.xlsx')] # в названии сегодняшнее число\n",
    "\n",
    "print('Открытые файлы на текущий момент времени (' + datetime.now().strftime(\"%d.%m.%Y %H:%M:%S\") + '):\\n')\n",
    "for item in files_list:\n",
    "    print(item.__str__().replace('z:\\\\Выездные службы\\\\', '').__str__().replace(\"~$\", '').__str__().replace(\"')\", ''))"
   ]
  },
  {
   "cell_type": "code",
   "execution_count": null,
   "id": "3d036c4b-b7b9-4328-b5f6-9610c62c0195",
   "metadata": {},
   "outputs": [],
   "source": []
  },
  {
   "cell_type": "code",
   "execution_count": null,
   "id": "669701f2-120b-45db-86e6-1695887f1e0c",
   "metadata": {},
   "outputs": [],
   "source": []
  }
 ],
 "metadata": {
  "kernelspec": {
   "display_name": "base",
   "language": "python",
   "name": "python3"
  },
  "language_info": {
   "codemirror_mode": {
    "name": "ipython",
    "version": 3
   },
   "file_extension": ".py",
   "mimetype": "text/x-python",
   "name": "python",
   "nbconvert_exporter": "python",
   "pygments_lexer": "ipython3",
   "version": "3.11.5"
  }
 },
 "nbformat": 4,
 "nbformat_minor": 5
}
