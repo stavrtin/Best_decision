{
 "cells": [
  {
   "cell_type": "code",
   "execution_count": 1,
   "id": "25774f02-8b70-4c54-9d2e-6bf9ca76cfcb",
   "metadata": {
    "tags": []
   },
   "outputs": [],
   "source": [
    "import pandas as pd\n",
    "from datetime import datetime, date, timedelta\n",
    "from openpyxl import load_workbook\n",
    "from openpyxl.styles import Font, Color, Alignment, Border, Side, PatternFill\n",
    "import shutil\n",
    "import os, stat\n",
    "from tqdm import tqdm\n",
    "import warnings\n",
    "warnings.filterwarnings('ignore')"
   ]
  },
  {
   "cell_type": "code",
   "execution_count": 2,
   "id": "acf18e3b-e46b-4eba-a2bf-e2e8d02e8d8c",
   "metadata": {},
   "outputs": [],
   "source": [
    "oblako_name = '22-10-2024_16-00_Реестр ЦПП.xlsx'\n",
    "oblako_path = 'z:/Отдел аналитики/2024/10_окт_24/22-10-24/Файлы_для_облака/Для раздачи ВПС/'\n",
    "\n",
    "oblako = pd.read_excel(oblako_path + oblako_name, dtype='object', sheet_name='РЕЕСТР ')\n",
    "oblako_spravochniki = pd.read_excel(oblako_path + oblako_name, dtype='object', sheet_name='Справочники')"
   ]
  },
  {
   "cell_type": "code",
   "execution_count": 3,
   "id": "580a3adb-6bb0-48af-9e91-344bac4ff609",
   "metadata": {},
   "outputs": [],
   "source": [
    "oblako['Дата включения пациента в Реестр'] = pd.to_datetime(oblako['Дата включения пациента в Реестр'], dayfirst=True).dt.normalize()\n",
    "oblako['Дата рождения'] = pd.to_datetime(oblako['Дата рождения'], dayfirst=True, errors ='coerce').dt.normalize()\n",
    "oblako['Дата прикрепления к патронажному участку'] = pd.to_datetime(oblako['Дата прикрепления к патронажному участку'], dayfirst=True, errors ='coerce').dt.normalize()\n",
    "oblako['Дата выдачи заключения'] = pd.to_datetime(oblako['Дата выдачи заключения'], dayfirst=True, errors ='coerce').dt.normalize()\n",
    "oblako['Дата выдачи разрешения'] = pd.to_datetime(oblako['Дата выдачи разрешения'], dayfirst=True, errors ='coerce').dt.normalize()\n",
    "oblako['Плановая дата первичного визита 24 часа'] = pd.to_datetime(oblako['Плановая дата первичного визита 24 часа'], dayfirst=True, errors ='coerce').dt.normalize()\n",
    "oblako['Плановая дата первичного визита 72 часа'] = pd.to_datetime(oblako['Плановая дата первичного визита 72 часа'], dayfirst=True, errors ='coerce').dt.normalize()\n",
    "oblako['Плановая дата госпитализации'] = pd.to_datetime(oblako['Плановая дата госпитализации'], dayfirst=True, errors ='coerce').dt.normalize()\n",
    "oblako['Дата прекращения оказания ПМП'] = pd.to_datetime(oblako['Дата прекращения оказания ПМП'], dayfirst=True, errors ='coerce').dt.normalize()\n",
    "oblako['Дата смерти'] = pd.to_datetime(oblako['Дата смерти'], dayfirst=True, errors ='coerce').dt.normalize()\n",
    "oblako['Фактическая дата первичного выезда врача 24 часа из протокола осмотра ЕМИАС'] = pd.to_datetime(oblako['Фактическая дата первичного выезда врача 24 часа из протокола осмотра ЕМИАС'], dayfirst=True, errors ='coerce').dt.normalize()\n",
    "oblako['Фактическая дата первичного выезда врача 72 часа из протокола осмотра ЕМИАС'] = pd.to_datetime(oblako['Фактическая дата первичного выезда врача 72 часа из протокола осмотра ЕМИАС'], dayfirst=True, errors ='coerce').dt.normalize()\n",
    "oblako['Дата фактической госпитализации из  ЕМИАС'] = pd.to_datetime(oblako['Дата фактической госпитализации из  ЕМИАС'], dayfirst=True, errors ='coerce').dt.normalize()\n",
    "oblako['Последний визит врача из протокола осмотра ЕМИАС'] = pd.to_datetime(oblako['Последний визит врача из протокола осмотра ЕМИАС'], dayfirst=True, errors ='coerce').dt.normalize()\n",
    "oblako['Плановая дата следующего визита из протокола осмотра ЕМИАС'] = pd.to_datetime(oblako['Плановая дата следующего визита из протокола осмотра ЕМИАС'], dayfirst=True, errors ='coerce').dt.normalize()\n",
    "oblako['Дата  дозвона'] = pd.to_datetime(oblako['Дата  дозвона'], dayfirst=True, errors ='coerce').dt.normalize()"
   ]
  },
  {
   "cell_type": "code",
   "execution_count": 4,
   "id": "a6838928-9523-465f-81d4-aa03893af983",
   "metadata": {
    "tags": []
   },
   "outputs": [],
   "source": [
    "df_obl = oblako.copy()\n",
    "df_obl_sprav = oblako_spravochniki.copy()"
   ]
  },
  {
   "cell_type": "code",
   "execution_count": 5,
   "id": "294da38f-1cba-4a02-b1f1-993a821f5238",
   "metadata": {
    "tags": []
   },
   "outputs": [
    {
     "data": {
      "text/plain": [
       "'z:/Выездные службы/22-10-2024_16-00_Реестр ЦПП.xlsx'"
      ]
     },
     "execution_count": 5,
     "metadata": {},
     "output_type": "execute_result"
    }
   ],
   "source": [
    "shutil.copy2(oblako_path + oblako_name, 'z:/Выездные службы/' + oblako_name)"
   ]
  },
  {
   "cell_type": "code",
   "execution_count": 6,
   "id": "fe91aa3a-2b62-4385-9193-b331fb18a068",
   "metadata": {},
   "outputs": [],
   "source": [
    "os.chmod('z:/Выездные службы/' + oblako_name, stat.S_IREAD)"
   ]
  },
  {
   "cell_type": "code",
   "execution_count": 7,
   "id": "c412c43e-8a2e-4e01-b080-34237dc58e54",
   "metadata": {},
   "outputs": [],
   "source": [
    "df_obl = df_obl.loc[(df_obl['Медицинская организация, к которой прикреплен пациент для оказания паллиативной специализированной медицинской помощи в амбулаторных условиях'] != 'Заполняется КЦ')\n",
    "                    & ~(df_obl['Причина прекращения оказания ПМП'].str.contains('смерть', case=False, na=False))\n",
    "                    ]"
   ]
  },
  {
   "cell_type": "code",
   "execution_count": 8,
   "id": "4b0e80a7-88b8-4a03-a847-5ba424c20633",
   "metadata": {},
   "outputs": [],
   "source": [
    "df_obl['ID пациента'] = df_obl['ID пациента'].astype('str')"
   ]
  },
  {
   "cell_type": "code",
   "execution_count": 9,
   "id": "078f5784-5d9d-4cb5-a0d0-468cd993ed92",
   "metadata": {},
   "outputs": [],
   "source": [
    "list_filial = df_obl['Медицинская организация, к которой прикреплен пациент для оказания паллиативной специализированной медицинской помощи в амбулаторных условиях'].unique()"
   ]
  },
  {
   "cell_type": "code",
   "execution_count": 10,
   "id": "eba29a59-881a-4257-9901-2e0b7dc17f38",
   "metadata": {},
   "outputs": [],
   "source": [
    "# Ячейки НЕ для корректировки\n",
    "\n",
    "not_corrected = ['A1:AB1','AD1:AL1', 'AS1:AX1']"
   ]
  },
  {
   "cell_type": "code",
   "execution_count": 11,
   "id": "798a4a34-2e92-49fa-a79d-1518396c5292",
   "metadata": {},
   "outputs": [],
   "source": [
    "# Ячейки для корректировки\n",
    "\n",
    "for_corrected = ['AC1:AC5000','AM1:AR5000','AY1:AY5000']"
   ]
  },
  {
   "cell_type": "code",
   "execution_count": 12,
   "id": "06f5d188-bf77-4e15-a0b7-0ce0841a4b0d",
   "metadata": {},
   "outputs": [],
   "source": [
    "# Ячейки для визуального выделения\n",
    "\n",
    "for_filling = ['B2:C5000','E2:E5000','L2:L5000']"
   ]
  },
  {
   "cell_type": "code",
   "execution_count": 13,
   "id": "5479d8a7-0f5e-4312-80da-1639dd7e550e",
   "metadata": {},
   "outputs": [],
   "source": [
    "path_save = 'z:/Выездные службы'\n",
    "\n",
    "# path_save = 'c:/Users/1/Desktop/выгрузки/test/'"
   ]
  },
  {
   "cell_type": "code",
   "execution_count": 14,
   "id": "6e4bd42c-b8d7-4272-a54c-f077955fd5d0",
   "metadata": {},
   "outputs": [
    {
     "name": "stderr",
     "output_type": "stream",
     "text": [
      "Сохранение файлов:   0%|          | 0/21 [00:00<?, ?файл/s]"
     ]
    },
    {
     "name": "stderr",
     "output_type": "stream",
     "text": [
      "Сохранение файлов: 100%|██████████| 21/21 [01:03<00:00,  3.03s/файл]\n"
     ]
    }
   ],
   "source": [
    "for i in tqdm(list_filial, desc='Сохранение файлов', unit='файл'):\n",
    "    file_name =  f'{path_save}/{i}/{datetime.now().strftime(\"%Y%m%d\")}_{i}.xlsx'\n",
    "    file_name = file_name.replace('\"', '')\n",
    "    df_save = df_obl.loc[df_obl['Медицинская организация, к которой прикреплен пациент для оказания паллиативной специализированной медицинской помощи в амбулаторных условиях'] == i]\n",
    "    with pd.ExcelWriter(file_name,\n",
    "                        engine=\"xlsxwriter\",\n",
    "                        date_format='DD.MM.YYYY',\n",
    "                        datetime_format='DD.MM.YYYY'\n",
    "                       ) as writer:        \n",
    "        \n",
    "        df_save.to_excel(writer, freeze_panes=(1,0), index = False)\n",
    "        worksheet = writer.sheets[\"Sheet1\"]\n",
    "               \n",
    "        format1 = writer.book.add_format({'bg_color': '#dddddd'})\n",
    "        format2 = writer.book.add_format({'bg_color': '#99ff99'})\n",
    "        format3 = writer.book.add_format({'bg_color': '#99ccff'})\n",
    "        \n",
    "        unlocked = writer.book.add_format({\"locked\": False})\n",
    "        locked = writer.book.add_format({\"locked\": True})\n",
    "        \n",
    "        # Устанавливаем защиту листа и пароль\n",
    "        # worksheet.protect('paRol7!')\n",
    "        \n",
    "        for i in not_corrected:\n",
    "            worksheet.conditional_format(i, # Заливка серым ячеек не для корректирования\n",
    "                                         {'type' : 'cell',\n",
    "                                        'criteria' : '<>',\n",
    "                                        'value' : 0,\n",
    "                                        'format' : format1})\n",
    "        \n",
    "        for i in for_corrected:\n",
    "            worksheet.conditional_format(i, # Заливка ячеек для корректирования\n",
    "                                         {'type' : 'text',\n",
    "                                        'criteria' : 'not containing',\n",
    "                                        'value' : 'abrakadabra',\n",
    "                                        'format' : format2})\n",
    "\n",
    "        for i in for_filling:\n",
    "            worksheet.conditional_format(i, # Заливка ячеек для визуального выделения\n",
    "                                         {'type' : 'text',\n",
    "                                        'criteria' : 'not containing',\n",
    "                                        'value' : 'abrakadabra',\n",
    "                                        'format' : format3})\n",
    "        \n",
    "        worksheet.set_column('A:AY', 2)\n",
    "        worksheet.set_column('A:A', 10)\n",
    "        worksheet.set_column('B:B', 30)\n",
    "        worksheet.set_column('C:C', 15)\n",
    "        worksheet.set_column('E:E', 10)\n",
    "        worksheet.set_column('L:L', 18)\n",
    "        worksheet.set_column('M:M', 7)\n",
    "        worksheet.set_column('N:N', 18)\n",
    "        worksheet.set_column('O:O', 20)\n",
    "        worksheet.set_column('P:P', 12)\n",
    "        worksheet.set_column('AD:AD', 6)\n",
    "        worksheet.set_column('AE:AE', 10)\n",
    "        worksheet.set_column('AJ:AL', 10)\n",
    "        worksheet.set_column('AS:AX', 10)\n",
    "        worksheet.set_column('AC:AC', 12, unlocked)\n",
    "        worksheet.set_column('AM:AR', 12, unlocked)\n",
    "        worksheet.set_column('AY:AY', 12, unlocked)\n",
    "        worksheet.set_row(0, 100, locked)        \n",
    "        \n",
    "        worksheet.data_validation('AC2:AC5000', # Медицинская организация, к которой прикреплен пациент для оказания паллиативной специализированной медицинской помощи в амбулаторных условиях\n",
    "                                  {'validate': 'list', \n",
    "                                  'source': '=sprav!$M$2:$M$20'})\n",
    "        worksheet.data_validation('AM2:AM5000', # Текущий статус пациента\n",
    "                                  {'validate': 'list', \n",
    "                                  'source': '=sprav!$S$2:$S$5'})\n",
    "        worksheet.data_validation('AN2:AN5000', # Причина прекращения оказания ПМП\n",
    "                                  {'validate': 'list', \n",
    "                                  'source': '=sprav!$T$2:$T$6'})\n",
    "        worksheet.data_validation('AO2:AO5000', # Причины невыполнения «задания по пациенту»\n",
    "                                  {'validate': 'list', \n",
    "                                  'source': '=sprav!$U$2:$U$5'})\n",
    "        worksheet.data_validation('AP2:AP5000', # Причина прекращения на сопровождении\n",
    "                                  {'validate': 'list', \n",
    "                                  'source': '=sprav!$U$2:$U$5'})\n",
    "        worksheet.data_validation('AQ2:AQ5000', # Дата прекращения оказания ПМП\n",
    "                                  {'validate': 'date',\n",
    "                                  'criteria': 'between',\n",
    "                                  'minimum': date(2000, 1, 1),\n",
    "                                  'maximum': date(2030, 12, 31)})\n",
    "        worksheet.data_validation('AR2:AR5000', # Дата смерти\n",
    "                                  {'validate': 'date',\n",
    "                                  'criteria': 'between',\n",
    "                                  'minimum': date(2000, 1, 1),\n",
    "                                  'maximum': date(2030, 12, 31)})\n",
    "        workbook = writer.book\n",
    "        worksheet = writer.sheets[\"Sheet1\"]\n",
    "              \n",
    "        df_obl_sprav.to_excel(writer, index = False, sheet_name='sprav')"
   ]
  },
  {
   "cell_type": "code",
   "execution_count": 15,
   "id": "291740e8-68fd-4ab2-97d7-056a8482c572",
   "metadata": {},
   "outputs": [
    {
     "name": "stderr",
     "output_type": "stream",
     "text": [
      "Изменение файлов: 100%|██████████| 21/21 [00:41<00:00,  1.98s/файл]\n"
     ]
    }
   ],
   "source": [
    "for i in tqdm(list_filial, desc='Изменение файлов', unit='файл'):\n",
    "    file_name =  f'{path_save}/{i}/{datetime.now().strftime(\"%Y%m%d\")}_{i}.xlsx'\n",
    "    file_name = file_name.replace('\"', '')\n",
    "    workbook = load_workbook(filename=file_name)\n",
    "    sheet = workbook.active\n",
    "    sheet.auto_filter.ref = sheet.dimensions\n",
    "    header_row = sheet[1]        \n",
    "    for cell in header_row:\n",
    "        cell.alignment = Alignment(wrap_text=True)        \n",
    "    workbook.save(filename=file_name)"
   ]
  },
  {
   "cell_type": "code",
   "execution_count": null,
   "id": "0d7af5ea-2bda-4b59-af68-460fadfce30b",
   "metadata": {},
   "outputs": [],
   "source": []
  },
  {
   "cell_type": "code",
   "execution_count": null,
   "id": "ae1e6b43-9488-4dfe-9caf-b0fa2a41054c",
   "metadata": {},
   "outputs": [],
   "source": []
  },
  {
   "cell_type": "code",
   "execution_count": null,
   "id": "44fd59de-26e7-4c82-b35c-46d03ec7d325",
   "metadata": {},
   "outputs": [],
   "source": []
  }
 ],
 "metadata": {
  "kernelspec": {
   "display_name": "base",
   "language": "python",
   "name": "python3"
  },
  "language_info": {
   "codemirror_mode": {
    "name": "ipython",
    "version": 3
   },
   "file_extension": ".py",
   "mimetype": "text/x-python",
   "name": "python",
   "nbconvert_exporter": "python",
   "pygments_lexer": "ipython3",
   "version": "3.11.5"
  }
 },
 "nbformat": 4,
 "nbformat_minor": 5
}
