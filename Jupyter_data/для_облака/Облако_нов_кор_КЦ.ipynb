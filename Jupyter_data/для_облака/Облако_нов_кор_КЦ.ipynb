{
 "cells": [
  {
   "cell_type": "code",
   "execution_count": 37,
   "id": "8e896286-fdbe-4f00-8e77-638d87cb8485",
   "metadata": {
    "tags": []
   },
   "outputs": [],
   "source": [
    "import pandas as pd\n",
    "from datetime import datetime, date, timedelta\n",
    "import warnings\n",
    "warnings.filterwarnings('ignore')"
   ]
  },
  {
   "cell_type": "code",
   "execution_count": 38,
   "id": "8cf43b13-6fa6-4a9d-8ece-af7c6fce1884",
   "metadata": {},
   "outputs": [],
   "source": [
    "pd.set_option('display.max_columns', 500)"
   ]
  },
  {
   "cell_type": "markdown",
   "id": "4178ea10-5d81-40fc-8881-59a7ec6c620b",
   "metadata": {},
   "source": [
    "\n",
    "<div class=\"alert alert-block alert-success\">\n",
    "\n",
    "<!-- <div class=\"alert alert-block alert-info\">\n",
    "<div class=\"alert alert-block alert-warning\">\n",
    "<div class=\"alert alert-block alert-success\">\n",
    "<div class=\"alert alert-block alert-danger\">\n",
    "     -->\n",
    "<font size=3>\n",
    "Импорт данных</b>\n",
    " \n",
    "</div>"
   ]
  },
  {
   "cell_type": "code",
   "execution_count": 39,
   "id": "b4267b60-1811-4c51-a20c-9fdd905a7db8",
   "metadata": {},
   "outputs": [],
   "source": [
    "path_file = 'Файлы_для_облака/'"
   ]
  },
  {
   "cell_type": "code",
   "execution_count": 40,
   "id": "db07d5dc-c81b-40ca-9b33-de40d98e71ff",
   "metadata": {},
   "outputs": [],
   "source": [
    "df_obl = pd.read_excel(path_file + '23-10-2024_16-00_Реестр ЦПП_от_омк.xlsx', dtype='object', sheet_name='РЕЕСТР ')"
   ]
  },
  {
   "cell_type": "code",
   "execution_count": 41,
   "id": "dfaf88ab-5a05-4528-8346-2572cd4acecc",
   "metadata": {},
   "outputs": [],
   "source": [
    "# !!!!!!!!!!!!!!!!!! \n",
    "# в случае корректировки id, меняем его вручную о файле реестра\n",
    "\n",
    "df_new_kor = pd.read_excel(path_file + 'Реестр новых пациентов и корректировок Щеголева на 23.10.2024_ВЕРНЫЙ.xlsx', dtype='object')"
   ]
  },
  {
   "cell_type": "code",
   "execution_count": null,
   "id": "d0ee5f0d-d385-4a28-9d74-8bd8959f33d9",
   "metadata": {},
   "outputs": [],
   "source": []
  },
  {
   "cell_type": "code",
   "execution_count": 42,
   "id": "c4d0cd7e-e580-4605-9ee1-df76fe6790a4",
   "metadata": {},
   "outputs": [],
   "source": [
    "# Приводим дату к дате\n",
    "\n",
    "df_obl['Дата включения пациента в Реестр'] = pd.to_datetime(df_obl['Дата включения пациента в Реестр'], dayfirst=True).dt.normalize()\n",
    "df_obl['Дата рождения'] = pd.to_datetime(df_obl['Дата рождения'], dayfirst=True, errors ='coerce').dt.normalize()\n",
    "df_obl['Дата прикрепления к патронажному участку'] = pd.to_datetime(df_obl['Дата прикрепления к патронажному участку'], dayfirst=True, errors ='coerce').dt.normalize()\n",
    "df_obl['Дата выдачи заключения'] = pd.to_datetime(df_obl['Дата выдачи заключения'], dayfirst=True, errors ='coerce').dt.normalize()\n",
    "df_obl['Дата выдачи разрешения'] = pd.to_datetime(df_obl['Дата выдачи разрешения'], dayfirst=True, errors ='coerce').dt.normalize()\n",
    "df_obl['Плановая дата первичного визита 24 часа'] = pd.to_datetime(df_obl['Плановая дата первичного визита 24 часа'], dayfirst=True, errors ='coerce').dt.normalize()\n",
    "df_obl['Плановая дата первичного визита 72 часа'] = pd.to_datetime(df_obl['Плановая дата первичного визита 72 часа'], dayfirst=True, errors ='coerce').dt.normalize()\n",
    "df_obl['Плановая дата госпитализации'] = pd.to_datetime(df_obl['Плановая дата госпитализации'], dayfirst=True, errors ='coerce').dt.normalize()\n",
    "df_obl['Дата прекращения оказания ПМП'] = pd.to_datetime(df_obl['Дата прекращения оказания ПМП'], dayfirst=True, errors ='coerce').dt.normalize()\n",
    "df_obl['Дата смерти'] = pd.to_datetime(df_obl['Дата смерти'], dayfirst=True, errors ='coerce').dt.normalize()\n",
    "df_obl['Фактическая дата первичного выезда врача 24 часа из протокола осмотра ЕМИАС'] = pd.to_datetime(df_obl['Фактическая дата первичного выезда врача 24 часа из протокола осмотра ЕМИАС'], dayfirst=True, errors ='coerce').dt.normalize()\n",
    "df_obl['Фактическая дата первичного выезда врача 72 часа из протокола осмотра ЕМИАС'] = pd.to_datetime(df_obl['Фактическая дата первичного выезда врача 72 часа из протокола осмотра ЕМИАС'], dayfirst=True, errors ='coerce').dt.normalize()\n",
    "df_obl['Дата фактической госпитализации из  ЕМИАС'] = pd.to_datetime(df_obl['Дата фактической госпитализации из  ЕМИАС'], dayfirst=True, errors ='coerce').dt.normalize()\n",
    "df_obl['Последний визит врача из протокола осмотра ЕМИАС'] = pd.to_datetime(df_obl['Последний визит врача из протокола осмотра ЕМИАС'], dayfirst=True, errors ='coerce').dt.normalize()\n",
    "df_obl['Плановая дата следующего визита из протокола осмотра ЕМИАС'] = pd.to_datetime(df_obl['Плановая дата следующего визита из протокола осмотра ЕМИАС'], dayfirst=True, errors ='coerce').dt.normalize()\n",
    "df_obl['Дата  дозвона'] = pd.to_datetime(df_obl['Дата  дозвона'], dayfirst=True, errors ='coerce').dt.normalize()"
   ]
  },
  {
   "cell_type": "code",
   "execution_count": 43,
   "id": "2d68733a-7e45-4543-b5f0-d5b252028800",
   "metadata": {},
   "outputs": [],
   "source": [
    "df_new_kor['Дата включения пациента в Реестр'] = pd.to_datetime(df_new_kor['Дата включения пациента в Реестр'], dayfirst=True, errors ='coerce').dt.normalize()\n",
    "df_new_kor['Дата рождения'] = pd.to_datetime(df_new_kor['Дата рождения'], dayfirst=True, errors ='coerce').dt.normalize()\n",
    "df_new_kor['Дата прикрепления к патронажному участку'] = pd.to_datetime(df_new_kor['Дата прикрепления к патронажному участку'], dayfirst=True, errors ='coerce').dt.normalize()\n",
    "df_new_kor['Дата выдачи заключения'] = pd.to_datetime(df_new_kor['Дата выдачи заключения'], dayfirst=True, errors ='coerce').dt.normalize()\n",
    "df_new_kor['Дата выдачи разрешения'] = pd.to_datetime(df_new_kor['Дата выдачи разрешения'], dayfirst=True, errors ='coerce').dt.normalize()\n",
    "df_new_kor['Плановая дата первичного визита 24 часа'] = pd.to_datetime(df_new_kor['Плановая дата первичного визита 24 часа'], dayfirst=True, errors ='coerce').dt.normalize()\n",
    "df_new_kor['Плановая дата первичного визита 72 часа'] = pd.to_datetime(df_new_kor['Плановая дата первичного визита 72 часа'], dayfirst=True, errors ='coerce').dt.normalize()\n",
    "df_new_kor['Плановая дата госпитализации'] = pd.to_datetime(df_new_kor['Плановая дата госпитализации'], dayfirst=True, errors ='coerce').dt.normalize()\n",
    "df_new_kor['Дата прекращения оказания ПМП'] = pd.to_datetime(df_new_kor['Дата прекращения оказания ПМП'], dayfirst=True, errors ='coerce').dt.normalize()\n",
    "df_new_kor['Дата смерти'] = pd.to_datetime(df_new_kor['Дата смерти'], dayfirst=True, errors ='coerce').dt.normalize()\n",
    "df_new_kor['Фактическая дата первичного выезда врача 24 часа из протокола осмотра ЕМИАС'] = pd.to_datetime(df_new_kor['Фактическая дата первичного выезда врача 24 часа из протокола осмотра ЕМИАС'], dayfirst=True, errors ='coerce').dt.normalize()\n",
    "df_new_kor['Фактическая дата первичного выезда врача 72 часа из протокола осмотра ЕМИАС'] = pd.to_datetime(df_new_kor['Фактическая дата первичного выезда врача 72 часа из протокола осмотра ЕМИАС'], dayfirst=True, errors ='coerce').dt.normalize()\n",
    "df_new_kor['Дата фактической госпитализации из  ЕМИАС'] = pd.to_datetime(df_new_kor['Дата фактической госпитализации из  ЕМИАС'], dayfirst=True, errors ='coerce').dt.normalize()\n",
    "df_new_kor['Последний визит врача из протокола осмотра ЕМИАС'] = pd.to_datetime(df_new_kor['Последний визит врача из протокола осмотра ЕМИАС'], dayfirst=True, errors ='coerce').dt.normalize()\n",
    "df_new_kor['Плановая дата следующего визита из протокола осмотра ЕМИАС'] = pd.to_datetime(df_new_kor['Плановая дата следующего визита из протокола осмотра ЕМИАС'], dayfirst=True, errors ='coerce').dt.normalize()\n",
    "df_new_kor['Дата  дозвона'] = pd.to_datetime(df_new_kor['Дата  дозвона'], dayfirst=True, errors ='coerce').dt.normalize()"
   ]
  },
  {
   "cell_type": "code",
   "execution_count": 44,
   "id": "626e8ff1-e6b4-4275-a8b0-2621331ec63c",
   "metadata": {},
   "outputs": [],
   "source": [
    "# Создаем df с данными для корректировки\n",
    "\n",
    "df_kor = df_new_kor.loc[df_new_kor['Новый пациент/корректировка'].str.contains('корректировка', case=False, na=False)].copy()\n",
    "\n",
    "df_kor.drop('Новый пациент/корректировка', axis=1, inplace=True)"
   ]
  },
  {
   "cell_type": "code",
   "execution_count": 45,
   "id": "2b7df02a-99e0-49cf-bc77-5d31b7a10073",
   "metadata": {},
   "outputs": [],
   "source": [
    "# Создаем df с новыми пациентами\n",
    "\n",
    "df_new = df_new_kor.loc[df_new_kor['Новый пациент/корректировка'].str.contains('новый', case=False, na=False)].copy()\n",
    "\n",
    "df_new.drop('Новый пациент/корректировка', axis=1, inplace=True)\n",
    "df_new.rename(columns={'Комментарий': 'Комментарии'}, inplace=True)"
   ]
  },
  {
   "cell_type": "code",
   "execution_count": 46,
   "id": "cb813b8b-3a68-46dd-b786-8af054df804a",
   "metadata": {},
   "outputs": [
    {
     "data": {
      "text/plain": [
       "(18828, 51)"
      ]
     },
     "execution_count": 46,
     "metadata": {},
     "output_type": "execute_result"
    }
   ],
   "source": [
    "df_obl.shape"
   ]
  },
  {
   "cell_type": "code",
   "execution_count": 47,
   "id": "c02b745f-1e68-484b-a905-a6f584850536",
   "metadata": {},
   "outputs": [
    {
     "data": {
      "text/plain": [
       "(40, 51)"
      ]
     },
     "execution_count": 47,
     "metadata": {},
     "output_type": "execute_result"
    }
   ],
   "source": [
    "df_kor.shape"
   ]
  },
  {
   "cell_type": "code",
   "execution_count": 48,
   "id": "a217d995-2877-46dc-ac3e-3df6edecf3fa",
   "metadata": {},
   "outputs": [
    {
     "data": {
      "text/plain": [
       "(50, 51)"
      ]
     },
     "execution_count": 48,
     "metadata": {},
     "output_type": "execute_result"
    }
   ],
   "source": [
    "df_new.shape"
   ]
  },
  {
   "cell_type": "code",
   "execution_count": 49,
   "id": "3fc7ad6b-e299-46a3-accf-12b82e8c3cc8",
   "metadata": {},
   "outputs": [],
   "source": [
    "list_col_df_obl = df_obl.columns.tolist()\n",
    "list_col_df_new = df_new.columns.tolist()"
   ]
  },
  {
   "cell_type": "code",
   "execution_count": 50,
   "id": "532c2efe-2787-47f1-9393-164a2e4f6c58",
   "metadata": {},
   "outputs": [
    {
     "name": "stdout",
     "output_type": "stream",
     "text": [
      "Проверка соответствия наименования колонок между облаком и списком новых пациентов:\n"
     ]
    },
    {
     "data": {
      "text/plain": [
       "True"
      ]
     },
     "execution_count": 50,
     "metadata": {},
     "output_type": "execute_result"
    }
   ],
   "source": [
    "print('Проверка соответствия наименования колонок между облаком и списком новых пациентов:') \n",
    "list_col_df_obl == list_col_df_new"
   ]
  },
  {
   "cell_type": "code",
   "execution_count": 51,
   "id": "d5385ddb-96e7-40dd-a01f-0d9926a2e72d",
   "metadata": {},
   "outputs": [],
   "source": [
    "# Добавляем к облаку новых пациентов\n",
    "\n",
    "df_obl_new = pd.concat([df_obl, df_new], ignore_index=True)"
   ]
  },
  {
   "cell_type": "code",
   "execution_count": 52,
   "id": "d41054df-929e-4271-bef5-45a9afc07c45",
   "metadata": {},
   "outputs": [
    {
     "data": {
      "text/plain": [
       "True"
      ]
     },
     "execution_count": 52,
     "metadata": {},
     "output_type": "execute_result"
    }
   ],
   "source": [
    "# Проверка на корректность числа строк после объединения\n",
    "\n",
    "len(df_obl_new) == len(df_obl) + len(df_new)"
   ]
  },
  {
   "cell_type": "code",
   "execution_count": 53,
   "id": "d14fbb4b-a873-40b5-b045-d26a0500a198",
   "metadata": {},
   "outputs": [
    {
     "name": "stdout",
     "output_type": "stream",
     "text": [
      "Дубли пациентов по id в файле на корректировку:\n"
     ]
    },
    {
     "data": {
      "text/plain": [
       "0"
      ]
     },
     "execution_count": 53,
     "metadata": {},
     "output_type": "execute_result"
    }
   ],
   "source": [
    "print('Дубли пациентов по id в файле на корректировку:') \n",
    "len(df_kor[df_kor.duplicated(subset=['ID пациента'])])"
   ]
  },
  {
   "cell_type": "code",
   "execution_count": 54,
   "id": "0f60fd86-3b2c-48e8-aa0a-a4b51df53116",
   "metadata": {},
   "outputs": [
    {
     "name": "stdout",
     "output_type": "stream",
     "text": [
      "Кол-во пациентов с содержанием \"данны\" в поле id из файла на корректировку (!!!ЕСЛИ не 0, ВРУЧНУЮ изменяем в реестре):\n"
     ]
    },
    {
     "data": {
      "text/plain": [
       "0"
      ]
     },
     "execution_count": 54,
     "metadata": {},
     "output_type": "execute_result"
    }
   ],
   "source": [
    "print('Кол-во пациентов с содержанием \"данны\" в поле id из файла на корректировку (!!!ЕСЛИ не 0, ВРУЧНУЮ изменяем в реестре):')\n",
    "len(df_kor.loc[(df_kor['ID пациента'].str.contains('данны', case=False, na=False))])"
   ]
  },
  {
   "cell_type": "code",
   "execution_count": 55,
   "id": "dbb63f37-eee7-4ca5-9f30-cbc461e3200c",
   "metadata": {},
   "outputs": [
    {
     "name": "stdout",
     "output_type": "stream",
     "text": [
      "Кол-во пациентов по id найденных в облаке из файла на корректировку:\n"
     ]
    },
    {
     "data": {
      "text/plain": [
       "40"
      ]
     },
     "execution_count": 55,
     "metadata": {},
     "output_type": "execute_result"
    }
   ],
   "source": [
    "print('Кол-во пациентов по id найденных в облаке из файла на корректировку:')\n",
    "len(df_obl_new.merge(df_kor.loc[~(df_kor['ID пациента'].str.contains('данны', case=False, na=False))].add_suffix('_кор'), how='right', left_on= 'ID пациента', right_on='ID пациента_кор'))"
   ]
  },
  {
   "cell_type": "code",
   "execution_count": null,
   "id": "5d473928-6910-404f-a128-80621236ab13",
   "metadata": {},
   "outputs": [],
   "source": []
  },
  {
   "cell_type": "code",
   "execution_count": 56,
   "id": "54b031e7-2d4b-46ef-9dd1-9903d7b4d036",
   "metadata": {},
   "outputs": [],
   "source": [
    "# Вносим корректировки"
   ]
  },
  {
   "cell_type": "code",
   "execution_count": 57,
   "id": "a1bf5ef5-ef17-4272-9a7c-bdb4af025b1f",
   "metadata": {},
   "outputs": [],
   "source": [
    "list_kor = df_kor.columns.tolist()"
   ]
  },
  {
   "cell_type": "code",
   "execution_count": 58,
   "id": "871c388b-0adc-4771-96a2-3690e81d1e66",
   "metadata": {},
   "outputs": [],
   "source": [
    "list_kor.remove('ID пациента')\n",
    "list_kor.remove('Комментарий')"
   ]
  },
  {
   "cell_type": "code",
   "execution_count": 59,
   "id": "9eb2268c-cd3a-4269-9427-8b46b3113925",
   "metadata": {},
   "outputs": [],
   "source": [
    "df_obl_new['ID пациента'] = df_obl_new['ID пациента'].astype('str').str.strip().str.replace(' ', '')\n",
    "df_kor['ID пациента'] = df_kor['ID пациента'].astype('str').str.strip().str.replace(' ', '')"
   ]
  },
  {
   "cell_type": "code",
   "execution_count": 60,
   "id": "3fd6d1d0-cda9-4152-bb3a-2af1622a5643",
   "metadata": {},
   "outputs": [],
   "source": [
    "df_obl_new_kor = df_obl_new.merge(df_kor.loc[~(df_kor['ID пациента'].str.contains('данны', case=False, na=False))].add_suffix('_кор'), how='left', left_on= 'ID пациента', right_on='ID пациента_кор')"
   ]
  },
  {
   "cell_type": "code",
   "execution_count": 61,
   "id": "2d87be38-f8d8-4fb8-a339-210671019747",
   "metadata": {},
   "outputs": [
    {
     "data": {
      "text/plain": [
       "True"
      ]
     },
     "execution_count": 61,
     "metadata": {},
     "output_type": "execute_result"
    }
   ],
   "source": [
    "# Проверка на корректность числа строк после объединения\n",
    "\n",
    "len(df_obl_new_kor) == len(df_obl_new)"
   ]
  },
  {
   "cell_type": "code",
   "execution_count": 62,
   "id": "51e8e091-257b-41ab-98e1-27d213ac199d",
   "metadata": {},
   "outputs": [
    {
     "data": {
      "text/plain": [
       "(18878, 102)"
      ]
     },
     "execution_count": 62,
     "metadata": {},
     "output_type": "execute_result"
    }
   ],
   "source": [
    "df_obl_new_kor.shape"
   ]
  },
  {
   "cell_type": "code",
   "execution_count": 63,
   "id": "1fe01a7a-0110-4027-a13e-800da05cfb59",
   "metadata": {},
   "outputs": [],
   "source": [
    "for i in list_kor:\n",
    "    df_obl_new_kor.loc[~(df_obl_new_kor['ID пациента_кор'].isna()), [i]] = df_obl_new_kor[i + '_кор']"
   ]
  },
  {
   "cell_type": "code",
   "execution_count": 64,
   "id": "132fc10e-4e20-465d-b04e-24ec09acceea",
   "metadata": {},
   "outputs": [],
   "source": [
    "df_obl_new_kor['Комментарии'] = df_obl_new_kor['Комментарии'].astype('str')\n",
    "df_obl_new_kor['Комментарий_кор'] = df_obl_new_kor['Комментарий_кор'].astype('str')"
   ]
  },
  {
   "cell_type": "code",
   "execution_count": 65,
   "id": "f35369f5-8bdb-4dcb-90e3-ef60c6f7bcfa",
   "metadata": {},
   "outputs": [],
   "source": [
    "df_obl_new_kor.loc[((df_obl_new_kor['Комментарий_кор'] != 'nan')\n",
    "                    & (df_obl_new_kor['Комментарий_кор'] != df_obl_new_kor['Комментарии'])\n",
    "                   ), ['Комментарии']] = df_obl_new_kor[['Комментарии', 'Комментарий_кор']].agg('; '. join , axis= 1 )"
   ]
  },
  {
   "cell_type": "code",
   "execution_count": 66,
   "id": "e50bc818-846a-4214-a7dc-aefcf7c7c622",
   "metadata": {},
   "outputs": [],
   "source": [
    "df_obl_new_kor['Комментарии'] = df_obl_new_kor['Комментарии'].str.replace('nan; ', '').str.replace('; nan', '').str.replace('nan', '')"
   ]
  },
  {
   "cell_type": "code",
   "execution_count": null,
   "id": "28503b01-8aa6-4737-8563-50a7f4ca053a",
   "metadata": {},
   "outputs": [],
   "source": []
  },
  {
   "cell_type": "code",
   "execution_count": 67,
   "id": "2c159b32-533d-4466-b95e-ca68c8a335c9",
   "metadata": {},
   "outputs": [
    {
     "data": {
      "text/plain": [
       "(18878, 51)"
      ]
     },
     "execution_count": 67,
     "metadata": {},
     "output_type": "execute_result"
    }
   ],
   "source": [
    "df_obl_new.shape"
   ]
  },
  {
   "cell_type": "code",
   "execution_count": 68,
   "id": "5b733ce1-ba03-40e3-9d31-90d2354c6f8f",
   "metadata": {},
   "outputs": [
    {
     "data": {
      "text/plain": [
       "(18878, 102)"
      ]
     },
     "execution_count": 68,
     "metadata": {},
     "output_type": "execute_result"
    }
   ],
   "source": [
    "df_obl_new_kor.shape"
   ]
  },
  {
   "cell_type": "code",
   "execution_count": 69,
   "id": "5bfc344d-3625-41d4-9335-beb3eb0fbdb8",
   "metadata": {},
   "outputs": [],
   "source": [
    "df_save = df_obl_new_kor[[\n",
    "                                                        'Дата включения пациента в Реестр',\n",
    "                                                        'ФИО пациента',\n",
    "                                                        'ID пациента',\n",
    "                                                        'Пол',\n",
    "                                                        'Дата рождения',\n",
    "                                                        'Гражданский статус',\n",
    "                                                        'Адрес регистрации по месту жительства',\n",
    "                                                        'Адрес регистрации по месту пребывания в Москве или адрес фактического места жительства в Москве',\n",
    "                                                        'Вид документа',\n",
    "                                                        'Номер документа, удостоверяющего личность',\n",
    "                                                        'СНИЛС',\n",
    "                                                        'Полис ОМС',\n",
    "                                                        'Инвалидность',\n",
    "                                                        'ФИО контактного лица',\n",
    "                                                        'Степень родства контактного лица',\n",
    "                                                        'Контактный телефон контактного лица',\n",
    "                                                        'Наличие социального работника',\n",
    "                                                        'Контактные данные социального работника',\n",
    "                                                        'Прикрепление к патронажному участку ',\n",
    "                                                        'Дата прикрепления к патронажному участку',\n",
    "                                                        'МО патронажного прикрепления',\n",
    "                                                        'МО прикрепления онкологического профиля',\n",
    "                                                        'Медицинское заключение о наличии у пациента показаний для оказания паллиативной медицинской помощи ',\n",
    "                                                        'Дата выдачи заключения',\n",
    "                                                        'Наименование медицинской организации, выдавшей медицинское заключение',\n",
    "                                                        'Разрешение ДЗМ на оказание паллиативной медицинской помощи пациенту ',\n",
    "                                                        'Дата выдачи разрешения',\n",
    "                                                        'Номер разрешения',\n",
    "                                                        'Медицинская организация, к которой прикреплен пациент для оказания паллиативной специализированной медицинской помощи в амбулаторных условиях',\n",
    "                                                        'Основной диагноз',\n",
    "                                                        'Задание по пациенту',\n",
    "                                                        'Трахеостома',\n",
    "                                                        'Респираторная поддержка',\n",
    "                                                        'Болевой синдром',\n",
    "                                                        'Категория пациента (оценка до первичного визита)',\n",
    "                                                        'Плановая дата первичного визита 24 часа',\n",
    "                                                        'Плановая дата первичного визита 72 часа',\n",
    "                                                        'Плановая дата госпитализации',\n",
    "                                                        'Текущий статус пациента',\n",
    "                                                        'Причина прекращения оказания ПМП',\n",
    "                                                        'Причины невыполнения «задания по пациенту» для первичных пациентов',\n",
    "                                                        'Причина прекращения на сопровождении для пациентов на учете',\n",
    "                                                        'Дата прекращения оказания ПМП',\n",
    "                                                        'Дата смерти',\n",
    "                                                        'Фактическая дата первичного выезда врача 24 часа из протокола осмотра ЕМИАС',\n",
    "                                                        'Фактическая дата первичного выезда врача 72 часа из протокола осмотра ЕМИАС',\n",
    "                                                        'Дата фактической госпитализации из  ЕМИАС',\n",
    "                                                        'Последний визит врача из протокола осмотра ЕМИАС',\n",
    "                                                        'Плановая дата следующего визита из протокола осмотра ЕМИАС',\n",
    "                                                        'Дата  дозвона',\n",
    "                                                        'Комментарии'\n",
    "                                                        ]].copy()"
   ]
  },
  {
   "cell_type": "code",
   "execution_count": 70,
   "id": "e5f01d88-2462-4a27-ad55-a5d13c3f4d6e",
   "metadata": {},
   "outputs": [],
   "source": [
    "df_save['ID пациента'] = df_save['ID пациента'].astype('str')\n",
    "df_save['Номер документа, удостоверяющего личность'] = df_save['Номер документа, удостоверяющего личность'].astype('str')\n",
    "df_save['Контактный телефон контактного лица'] = df_save['Контактный телефон контактного лица'].astype('str')\n",
    "df_save['СНИЛС'] = df_save['СНИЛС'].astype('str')\n",
    "df_save['Полис ОМС'] = df_save['Полис ОМС'].astype('str')\n",
    "df_save['Дата смерти'] = pd.to_datetime(df_save['Дата смерти'], dayfirst=True, errors ='coerce').dt.normalize()\n",
    "df_save['Дата прекращения оказания ПМП'] = pd.to_datetime(df_save['Дата прекращения оказания ПМП'], dayfirst=True, errors ='coerce').dt.normalize()\n",
    "\n",
    "df_save.loc[~df_save['СНИЛС'].str.contains('данных', case=False, na=False), ['СНИЛС']] = (df_save['СНИЛС'].str.strip().str.replace(' ', '').str.replace('-', '').astype(str).str[0:3]\n",
    "                                                                                            + '-' + df_save['СНИЛС'].str.strip().str.replace(' ', '').str.replace('-', '').astype(str).str[3:6]\n",
    "                                                                                            + '-' + df_save['СНИЛС'].str.strip().str.replace(' ', '').str.replace('-', '').astype(str).str[6:9]\n",
    "                                                                                            + ' ' + df_save['СНИЛС'].str.strip().str.replace(' ', '').str.replace('-', '').astype(str).str[9:11]\n",
    "                                                                                            )\n",
    "\n",
    "df_save.loc[~df_save['Полис ОМС'].str.contains('данных', case=False, na=False), ['Полис ОМС']] = (df_save['Полис ОМС'].str.strip().str.replace(' ', '').str.replace('-', '').astype(str).str[0:4]\n",
    "                                                                                                    + ' ' + df_save['Полис ОМС'].str.strip().str.replace(' ', '').str.replace('-', '').astype(str).str[4:8]\n",
    "                                                                                                    + ' ' + df_save['Полис ОМС'].str.strip().str.replace(' ', '').str.replace('-', '').astype(str).str[8:12]\n",
    "                                                                                                    + ' ' + df_save['Полис ОМС'].str.strip().str.replace(' ', '').str.replace('-', '').astype(str).str[12:16]\n",
    "                                                                                                    )"
   ]
  },
  {
   "cell_type": "code",
   "execution_count": 71,
   "id": "7ee2ab3c-6a4f-46d9-b0a2-62e16e48c1e7",
   "metadata": {
    "tags": []
   },
   "outputs": [],
   "source": [
    "with pd.ExcelWriter(path_file + 'df_oblako_new_korkc_' + datetime.now().strftime(\"%Y%m%d\") + '.xlsx',\n",
    "                      engine=\"xlsxwriter\",\n",
    "                      date_format='DD.MM.YYYY',\n",
    "                      datetime_format='DD.MM.YYYY') as writer:\n",
    "    df_save.to_excel(writer, freeze_panes=(2,0), index = False)"
   ]
  },
  {
   "cell_type": "code",
   "execution_count": null,
   "id": "3608a588-98b4-4bc5-8553-4895d3c079d2",
   "metadata": {},
   "outputs": [],
   "source": []
  },
  {
   "cell_type": "code",
   "execution_count": 36,
   "id": "31013def-ede6-4a67-a724-1313644a650c",
   "metadata": {},
   "outputs": [],
   "source": [
    "# Скорректировать формат отчета по проверке кол-ва строк после merge в одном месте"
   ]
  },
  {
   "cell_type": "code",
   "execution_count": null,
   "id": "c9ab82bc-bdd1-45ee-af1d-2fbef29bb840",
   "metadata": {},
   "outputs": [],
   "source": []
  },
  {
   "cell_type": "code",
   "execution_count": null,
   "id": "24137910-db16-45a5-8657-d2265016a1a5",
   "metadata": {},
   "outputs": [],
   "source": []
  }
 ],
 "metadata": {
  "kernelspec": {
   "display_name": "base",
   "language": "python",
   "name": "python3"
  },
  "language_info": {
   "codemirror_mode": {
    "name": "ipython",
    "version": 3
   },
   "file_extension": ".py",
   "mimetype": "text/x-python",
   "name": "python",
   "nbconvert_exporter": "python",
   "pygments_lexer": "ipython3",
   "version": "3.11.5"
  }
 },
 "nbformat": 4,
 "nbformat_minor": 5
}
