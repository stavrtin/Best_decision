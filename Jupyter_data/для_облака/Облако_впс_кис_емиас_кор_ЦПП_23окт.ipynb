{
 "cells": [
  {
   "cell_type": "code",
   "execution_count": 1,
   "id": "8e896286-fdbe-4f00-8e77-638d87cb8485",
   "metadata": {
    "tags": []
   },
   "outputs": [],
   "source": [
    "import pandas as pd\n",
    "from datetime import datetime, date, timedelta\n",
    "import warnings\n",
    "warnings.filterwarnings('ignore')"
   ]
  },
  {
   "cell_type": "code",
   "execution_count": 2,
   "id": "8cf43b13-6fa6-4a9d-8ece-af7c6fce1884",
   "metadata": {
    "tags": []
   },
   "outputs": [],
   "source": [
    "pd.set_option('display.max_columns', 500)"
   ]
  },
  {
   "cell_type": "markdown",
   "id": "4178ea10-5d81-40fc-8881-59a7ec6c620b",
   "metadata": {},
   "source": [
    "\n",
    "<div class=\"alert alert-block alert-success\">\n",
    "\n",
    "<!-- <div class=\"alert alert-block alert-info\">\n",
    "<div class=\"alert alert-block alert-warning\">\n",
    "<div class=\"alert alert-block alert-success\">\n",
    "<div class=\"alert alert-block alert-danger\">\n",
    "     -->\n",
    "<font size=3>\n",
    "Импорт данных</b>\n",
    " \n",
    "</div>"
   ]
  },
  {
   "cell_type": "code",
   "execution_count": 3,
   "id": "b4267b60-1811-4c51-a20c-9fdd905a7db8",
   "metadata": {
    "tags": []
   },
   "outputs": [],
   "source": [
    "path_file = 'Файлы_для_облака/'"
   ]
  },
  {
   "cell_type": "code",
   "execution_count": 6,
   "id": "db07d5dc-c81b-40ca-9b33-de40d98e71ff",
   "metadata": {
    "tags": []
   },
   "outputs": [],
   "source": [
    "df_obl = pd.read_excel(path_file + '22-10-2024_16-00_Реестр ЦПП.xlsx', dtype='object', sheet_name='РЕЕСТР ')"
   ]
  },
  {
   "cell_type": "code",
   "execution_count": 7,
   "id": "5db3b527-8b13-466c-abda-5b7c7bfcc1f8",
   "metadata": {
    "tags": []
   },
   "outputs": [],
   "source": [
    "df_kis = pd.read_excel(path_file + 'кис_241023_1412.xls')"
   ]
  },
  {
   "cell_type": "code",
   "execution_count": 8,
   "id": "40e586ad-ea61-4fed-8563-8e95a46634bf",
   "metadata": {
    "tags": []
   },
   "outputs": [],
   "source": [
    "df_from_vps = pd.read_excel(path_file + '20241023_объединенные данные от ВПС.xlsx')"
   ]
  },
  {
   "cell_type": "code",
   "execution_count": 9,
   "id": "10bcbc4f-749b-4415-a9c6-7b031412cd48",
   "metadata": {
    "tags": []
   },
   "outputs": [],
   "source": [
    "df_viz_emias = pd.read_excel(path_file + 'Протокол ЕМИАС все визиты_20241023.xlsx')"
   ]
  },
  {
   "cell_type": "markdown",
   "id": "39d86e92",
   "metadata": {},
   "source": [
    "<div style=\"background-color:#B2EBF2; font-size:12pt; border: 1px solid #35BDD0; border-radius: 5px; padding:10px\">\n",
    "Готовим файл с новыми и корректировками от ЦПП в соответствии с шаблоном\n",
    "</div>"
   ]
  },
  {
   "cell_type": "code",
   "execution_count": 22,
   "id": "dfaf88ab-5a05-4528-8346-2572cd4acecc",
   "metadata": {
    "tags": []
   },
   "outputs": [],
   "source": [
    "df_new_kor = pd.read_excel(path_file + 'Реестр_Корректировки_23.10.2024_ЦПП.xlsx', dtype='object')"
   ]
  },
  {
   "cell_type": "code",
   "execution_count": null,
   "id": "d0ee5f0d-d385-4a28-9d74-8bd8959f33d9",
   "metadata": {},
   "outputs": [],
   "source": []
  },
  {
   "cell_type": "code",
   "execution_count": 23,
   "id": "63dcd3a7-830e-4525-8bbc-85ec01b464ae",
   "metadata": {
    "tags": []
   },
   "outputs": [],
   "source": [
    "df_viz_emias['ID пациента'] = df_viz_emias['ID пациента'].astype('str')"
   ]
  },
  {
   "cell_type": "code",
   "execution_count": 24,
   "id": "5467d06b-8e7a-40d6-9c7c-be55c399db50",
   "metadata": {
    "tags": []
   },
   "outputs": [],
   "source": [
    "# Приводим дату к дате\n",
    "\n",
    "df_kis['Дата рожд.'] = pd.to_datetime(df_kis['Дата рожд.'], dayfirst=True).dt.normalize()\n",
    "df_kis['Дата госпитализации'] = pd.to_datetime(df_kis['Дата госпитализации'], dayfirst=True).dt.normalize()\n",
    "df_kis['Дата выписки'] = pd.to_datetime(df_kis['Дата выписки'], dayfirst=True).dt.normalize()\n",
    "\n",
    "df_obl['Дата включения пациента в Реестр'] = pd.to_datetime(df_obl['Дата включения пациента в Реестр'], dayfirst=True).dt.normalize()\n",
    "df_obl['Дата рождения'] = pd.to_datetime(df_obl['Дата рождения'], dayfirst=True, errors ='coerce').dt.normalize()\n",
    "df_obl['Дата прикрепления к патронажному участку'] = pd.to_datetime(df_obl['Дата прикрепления к патронажному участку'], dayfirst=True, errors ='coerce').dt.normalize()\n",
    "df_obl['Дата выдачи заключения'] = pd.to_datetime(df_obl['Дата выдачи заключения'], dayfirst=True, errors ='coerce').dt.normalize()\n",
    "df_obl['Дата выдачи разрешения'] = pd.to_datetime(df_obl['Дата выдачи разрешения'], dayfirst=True, errors ='coerce').dt.normalize()\n",
    "df_obl['Плановая дата первичного визита 24 часа'] = pd.to_datetime(df_obl['Плановая дата первичного визита 24 часа'], dayfirst=True, errors ='coerce').dt.normalize()\n",
    "df_obl['Плановая дата первичного визита 72 часа'] = pd.to_datetime(df_obl['Плановая дата первичного визита 72 часа'], dayfirst=True, errors ='coerce').dt.normalize()\n",
    "df_obl['Плановая дата госпитализации'] = pd.to_datetime(df_obl['Плановая дата госпитализации'], dayfirst=True, errors ='coerce').dt.normalize()\n",
    "df_obl['Дата прекращения оказания ПМП'] = pd.to_datetime(df_obl['Дата прекращения оказания ПМП'], dayfirst=True, errors ='coerce').dt.normalize()\n",
    "df_obl['Дата смерти'] = pd.to_datetime(df_obl['Дата смерти'], dayfirst=True, errors ='coerce').dt.normalize()\n",
    "df_obl['Фактическая дата первичного выезда врача 24 часа из протокола осмотра ЕМИАС'] = pd.to_datetime(df_obl['Фактическая дата первичного выезда врача 24 часа из протокола осмотра ЕМИАС'], dayfirst=True, errors ='coerce').dt.normalize()\n",
    "df_obl['Фактическая дата первичного выезда врача 72 часа из протокола осмотра ЕМИАС'] = pd.to_datetime(df_obl['Фактическая дата первичного выезда врача 72 часа из протокола осмотра ЕМИАС'], dayfirst=True, errors ='coerce').dt.normalize()\n",
    "df_obl['Дата фактической госпитализации из  ЕМИАС'] = pd.to_datetime(df_obl['Дата фактической госпитализации из  ЕМИАС'], dayfirst=True, errors ='coerce').dt.normalize()\n",
    "df_obl['Последний визит врача из протокола осмотра ЕМИАС'] = pd.to_datetime(df_obl['Последний визит врача из протокола осмотра ЕМИАС'], dayfirst=True, errors ='coerce').dt.normalize()\n",
    "df_obl['Плановая дата следующего визита из протокола осмотра ЕМИАС'] = pd.to_datetime(df_obl['Плановая дата следующего визита из протокола осмотра ЕМИАС'], dayfirst=True, errors ='coerce').dt.normalize()\n",
    "df_obl['Дата  дозвона'] = pd.to_datetime(df_obl['Дата  дозвона'], dayfirst=True, errors ='coerce').dt.normalize()\n",
    "\n",
    "# df_new_kor['Дата включения пациента в Реестр'] = pd.to_datetime(df_new_kor['Дата включения пациента в Реестр'], dayfirst=True, errors ='coerce').dt.normalize()\n",
    "# df_new_kor['Дата рождения'] = pd.to_datetime(df_new_kor['Дата рождения'], dayfirst=True, errors ='coerce').dt.normalize()\n",
    "# df_new_kor['Дата прикрепления к патронажному участку'] = pd.to_datetime(df_new_kor['Дата прикрепления к патронажному участку'], dayfirst=True, errors ='coerce').dt.normalize()\n",
    "# df_new_kor['Дата выдачи заключения'] = pd.to_datetime(df_new_kor['Дата выдачи заключения'], dayfirst=True, errors ='coerce').dt.normalize()\n",
    "# df_new_kor['Дата выдачи разрешения'] = pd.to_datetime(df_new_kor['Дата выдачи разрешения'], dayfirst=True, errors ='coerce').dt.normalize()\n",
    "# df_new_kor['Плановая дата первичного визита 24 часа'] = pd.to_datetime(df_new_kor['Плановая дата первичного визита 24 часа'], dayfirst=True, errors ='coerce').dt.normalize()\n",
    "# df_new_kor['Плановая дата первичного визита 72 часа'] = pd.to_datetime(df_new_kor['Плановая дата первичного визита 72 часа'], dayfirst=True, errors ='coerce').dt.normalize()\n",
    "# df_new_kor['Плановая дата госпитализации'] = pd.to_datetime(df_new_kor['Плановая дата госпитализации'], dayfirst=True, errors ='coerce').dt.normalize()\n",
    "# df_new_kor['Дата прекращения оказания ПМП'] = pd.to_datetime(df_new_kor['Дата прекращения оказания ПМП'], dayfirst=True, errors ='coerce').dt.normalize()\n",
    "# df_new_kor['Дата смерти'] = pd.to_datetime(df_new_kor['Дата смерти'], dayfirst=True, errors ='coerce').dt.normalize()\n",
    "# df_new_kor['Фактическая дата первичного выезда врача 24 часа из протокола осмотра ЕМИАС'] = pd.to_datetime(df_new_kor['Фактическая дата первичного выезда врача 24 часа из протокола осмотра ЕМИАС'], dayfirst=True, errors ='coerce').dt.normalize()\n",
    "# df_new_kor['Фактическая дата первичного выезда врача 72 часа из протокола осмотра ЕМИАС'] = pd.to_datetime(df_new_kor['Фактическая дата первичного выезда врача 72 часа из протокола осмотра ЕМИАС'], dayfirst=True, errors ='coerce').dt.normalize()\n",
    "# df_new_kor['Дата фактической госпитализации из  ЕМИАС'] = pd.to_datetime(df_new_kor['Дата фактической госпитализации из  ЕМИАС'], dayfirst=True, errors ='coerce').dt.normalize()\n",
    "# df_new_kor['Последний визит врача из протокола осмотра ЕМИАС'] = pd.to_datetime(df_new_kor['Последний визит врача из протокола осмотра ЕМИАС'], dayfirst=True, errors ='coerce').dt.normalize()\n",
    "# df_new_kor['Плановая дата следующего визита из протокола осмотра ЕМИАС'] = pd.to_datetime(df_new_kor['Плановая дата следующего визита из протокола осмотра ЕМИАС'], dayfirst=True, errors ='coerce').dt.normalize()\n",
    "# df_new_kor['Дата  дозвона'] = pd.to_datetime(df_new_kor['Дата  дозвона'], dayfirst=True, errors ='coerce').dt.normalize()"
   ]
  },
  {
   "cell_type": "code",
   "execution_count": 25,
   "id": "626e8ff1-e6b4-4275-a8b0-2621331ec63c",
   "metadata": {
    "tags": []
   },
   "outputs": [],
   "source": [
    "# Создаем df с данными для корректировки\n",
    "\n",
    "df_kor = df_new_kor.loc[df_new_kor['Новый пациент/корректировка'].str.contains('корректировка', case=False, na=False)].copy()\n",
    "\n",
    "df_kor.drop('Новый пациент/корректировка', axis=1, inplace=True)"
   ]
  },
  {
   "cell_type": "code",
   "execution_count": 26,
   "id": "2b7df02a-99e0-49cf-bc77-5d31b7a10073",
   "metadata": {
    "tags": []
   },
   "outputs": [],
   "source": [
    "# Создаем df с новыми пациентами\n",
    "\n",
    "df_new = df_new_kor.loc[df_new_kor['Новый пациент/корректировка'].str.contains('новый', case=False, na=False)].copy()\n",
    "\n",
    "df_new.drop('Новый пациент/корректировка', axis=1, inplace=True)\n",
    "df_new.rename(columns={'Комментарий': 'Комментарии'}, inplace=True)"
   ]
  },
  {
   "cell_type": "code",
   "execution_count": 27,
   "id": "cb813b8b-3a68-46dd-b786-8af054df804a",
   "metadata": {
    "tags": []
   },
   "outputs": [
    {
     "data": {
      "text/plain": [
       "(18827, 51)"
      ]
     },
     "execution_count": 27,
     "metadata": {},
     "output_type": "execute_result"
    }
   ],
   "source": [
    "df_obl.shape"
   ]
  },
  {
   "cell_type": "code",
   "execution_count": 28,
   "id": "c02b745f-1e68-484b-a905-a6f584850536",
   "metadata": {
    "tags": []
   },
   "outputs": [
    {
     "data": {
      "text/plain": [
       "(34, 51)"
      ]
     },
     "execution_count": 28,
     "metadata": {},
     "output_type": "execute_result"
    }
   ],
   "source": [
    "df_kor.shape"
   ]
  },
  {
   "cell_type": "code",
   "execution_count": 29,
   "id": "a217d995-2877-46dc-ac3e-3df6edecf3fa",
   "metadata": {
    "tags": []
   },
   "outputs": [
    {
     "data": {
      "text/plain": [
       "(1, 51)"
      ]
     },
     "execution_count": 29,
     "metadata": {},
     "output_type": "execute_result"
    }
   ],
   "source": [
    "df_new.shape"
   ]
  },
  {
   "cell_type": "code",
   "execution_count": 30,
   "id": "3fc7ad6b-e299-46a3-accf-12b82e8c3cc8",
   "metadata": {
    "tags": []
   },
   "outputs": [],
   "source": [
    "list_col_df_obl = df_obl.columns.tolist()\n",
    "list_col_df_new = df_new.columns.tolist()"
   ]
  },
  {
   "cell_type": "code",
   "execution_count": 31,
   "id": "532c2efe-2787-47f1-9393-164a2e4f6c58",
   "metadata": {
    "tags": []
   },
   "outputs": [
    {
     "name": "stdout",
     "output_type": "stream",
     "text": [
      "Проверка соответствия наименования колонок между облаком и списком новых пациентов:\n"
     ]
    },
    {
     "data": {
      "text/plain": [
       "True"
      ]
     },
     "execution_count": 31,
     "metadata": {},
     "output_type": "execute_result"
    }
   ],
   "source": [
    "print('Проверка соответствия наименования колонок между облаком и списком новых пациентов:') \n",
    "list_col_df_obl == list_col_df_new"
   ]
  },
  {
   "cell_type": "code",
   "execution_count": 32,
   "id": "d5385ddb-96e7-40dd-a01f-0d9926a2e72d",
   "metadata": {
    "tags": []
   },
   "outputs": [],
   "source": [
    "# Добавляем к облаку новых пациентов\n",
    "\n",
    "df_obl_new = pd.concat([df_obl, df_new], ignore_index=True)"
   ]
  },
  {
   "cell_type": "code",
   "execution_count": 33,
   "id": "d41054df-929e-4271-bef5-45a9afc07c45",
   "metadata": {
    "tags": []
   },
   "outputs": [
    {
     "data": {
      "text/plain": [
       "True"
      ]
     },
     "execution_count": 33,
     "metadata": {},
     "output_type": "execute_result"
    }
   ],
   "source": [
    "# Проверка на корректность числа строк после объединения\n",
    "\n",
    "len(df_obl_new) == len(df_obl) + len(df_new)"
   ]
  },
  {
   "cell_type": "code",
   "execution_count": null,
   "id": "bb39c048-9e29-4cfc-97c1-4ad63c2a044a",
   "metadata": {},
   "outputs": [],
   "source": []
  },
  {
   "cell_type": "code",
   "execution_count": 34,
   "id": "eba49772-922d-4a28-8e59-736956218e4b",
   "metadata": {
    "tags": []
   },
   "outputs": [],
   "source": [
    "# Создаем ключи из ФИО и ДР\n",
    "\n",
    "df_obl_new['Ключ'] = df_obl_new['ФИО пациента'].str.lower().str.strip().str.replace(' ', '').str.replace('ё', 'е') + df_obl_new['Дата рождения'].astype('str')\n",
    "df_from_vps['Ключ'] = df_from_vps['ФИО пациента'].str.lower().str.strip().str.replace(' ', '').str.replace('ё', 'е') + df_from_vps['Дата рождения'].astype('str')\n",
    "df_kis['Ключ'] = df_kis['ФИО'].str.lower().str.strip().str.replace(' ', '').str.replace('ё', 'е') + df_kis['Дата рожд.'].astype('str')"
   ]
  },
  {
   "cell_type": "code",
   "execution_count": 35,
   "id": "77ebd81b-a1c8-4be0-a224-84ca73e7dd13",
   "metadata": {
    "tags": []
   },
   "outputs": [],
   "source": [
    "# Создаем df с умершими пациентами по данным из КИС\n",
    "\n",
    "df_kis_smr = df_kis.loc[((df_kis['Исход госпитализации'].str.contains('умер', case=False, na=False))\n",
    "                         & ~(df_kis['Дата выписки'].isna())\n",
    "                        )][['Ключ', 'Дата выписки']].copy()"
   ]
  },
  {
   "cell_type": "code",
   "execution_count": 36,
   "id": "10ceb9e8-96e1-4736-b30f-0ebfdf482590",
   "metadata": {
    "tags": []
   },
   "outputs": [
    {
     "name": "stdout",
     "output_type": "stream",
     "text": [
      "Дубли пациентов по ключу в файле от ВПС:\n"
     ]
    },
    {
     "data": {
      "text/plain": [
       "0"
      ]
     },
     "execution_count": 36,
     "metadata": {},
     "output_type": "execute_result"
    }
   ],
   "source": [
    "# Проверяем дубли в данных\n",
    "\n",
    "print('Дубли пациентов по ключу в файле от ВПС:') \n",
    "len(df_from_vps[df_from_vps.duplicated(subset=['Ключ'])])"
   ]
  },
  {
   "cell_type": "code",
   "execution_count": 37,
   "id": "d14fbb4b-a873-40b5-b045-d26a0500a198",
   "metadata": {
    "tags": []
   },
   "outputs": [
    {
     "name": "stdout",
     "output_type": "stream",
     "text": [
      "Дубли пациентов по id в файле на корректировку:\n"
     ]
    },
    {
     "data": {
      "text/plain": [
       "0"
      ]
     },
     "execution_count": 37,
     "metadata": {},
     "output_type": "execute_result"
    }
   ],
   "source": [
    "print('Дубли пациентов по id в файле на корректировку:') \n",
    "len(df_kor[df_kor.duplicated(subset=['ID пациента'])])"
   ]
  },
  {
   "cell_type": "code",
   "execution_count": null,
   "id": "2c5fcc50-c0e5-4d33-90d8-7d718e5253d4",
   "metadata": {},
   "outputs": [],
   "source": []
  },
  {
   "cell_type": "code",
   "execution_count": 38,
   "id": "1a4080ac-5ca6-4d51-987f-0fbbe47fef16",
   "metadata": {
    "tags": []
   },
   "outputs": [],
   "source": [
    "# Обновляем информацию в облаке данными от ВПС\n",
    "\n",
    "df_obl_new_vps = df_obl_new.merge(df_from_vps[[\n",
    "                                    'Ключ',\n",
    "                                    'Медицинская организация, к которой прикреплен пациент для оказания паллиативной специализированной медицинской помощи в амбулаторных условиях',\n",
    "                                    'Текущий статус пациента',\n",
    "                                    'Причина прекращения оказания ПМП',\n",
    "                                    'Причины невыполнения «задания по пациенту» для первичных пациентов',\n",
    "                                    'Причина прекращения на сопровождении для пациентов на учете',\n",
    "                                    'Дата прекращения оказания ПМП',\n",
    "                                    'Дата смерти',\n",
    "                                    'Комментарии',\n",
    "                                    'файл'\n",
    "                                    ]].add_suffix('_ВПС'), how='left', left_on='Ключ', right_on='Ключ_ВПС')"
   ]
  },
  {
   "cell_type": "code",
   "execution_count": 39,
   "id": "3f824987-7013-490e-b268-4914344604d2",
   "metadata": {
    "tags": []
   },
   "outputs": [
    {
     "name": "stdout",
     "output_type": "stream",
     "text": [
      "Кол-во найденых строк между исходником и данными от ВПС:\n"
     ]
    },
    {
     "data": {
      "text/plain": [
       "15147"
      ]
     },
     "execution_count": 39,
     "metadata": {},
     "output_type": "execute_result"
    }
   ],
   "source": [
    "print('Кол-во найденых строк между исходником и данными от ВПС:')\n",
    "len(df_obl_new_vps.loc[~df_obl_new_vps['Ключ_ВПС'].isna()])"
   ]
  },
  {
   "cell_type": "code",
   "execution_count": 40,
   "id": "3dd4ce6a-c828-4854-b385-ae80cd5eb2b0",
   "metadata": {
    "tags": []
   },
   "outputs": [
    {
     "data": {
      "text/plain": [
       "True"
      ]
     },
     "execution_count": 40,
     "metadata": {},
     "output_type": "execute_result"
    }
   ],
   "source": [
    "# Проверка на корректность числа строк после объединения\n",
    "\n",
    "len(df_obl_new_vps) == len(df_obl_new)"
   ]
  },
  {
   "cell_type": "code",
   "execution_count": 41,
   "id": "e21a8c39-19b8-4e32-81b4-83e8e4e0857d",
   "metadata": {
    "tags": []
   },
   "outputs": [],
   "source": [
    "df_obl_new_vps.loc[ (df_obl_new_vps['ФИО пациента'] != 'Заполняется КЦ')\n",
    "            & ~(df_obl_new_vps['Ключ_ВПС'].isna()),\n",
    "            ['Медицинская организация, к которой прикреплен пациент для оказания паллиативной специализированной медицинской помощи в амбулаторных условиях']] = df_obl_new_vps['Медицинская организация, к которой прикреплен пациент для оказания паллиативной специализированной медицинской помощи в амбулаторных условиях_ВПС']\n",
    "\n",
    "df_obl_new_vps.loc[ (df_obl_new_vps['ФИО пациента'] != 'Заполняется КЦ')\n",
    "            & ~(df_obl_new_vps['Ключ_ВПС'].isna()),\n",
    "            ['Текущий статус пациента']] = df_obl_new_vps['Текущий статус пациента_ВПС']\n",
    "\n",
    "df_obl_new_vps.loc[ (df_obl_new_vps['ФИО пациента'] != 'Заполняется КЦ')\n",
    "            & ~(df_obl_new_vps['Ключ_ВПС'].isna()),\n",
    "            ['Причина прекращения оказания ПМП']] = df_obl_new_vps['Причина прекращения оказания ПМП_ВПС']\n",
    "\n",
    "df_obl_new_vps.loc[ (df_obl_new_vps['ФИО пациента'] != 'Заполняется КЦ')\n",
    "            & ~(df_obl_new_vps['Ключ_ВПС'].isna()),\n",
    "            ['Причины невыполнения «задания по пациенту» для первичных пациентов']] = df_obl_new_vps['Причины невыполнения «задания по пациенту» для первичных пациентов_ВПС']\n",
    "\n",
    "df_obl_new_vps.loc[ (df_obl_new_vps['ФИО пациента'] != 'Заполняется КЦ')\n",
    "            & ~(df_obl_new_vps['Ключ_ВПС'].isna()),\n",
    "            ['Причина прекращения на сопровождении для пациентов на учете']] = df_obl_new_vps['Причина прекращения на сопровождении для пациентов на учете_ВПС']\n",
    "\n",
    "df_obl_new_vps.loc[ (df_obl_new_vps['ФИО пациента'] != 'Заполняется КЦ')\n",
    "            & ~(df_obl_new_vps['Ключ_ВПС'].isna()),\n",
    "            ['Дата прекращения оказания ПМП']] = df_obl_new_vps['Дата прекращения оказания ПМП_ВПС']\n",
    "\n",
    "df_obl_new_vps.loc[ (df_obl_new_vps['ФИО пациента'] != 'Заполняется КЦ')\n",
    "            & ~(df_obl_new_vps['Ключ_ВПС'].isna()),\n",
    "            ['Дата смерти']] = df_obl_new_vps['Дата смерти_ВПС']\n",
    "\n",
    "df_obl_new_vps.loc[ (df_obl_new_vps['ФИО пациента'] != 'Заполняется КЦ')\n",
    "            & ~(df_obl_new_vps['Ключ_ВПС'].isna()),\n",
    "            ['Комментарии']] = df_obl_new_vps['Комментарии_ВПС']"
   ]
  },
  {
   "cell_type": "code",
   "execution_count": null,
   "id": "24ac1969-2785-471d-ad32-fb5e35ccd834",
   "metadata": {},
   "outputs": [],
   "source": []
  },
  {
   "cell_type": "code",
   "execution_count": 42,
   "id": "bfa14df8-8f1c-4dfe-8de6-5abd1de599bc",
   "metadata": {
    "tags": []
   },
   "outputs": [],
   "source": [
    "# Обновляем информацию в облаке данными по смертям\n",
    "\n",
    "df_obl_new_vps_smr = df_obl_new_vps.merge(df_kis_smr.add_suffix('_КИСсмр'), how='left', left_on= 'Ключ', right_on='Ключ_КИСсмр')"
   ]
  },
  {
   "cell_type": "code",
   "execution_count": 43,
   "id": "fec257b2-010c-4b15-a378-a2aba38496e7",
   "metadata": {
    "tags": []
   },
   "outputs": [
    {
     "name": "stdout",
     "output_type": "stream",
     "text": [
      "Кол-во найденых строк между исходником и данными по смертям:\n"
     ]
    },
    {
     "data": {
      "text/plain": [
       "1256"
      ]
     },
     "execution_count": 43,
     "metadata": {},
     "output_type": "execute_result"
    }
   ],
   "source": [
    "print('Кол-во найденых строк между исходником и данными по смертям:')\n",
    "len(df_obl_new_vps_smr.loc[~df_obl_new_vps_smr['Ключ_КИСсмр'].isna()])"
   ]
  },
  {
   "cell_type": "code",
   "execution_count": 44,
   "id": "aec9a976-f2af-41d1-939e-718f79c9c1e9",
   "metadata": {
    "tags": []
   },
   "outputs": [
    {
     "data": {
      "text/plain": [
       "True"
      ]
     },
     "execution_count": 44,
     "metadata": {},
     "output_type": "execute_result"
    }
   ],
   "source": [
    "# Проверка на корректность числа строк после объединения\n",
    "\n",
    "len(df_obl_new_vps_smr) == len(df_obl_new_vps)"
   ]
  },
  {
   "cell_type": "code",
   "execution_count": 45,
   "id": "95ef69f4-2d6e-4745-b8bd-70b1d5ae1ca4",
   "metadata": {
    "tags": []
   },
   "outputs": [],
   "source": [
    "df_obl_new_vps_smr.loc[ (df_obl_new_vps_smr['ФИО пациента'] != 'Заполняется КЦ')\n",
    "            & ~(df_obl_new_vps_smr['Ключ_КИСсмр'].isna())\n",
    "                                    ,['Текущий статус пациента']] = 'Оказание ПМП прекращено'\n",
    "\n",
    "df_obl_new_vps_smr.loc[ (df_obl_new_vps_smr['ФИО пациента'] != 'Заполняется КЦ')\n",
    "            & ~(df_obl_new_vps_smr['Ключ_КИСсмр'].isna())\n",
    "                                    ,['Причина прекращения оказания ПМП']] = 'смерть пациента'\n",
    "\n",
    "df_obl_new_vps_smr.loc[ (df_obl_new_vps_smr['ФИО пациента'] != 'Заполняется КЦ')\n",
    "            & ~(df_obl_new_vps_smr['Ключ_КИСсмр'].isna())\n",
    "                                    ,['Дата прекращения оказания ПМП']] = df_obl_new_vps_smr['Дата выписки_КИСсмр']\n",
    "\n",
    "df_obl_new_vps_smr.loc[ (df_obl_new_vps_smr['ФИО пациента'] != 'Заполняется КЦ')\n",
    "            & ~(df_obl_new_vps_smr['Ключ_КИСсмр'].isna())\n",
    "                                    ,['Дата смерти']] = df_obl_new_vps_smr['Дата выписки_КИСсмр']"
   ]
  },
  {
   "cell_type": "code",
   "execution_count": null,
   "id": "5e98a334-ac29-49a5-9c2e-6b728d9eb59a",
   "metadata": {},
   "outputs": [],
   "source": []
  },
  {
   "cell_type": "code",
   "execution_count": 46,
   "id": "624dc819-77ac-4076-8a28-917a8ddde6ea",
   "metadata": {
    "tags": []
   },
   "outputs": [],
   "source": [
    "# Обновляем данные по госпитализациям (первая госпитализация)"
   ]
  },
  {
   "cell_type": "code",
   "execution_count": 47,
   "id": "473667a4-6fa3-43b8-ac70-eba3afd3e87a",
   "metadata": {
    "tags": []
   },
   "outputs": [],
   "source": [
    "df_kis_last_gosp = df_kis[['Дата госпитализации', 'Ключ']].sort_values(by=['Ключ', 'Дата госпитализации'], ascending=[True, True]).drop_duplicates(subset=['Ключ']).copy()"
   ]
  },
  {
   "cell_type": "code",
   "execution_count": 48,
   "id": "f5465ed4-d5f8-4fcd-b187-b8c927152c78",
   "metadata": {
    "tags": []
   },
   "outputs": [],
   "source": [
    "df_kis_last_gosp['Дата госпитализации'] = pd.to_datetime(df_kis_last_gosp['Дата госпитализации']).dt.date"
   ]
  },
  {
   "cell_type": "code",
   "execution_count": 49,
   "id": "e6645126-d5f7-4388-b7f6-62277855e688",
   "metadata": {
    "tags": []
   },
   "outputs": [],
   "source": [
    "df_obl_new_vps_smr_gosp = df_obl_new_vps_smr.merge(df_kis_last_gosp.add_suffix('_КИСгосп'), how='left', left_on= 'Ключ', right_on='Ключ_КИСгосп')"
   ]
  },
  {
   "cell_type": "code",
   "execution_count": 50,
   "id": "d5ef1473-a93b-4509-ba09-2c83a319e97e",
   "metadata": {
    "tags": []
   },
   "outputs": [
    {
     "name": "stdout",
     "output_type": "stream",
     "text": [
      "Кол-во найденых строк между исходником и данными по госпитализациям:\n"
     ]
    },
    {
     "data": {
      "text/plain": [
       "3649"
      ]
     },
     "execution_count": 50,
     "metadata": {},
     "output_type": "execute_result"
    }
   ],
   "source": [
    "print('Кол-во найденых строк между исходником и данными по госпитализациям:')\n",
    "len(df_obl_new_vps_smr_gosp.loc[~df_obl_new_vps_smr_gosp['Ключ_КИСгосп'].isna()])"
   ]
  },
  {
   "cell_type": "code",
   "execution_count": 51,
   "id": "03be7b51-6508-439c-8fae-9cf93a2bdd21",
   "metadata": {
    "tags": []
   },
   "outputs": [
    {
     "data": {
      "text/plain": [
       "True"
      ]
     },
     "execution_count": 51,
     "metadata": {},
     "output_type": "execute_result"
    }
   ],
   "source": [
    "# Проверка на корректность числа строк после объединения\n",
    "\n",
    "len(df_obl_new_vps_smr_gosp) == len(df_obl_new_vps_smr)"
   ]
  },
  {
   "cell_type": "code",
   "execution_count": 52,
   "id": "7e3c7586-71da-4270-9a4a-d45b2e932e55",
   "metadata": {
    "tags": []
   },
   "outputs": [],
   "source": [
    "df_obl_new_vps_smr_gosp.loc[ (df_obl_new_vps_smr_gosp['Задание по пациенту'].str.contains('стационар цпп', case=False, na=False))\n",
    "            & (df_obl_new_vps_smr_gosp['Дата фактической госпитализации из  ЕМИАС'].isna())\n",
    "            & ~(df_obl_new_vps_smr_gosp['Дата госпитализации_КИСгосп'].isna())\n",
    "                                    ,['Дата фактической госпитализации из  ЕМИАС']] = df_obl_new_vps_smr_gosp['Дата госпитализации_КИСгосп']"
   ]
  },
  {
   "cell_type": "code",
   "execution_count": null,
   "id": "2c4c9a73-d3e7-4da8-9a4c-249325836e2d",
   "metadata": {},
   "outputs": [],
   "source": []
  },
  {
   "cell_type": "code",
   "execution_count": 53,
   "id": "9bb1f5aa-5653-4002-96e0-c366fc6e166f",
   "metadata": {
    "tags": []
   },
   "outputs": [],
   "source": [
    "# Обновляем данные по визитам"
   ]
  },
  {
   "cell_type": "code",
   "execution_count": 54,
   "id": "3abc9914-5ea7-40d5-8b20-44879a82722d",
   "metadata": {
    "tags": []
   },
   "outputs": [],
   "source": [
    "df_viz_emias_pervich = df_viz_emias.loc[df_viz_emias['Тип протокола'] == 'первичный выезд'][['ID пациента', 'Дата протокола']].sort_values(by=['ID пациента', 'Дата протокола'], ascending=[True, True]).drop_duplicates(subset=['ID пациента'])"
   ]
  },
  {
   "cell_type": "code",
   "execution_count": 55,
   "id": "c96c89cd-ba71-4bdf-b99a-5637f6c29653",
   "metadata": {
    "tags": []
   },
   "outputs": [],
   "source": [
    "df_obl_new_vps_smr_gosp_pervich = df_obl_new_vps_smr_gosp.merge(df_viz_emias_pervich.add_suffix('_первич'), how='left', left_on= 'ID пациента', right_on='ID пациента_первич')"
   ]
  },
  {
   "cell_type": "code",
   "execution_count": 56,
   "id": "d2f528ab-eeeb-4491-b8f9-f87d27c6df84",
   "metadata": {
    "tags": []
   },
   "outputs": [
    {
     "name": "stdout",
     "output_type": "stream",
     "text": [
      "Кол-во найденых строк между исходником и данными по первичным визитам:\n"
     ]
    },
    {
     "data": {
      "text/plain": [
       "4372"
      ]
     },
     "execution_count": 56,
     "metadata": {},
     "output_type": "execute_result"
    }
   ],
   "source": [
    "print('Кол-во найденых строк между исходником и данными по первичным визитам:')\n",
    "len(df_obl_new_vps_smr_gosp_pervich.loc[~df_obl_new_vps_smr_gosp_pervich['ID пациента_первич'].isna()])"
   ]
  },
  {
   "cell_type": "code",
   "execution_count": 57,
   "id": "d4e27ea5-5ba4-40bc-bfab-14fde6808007",
   "metadata": {
    "tags": []
   },
   "outputs": [
    {
     "data": {
      "text/plain": [
       "True"
      ]
     },
     "execution_count": 57,
     "metadata": {},
     "output_type": "execute_result"
    }
   ],
   "source": [
    "# Проверка на корректность числа строк после объединения\n",
    "\n",
    "len(df_obl_new_vps_smr_gosp_pervich) == len(df_obl_new_vps_smr_gosp)"
   ]
  },
  {
   "cell_type": "code",
   "execution_count": 58,
   "id": "b822f6aa-4941-46fd-91d9-d4ca56720932",
   "metadata": {
    "tags": []
   },
   "outputs": [],
   "source": [
    "df_obl_new_vps_smr_gosp_pervich.loc[ (df_obl_new_vps_smr_gosp_pervich['ФИО пациента'] != 'Заполняется КЦ')\n",
    "            &  (df_obl_new_vps_smr_gosp_pervich['Задание по пациенту'].str.lower() == 'отделение выездной паллиативной службы')\n",
    "            &  ~(df_obl_new_vps_smr_gosp_pervich['ID пациента_первич'].isna())\n",
    "            &  ~(df_obl_new_vps_smr_gosp_pervich['Плановая дата первичного визита 24 часа'].isna())\n",
    "                                    ,['Фактическая дата первичного выезда врача 24 часа из протокола осмотра ЕМИАС']] = df_obl_new_vps_smr_gosp_pervich['Дата протокола_первич']\n",
    "\n",
    "df_obl_new_vps_smr_gosp_pervich.loc[ (df_obl_new_vps_smr_gosp_pervich['ФИО пациента'] != 'Заполняется КЦ')\n",
    "            &  (df_obl_new_vps_smr_gosp_pervich['Задание по пациенту'].str.lower() == 'отделение выездной паллиативной службы')\n",
    "            &  ~(df_obl_new_vps_smr_gosp_pervich['ID пациента_первич'].isna())\n",
    "            &  ~(df_obl_new_vps_smr_gosp_pervich['Плановая дата первичного визита 72 часа'].isna())\n",
    "                                    ,['Фактическая дата первичного выезда врача 72 часа из протокола осмотра ЕМИАС']] = df_obl_new_vps_smr_gosp_pervich['Дата протокола_первич']"
   ]
  },
  {
   "cell_type": "code",
   "execution_count": null,
   "id": "1b77650e-bad4-4135-877f-49b5efb1f23d",
   "metadata": {},
   "outputs": [],
   "source": []
  },
  {
   "cell_type": "code",
   "execution_count": 59,
   "id": "37c0f76b-875b-4d4f-a1c0-3396e781991b",
   "metadata": {
    "tags": []
   },
   "outputs": [],
   "source": [
    "df_viz_emias_posledni = df_viz_emias[['ID пациента', 'Дата протокола']].sort_values(by=['ID пациента', 'Дата протокола'], ascending=[True, False]).drop_duplicates(subset=['ID пациента'])"
   ]
  },
  {
   "cell_type": "code",
   "execution_count": 60,
   "id": "fea764b9-b233-4777-83a0-dc074f97f192",
   "metadata": {
    "tags": []
   },
   "outputs": [],
   "source": [
    "df_obl_new_vps_smr_gosp_pervich_posledni = df_obl_new_vps_smr_gosp_pervich.merge(df_viz_emias_posledni.add_suffix('_послед'), how='left', left_on= 'ID пациента', right_on='ID пациента_послед')"
   ]
  },
  {
   "cell_type": "code",
   "execution_count": 61,
   "id": "5e2ac135-e3f3-4121-a54e-c6bf54f90ba2",
   "metadata": {
    "tags": []
   },
   "outputs": [
    {
     "name": "stdout",
     "output_type": "stream",
     "text": [
      "Кол-во найденых строк между исходником и данными по последним визитам:\n"
     ]
    },
    {
     "data": {
      "text/plain": [
       "11247"
      ]
     },
     "execution_count": 61,
     "metadata": {},
     "output_type": "execute_result"
    }
   ],
   "source": [
    "print('Кол-во найденых строк между исходником и данными по последним визитам:')\n",
    "len(df_obl_new_vps_smr_gosp_pervich_posledni.loc[~df_obl_new_vps_smr_gosp_pervich_posledni['ID пациента_послед'].isna()])"
   ]
  },
  {
   "cell_type": "code",
   "execution_count": 62,
   "id": "5cb93b2b-323f-4306-9e52-71ee1cce4865",
   "metadata": {
    "tags": []
   },
   "outputs": [
    {
     "data": {
      "text/plain": [
       "True"
      ]
     },
     "execution_count": 62,
     "metadata": {},
     "output_type": "execute_result"
    }
   ],
   "source": [
    "# Проверка на корректность числа строк после объединения\n",
    "\n",
    "len(df_obl_new_vps_smr_gosp_pervich_posledni) == len(df_obl_new_vps_smr_gosp_pervich)"
   ]
  },
  {
   "cell_type": "code",
   "execution_count": 63,
   "id": "806b6f0d-9ea9-433e-8634-18cf7d836675",
   "metadata": {
    "tags": []
   },
   "outputs": [],
   "source": [
    "df_obl_new_vps_smr_gosp_pervich_posledni.loc[   (df_obl_new_vps_smr_gosp_pervich_posledni['ФИО пациента'] != 'Заполняется КЦ')\n",
    "                                                &  ~(df_obl_new_vps_smr_gosp_pervich_posledni['ID пациента_послед'].isna())\n",
    "                                                                        ,['Последний визит врача из протокола осмотра ЕМИАС']] = df_obl_new_vps_smr_gosp_pervich_posledni['Дата протокола_послед']"
   ]
  },
  {
   "cell_type": "code",
   "execution_count": null,
   "id": "4bf7fac0-9a88-44a6-b43d-88e458de2fa1",
   "metadata": {},
   "outputs": [],
   "source": []
  },
  {
   "cell_type": "code",
   "execution_count": 64,
   "id": "b1415aa9-dfa5-4a7b-a06f-77ca76500322",
   "metadata": {
    "tags": []
   },
   "outputs": [],
   "source": [
    "df_viz_emias_plan = df_viz_emias[['ID пациента', 'Дата протокола', 'план_дата_визит_врач']].sort_values(by=['ID пациента', 'Дата протокола'], ascending=[True, False]).drop_duplicates(subset=['ID пациента'])"
   ]
  },
  {
   "cell_type": "code",
   "execution_count": 65,
   "id": "9b5e0f5c-79b4-4afe-8af8-06d80da751ea",
   "metadata": {
    "tags": []
   },
   "outputs": [],
   "source": [
    "df_obl_new_vps_smr_gosp_pervich_posledni_plan = df_obl_new_vps_smr_gosp_pervich_posledni.merge(df_viz_emias_plan.add_suffix('_плановый'), how='left', left_on= 'ID пациента', right_on='ID пациента_плановый')"
   ]
  },
  {
   "cell_type": "code",
   "execution_count": 66,
   "id": "1ba864bf-9a17-494f-b6f9-9e343ab1ad33",
   "metadata": {
    "tags": []
   },
   "outputs": [
    {
     "name": "stdout",
     "output_type": "stream",
     "text": [
      "Кол-во найденых строк между исходником и данными по плановым визитам:\n"
     ]
    },
    {
     "data": {
      "text/plain": [
       "11247"
      ]
     },
     "execution_count": 66,
     "metadata": {},
     "output_type": "execute_result"
    }
   ],
   "source": [
    "print('Кол-во найденых строк между исходником и данными по плановым визитам:')\n",
    "len(df_obl_new_vps_smr_gosp_pervich_posledni_plan.loc[~df_obl_new_vps_smr_gosp_pervich_posledni_plan['ID пациента_плановый'].isna()])"
   ]
  },
  {
   "cell_type": "code",
   "execution_count": 67,
   "id": "6efa8e33-bf6d-4802-b659-3503a9e4f7b6",
   "metadata": {
    "tags": []
   },
   "outputs": [
    {
     "data": {
      "text/plain": [
       "True"
      ]
     },
     "execution_count": 67,
     "metadata": {},
     "output_type": "execute_result"
    }
   ],
   "source": [
    "# Проверка на корректность числа строк после объединения\n",
    "\n",
    "len(df_obl_new_vps_smr_gosp_pervich_posledni_plan) == len(df_obl_new_vps_smr_gosp_pervich_posledni)"
   ]
  },
  {
   "cell_type": "code",
   "execution_count": 68,
   "id": "d4b0a930-e3bd-419a-9d8e-6557d99ab284",
   "metadata": {
    "tags": []
   },
   "outputs": [],
   "source": [
    "df_obl_new_vps_smr_gosp_pervich_posledni_plan.loc[  (df_obl_new_vps_smr_gosp_pervich_posledni_plan['ФИО пациента'] != 'Заполняется КЦ')\n",
    "                                                    &  ~(df_obl_new_vps_smr_gosp_pervich_posledni_plan['ID пациента_плановый'].isna())\n",
    "                                                                            ,['Плановая дата следующего визита из протокола осмотра ЕМИАС']] = df_obl_new_vps_smr_gosp_pervich_posledni_plan['план_дата_визит_врач_плановый']"
   ]
  },
  {
   "cell_type": "code",
   "execution_count": null,
   "id": "60f51f96-27f1-4dc7-a0fb-dac19217bfe6",
   "metadata": {},
   "outputs": [],
   "source": []
  },
  {
   "cell_type": "code",
   "execution_count": 69,
   "id": "9be8ac2f-daee-40e1-bc9a-87647f35333d",
   "metadata": {
    "tags": []
   },
   "outputs": [],
   "source": [
    "# Вносим корректировки"
   ]
  },
  {
   "cell_type": "code",
   "execution_count": 70,
   "id": "953f667e-27f8-4e44-a93a-0a031d54ab0b",
   "metadata": {
    "tags": []
   },
   "outputs": [],
   "source": [
    "list_kor = df_kor.columns.tolist()"
   ]
  },
  {
   "cell_type": "code",
   "execution_count": 71,
   "id": "6ac93a11-31e4-4c8a-bb7e-0933f818d130",
   "metadata": {
    "tags": []
   },
   "outputs": [],
   "source": [
    "list_kor.remove('ID пациента')\n",
    "list_kor.remove('Комментарий')"
   ]
  },
  {
   "cell_type": "code",
   "execution_count": 72,
   "id": "1eee8ad2-c38b-41b0-87b9-deb4231165aa",
   "metadata": {
    "tags": []
   },
   "outputs": [],
   "source": [
    "df_obl_new_vps_smr_gosp_pervich_posledni_plan['ID пациента'] = df_obl_new_vps_smr_gosp_pervich_posledni_plan['ID пациента'].astype('str').str.strip().str.replace(' ', '')\n",
    "df_kor['ID пациента'] = df_kor['ID пациента'].astype('str').str.strip().str.replace(' ', '')"
   ]
  },
  {
   "cell_type": "code",
   "execution_count": 73,
   "id": "05f9e2b0-8e95-41e1-9217-7fca57b4fc13",
   "metadata": {
    "tags": []
   },
   "outputs": [],
   "source": [
    "df_obl_new_vps_smr_gosp_pervich_posledni_plan_kor = df_obl_new_vps_smr_gosp_pervich_posledni_plan.merge(df_kor.loc[~(df_kor['ID пациента'].str.contains('данны', case=False, na=False))].add_suffix('_кор'), how='left', left_on= 'ID пациента', right_on='ID пациента_кор')"
   ]
  },
  {
   "cell_type": "code",
   "execution_count": 74,
   "id": "90487698-8b16-4622-be95-997996481df4",
   "metadata": {
    "tags": []
   },
   "outputs": [
    {
     "data": {
      "text/plain": [
       "True"
      ]
     },
     "execution_count": 74,
     "metadata": {},
     "output_type": "execute_result"
    }
   ],
   "source": [
    "# Проверка на корректность числа строк после объединения\n",
    "\n",
    "len(df_obl_new_vps_smr_gosp_pervich_posledni_plan_kor) == len(df_obl_new_vps_smr_gosp_pervich_posledni_plan)"
   ]
  },
  {
   "cell_type": "code",
   "execution_count": 75,
   "id": "685185d2-25b4-41ff-a579-46c36c259196",
   "metadata": {
    "tags": []
   },
   "outputs": [
    {
     "name": "stdout",
     "output_type": "stream",
     "text": [
      "Кол-во найденых строк между исходником и данными по корректировкам:\n"
     ]
    },
    {
     "data": {
      "text/plain": [
       "34"
      ]
     },
     "execution_count": 75,
     "metadata": {},
     "output_type": "execute_result"
    }
   ],
   "source": [
    "print('Кол-во найденых строк между исходником и данными по корректировкам:')\n",
    "len(df_obl_new_vps_smr_gosp_pervich_posledni_plan_kor.loc[~df_obl_new_vps_smr_gosp_pervich_posledni_plan_kor['ID пациента_кор'].isna()])"
   ]
  },
  {
   "cell_type": "code",
   "execution_count": 76,
   "id": "d124ba84-67a2-4f63-847a-c524b6b1a930",
   "metadata": {
    "tags": []
   },
   "outputs": [
    {
     "data": {
      "text/plain": [
       "(18828, 124)"
      ]
     },
     "execution_count": 76,
     "metadata": {},
     "output_type": "execute_result"
    }
   ],
   "source": [
    "df_obl_new_vps_smr_gosp_pervich_posledni_plan_kor.shape"
   ]
  },
  {
   "cell_type": "code",
   "execution_count": 77,
   "id": "ba159fa0-1bce-4dba-91d0-11de28213168",
   "metadata": {
    "tags": []
   },
   "outputs": [],
   "source": [
    "for i in list_kor:\n",
    "    df_obl_new_vps_smr_gosp_pervich_posledni_plan_kor.loc[~(df_obl_new_vps_smr_gosp_pervich_posledni_plan_kor[i + '_кор'].isna()), [i]] = df_obl_new_vps_smr_gosp_pervich_posledni_plan_kor[i + '_кор']"
   ]
  },
  {
   "cell_type": "code",
   "execution_count": 78,
   "id": "71a995f8-bf9e-4677-b4d4-7cbed2c9f250",
   "metadata": {
    "tags": []
   },
   "outputs": [],
   "source": [
    "df_obl_new_vps_smr_gosp_pervich_posledni_plan_kor['Комментарии'] = df_obl_new_vps_smr_gosp_pervich_posledni_plan_kor['Комментарии'].astype('str')\n",
    "df_obl_new_vps_smr_gosp_pervich_posledni_plan_kor['Комментарий_кор'] = df_obl_new_vps_smr_gosp_pervich_posledni_plan_kor['Комментарий_кор'].astype('str')"
   ]
  },
  {
   "cell_type": "code",
   "execution_count": 79,
   "id": "b1f51de9-c1df-420f-a6f7-fd7204950d70",
   "metadata": {
    "tags": []
   },
   "outputs": [],
   "source": [
    "df_obl_new_vps_smr_gosp_pervich_posledni_plan_kor.loc[((df_obl_new_vps_smr_gosp_pervich_posledni_plan_kor['Комментарий_кор'] != 'nan')\n",
    "                                                       & (df_obl_new_vps_smr_gosp_pervich_posledni_plan_kor['Комментарий_кор'] != df_obl_new_vps_smr_gosp_pervich_posledni_plan_kor['Комментарии'])\n",
    "                                                      ), ['Комментарии']] = df_obl_new_vps_smr_gosp_pervich_posledni_plan_kor[['Комментарии', 'Комментарий_кор']].agg('; '. join , axis= 1 )"
   ]
  },
  {
   "cell_type": "code",
   "execution_count": 80,
   "id": "de48dc94-e222-4471-9341-2bf78ad4e580",
   "metadata": {
    "tags": []
   },
   "outputs": [],
   "source": [
    "df_obl_new_vps_smr_gosp_pervich_posledni_plan_kor['Комментарии'] = df_obl_new_vps_smr_gosp_pervich_posledni_plan_kor['Комментарии'].str.replace('nan; ', '').str.replace('; nan', '').str.replace('nan', '')"
   ]
  },
  {
   "cell_type": "code",
   "execution_count": 81,
   "id": "1cf6e016-402f-48d2-938c-8de4136683cf",
   "metadata": {
    "tags": []
   },
   "outputs": [
    {
     "data": {
      "text/plain": [
       "True"
      ]
     },
     "execution_count": 81,
     "metadata": {},
     "output_type": "execute_result"
    }
   ],
   "source": [
    "# Проверка на корректность числа строк после объединения\n",
    "\n",
    "len(df_obl_new_vps_smr_gosp_pervich_posledni_plan_kor) == len(df_obl_new_vps_smr_gosp_pervich_posledni_plan)"
   ]
  },
  {
   "cell_type": "code",
   "execution_count": null,
   "id": "7ae633c4-a66a-4a57-8f08-677fde2fa445",
   "metadata": {},
   "outputs": [],
   "source": []
  },
  {
   "cell_type": "markdown",
   "id": "df5bfde4-efc2-410a-b6fb-a77aed95d9df",
   "metadata": {},
   "source": [
    "16.10.2024 10:22\n",
    "\n",
    "Надежда🧸\n",
    "РЦ должно быть \"на сопровождении\" или умер. Другого статуса не долно быть.."
   ]
  },
  {
   "cell_type": "code",
   "execution_count": 82,
   "id": "4e7911bd-52e6-4eb3-93e1-c8b7ed6aa130",
   "metadata": {
    "tags": []
   },
   "outputs": [],
   "source": [
    "df_obl_new_vps_smr_gosp_pervich_posledni_plan_stat = df_obl_new_vps_smr_gosp_pervich_posledni_plan_kor.copy()"
   ]
  },
  {
   "cell_type": "code",
   "execution_count": 83,
   "id": "ac7e2d72-aff4-4197-95a2-a0c763406bcb",
   "metadata": {
    "tags": []
   },
   "outputs": [],
   "source": [
    "# Обновляем текущий статус пациента\n",
    "\n",
    "df_obl_new_vps_smr_gosp_pervich_posledni_plan_stat.loc[  (df_obl_new_vps_smr_gosp_pervich_posledni_plan_stat['Текущий статус пациента'] == 'Новый (если назначен первичный визит)')\n",
    "                                                    & (\n",
    "                                                        ~(df_obl_new_vps_smr_gosp_pervich_posledni_plan_stat['Фактическая дата первичного выезда врача 24 часа из протокола осмотра ЕМИАС'].isna())\n",
    "                                                        | ~(df_obl_new_vps_smr_gosp_pervich_posledni_plan_stat['Фактическая дата первичного выезда врача 72 часа из протокола осмотра ЕМИАС'].isna())\n",
    "                                                        | ~(df_obl_new_vps_smr_gosp_pervich_posledni_plan_stat['Дата фактической госпитализации из  ЕМИАС'].isna())\n",
    "                                                        | ~(df_obl_new_vps_smr_gosp_pervich_posledni_plan_stat['Последний визит врача из протокола осмотра ЕМИАС'].isna())\n",
    "                                                      )\n",
    "                                                    ,['Текущий статус пациента']] = 'На сопровождении'\n",
    "\n",
    "df_obl_new_vps_smr_gosp_pervich_posledni_plan_stat.loc[  (df_obl_new_vps_smr_gosp_pervich_posledni_plan_stat['Задание по пациенту'] == 'ОВПП (Ресурсный центр)')\n",
    "                                                    & (df_obl_new_vps_smr_gosp_pervich_posledni_plan_stat['Текущий статус пациента'] == 'Сопровождение приостановлено')                                                      \n",
    "                                                    ,['Текущий статус пациента']] = 'На сопровождении'"
   ]
  },
  {
   "cell_type": "code",
   "execution_count": null,
   "id": "28503b01-8aa6-4737-8563-50a7f4ca053a",
   "metadata": {},
   "outputs": [],
   "source": []
  },
  {
   "cell_type": "code",
   "execution_count": 84,
   "id": "2c159b32-533d-4466-b95e-ca68c8a335c9",
   "metadata": {
    "tags": []
   },
   "outputs": [
    {
     "data": {
      "text/plain": [
       "(18828, 52)"
      ]
     },
     "execution_count": 84,
     "metadata": {},
     "output_type": "execute_result"
    }
   ],
   "source": [
    "df_obl_new.shape"
   ]
  },
  {
   "cell_type": "code",
   "execution_count": 85,
   "id": "5b733ce1-ba03-40e3-9d31-90d2354c6f8f",
   "metadata": {
    "tags": []
   },
   "outputs": [
    {
     "data": {
      "text/plain": [
       "(18828, 124)"
      ]
     },
     "execution_count": 85,
     "metadata": {},
     "output_type": "execute_result"
    }
   ],
   "source": [
    "df_obl_new_vps_smr_gosp_pervich_posledni_plan_stat.shape"
   ]
  },
  {
   "cell_type": "code",
   "execution_count": 86,
   "id": "5bfc344d-3625-41d4-9335-beb3eb0fbdb8",
   "metadata": {
    "tags": []
   },
   "outputs": [],
   "source": [
    "df_save = df_obl_new_vps_smr_gosp_pervich_posledni_plan_stat[[\n",
    "                                                        'Дата включения пациента в Реестр',\n",
    "                                                        'ФИО пациента',\n",
    "                                                        'ID пациента',\n",
    "                                                        'Пол',\n",
    "                                                        'Дата рождения',\n",
    "                                                        'Гражданский статус',\n",
    "                                                        'Адрес регистрации по месту жительства',\n",
    "                                                        'Адрес регистрации по месту пребывания в Москве или адрес фактического места жительства в Москве',\n",
    "                                                        'Вид документа',\n",
    "                                                        'Номер документа, удостоверяющего личность',\n",
    "                                                        'СНИЛС',\n",
    "                                                        'Полис ОМС',\n",
    "                                                        'Инвалидность',\n",
    "                                                        'ФИО контактного лица',\n",
    "                                                        'Степень родства контактного лица',\n",
    "                                                        'Контактный телефон контактного лица',\n",
    "                                                        'Наличие социального работника',\n",
    "                                                        'Контактные данные социального работника',\n",
    "                                                        'Прикрепление к патронажному участку ',\n",
    "                                                        'Дата прикрепления к патронажному участку',\n",
    "                                                        'МО патронажного прикрепления',\n",
    "                                                        'МО прикрепления онкологического профиля',\n",
    "                                                        'Медицинское заключение о наличии у пациента показаний для оказания паллиативной медицинской помощи ',\n",
    "                                                        'Дата выдачи заключения',\n",
    "                                                        'Наименование медицинской организации, выдавшей медицинское заключение',\n",
    "                                                        'Разрешение ДЗМ на оказание паллиативной медицинской помощи пациенту ',\n",
    "                                                        'Дата выдачи разрешения',\n",
    "                                                        'Номер разрешения',\n",
    "                                                        'Медицинская организация, к которой прикреплен пациент для оказания паллиативной специализированной медицинской помощи в амбулаторных условиях',\n",
    "                                                        'Основной диагноз',\n",
    "                                                        'Задание по пациенту',\n",
    "                                                        'Трахеостома',\n",
    "                                                        'Респираторная поддержка',\n",
    "                                                        'Болевой синдром',\n",
    "                                                        'Категория пациента (оценка до первичного визита)',\n",
    "                                                        'Плановая дата первичного визита 24 часа',\n",
    "                                                        'Плановая дата первичного визита 72 часа',\n",
    "                                                        'Плановая дата госпитализации',\n",
    "                                                        'Текущий статус пациента',\n",
    "                                                        'Причина прекращения оказания ПМП',\n",
    "                                                        'Причины невыполнения «задания по пациенту» для первичных пациентов',\n",
    "                                                        'Причина прекращения на сопровождении для пациентов на учете',\n",
    "                                                        'Дата прекращения оказания ПМП',\n",
    "                                                        'Дата смерти',\n",
    "                                                        'Фактическая дата первичного выезда врача 24 часа из протокола осмотра ЕМИАС',\n",
    "                                                        'Фактическая дата первичного выезда врача 72 часа из протокола осмотра ЕМИАС',\n",
    "                                                        'Дата фактической госпитализации из  ЕМИАС',\n",
    "                                                        'Последний визит врача из протокола осмотра ЕМИАС',\n",
    "                                                        'Плановая дата следующего визита из протокола осмотра ЕМИАС',\n",
    "                                                        'Дата  дозвона',\n",
    "                                                        'Комментарии'\n",
    "                                                        ]].copy()"
   ]
  },
  {
   "cell_type": "code",
   "execution_count": 87,
   "id": "e5f01d88-2462-4a27-ad55-a5d13c3f4d6e",
   "metadata": {
    "tags": []
   },
   "outputs": [],
   "source": [
    "df_save['ID пациента'] = df_save['ID пациента'].astype('str')\n",
    "df_save['Номер документа, удостоверяющего личность'] = df_save['Номер документа, удостоверяющего личность'].astype('str')\n",
    "df_save['Контактный телефон контактного лица'] = df_save['Контактный телефон контактного лица'].astype('str')\n",
    "df_save['СНИЛС'] = df_save['СНИЛС'].astype('str')\n",
    "df_save['Полис ОМС'] = df_save['Полис ОМС'].astype('str')\n",
    "df_save['Дата смерти'] = pd.to_datetime(df_save['Дата смерти'], dayfirst=True, errors ='coerce').dt.normalize()\n",
    "df_save['Дата прекращения оказания ПМП'] = pd.to_datetime(df_save['Дата прекращения оказания ПМП'], dayfirst=True, errors ='coerce').dt.normalize()\n",
    "\n",
    "df_save.loc[~df_save['СНИЛС'].str.contains('данных', case=False, na=False), ['СНИЛС']] = (df_save['СНИЛС'].str.strip().str.replace(' ', '').str.replace('-', '').astype(str).str[0:3]\n",
    "                                                                                            + '-' + df_save['СНИЛС'].str.strip().str.replace(' ', '').str.replace('-', '').astype(str).str[3:6]\n",
    "                                                                                            + '-' + df_save['СНИЛС'].str.strip().str.replace(' ', '').str.replace('-', '').astype(str).str[6:9]\n",
    "                                                                                            + ' ' + df_save['СНИЛС'].str.strip().str.replace(' ', '').str.replace('-', '').astype(str).str[9:11]\n",
    "                                                                                            )\n",
    "\n",
    "df_save.loc[~df_save['Полис ОМС'].str.contains('данных', case=False, na=False), ['Полис ОМС']] = (df_save['Полис ОМС'].str.strip().str.replace(' ', '').str.replace('-', '').astype(str).str[0:4]\n",
    "                                                                                                    + ' ' + df_save['Полис ОМС'].str.strip().str.replace(' ', '').str.replace('-', '').astype(str).str[4:8]\n",
    "                                                                                                    + ' ' + df_save['Полис ОМС'].str.strip().str.replace(' ', '').str.replace('-', '').astype(str).str[8:12]\n",
    "                                                                                                    + ' ' + df_save['Полис ОМС'].str.strip().str.replace(' ', '').str.replace('-', '').astype(str).str[12:16]\n",
    "                                                                                                    )"
   ]
  },
  {
   "cell_type": "code",
   "execution_count": 90,
   "id": "dcfa71a0-c536-4fd4-8b15-9fdf62c7d8f9",
   "metadata": {
    "tags": []
   },
   "outputs": [],
   "source": [
    "df_save['Дата включения пациента в Реестр'] = pd.to_datetime(df_save['Дата включения пациента в Реестр'], dayfirst=True, errors ='coerce').dt.normalize()\n",
    "df_save['Дата рождения'] = pd.to_datetime(df_save['Дата рождения'], dayfirst=True, errors ='coerce').dt.normalize()\n",
    "df_save['Дата прикрепления к патронажному участку'] = pd.to_datetime(df_save['Дата прикрепления к патронажному участку'], dayfirst=True, errors ='coerce').dt.normalize()\n",
    "df_save['Дата выдачи заключения'] = pd.to_datetime(df_save['Дата выдачи заключения'], dayfirst=True, errors ='coerce').dt.normalize()\n",
    "df_save['Дата выдачи разрешения'] = pd.to_datetime(df_save['Дата выдачи разрешения'], dayfirst=True, errors ='coerce').dt.normalize()\n",
    "df_save['Плановая дата первичного визита 24 часа'] = pd.to_datetime(df_save['Плановая дата первичного визита 24 часа'], dayfirst=True, errors ='coerce').dt.normalize()\n",
    "df_save['Плановая дата первичного визита 72 часа'] = pd.to_datetime(df_save['Плановая дата первичного визита 72 часа'], dayfirst=True, errors ='coerce').dt.normalize()\n",
    "df_save['Плановая дата госпитализации'] = pd.to_datetime(df_save['Плановая дата госпитализации'], dayfirst=True, errors ='coerce').dt.normalize()\n",
    "df_save['Дата прекращения оказания ПМП'] = pd.to_datetime(df_save['Дата прекращения оказания ПМП'], dayfirst=True, errors ='coerce').dt.normalize()\n",
    "df_save['Дата смерти'] = pd.to_datetime(df_save['Дата смерти'], dayfirst=True, errors ='coerce').dt.normalize()\n",
    "df_save['Фактическая дата первичного выезда врача 24 часа из протокола осмотра ЕМИАС'] = pd.to_datetime(df_save['Фактическая дата первичного выезда врача 24 часа из протокола осмотра ЕМИАС'], dayfirst=True, errors ='coerce').dt.normalize()\n",
    "df_save['Фактическая дата первичного выезда врача 72 часа из протокола осмотра ЕМИАС'] = pd.to_datetime(df_save['Фактическая дата первичного выезда врача 72 часа из протокола осмотра ЕМИАС'], dayfirst=True, errors ='coerce').dt.normalize()\n",
    "df_save['Дата фактической госпитализации из  ЕМИАС'] = pd.to_datetime(df_save['Дата фактической госпитализации из  ЕМИАС'], dayfirst=True, errors ='coerce').dt.normalize()\n",
    "df_save['Последний визит врача из протокола осмотра ЕМИАС'] = pd.to_datetime(df_save['Последний визит врача из протокола осмотра ЕМИАС'], dayfirst=True, errors ='coerce').dt.normalize()\n",
    "df_save['Плановая дата следующего визита из протокола осмотра ЕМИАС'] = pd.to_datetime(df_save['Плановая дата следующего визита из протокола осмотра ЕМИАС'], dayfirst=True, errors ='coerce').dt.normalize()\n",
    "df_save['Дата  дозвона'] = pd.to_datetime(df_save['Дата  дозвона'], dayfirst=True, errors ='coerce').dt.normalize()"
   ]
  },
  {
   "cell_type": "code",
   "execution_count": 91,
   "id": "7ee2ab3c-6a4f-46d9-b0a2-62e16e48c1e7",
   "metadata": {
    "tags": []
   },
   "outputs": [],
   "source": [
    "with pd.ExcelWriter(path_file + 'df_oblako_update_' + datetime.now().strftime(\"%Y%m%d\") + '.xlsx',\n",
    "                      engine=\"xlsxwriter\",\n",
    "                      date_format='DD.MM.YYYY',\n",
    "                      datetime_format='DD.MM.YYYY') as writer:\n",
    "    df_save.to_excel(writer, freeze_panes=(2,0), index = False)"
   ]
  },
  {
   "cell_type": "code",
   "execution_count": null,
   "id": "3608a588-98b4-4bc5-8553-4895d3c079d2",
   "metadata": {},
   "outputs": [],
   "source": []
  },
  {
   "cell_type": "code",
   "execution_count": 89,
   "id": "31013def-ede6-4a67-a724-1313644a650c",
   "metadata": {
    "tags": []
   },
   "outputs": [],
   "source": [
    "# Скорректировать формат отчета по проверке кол-ва строк после merge в одном месте"
   ]
  },
  {
   "cell_type": "code",
   "execution_count": null,
   "id": "c9ab82bc-bdd1-45ee-af1d-2fbef29bb840",
   "metadata": {},
   "outputs": [],
   "source": []
  },
  {
   "cell_type": "code",
   "execution_count": null,
   "id": "24137910-db16-45a5-8657-d2265016a1a5",
   "metadata": {},
   "outputs": [],
   "source": []
  },
  {
   "cell_type": "code",
   "execution_count": null,
   "id": "9a8ff5b8",
   "metadata": {},
   "outputs": [],
   "source": []
  },
  {
   "cell_type": "code",
   "execution_count": null,
   "id": "bfc51de4",
   "metadata": {},
   "outputs": [],
   "source": []
  },
  {
   "cell_type": "code",
   "execution_count": null,
   "id": "c00ed919",
   "metadata": {},
   "outputs": [],
   "source": []
  },
  {
   "cell_type": "code",
   "execution_count": null,
   "id": "28060d77",
   "metadata": {},
   "outputs": [],
   "source": []
  }
 ],
 "metadata": {
  "kernelspec": {
   "display_name": "Python 3 (ipykernel)",
   "language": "python",
   "name": "python3"
  },
  "language_info": {
   "codemirror_mode": {
    "name": "ipython",
    "version": 3
   },
   "file_extension": ".py",
   "mimetype": "text/x-python",
   "name": "python",
   "nbconvert_exporter": "python",
   "pygments_lexer": "ipython3",
   "version": "3.11.5"
  }
 },
 "nbformat": 4,
 "nbformat_minor": 5
}
