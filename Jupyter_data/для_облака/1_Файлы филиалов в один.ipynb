{
 "cells": [
  {
   "cell_type": "code",
   "execution_count": 2,
   "id": "25774f02-8b70-4c54-9d2e-6bf9ca76cfcb",
   "metadata": {
    "tags": []
   },
   "outputs": [],
   "source": [
    "import pandas as pd\n",
    "from datetime import datetime, date, timedelta\n",
    "from pathlib import Path\n",
    "from tqdm import tqdm\n",
    "import shutil\n",
    "import os, stat\n",
    "import warnings\n",
    "warnings.filterwarnings('ignore')"
   ]
  },
  {
   "cell_type": "code",
   "execution_count": 3,
   "id": "bb906c53-9347-427e-9ff5-626846676454",
   "metadata": {},
   "outputs": [],
   "source": [
    "pd.set_option('display.max_columns', 500)"
   ]
  },
  {
   "cell_type": "code",
   "execution_count": 4,
   "id": "7a621fcf-d6aa-49ac-95d1-bf3697024469",
   "metadata": {},
   "outputs": [],
   "source": [
    "# Путь к папке с исходными файлами\n",
    "\n",
    "folder_path = Path('z:/Выездные службы/')\n",
    "# folder_path = Path('c:/Users/1/Desktop/выгрузки/test/')"
   ]
  },
  {
   "cell_type": "code",
   "execution_count": 5,
   "id": "a3345908-b517-4691-9467-d6257a27598c",
   "metadata": {},
   "outputs": [],
   "source": [
    "# Создание пустого списка для хранения DataFrame’ов\n",
    "\n",
    "frames = []"
   ]
  },
  {
   "cell_type": "code",
   "execution_count": 6,
   "id": "56abe669-af38-4317-a9db-8b5a08b2aabb",
   "metadata": {},
   "outputs": [],
   "source": [
    "# Получаем список файлов для объединения\n",
    "\n",
    "files_list = [file for file in folder_path.glob(f'**/{(datetime.now() - timedelta(days=1)).strftime(\"%Y%m%d\")}*.xlsx')] # в названии вчерашнее число\n",
    "\n",
    "# files_list = [file for file in folder_path.glob(f'**/{datetime.now().strftime(\"%Y%m%d\")}*.xlsx')] # в названии сегодняшнее число"
   ]
  },
  {
   "cell_type": "code",
   "execution_count": 7,
   "id": "9bebe60f-4082-4355-861e-b8013576575f",
   "metadata": {},
   "outputs": [],
   "source": [
    "# Ставим read-only\n",
    "\n",
    "for i in files_list:\n",
    "    os.chmod(i, stat.S_IREAD)"
   ]
  },
  {
   "cell_type": "code",
   "execution_count": 8,
   "id": "0a81db1e-968c-4a83-9d2c-5483662d1eeb",
   "metadata": {},
   "outputs": [
    {
     "data": {
      "text/plain": [
       "[WindowsPath('z:/Выездные службы/nan/20241021_nan.xlsx'),\n",
       " WindowsPath('z:/Выездные службы/БМЧУ Детский хоспис/20241021_БМЧУ Детский хоспис.xlsx'),\n",
       " WindowsPath('z:/Выездные службы/Бутово ОВПП/20241021_Бутово ОВПП.xlsx'),\n",
       " WindowsPath('z:/Выездные службы/Вороново ОВПП/20241021_Вороново ОВПП.xlsx'),\n",
       " WindowsPath('z:/Выездные службы/Даниловский ОВПП/20241021_Даниловский ОВПП.xlsx'),\n",
       " WindowsPath('z:/Выездные службы/Дегунино ОВПП/20241021_Дегунино ОВПП.xlsx'),\n",
       " WindowsPath('z:/Выездные службы/Зеленоград ОВПП/20241021_Зеленоград ОВПП.xlsx'),\n",
       " WindowsPath('z:/Выездные службы/Коломенское ОВПП/20241021_Коломенское ОВПП.xlsx'),\n",
       " WindowsPath('z:/Выездные службы/Координационный центр/20241021_Координационный центр.xlsx'),\n",
       " WindowsPath('z:/Выездные службы/Куркино ОВПП/20241021_Куркино ОВПП.xlsx'),\n",
       " WindowsPath('z:/Выездные службы/Люблино ОВПП/20241021_Люблино ОВПП.xlsx'),\n",
       " WindowsPath('z:/Выездные службы/Некрасовка ОВПП/20241021_Некрасовка ОВПП.xlsx'),\n",
       " WindowsPath('z:/Выездные службы/ОВПРП/20241021_ОВПРП.xlsx'),\n",
       " WindowsPath('z:/Выездные службы/ПМДХ ОВПП/20241021_ПМДХ ОВПП.xlsx'),\n",
       " WindowsPath('z:/Выездные службы/ПМХ ОВПП/20241021_ПМХ ОВПП.xlsx'),\n",
       " WindowsPath('z:/Выездные службы/Преображенское ОВПП/20241021_Преображенское ОВПП.xlsx'),\n",
       " WindowsPath('z:/Выездные службы/Ростокино ОВПП/20241021_Ростокино ОВПП.xlsx'),\n",
       " WindowsPath('z:/Выездные службы/Савеловский ОВПП/20241021_Савеловский ОВПП.xlsx'),\n",
       " WindowsPath('z:/Выездные службы/Солнцево ОВПП/20241021_Солнцево ОВПП.xlsx'),\n",
       " WindowsPath('z:/Выездные службы/Хорошево ОВПП/20241021_Хорошево ОВПП.xlsx'),\n",
       " WindowsPath('z:/Выездные службы/Царицыно ОВПП/20241021_Царицыно ОВПП.xlsx')]"
      ]
     },
     "execution_count": 8,
     "metadata": {},
     "output_type": "execute_result"
    }
   ],
   "source": [
    "files_list"
   ]
  },
  {
   "cell_type": "code",
   "execution_count": 9,
   "id": "726ed479-81fe-42de-8164-cd5571c367f0",
   "metadata": {},
   "outputs": [
    {
     "name": "stderr",
     "output_type": "stream",
     "text": [
      "Объединение файлов: 100%|████████████████████████████████████████████████████████████| 21/21 [00:10<00:00,  1.94файл/s]\n"
     ]
    }
   ],
   "source": [
    "# Объединение всех файлов .xlsx в один большой файл\n",
    "\n",
    "for file_path in tqdm(files_list, desc='Объединение файлов', unit='файл'):\n",
    "    df = pd.read_excel(file_path, sheet_name='Sheet1')\n",
    "    df['файл'] = file_path\n",
    "    frames.append(df)"
   ]
  },
  {
   "cell_type": "code",
   "execution_count": 10,
   "id": "eee056b9-19b4-4abf-83ac-d9ffca502427",
   "metadata": {},
   "outputs": [],
   "source": [
    "# Объединение всех DataFrame’ов из списка\n",
    "\n",
    "merged_frame = pd.concat(frames, ignore_index=True)"
   ]
  },
  {
   "cell_type": "code",
   "execution_count": 11,
   "id": "9ff5065f-e167-416d-bcc7-f2ba1621659b",
   "metadata": {},
   "outputs": [],
   "source": [
    "merged_frame['файл'] = merged_frame['файл'].astype(str).str.replace('z:\\\\Выездные службы\\\\', '').str[:-5].str.split('\\\\').str[1]"
   ]
  },
  {
   "cell_type": "code",
   "execution_count": 13,
   "id": "b57a6246-b72b-4aac-a391-dedc89a35a52",
   "metadata": {},
   "outputs": [],
   "source": [
    "# df_save = df_obl_update.copy()\n",
    "df_save = merged_frame.copy()"
   ]
  },
  {
   "cell_type": "code",
   "execution_count": 14,
   "id": "f9914e46-5559-4a52-83d7-2f9a2216a91c",
   "metadata": {},
   "outputs": [
    {
     "data": {
      "text/plain": [
       "(15168, 52)"
      ]
     },
     "execution_count": 14,
     "metadata": {},
     "output_type": "execute_result"
    }
   ],
   "source": [
    "df_save.shape"
   ]
  },
  {
   "cell_type": "code",
   "execution_count": null,
   "id": "5adc3563-47d5-4061-88ce-cb09e0e49f56",
   "metadata": {},
   "outputs": [],
   "source": []
  },
  {
   "cell_type": "code",
   "execution_count": 15,
   "id": "2f2e8c53-e028-47d4-b194-1af9f912c2af",
   "metadata": {},
   "outputs": [],
   "source": [
    "with pd.ExcelWriter('z:/Отдел аналитики/Пациенты/Облако ВПС/' + datetime.now().strftime(\"%Y%m%d\") + '_объединенные данные от ВПС.xlsx',\n",
    "                      engine=\"xlsxwriter\",\n",
    "                      date_format='DD.MM.YYYY',\n",
    "                      datetime_format='DD.MM.YYYY') as writer:\n",
    "    df_save.to_excel(writer, index = False)"
   ]
  },
  {
   "cell_type": "code",
   "execution_count": 16,
   "id": "58c9fe45-6eb4-4f00-bf85-a0d5e358ee1d",
   "metadata": {},
   "outputs": [],
   "source": [
    "# Ставим read-only сохраненному файлу\n",
    "\n",
    "os.chmod('z:/Отдел аналитики/Пациенты/Облако ВПС/' + datetime.now().strftime(\"%Y%m%d\") + '_объединенные данные от ВПС.xlsx', stat.S_IREAD)"
   ]
  },
  {
   "cell_type": "code",
   "execution_count": 29,
   "id": "56bf616c-fc73-4c53-94dc-2f6eb85d4875",
   "metadata": {},
   "outputs": [],
   "source": [
    "# Удаляем файл вчерашнего (или сегодняшнего) реестра\n",
    "\n",
    "os.chmod('z:/Выездные службы/' + (datetime.now() - timedelta(days=1)).strftime(\"%d-%m-%Y\") + '_16-00_Реестр ЦПП.xlsx', stat.S_IWRITE) # в названии вчерашнее число\n",
    "os.remove('z:/Выездные службы/' + (datetime.now() - timedelta(days=1)).strftime(\"%d-%m-%Y\") + '_16-00_Реестр ЦПП.xlsx') # в названии вчерашнее число\n",
    "\n",
    "# os.chmod('z:/Выездные службы/' + datetime.now().strftime(\"%d-%m-%Y\") + '_16-00_Реестр ЦПП.xlsx', stat.S_IWRITE) # в названии сегодняшнее число\n",
    "# os.remove('z:/Выездные службы/' + datetime.now().strftime(\"%d-%m-%Y\") + '_16-00_Реестр ЦПП.xlsx') # в названии сегодняшнее число\n",
    "\n"
   ]
  },
  {
   "cell_type": "code",
   "execution_count": 21,
   "id": "cf2f0772-3654-4f0c-b941-32282c000c80",
   "metadata": {},
   "outputs": [
    {
     "data": {
      "text/plain": [
       "[WindowsPath('z:/Выездные службы/nan/20241021_nan.xlsx'),\n",
       " WindowsPath('z:/Выездные службы/БМЧУ Детский хоспис/20241021_БМЧУ Детский хоспис.xlsx'),\n",
       " WindowsPath('z:/Выездные службы/Бутово ОВПП/20241021_Бутово ОВПП.xlsx'),\n",
       " WindowsPath('z:/Выездные службы/Вороново ОВПП/20241021_Вороново ОВПП.xlsx'),\n",
       " WindowsPath('z:/Выездные службы/Даниловский ОВПП/20241021_Даниловский ОВПП.xlsx'),\n",
       " WindowsPath('z:/Выездные службы/Дегунино ОВПП/20241021_Дегунино ОВПП.xlsx'),\n",
       " WindowsPath('z:/Выездные службы/Зеленоград ОВПП/20241021_Зеленоград ОВПП.xlsx'),\n",
       " WindowsPath('z:/Выездные службы/Коломенское ОВПП/20241021_Коломенское ОВПП.xlsx'),\n",
       " WindowsPath('z:/Выездные службы/Координационный центр/20241021_Координационный центр.xlsx'),\n",
       " WindowsPath('z:/Выездные службы/Куркино ОВПП/20241021_Куркино ОВПП.xlsx'),\n",
       " WindowsPath('z:/Выездные службы/Люблино ОВПП/20241021_Люблино ОВПП.xlsx'),\n",
       " WindowsPath('z:/Выездные службы/Некрасовка ОВПП/20241021_Некрасовка ОВПП.xlsx'),\n",
       " WindowsPath('z:/Выездные службы/ОВПРП/20241021_ОВПРП.xlsx'),\n",
       " WindowsPath('z:/Выездные службы/ПМДХ ОВПП/20241021_ПМДХ ОВПП.xlsx'),\n",
       " WindowsPath('z:/Выездные службы/ПМХ ОВПП/20241021_ПМХ ОВПП.xlsx'),\n",
       " WindowsPath('z:/Выездные службы/Преображенское ОВПП/20241021_Преображенское ОВПП.xlsx'),\n",
       " WindowsPath('z:/Выездные службы/Ростокино ОВПП/20241021_Ростокино ОВПП.xlsx'),\n",
       " WindowsPath('z:/Выездные службы/Савеловский ОВПП/20241021_Савеловский ОВПП.xlsx'),\n",
       " WindowsPath('z:/Выездные службы/Солнцево ОВПП/20241021_Солнцево ОВПП.xlsx'),\n",
       " WindowsPath('z:/Выездные службы/Хорошево ОВПП/20241021_Хорошево ОВПП.xlsx'),\n",
       " WindowsPath('z:/Выездные службы/Царицыно ОВПП/20241021_Царицыно ОВПП.xlsx')]"
      ]
     },
     "execution_count": 21,
     "metadata": {},
     "output_type": "execute_result"
    }
   ],
   "source": [
    "files_list"
   ]
  },
  {
   "cell_type": "code",
   "execution_count": 23,
   "id": "35fa84a5-95cb-4233-97e7-ab5a89d4d8ca",
   "metadata": {},
   "outputs": [],
   "source": [
    "# Удаляем\n",
    "\n",
    "for i in files_list:\n",
    "    try:\n",
    "        shutil.copy2(i, 'z:/Отдел аналитики/Пациенты/Облако ВПС/' + os.path.basename(i))\n",
    "        os.chmod(i, stat.S_IWRITE)\n",
    "        os.remove(i)       \n",
    "    except Exception:\n",
    "        pass"
   ]
  },
  {
   "cell_type": "code",
   "execution_count": 24,
   "id": "ec7f9aec-70b2-48dd-8372-1c72ae6da145",
   "metadata": {},
   "outputs": [],
   "source": [
    "# Ставим read-only НЕ удаленным файлам\n",
    "\n",
    "for i in files_list:\n",
    "    try:\n",
    "        os.chmod(i, stat.S_IREAD)        \n",
    "    except Exception:\n",
    "        pass"
   ]
  },
  {
   "cell_type": "code",
   "execution_count": 25,
   "id": "3f3853de-21db-4547-abb3-82015a969f4e",
   "metadata": {},
   "outputs": [
    {
     "data": {
      "text/plain": [
       "[]"
      ]
     },
     "execution_count": 25,
     "metadata": {},
     "output_type": "execute_result"
    }
   ],
   "source": [
    "# Получаем список НЕ удаленных файлов\n",
    "\n",
    "[file for file in folder_path.glob(f'**/{(datetime.now() - timedelta(days=1)).strftime(\"%Y%m%d\")}*.xlsx')]\n",
    "\n",
    "# files_list = [file for file in folder_path.glob(f'**/{datetime.now().strftime(\"%Y%m%d\")}*.xlsx')] "
   ]
  },
  {
   "cell_type": "code",
   "execution_count": null,
   "id": "30d0996b-9725-443a-accf-9623805fb3a1",
   "metadata": {},
   "outputs": [],
   "source": []
  },
  {
   "cell_type": "code",
   "execution_count": null,
   "id": "e90bafcc-2cf9-41ba-93ec-424845e1120e",
   "metadata": {},
   "outputs": [],
   "source": []
  },
  {
   "cell_type": "code",
   "execution_count": null,
   "id": "132e52d0-b5eb-4875-82b6-c51b7cbce6fd",
   "metadata": {},
   "outputs": [],
   "source": []
  }
 ],
 "metadata": {
  "kernelspec": {
   "display_name": "base",
   "language": "python",
   "name": "python3"
  },
  "language_info": {
   "codemirror_mode": {
    "name": "ipython",
    "version": 3
   },
   "file_extension": ".py",
   "mimetype": "text/x-python",
   "name": "python",
   "nbconvert_exporter": "python",
   "pygments_lexer": "ipython3",
   "version": "3.11.5"
  }
 },
 "nbformat": 4,
 "nbformat_minor": 5
}
