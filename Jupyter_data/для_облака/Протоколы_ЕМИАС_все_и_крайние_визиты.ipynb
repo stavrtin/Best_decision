{
 "cells": [
  {
   "cell_type": "code",
   "execution_count": 1,
   "id": "32c67299-66b4-411c-b58f-b801627f16a4",
   "metadata": {
    "tags": []
   },
   "outputs": [],
   "source": [
    "import pandas as pd\n",
    "from datetime import datetime, date, timedelta\n",
    "from pathlib import Path\n",
    "from tqdm import tqdm\n",
    "import shutil\n",
    "import os, stat\n",
    "import warnings\n",
    "warnings.filterwarnings('ignore')"
   ]
  },
  {
   "cell_type": "code",
   "execution_count": 2,
   "id": "15badaf3-c8be-4b14-89c5-f87278e8c936",
   "metadata": {},
   "outputs": [],
   "source": [
    "pd.set_option('display.max_columns', 500)"
   ]
  },
  {
   "cell_type": "markdown",
   "id": "f0cf34d9",
   "metadata": {},
   "source": [
    "<div style=\"background-color:#B2EBF2; font-size:12pt; border: 1px solid #35BDD0; border-radius: 5px; padding:10px\">\n",
    "Перед запуском <b>копируем исходники в папку</b> указанную ниже\n",
    "</div>"
   ]
  },
  {
   "cell_type": "code",
   "execution_count": 3,
   "id": "5cbc6347-f2c5-4986-8316-9cf52c790a39",
   "metadata": {},
   "outputs": [],
   "source": [
    "# Путь к папке с исходными файлами\n",
    "\n",
    "folder_path = Path('z:/Проектный офис/Протоколы/')"
   ]
  },
  {
   "cell_type": "code",
   "execution_count": 4,
   "id": "08ac988e-84e9-4034-9fb9-bdc40c1a9095",
   "metadata": {},
   "outputs": [],
   "source": [
    "# Создание пустого списка для хранения DataFrame’ов\n",
    "\n",
    "frames = []"
   ]
  },
  {
   "cell_type": "code",
   "execution_count": 5,
   "id": "a019a868-75ca-4120-a0e2-f907334f0b26",
   "metadata": {},
   "outputs": [],
   "source": [
    "# Получаем список файлов для объединения\n",
    "\n",
    "files_list = [file for file in folder_path.glob('DAT8651_*.xlsx')]"
   ]
  },
  {
   "cell_type": "code",
   "execution_count": 6,
   "id": "dbd6d073-da56-4a03-9dd6-96cb910ef2b7",
   "metadata": {},
   "outputs": [
    {
     "data": {
      "text/plain": [
       "[WindowsPath('z:/Проектный офис/Протоколы/DAT8651_паллиатив_2024-10-01.xlsx'),\n",
       " WindowsPath('z:/Проектный офис/Протоколы/DAT8651_паллиатив_2024-10-02.xlsx'),\n",
       " WindowsPath('z:/Проектный офис/Протоколы/DAT8651_паллиатив_2024-10-03.xlsx'),\n",
       " WindowsPath('z:/Проектный офис/Протоколы/DAT8651_паллиатив_2024-10-04.xlsx'),\n",
       " WindowsPath('z:/Проектный офис/Протоколы/DAT8651_паллиатив_2024-10-05.xlsx'),\n",
       " WindowsPath('z:/Проектный офис/Протоколы/DAT8651_паллиатив_2024-10-06.xlsx'),\n",
       " WindowsPath('z:/Проектный офис/Протоколы/DAT8651_паллиатив_2024-10-07.xlsx'),\n",
       " WindowsPath('z:/Проектный офис/Протоколы/DAT8651_паллиатив_2024-10-08.xlsx'),\n",
       " WindowsPath('z:/Проектный офис/Протоколы/DAT8651_паллиатив_2024-10-09.xlsx'),\n",
       " WindowsPath('z:/Проектный офис/Протоколы/DAT8651_паллиатив_2024-10-10.xlsx'),\n",
       " WindowsPath('z:/Проектный офис/Протоколы/DAT8651_паллиатив_2024-10-11.xlsx'),\n",
       " WindowsPath('z:/Проектный офис/Протоколы/DAT8651_паллиатив_2024-10-12.xlsx'),\n",
       " WindowsPath('z:/Проектный офис/Протоколы/DAT8651_паллиатив_2024-10-13.xlsx'),\n",
       " WindowsPath('z:/Проектный офис/Протоколы/DAT8651_паллиатив_2024-10-14.xlsx'),\n",
       " WindowsPath('z:/Проектный офис/Протоколы/DAT8651_паллиатив_2024-10-15.xlsx'),\n",
       " WindowsPath('z:/Проектный офис/Протоколы/DAT8651_паллиатив_2024-10-16.xlsx'),\n",
       " WindowsPath('z:/Проектный офис/Протоколы/DAT8651_паллиатив_2024-10-17.xlsx'),\n",
       " WindowsPath('z:/Проектный офис/Протоколы/DAT8651_паллиатив_2024-10-18.xlsx'),\n",
       " WindowsPath('z:/Проектный офис/Протоколы/DAT8651_паллиатив_2024-10-19.xlsx'),\n",
       " WindowsPath('z:/Проектный офис/Протоколы/DAT8651_паллиатив_2024-10-20.xlsx'),\n",
       " WindowsPath('z:/Проектный офис/Протоколы/DAT8651_паллиатив_2024-10-21.xlsx'),\n",
       " WindowsPath('z:/Проектный офис/Протоколы/DAT8651_паллиатив_2024-10-22.xlsx'),\n",
       " WindowsPath('z:/Проектный офис/Протоколы/DAT8651_паллиатив_2024-10-23.xlsx'),\n",
       " WindowsPath('z:/Проектный офис/Протоколы/DAT8651_паллиатив_период_с_2024-05-06_по_2024-09-30.xlsx'),\n",
       " WindowsPath('z:/Проектный офис/Протоколы/DAT8651_паллиатив_период_с_2024-05-06_по_2024-10-07.xlsx'),\n",
       " WindowsPath('z:/Проектный офис/Протоколы/DAT8651_паллиатив_период_с_2024-05-06_по_2024-10-14.xlsx')]"
      ]
     },
     "execution_count": 6,
     "metadata": {},
     "output_type": "execute_result"
    }
   ],
   "source": [
    "files_list"
   ]
  },
  {
   "cell_type": "code",
   "execution_count": 7,
   "id": "61442bfa-85de-418e-9f0b-0690cc74dccb",
   "metadata": {},
   "outputs": [
    {
     "name": "stderr",
     "output_type": "stream",
     "text": [
      "Объединение файлов: 100%|██████████| 26/26 [00:30<00:00,  1.19s/файл]\n"
     ]
    }
   ],
   "source": [
    "# Объединение всех файлов .xlsx в один большой файл\n",
    "\n",
    "for file_path in tqdm(files_list, desc='Объединение файлов', unit='файл'):\n",
    "    df = pd.read_excel(file_path, sheet_name='Sheet', dtype='object')\n",
    "    # df['файл'] = file_path\n",
    "    frames.append(df)"
   ]
  },
  {
   "cell_type": "code",
   "execution_count": 8,
   "id": "742d1bb1-ec2a-4f89-8961-646930d57b24",
   "metadata": {},
   "outputs": [],
   "source": [
    "# Объединение всех DataFrame’ов из списка\n",
    "\n",
    "merged_frame = pd.concat(frames, ignore_index=True)"
   ]
  },
  {
   "cell_type": "code",
   "execution_count": 9,
   "id": "08f40d38-41e7-4894-bcb4-55f9485d0a9c",
   "metadata": {},
   "outputs": [],
   "source": [
    "df_emias = merged_frame.copy()"
   ]
  },
  {
   "cell_type": "code",
   "execution_count": 10,
   "id": "29388feb-d6e6-4a99-b44c-7f9a77e32322",
   "metadata": {},
   "outputs": [],
   "source": [
    "df_emias['Дата протокола'] = pd.to_datetime(df_emias['Дата протокола'], errors ='coerce').dt.date"
   ]
  },
  {
   "cell_type": "code",
   "execution_count": 11,
   "id": "01230017-5d8c-403a-9567-0a3a0a2e9f68",
   "metadata": {},
   "outputs": [
    {
     "data": {
      "text/plain": [
       "(110797, 34)"
      ]
     },
     "execution_count": 11,
     "metadata": {},
     "output_type": "execute_result"
    }
   ],
   "source": [
    "df_emias.shape"
   ]
  },
  {
   "cell_type": "code",
   "execution_count": 12,
   "id": "d2edb691-9d66-49db-ac65-c477d78485de",
   "metadata": {},
   "outputs": [],
   "source": [
    "df_emias.drop_duplicates(inplace=True)"
   ]
  },
  {
   "cell_type": "code",
   "execution_count": 13,
   "id": "c23182c5-2ede-46da-9ce4-f0be79a1d179",
   "metadata": {},
   "outputs": [
    {
     "data": {
      "text/plain": [
       "(34531, 34)"
      ]
     },
     "execution_count": 13,
     "metadata": {},
     "output_type": "execute_result"
    }
   ],
   "source": [
    "df_emias.shape"
   ]
  },
  {
   "cell_type": "code",
   "execution_count": 14,
   "id": "27c9dd2f-5c8d-4acd-8f14-bc9d59d09dd6",
   "metadata": {},
   "outputs": [],
   "source": [
    "df_emias.loc[  ~df_emias['Описание помощи в амбулаторных условиях'].isna() , \n",
    "                 'list_тип_визита'] = df_emias['Описание помощи в амбулаторных условиях'].str.split(';')"
   ]
  },
  {
   "cell_type": "code",
   "execution_count": 15,
   "id": "c9d8a931-9916-4e11-945e-60d714d0112b",
   "metadata": {},
   "outputs": [],
   "source": [
    "df_emias.loc[  ~df_emias['Дата следующего планового визита'].isna() , \n",
    "                 'list_дата_план_визита'] = df_emias['Дата следующего планового визита'].str.split(';')"
   ]
  },
  {
   "cell_type": "code",
   "execution_count": 16,
   "id": "69493e4d-ff95-4063-bf25-8dd715ff4e5b",
   "metadata": {},
   "outputs": [],
   "source": [
    "df_emias.loc[ ( df_emias['list_тип_визита'].str[0] == 'визит врача'), 'план_дата_визит_врач' ] = df_emias['list_дата_план_визита'].str[0]\n",
    "df_emias.loc[ ( df_emias['list_тип_визита'].str[1] == ' визит врача'), 'план_дата_визит_врач' ] = df_emias['list_дата_план_визита'].str[1]\n",
    "df_emias.loc[ ( df_emias['list_тип_визита'].str[2] == ' визит врача'), 'план_дата_визит_врач' ] = df_emias['list_дата_план_визита'].str[2]\n",
    "df_emias.loc[ ( df_emias['list_тип_визита'].str[3] == ' визит врача'), 'план_дата_визит_врач' ] = df_emias['list_дата_план_визита'].str[3]"
   ]
  },
  {
   "cell_type": "code",
   "execution_count": 17,
   "id": "b68a080b-bc9b-4900-930a-4ea897306330",
   "metadata": {},
   "outputs": [],
   "source": [
    "df_emias['план_дата_визит_врач'] = pd.to_datetime(df_emias['план_дата_визит_врач'].str.strip()).dt.date\n",
    "df_emias['ID пациента'] = df_emias['ID пациента'].astype('str')"
   ]
  },
  {
   "cell_type": "code",
   "execution_count": 18,
   "id": "0fd56ac7-7507-42d0-9750-25f1bc8f6683",
   "metadata": {},
   "outputs": [],
   "source": [
    "df_emias = df_emias[[\n",
    "                    'ID пациента',\n",
    "                    'ОМС пациента',\n",
    "                    'Дата протокола',\n",
    "                    'ФИО врача',\n",
    "                    'Бригада врача',\n",
    "                    'ОВПП',\n",
    "                    'Тип протокола',\n",
    "                    'Диагноз пациента',\n",
    "                    'Показания к паллиативной помощи',\n",
    "                    'Категория пациента',\n",
    "                    'Оказание паллиативной помощи',\n",
    "                    'Состояние пациента',\n",
    "                    'Болевой синдром',\n",
    "                    'Оценка болевого синдрома на момент осмотра в баллах (ВАШ)',\n",
    "                    'Оценка болевого синдрома на момент осмотра в баллах (НОШ)',\n",
    "                    'Оценка болевого синдрома на момент осмотра в баллах (painaid)',\n",
    "                    'Трахеостома',\n",
    "                    'Респираторная поддержка',\n",
    "                    'Мочеиспускание',\n",
    "                    'Асцит',\n",
    "                    'Установлено устройство',\n",
    "                    'Дисфагия',\n",
    "                    'Дисфагия. Степень',\n",
    "                    'PPI',\n",
    "                    'PPS',\n",
    "                    'По шкале Морсе в баллах',\n",
    "                    'По шкале Нортон в баллах',\n",
    "                    'Описание помощи в амбулаторных условиях',\n",
    "                    'Патронажный план',\n",
    "                    'Частота посещений',\n",
    "                    'Дата следующего планового визита',\n",
    "                    'Дата следующего планового визита. С целью',\n",
    "                    'Дата следующего планового визита. Причина',\n",
    "                    'Манипуляции/Процедуры. Проведено',\n",
    "                    # 'list_тип_визита',\n",
    "                    # 'list_дата_план_визита',\n",
    "                    'план_дата_визит_врач'\n",
    "                     ]]"
   ]
  },
  {
   "cell_type": "code",
   "execution_count": 19,
   "id": "578ac1d8-7dcd-4b8c-95aa-dc4a41ebb343",
   "metadata": {
    "tags": []
   },
   "outputs": [],
   "source": [
    "file_save_path = 'z:/Проектный офис/Протоколы/Все/Протокол ЕМИАС все визиты_' + datetime.now().strftime(\"%Y%m%d\") + '.xlsx'\n",
    "\n",
    "with pd.ExcelWriter(file_save_path,\n",
    "                      engine=\"xlsxwriter\",\n",
    "                      date_format='DD.MM.YYYY',\n",
    "                      datetime_format='DD.MM.YYYY HH:MM:SS') as writer:\n",
    "    df_emias.to_excel(writer, index = False)\n",
    "\n",
    "os.chmod(file_save_path, stat.S_IREAD)"
   ]
  },
  {
   "cell_type": "code",
   "execution_count": 20,
   "id": "d59afcbc-90a6-4982-ac87-319c951b26ea",
   "metadata": {},
   "outputs": [],
   "source": [
    "# Оставляем только крайние визиты\n",
    "\n",
    "df_emias = df_emias.sort_values(by=['ID пациента', 'Дата протокола'], ascending=[True, False]).drop_duplicates(subset=['ID пациента'])"
   ]
  },
  {
   "cell_type": "code",
   "execution_count": 21,
   "id": "f763dfdb-9dc5-4443-8819-ac642ac1095e",
   "metadata": {
    "tags": []
   },
   "outputs": [],
   "source": [
    "file_save_path = 'z:/Проектный офис/Протоколы/Крайние визиты/Протокол ЕМИАС крайние визиты_' + datetime.now().strftime(\"%Y%m%d\") + '.xlsx'\n",
    "\n",
    "with pd.ExcelWriter(file_save_path,\n",
    "                      engine=\"xlsxwriter\",\n",
    "                      date_format='DD.MM.YYYY',\n",
    "                      datetime_format='DD.MM.YYYY HH:MM:SS') as writer:\n",
    "    df_emias.to_excel(writer, index = False)\n",
    "\n",
    "os.chmod(file_save_path, stat.S_IREAD)"
   ]
  },
  {
   "cell_type": "code",
   "execution_count": null,
   "id": "e74d6d70-6901-4681-8854-747854922996",
   "metadata": {},
   "outputs": [],
   "source": []
  },
  {
   "cell_type": "code",
   "execution_count": null,
   "id": "3f9e2f43-78a8-45aa-afc4-e667130c2750",
   "metadata": {},
   "outputs": [],
   "source": []
  },
  {
   "cell_type": "code",
   "execution_count": null,
   "id": "89c12c31-a98b-4735-a489-920d628af2e5",
   "metadata": {},
   "outputs": [],
   "source": []
  }
 ],
 "metadata": {
  "kernelspec": {
   "display_name": "base",
   "language": "python",
   "name": "python3"
  },
  "language_info": {
   "codemirror_mode": {
    "name": "ipython",
    "version": 3
   },
   "file_extension": ".py",
   "mimetype": "text/x-python",
   "name": "python",
   "nbconvert_exporter": "python",
   "pygments_lexer": "ipython3",
   "version": "3.11.5"
  }
 },
 "nbformat": 4,
 "nbformat_minor": 5
}
